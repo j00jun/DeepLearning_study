{
 "cells": [
  {
   "cell_type": "markdown",
   "metadata": {},
   "source": [
    "### Logistic Regression\n",
    "- W, B를 조정하여 모델의 성능을 좋게 만드는 것\n",
    "- x(학습데이터)가 주어지고 $ \\hat{y} $ (예측값)이 1과 같은 확률이 되길 원함\n",
    "- 로지스틱 회귀에서는 활성화 함수로 시그모이드 함수를 사용 $\\sigma(x) = \\frac{1}{1 + e^{-x}}$\n",
    "- $ \\hat{y} $ >= 0.5 일 때 y = 1로 예측\n",
    "- $ \\hat{y} $ <= 0.5 일 때 y = 0으로 예측\n",
    "- $ ŷ = P(y=1|x)`, where `0 ≤ ŷ ≤ 1 $\n"
   ]
  },
  {
   "cell_type": "markdown",
   "metadata": {},
   "source": []
  },
  {
   "cell_type": "markdown",
   "metadata": {},
   "source": [
    "- Loss function(손실 함수): 단일 훈련 예제 한 번의 훈련 단계에 대한 손실 함수\n",
    "    - if y = 1: L($ \\hat{y} $, y) = -log $ \\hat{y} $\n",
    "    - if y = 0: L($ \\hat{y} $, y) = -log $ \\hat{y} $\n",
    "- Cost function(비용 함수): 여러 훈련에 대한 손실 평균 즉 전체 모델의 성능 평가\n"
   ]
  },
  {
   "cell_type": "code",
   "execution_count": null,
   "metadata": {},
   "outputs": [],
   "source": []
  },
  {
   "cell_type": "markdown",
   "metadata": {},
   "source": []
  },
  {
   "cell_type": "markdown",
   "metadata": {},
   "source": []
  }
 ],
 "metadata": {
  "kernelspec": {
   "display_name": "tf",
   "language": "python",
   "name": "python3"
  },
  "language_info": {
   "codemirror_mode": {
    "name": "ipython",
    "version": 3
   },
   "file_extension": ".py",
   "mimetype": "text/x-python",
   "name": "python",
   "nbconvert_exporter": "python",
   "pygments_lexer": "ipython3",
   "version": "3.8.13"
  }
 },
 "nbformat": 4,
 "nbformat_minor": 2
}
