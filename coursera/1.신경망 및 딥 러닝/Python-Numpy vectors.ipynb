{
 "cells": [
  {
   "cell_type": "code",
   "execution_count": 2,
   "metadata": {},
   "outputs": [],
   "source": [
    "import numpy as np\n",
    "\n",
    "a = np.random.randn(5)"
   ]
  },
  {
   "cell_type": "code",
   "execution_count": 3,
   "metadata": {},
   "outputs": [
    {
     "name": "stdout",
     "output_type": "stream",
     "text": [
      "[-1.62332382  0.85881763 -1.3810795   1.20207209 -1.4176475 ]\n"
     ]
    }
   ],
   "source": [
    "print(a)"
   ]
  },
  {
   "cell_type": "code",
   "execution_count": 4,
   "metadata": {},
   "outputs": [
    {
     "name": "stdout",
     "output_type": "stream",
     "text": [
      "(5,)\n"
     ]
    }
   ],
   "source": [
    "print(a.shape)"
   ]
  },
  {
   "cell_type": "code",
   "execution_count": 6,
   "metadata": {},
   "outputs": [
    {
     "name": "stdout",
     "output_type": "stream",
     "text": [
      "[-1.62332382  0.85881763 -1.3810795   1.20207209 -1.4176475 ]\n"
     ]
    }
   ],
   "source": [
    "print(a.T) # Rank-1 array로 행도 열도 아닌 벡터며 직관적이지 않음"
   ]
  },
  {
   "cell_type": "code",
   "execution_count": 8,
   "metadata": {},
   "outputs": [
    {
     "name": "stdout",
     "output_type": "stream",
     "text": [
      "(5,)\n"
     ]
    }
   ],
   "source": [
    "print(a.shape)"
   ]
  },
  {
   "cell_type": "code",
   "execution_count": 7,
   "metadata": {},
   "outputs": [
    {
     "name": "stdout",
     "output_type": "stream",
     "text": [
      "[-1.62332382  0.85881763 -1.3810795   1.20207209 -1.4176475 ]\n"
     ]
    }
   ],
   "source": [
    "print(a.T) # Rank-1 array는 전치를 하여도 a와 동일하게 보임"
   ]
  },
  {
   "cell_type": "code",
   "execution_count": 9,
   "metadata": {},
   "outputs": [
    {
     "name": "stdout",
     "output_type": "stream",
     "text": [
      "8.734830284836365\n"
     ]
    }
   ],
   "source": [
    "print(np.dot(a, a.T)) # Rank-1 array를 내적할 경우 하나의 스칼라"
   ]
  },
  {
   "cell_type": "code",
   "execution_count": null,
   "metadata": {},
   "outputs": [],
   "source": [
    "# Rank-1 array를 사용하지 않는 것 추천"
   ]
  },
  {
   "cell_type": "code",
   "execution_count": 10,
   "metadata": {},
   "outputs": [
    {
     "name": "stdout",
     "output_type": "stream",
     "text": [
      "[[-1.02105189]\n",
      " [-0.73865529]\n",
      " [-0.13382552]\n",
      " [ 0.31500643]\n",
      " [-0.9320681 ]]\n"
     ]
    }
   ],
   "source": [
    "a = np.random.randn(5,1)\n",
    "print(a)"
   ]
  },
  {
   "cell_type": "code",
   "execution_count": 11,
   "metadata": {},
   "outputs": [
    {
     "name": "stdout",
     "output_type": "stream",
     "text": [
      "[[-1.02105189 -0.73865529 -0.13382552  0.31500643 -0.9320681 ]]\n"
     ]
    }
   ],
   "source": [
    "print(a.T)"
   ]
  },
  {
   "cell_type": "code",
   "execution_count": 12,
   "metadata": {},
   "outputs": [
    {
     "name": "stdout",
     "output_type": "stream",
     "text": [
      "[[ 1.04254696  0.75420538  0.1366428  -0.32163791  0.95168989]\n",
      " [ 0.75420538  0.54561163  0.09885093 -0.23268116  0.68847703]\n",
      " [ 0.1366428   0.09885093  0.01790927 -0.0421559   0.1247345 ]\n",
      " [-0.32163791 -0.23268116 -0.0421559   0.09922905 -0.29360744]\n",
      " [ 0.95168989  0.68847703  0.1247345  -0.29360744  0.86875094]]\n"
     ]
    }
   ],
   "source": [
    "print(np.dot(a, a.T))"
   ]
  },
  {
   "cell_type": "code",
   "execution_count": 13,
   "metadata": {},
   "outputs": [],
   "source": [
    "# 형태 변형 확인하기\n",
    "\n",
    "assert(a.shape == (5,1))"
   ]
  },
  {
   "cell_type": "code",
   "execution_count": 15,
   "metadata": {},
   "outputs": [
    {
     "data": {
      "text/plain": [
       "array([[-1.02105189],\n",
       "       [-0.73865529],\n",
       "       [-0.13382552],\n",
       "       [ 0.31500643],\n",
       "       [-0.9320681 ]])"
      ]
     },
     "execution_count": 15,
     "metadata": {},
     "output_type": "execute_result"
    }
   ],
   "source": [
    "a"
   ]
  },
  {
   "cell_type": "code",
   "execution_count": null,
   "metadata": {},
   "outputs": [],
   "source": []
  }
 ],
 "metadata": {
  "language_info": {
   "name": "python"
  }
 },
 "nbformat": 4,
 "nbformat_minor": 2
}
