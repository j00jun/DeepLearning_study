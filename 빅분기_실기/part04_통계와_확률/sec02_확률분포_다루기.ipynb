{
 "cells": [
  {
   "cell_type": "markdown",
   "id": "449b3505",
   "metadata": {},
   "source": [
    "#### 베르누이 확률분포\n",
    "- 단 한번의 시행에서 오직 두 가지 결과(성공, 실패)만을 가지는 실험"
   ]
  },
  {
   "cell_type": "code",
   "execution_count": null,
   "id": "753d03a9",
   "metadata": {},
   "outputs": [],
   "source": [
    "from scipy.stats import bernoulli\n",
    "\n",
    "bernoulli.pmf(k, p) # 확률질량함수 (이산형)\n",
    "bernoulli.cdf(k, p) # 누적분포함수: 분포에서 주어진 값 이하가 될 확률 계산\n",
    "bernoulli.ppf(q, p) # 분위수 함수(퍼센트 포인트 함수): 누적분포함수의 역함수, 주어진 확률에 해당하는 분포의 값(분위수) 계산\n",
    "bernoulli.rvs(p, size, random_state) # 확률표본함수: 지정된 분포에서 표본 발생\n",
    "\n",
    "# q: 분위수를 알아내고 싶은 확률값\n",
    "# p: 베르누이 확률분포의 모수인 성공확률을 나타냄\n",
    "# k: 확률변수가 가질 수 있는 값"
   ]
  },
  {
   "cell_type": "code",
   "execution_count": 1,
   "id": "d09f868f",
   "metadata": {},
   "outputs": [
    {
     "data": {
      "text/plain": [
       "0.6"
      ]
     },
     "execution_count": 1,
     "metadata": {},
     "output_type": "execute_result"
    }
   ],
   "source": [
    "# 앞면이 나올 확률 0.6인 동전 던졌을 때 앞면이 나올 확률\n",
    "from scipy.stats import bernoulli\n",
    "\n",
    "prob = bernoulli .pmf(1, 0.6)\n",
    "prob"
   ]
  },
  {
   "cell_type": "markdown",
   "id": "248c485a",
   "metadata": {},
   "source": [
    "#### 이항분포\n",
    "- n번의 베르누이 시행에서 성공의 총 횟수에 대한 확률분포 "
   ]
  },
  {
   "cell_type": "code",
   "execution_count": null,
   "id": "4b45db17",
   "metadata": {},
   "outputs": [
    {
     "name": "stdout",
     "output_type": "stream",
     "text": [
      "0.20507812499999997\n"
     ]
    }
   ],
   "source": [
    "# 앞면과 뒷면이 나올 확률이 동일한 동전 10번 던졌을 때, 정확히 4번 앞면이 나올 확률\n",
    "\n",
    "from scipy.stats import binom\n",
    "prob1 = binom.pmf(4, n=10, p=0.5)\n",
    "\n",
    "print(prob1)\n",
    "\n",
    "# k: 관측된 성공 횟수\n",
    "# n: 시행횟수\n",
    "# p: 성공확률"
   ]
  },
  {
   "cell_type": "code",
   "execution_count": 12,
   "id": "f6bda9d3",
   "metadata": {},
   "outputs": [
    {
     "name": "stdout",
     "output_type": "stream",
     "text": [
      "0.828125\n"
     ]
    }
   ],
   "source": [
    "# 앞면이 적어도 4번 이상 나올 확률은? / 누적분포함수를 사용해야함 : 분포에서 주어진 값 이하가 될 확률\n",
    "\n",
    "from scipy.stats import binom\n",
    "prob1 = 1 - binom.cdf(3, n= 10, p=0.5)\n",
    "print(prob1)"
   ]
  },
  {
   "cell_type": "markdown",
   "id": "452c7cbb",
   "metadata": {},
   "source": [
    "#### 포아송 분포\n",
    "- 특정 시간 동안 어떤 사건이 발생하는 횟수를 나타내는 이산 확률분포"
   ]
  },
  {
   "cell_type": "code",
   "execution_count": 10,
   "id": "bc8a5f15",
   "metadata": {},
   "outputs": [
    {
     "name": "stdout",
     "output_type": "stream",
     "text": [
      "0.18044704431548356\n"
     ]
    }
   ],
   "source": [
    "# 단위 시간당 평균 2번의 사건이 발생하는 시스템에서, 정확히 3번 사건이 발생할 확률\n",
    "from scipy.stats import poisson\n",
    "\n",
    "prob1 = poisson.pmf(3, mu=2)\n",
    "print(prob1)"
   ]
  },
  {
   "cell_type": "code",
   "execution_count": 13,
   "id": "a4394f8d",
   "metadata": {},
   "outputs": [
    {
     "name": "stdout",
     "output_type": "stream",
     "text": [
      "0.052653017343711125\n"
     ]
    }
   ],
   "source": [
    "# 5번 이상 사건이 발생할 확률은\n",
    "\n",
    "from scipy.stats import poisson\n",
    "\n",
    "prob2 = poisson.sf(4, mu=2)\n",
    "print(prob2)"
   ]
  },
  {
   "cell_type": "code",
   "execution_count": 14,
   "id": "d7c7e4bb",
   "metadata": {},
   "outputs": [
    {
     "data": {
      "text/plain": [
       "0.052653017343711084"
      ]
     },
     "execution_count": 14,
     "metadata": {},
     "output_type": "execute_result"
    }
   ],
   "source": [
    "# 생존함수(sf)는 1에서 누적확률함수(cdf)를 뺀 값\n",
    "\n",
    "1- poisson.cdf(4, 2)"
   ]
  },
  {
   "cell_type": "markdown",
   "id": "4ffe6b76",
   "metadata": {},
   "source": [
    "#### 이항분포를 포아송 분포로 근사\n",
    "\n",
    "- 포아송 근사는 다음 조건을 만족할 때 이항 분포에서의 확률계산을 대치해서 사용 가능\n",
    "    1. 시행 횟수 n이 크다 ( 보통 20이상 )\n",
    "    2. 성공 확률 p가 작다 (보통 0.05 이하)\n",
    "    3. np(평균 성공 횟수)가 상대적으로 작은 값을 유지한다."
   ]
  },
  {
   "cell_type": "markdown",
   "id": "8e67dc65",
   "metadata": {},
   "source": [
    "#### 연속 확률분포\n",
    "- 정규분포는 연속 확률분포로서 무작위 현상들을 모델링 하는 데 널리 사용\n",
    "- 종모형 분포의 중심을 나타내는 평균과 분포의 퍼짐을 나타내는 표준편차에 의해 정의"
   ]
  },
  {
   "cell_type": "code",
   "execution_count": 15,
   "id": "7ae9edc6",
   "metadata": {},
   "outputs": [
    {
     "name": "stdout",
     "output_type": "stream",
     "text": [
      "0.06680720126885807\n"
     ]
    }
   ],
   "source": [
    "from scipy.stats import norm\n",
    "\n",
    "prob1 = norm.sf(85, loc=70, scale=10) # 평균 70 표준편차 10 인 정규분포에서 85이상일 확률\n",
    "print(prob1)"
   ]
  },
  {
   "cell_type": "code",
   "execution_count": 17,
   "id": "f290db0a",
   "metadata": {},
   "outputs": [
    {
     "name": "stdout",
     "output_type": "stream",
     "text": [
      "0.38292492254802624\n"
     ]
    }
   ],
   "source": [
    "from scipy.stats import norm\n",
    "\n",
    "prob_between = norm.cdf(75, loc=70, scale=10) - norm.cdf(65, loc=70, scale=10)\n",
    "\n",
    "print(prob_between)"
   ]
  },
  {
   "cell_type": "markdown",
   "id": "0bac6c26",
   "metadata": {},
   "source": [
    "#### 표본평균의 분포\n",
    "- 모집단의 특성(평균, 분산 등)을 알 수 없을 때, 표본 데이터를 통해 이를 추정하기 위해"
   ]
  },
  {
   "cell_type": "markdown",
   "id": "f2f4085f",
   "metadata": {},
   "source": [
    "모집단 평균이 $ \\mu $, 분산이 $ \\sigma^2 $일 때,  \n",
    "표본 크기 $ n $으로 뽑은 표본평균 $ \\bar{X} $는 다음 분포를 따릅니다:\n",
    "\n",
    "$\n",
    "\\bar{X} \\sim \\mathcal{N} \\left( \\mu, \\frac{\\sigma^2}{n} \\right)\n",
    "$\n",
    "- 표본평균 $ bar{X} $는 평균이 $\\mu$ 분산이 $\\frac{\\sigma^2}{n}$인 정규분포를 따른다.\n",
    "\n",
    "### ✅ 성질\n",
    "\n",
    "- 평균:  \n",
    "  $\n",
    "  E[\\bar{X}] = \\mu\n",
    "  $\n",
    "\n",
    "- 분산:  \n",
    "  $\n",
    "  \\text{Var}(\\bar{X}) = \\frac{\\sigma^2}{n}\n",
    "  $\n",
    "\n",
    "- 표준편차 (표준오차, Standard Error):  \n",
    "  $\n",
    "  \\text{SE} = \\frac{\\sigma}{\\sqrt{n}}\n",
    "  $\n"
   ]
  },
  {
   "cell_type": "code",
   "execution_count": 25,
   "id": "051a3ba8",
   "metadata": {},
   "outputs": [
    {
     "name": "stdout",
     "output_type": "stream",
     "text": [
      "0.28580382247666575\n"
     ]
    }
   ],
   "source": [
    "from scipy.stats import norm\n",
    "\n",
    "prob = norm.sf(72, loc= 70, scale =10/(8**0.5))\n",
    "print(prob)"
   ]
  },
  {
   "cell_type": "markdown",
   "id": "16a25d77",
   "metadata": {},
   "source": [
    "#### 카이제곱 분포\n",
    "\n",
    "- 독립적인 표준정규 확률변수들의 제곱 합으로 정의\n",
    "- 적합도 검정, 독립성 검정, 분산 분석 등에서 사용\n"
   ]
  },
  {
   "cell_type": "code",
   "execution_count": null,
   "id": "292d473e",
   "metadata": {},
   "outputs": [],
   "source": [
    "from scipy.stats import chi2\n",
    "\n"
   ]
  }
 ],
 "metadata": {
  "kernelspec": {
   "display_name": "tf",
   "language": "python",
   "name": "python3"
  },
  "language_info": {
   "codemirror_mode": {
    "name": "ipython",
    "version": 3
   },
   "file_extension": ".py",
   "mimetype": "text/x-python",
   "name": "python",
   "nbconvert_exporter": "python",
   "pygments_lexer": "ipython3",
   "version": "3.8.13"
  }
 },
 "nbformat": 4,
 "nbformat_minor": 5
}
