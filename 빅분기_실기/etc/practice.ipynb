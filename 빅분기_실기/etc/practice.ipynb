{
 "cells": [
  {
   "cell_type": "code",
   "execution_count": 5,
   "id": "372333da",
   "metadata": {},
   "outputs": [],
   "source": [
    "import pandas as pd\n",
    "\n",
    "df = pd.read_csv('https://raw.githubusercontent.com/YoungjinBD/data/main/grade.csv')"
   ]
  },
  {
   "cell_type": "code",
   "execution_count": 6,
   "id": "33fae52b",
   "metadata": {},
   "outputs": [
    {
     "name": "stdout",
     "output_type": "stream",
     "text": [
      "<class 'pandas.core.frame.DataFrame'>\n",
      "RangeIndex: 10 entries, 0 to 9\n",
      "Data columns (total 6 columns):\n",
      " #   Column      Non-Null Count  Dtype  \n",
      "---  ------      --------------  -----  \n",
      " 0   student_id  10 non-null     int64  \n",
      " 1   name        10 non-null     object \n",
      " 2   gender      10 non-null     object \n",
      " 3   midterm     9 non-null      float64\n",
      " 4   final       9 non-null      float64\n",
      " 5   assignment  9 non-null      float64\n",
      "dtypes: float64(3), int64(1), object(2)\n",
      "memory usage: 608.0+ bytes\n",
      "None\n"
     ]
    }
   ],
   "source": [
    "print(df.info())"
   ]
  },
  {
   "cell_type": "code",
   "execution_count": 7,
   "id": "22a9cb9a",
   "metadata": {},
   "outputs": [
    {
     "data": {
      "text/html": [
       "<div>\n",
       "<style scoped>\n",
       "    .dataframe tbody tr th:only-of-type {\n",
       "        vertical-align: middle;\n",
       "    }\n",
       "\n",
       "    .dataframe tbody tr th {\n",
       "        vertical-align: top;\n",
       "    }\n",
       "\n",
       "    .dataframe thead th {\n",
       "        text-align: right;\n",
       "    }\n",
       "</style>\n",
       "<table border=\"1\" class=\"dataframe\">\n",
       "  <thead>\n",
       "    <tr style=\"text-align: right;\">\n",
       "      <th></th>\n",
       "      <th>student_id</th>\n",
       "      <th>name</th>\n",
       "      <th>gender</th>\n",
       "      <th>midterm</th>\n",
       "      <th>final</th>\n",
       "      <th>assignment</th>\n",
       "    </tr>\n",
       "  </thead>\n",
       "  <tbody>\n",
       "    <tr>\n",
       "      <th>0</th>\n",
       "      <td>1</td>\n",
       "      <td>Alice</td>\n",
       "      <td>F</td>\n",
       "      <td>85.0</td>\n",
       "      <td>88.0</td>\n",
       "      <td>95.0</td>\n",
       "    </tr>\n",
       "    <tr>\n",
       "      <th>2</th>\n",
       "      <td>3</td>\n",
       "      <td>Charlie</td>\n",
       "      <td>M</td>\n",
       "      <td>92.0</td>\n",
       "      <td>94.0</td>\n",
       "      <td>87.0</td>\n",
       "    </tr>\n",
       "    <tr>\n",
       "      <th>3</th>\n",
       "      <td>4</td>\n",
       "      <td>David</td>\n",
       "      <td>M</td>\n",
       "      <td>88.0</td>\n",
       "      <td>90.0</td>\n",
       "      <td>85.0</td>\n",
       "    </tr>\n",
       "    <tr>\n",
       "      <th>5</th>\n",
       "      <td>6</td>\n",
       "      <td>Frank</td>\n",
       "      <td>M</td>\n",
       "      <td>95.0</td>\n",
       "      <td>97.0</td>\n",
       "      <td>98.0</td>\n",
       "    </tr>\n",
       "    <tr>\n",
       "      <th>6</th>\n",
       "      <td>7</td>\n",
       "      <td>Grace</td>\n",
       "      <td>F</td>\n",
       "      <td>89.0</td>\n",
       "      <td>91.0</td>\n",
       "      <td>84.0</td>\n",
       "    </tr>\n",
       "    <tr>\n",
       "      <th>7</th>\n",
       "      <td>8</td>\n",
       "      <td>Hannah</td>\n",
       "      <td>F</td>\n",
       "      <td>90.0</td>\n",
       "      <td>92.0</td>\n",
       "      <td>NaN</td>\n",
       "    </tr>\n",
       "  </tbody>\n",
       "</table>\n",
       "</div>"
      ],
      "text/plain": [
       "   student_id     name gender  midterm  final  assignment\n",
       "0           1    Alice      F     85.0   88.0        95.0\n",
       "2           3  Charlie      M     92.0   94.0        87.0\n",
       "3           4    David      M     88.0   90.0        85.0\n",
       "5           6    Frank      M     95.0   97.0        98.0\n",
       "6           7    Grace      F     89.0   91.0        84.0\n",
       "7           8   Hannah      F     90.0   92.0         NaN"
      ]
     },
     "execution_count": 7,
     "metadata": {},
     "output_type": "execute_result"
    }
   ],
   "source": [
    "df[df['midterm'] >= 85]"
   ]
  },
  {
   "cell_type": "code",
   "execution_count": null,
   "id": "3a613510",
   "metadata": {},
   "outputs": [
    {
     "data": {
      "text/html": [
       "<div>\n",
       "<style scoped>\n",
       "    .dataframe tbody tr th:only-of-type {\n",
       "        vertical-align: middle;\n",
       "    }\n",
       "\n",
       "    .dataframe tbody tr th {\n",
       "        vertical-align: top;\n",
       "    }\n",
       "\n",
       "    .dataframe thead th {\n",
       "        text-align: right;\n",
       "    }\n",
       "</style>\n",
       "<table border=\"1\" class=\"dataframe\">\n",
       "  <thead>\n",
       "    <tr style=\"text-align: right;\">\n",
       "      <th></th>\n",
       "      <th>student_id</th>\n",
       "      <th>name</th>\n",
       "      <th>gender</th>\n",
       "      <th>midterm</th>\n",
       "      <th>final</th>\n",
       "      <th>assignment</th>\n",
       "    </tr>\n",
       "  </thead>\n",
       "  <tbody>\n",
       "    <tr>\n",
       "      <th>5</th>\n",
       "      <td>6</td>\n",
       "      <td>Frank</td>\n",
       "      <td>M</td>\n",
       "      <td>95.0</td>\n",
       "      <td>97.0</td>\n",
       "      <td>98.0</td>\n",
       "    </tr>\n",
       "    <tr>\n",
       "      <th>2</th>\n",
       "      <td>3</td>\n",
       "      <td>Charlie</td>\n",
       "      <td>M</td>\n",
       "      <td>92.0</td>\n",
       "      <td>94.0</td>\n",
       "      <td>87.0</td>\n",
       "    </tr>\n",
       "    <tr>\n",
       "      <th>7</th>\n",
       "      <td>8</td>\n",
       "      <td>Hannah</td>\n",
       "      <td>F</td>\n",
       "      <td>90.0</td>\n",
       "      <td>92.0</td>\n",
       "      <td>NaN</td>\n",
       "    </tr>\n",
       "    <tr>\n",
       "      <th>6</th>\n",
       "      <td>7</td>\n",
       "      <td>Grace</td>\n",
       "      <td>F</td>\n",
       "      <td>89.0</td>\n",
       "      <td>91.0</td>\n",
       "      <td>84.0</td>\n",
       "    </tr>\n",
       "    <tr>\n",
       "      <th>3</th>\n",
       "      <td>4</td>\n",
       "      <td>David</td>\n",
       "      <td>M</td>\n",
       "      <td>88.0</td>\n",
       "      <td>90.0</td>\n",
       "      <td>85.0</td>\n",
       "    </tr>\n",
       "  </tbody>\n",
       "</table>\n",
       "</div>"
      ],
      "text/plain": [
       "   student_id     name gender  midterm  final  assignment\n",
       "5           6    Frank      M     95.0   97.0        98.0\n",
       "2           3  Charlie      M     92.0   94.0        87.0\n",
       "7           8   Hannah      F     90.0   92.0         NaN\n",
       "6           7    Grace      F     89.0   91.0        84.0\n",
       "3           4    David      M     88.0   90.0        85.0"
      ]
     },
     "execution_count": 14,
     "metadata": {},
     "output_type": "execute_result"
    }
   ],
   "source": [
    "# 3\n",
    "df.sort_values(by=['final'], ascending=False).head()"
   ]
  },
  {
   "cell_type": "code",
   "execution_count": null,
   "id": "acf37f56",
   "metadata": {},
   "outputs": [
    {
     "data": {
      "text/html": [
       "<div>\n",
       "<style scoped>\n",
       "    .dataframe tbody tr th:only-of-type {\n",
       "        vertical-align: middle;\n",
       "    }\n",
       "\n",
       "    .dataframe tbody tr th {\n",
       "        vertical-align: top;\n",
       "    }\n",
       "\n",
       "    .dataframe thead th {\n",
       "        text-align: right;\n",
       "    }\n",
       "</style>\n",
       "<table border=\"1\" class=\"dataframe\">\n",
       "  <thead>\n",
       "    <tr style=\"text-align: right;\">\n",
       "      <th></th>\n",
       "      <th>midterm</th>\n",
       "      <th>final</th>\n",
       "    </tr>\n",
       "    <tr>\n",
       "      <th>gender</th>\n",
       "      <th></th>\n",
       "      <th></th>\n",
       "    </tr>\n",
       "  </thead>\n",
       "  <tbody>\n",
       "    <tr>\n",
       "      <th>F</th>\n",
       "      <td>85.0</td>\n",
       "      <td>87.5</td>\n",
       "    </tr>\n",
       "    <tr>\n",
       "      <th>M</th>\n",
       "      <td>86.0</td>\n",
       "      <td>88.2</td>\n",
       "    </tr>\n",
       "  </tbody>\n",
       "</table>\n",
       "</div>"
      ],
      "text/plain": [
       "        midterm  final\n",
       "gender                \n",
       "F          85.0   87.5\n",
       "M          86.0   88.2"
      ]
     },
     "execution_count": 18,
     "metadata": {},
     "output_type": "execute_result"
    }
   ],
   "source": [
    "#4\n",
    "df.groupby('gender')[['midterm', 'final']].mean()"
   ]
  },
  {
   "cell_type": "code",
   "execution_count": 20,
   "id": "952ea7c2",
   "metadata": {},
   "outputs": [
    {
     "name": "stdout",
     "output_type": "stream",
     "text": [
      "<class 'pandas.core.frame.DataFrame'>\n",
      "RangeIndex: 10 entries, 0 to 9\n",
      "Data columns (total 6 columns):\n",
      " #   Column      Non-Null Count  Dtype  \n",
      "---  ------      --------------  -----  \n",
      " 0   student_id  10 non-null     object \n",
      " 1   name        10 non-null     object \n",
      " 2   gender      10 non-null     object \n",
      " 3   midterm     9 non-null      float64\n",
      " 4   final       9 non-null      float64\n",
      " 5   assignment  9 non-null      float64\n",
      "dtypes: float64(3), object(3)\n",
      "memory usage: 608.0+ bytes\n",
      "None\n"
     ]
    }
   ],
   "source": [
    "# 5\n",
    "\n",
    "df['student_id'] = df['student_id'].astype('str')\n",
    "print(df.info())"
   ]
  },
  {
   "cell_type": "code",
   "execution_count": 25,
   "id": "74baf38f",
   "metadata": {},
   "outputs": [
    {
     "name": "stdout",
     "output_type": "stream",
     "text": [
      "4 5\n",
      "student_id        6\n",
      "name          Frank\n",
      "gender            M\n",
      "midterm        95.0\n",
      "final          97.0\n",
      "assignment     98.0\n",
      "Name: 5, dtype: object\n",
      "student_id       5\n",
      "name           Eve\n",
      "gender           F\n",
      "midterm       76.0\n",
      "final         79.0\n",
      "assignment    77.0\n",
      "Name: 4, dtype: object\n"
     ]
    }
   ],
   "source": [
    "# 6\n",
    "\n",
    "print(df['assignment'].idxmin(), df['assignment'].idxmax())\n",
    "\n",
    "print(df.loc[df['assignment'].idxmax()])\n",
    "print(df.loc[df['assignment'].idxmin()])\n"
   ]
  },
  {
   "cell_type": "code",
   "execution_count": 28,
   "id": "6c92ba34",
   "metadata": {},
   "outputs": [
    {
     "name": "stdout",
     "output_type": "stream",
     "text": [
      "  student_id     name gender  midterm  final  assignment    average\n",
      "0          1    Alice      F     85.0   88.0        95.0  89.333333\n",
      "1          2      Bob      M     78.0   74.0        82.0  78.000000\n",
      "2          3  Charlie      M     92.0   94.0        87.0  91.000000\n",
      "3          4    David      M     88.0   90.0        85.0  87.666667\n",
      "4          5      Eve      F     76.0   79.0        77.0  77.333333\n",
      "5          6    Frank      M     95.0   97.0        98.0  96.666667\n",
      "6          7    Grace      F     89.0   91.0        84.0  88.000000\n",
      "7          8   Hannah      F     90.0   92.0         NaN  91.000000\n",
      "8          9     Ivan      M     77.0    NaN        81.0  79.000000\n",
      "9         10     Jack      M      NaN   86.0        88.0  87.000000\n"
     ]
    }
   ],
   "source": [
    "# 7\n",
    "df['average'] = df[['midterm', 'final', 'assignment']].mean(axis=1)\n",
    "print(df)"
   ]
  },
  {
   "cell_type": "code",
   "execution_count": 31,
   "id": "7885ca83",
   "metadata": {},
   "outputs": [
    {
     "name": "stdout",
     "output_type": "stream",
     "text": [
      "<class 'pandas.core.frame.DataFrame'>\n",
      "Index: 7 entries, 0 to 6\n",
      "Data columns (total 7 columns):\n",
      " #   Column      Non-Null Count  Dtype  \n",
      "---  ------      --------------  -----  \n",
      " 0   student_id  7 non-null      object \n",
      " 1   name        7 non-null      object \n",
      " 2   gender      7 non-null      object \n",
      " 3   midterm     7 non-null      float64\n",
      " 4   final       7 non-null      float64\n",
      " 5   assignment  7 non-null      float64\n",
      " 6   average     7 non-null      float64\n",
      "dtypes: float64(4), object(3)\n",
      "memory usage: 448.0+ bytes\n",
      "None\n"
     ]
    }
   ],
   "source": [
    "# 8\n",
    "\n",
    "# 결측치 확인\n",
    "df.isna().sum()\n",
    "# 결측치 있는 행 제거\n",
    "df_cleaned = df.dropna()\n",
    "print(df_cleaned.info())\n"
   ]
  },
  {
   "cell_type": "code",
   "execution_count": 33,
   "id": "54a08dd1",
   "metadata": {},
   "outputs": [
    {
     "name": "stdout",
     "output_type": "stream",
     "text": [
      "  student_id     name gender  midterm  final  assignment    average     club\n",
      "0          1    Alice      F     85.0   88.0        95.0  89.333333      Art\n",
      "1          2      Bob      M     78.0   74.0        82.0  78.000000      NaN\n",
      "2          3  Charlie      M     92.0   94.0        87.0  91.000000  Science\n",
      "3          4    David      M     88.0   90.0        85.0  87.666667      NaN\n",
      "4          5      Eve      F     76.0   79.0        77.0  77.333333     Math\n",
      "5          6    Frank      M     95.0   97.0        98.0  96.666667      NaN\n",
      "6          7    Grace      F     89.0   91.0        84.0  88.000000    Music\n",
      "7          8   Hannah      F     90.0   92.0         NaN  91.000000      NaN\n",
      "8          9     Ivan      M     77.0    NaN        81.0  79.000000    Drama\n",
      "9         10     Jack      M      NaN   86.0        88.0  87.000000      NaN\n"
     ]
    }
   ],
   "source": [
    "# 9 \n",
    "\n",
    "additional_data = {\n",
    "    'student_id': ['1', '3', '5', '7', '9'],\n",
    "    'club': ['Art', 'Science', 'Math', 'Music', 'Drama']\n",
    "}\n",
    "df_additional = pd.DataFrame(additional_data)\n",
    "\n",
    "# 병합\n",
    "merged_df = pd.merge(df, df_additional, on='student_id', how='left')\n",
    "\n",
    "print(merged_df)"
   ]
  },
  {
   "cell_type": "code",
   "execution_count": 35,
   "id": "1b5e7cd4",
   "metadata": {},
   "outputs": [
    {
     "data": {
      "text/html": [
       "<div>\n",
       "<style scoped>\n",
       "    .dataframe tbody tr th:only-of-type {\n",
       "        vertical-align: middle;\n",
       "    }\n",
       "\n",
       "    .dataframe tbody tr th {\n",
       "        vertical-align: top;\n",
       "    }\n",
       "\n",
       "    .dataframe thead th {\n",
       "        text-align: right;\n",
       "    }\n",
       "</style>\n",
       "<table border=\"1\" class=\"dataframe\">\n",
       "  <thead>\n",
       "    <tr style=\"text-align: right;\">\n",
       "      <th>student_id</th>\n",
       "      <th>1</th>\n",
       "      <th>10</th>\n",
       "      <th>2</th>\n",
       "      <th>3</th>\n",
       "      <th>4</th>\n",
       "      <th>5</th>\n",
       "      <th>6</th>\n",
       "      <th>7</th>\n",
       "      <th>8</th>\n",
       "      <th>9</th>\n",
       "    </tr>\n",
       "    <tr>\n",
       "      <th>gender</th>\n",
       "      <th></th>\n",
       "      <th></th>\n",
       "      <th></th>\n",
       "      <th></th>\n",
       "      <th></th>\n",
       "      <th></th>\n",
       "      <th></th>\n",
       "      <th></th>\n",
       "      <th></th>\n",
       "      <th></th>\n",
       "    </tr>\n",
       "  </thead>\n",
       "  <tbody>\n",
       "    <tr>\n",
       "      <th>F</th>\n",
       "      <td>89.333333</td>\n",
       "      <td>NaN</td>\n",
       "      <td>NaN</td>\n",
       "      <td>NaN</td>\n",
       "      <td>NaN</td>\n",
       "      <td>77.333333</td>\n",
       "      <td>NaN</td>\n",
       "      <td>88.0</td>\n",
       "      <td>91.0</td>\n",
       "      <td>NaN</td>\n",
       "    </tr>\n",
       "    <tr>\n",
       "      <th>M</th>\n",
       "      <td>NaN</td>\n",
       "      <td>87.0</td>\n",
       "      <td>78.0</td>\n",
       "      <td>91.0</td>\n",
       "      <td>87.666667</td>\n",
       "      <td>NaN</td>\n",
       "      <td>96.666667</td>\n",
       "      <td>NaN</td>\n",
       "      <td>NaN</td>\n",
       "      <td>79.0</td>\n",
       "    </tr>\n",
       "  </tbody>\n",
       "</table>\n",
       "</div>"
      ],
      "text/plain": [
       "student_id          1    10     2     3          4          5          6  \\\n",
       "gender                                                                     \n",
       "F           89.333333   NaN   NaN   NaN        NaN  77.333333        NaN   \n",
       "M                 NaN  87.0  78.0  91.0  87.666667        NaN  96.666667   \n",
       "\n",
       "student_id     7     8     9  \n",
       "gender                        \n",
       "F           88.0  91.0   NaN  \n",
       "M            NaN   NaN  79.0  "
      ]
     },
     "metadata": {},
     "output_type": "display_data"
    }
   ],
   "source": [
    "# 10\n",
    "\n",
    "pivot_table = df.pivot_table(values='average', index='gender', columns='student_id')\n",
    "display(pivot_table)"
   ]
  },
  {
   "cell_type": "code",
   "execution_count": null,
   "id": "cdbd9c8e",
   "metadata": {},
   "outputs": [
    {
     "name": "stdout",
     "output_type": "stream",
     "text": [
      "  gender    variable      score\n",
      "0      F  assignment  85.333333\n",
      "1      F     average  86.416667\n",
      "2      F       final  87.500000\n",
      "3      F     midterm  85.000000\n",
      "4      M  assignment  86.833333\n",
      "5      M     average  86.555556\n",
      "6      M       final  88.200000\n",
      "7      M     midterm  86.000000\n"
     ]
    }
   ],
   "source": [
    "# 11\n",
    "df['average'] = df[['midterm', 'final', 'assignment']].mean(axis=1)\n",
    "\n",
    "melted_df = pd.melt(df, id_vars = ['student_id', 'name', 'gender'], value_vars = ['assignment', 'average', 'final', 'midterm'], var_name = 'variable', value_name = 'score')\n",
    "\n",
    "grouped_mean = melted_df.groupby(['gender', 'variable'])['score'].mean().reset_index()\n",
    "print(grouped_mean)"
   ]
  },
  {
   "cell_type": "code",
   "execution_count": 43,
   "id": "53870a83",
   "metadata": {},
   "outputs": [
    {
     "data": {
      "text/plain": [
       "name           Frank\n",
       "average    96.666667\n",
       "Name: 5, dtype: object"
      ]
     },
     "execution_count": 43,
     "metadata": {},
     "output_type": "execute_result"
    }
   ],
   "source": [
    "# 12\n",
    "\n",
    "max_average_df = df['average'].idxmax()\n",
    "\n",
    "df.loc[max_average_df][['name', 'average']]"
   ]
  },
  {
   "cell_type": "code",
   "execution_count": null,
   "id": "8ac79ef1",
   "metadata": {},
   "outputs": [],
   "source": []
  },
  {
   "cell_type": "code",
   "execution_count": null,
   "id": "09673014",
   "metadata": {},
   "outputs": [],
   "source": [
    "# 데이터 로드\n",
    "\n",
    "import pandas as pd\n",
    "import numpy as np\n",
    "train = pd.read_csv('https://raw.githubusercontent.com/YoungjinBD/data/main/st_train.csv')\n",
    "test = pd.read_csv('https://raw.githubusercontent.com/YoungjinBD/data/main/st_test.csv')"
   ]
  },
  {
   "cell_type": "code",
   "execution_count": 45,
   "id": "b5e6eb09",
   "metadata": {},
   "outputs": [
    {
     "name": "stdout",
     "output_type": "stream",
     "text": [
      "<class 'pandas.core.frame.DataFrame'>\n",
      "RangeIndex: 256 entries, 0 to 255\n",
      "Data columns (total 11 columns):\n",
      " #   Column    Non-Null Count  Dtype  \n",
      "---  ------    --------------  -----  \n",
      " 0   school    256 non-null    object \n",
      " 1   sex       256 non-null    object \n",
      " 2   paid      256 non-null    object \n",
      " 3   famrel    256 non-null    int64  \n",
      " 4   freetime  256 non-null    int64  \n",
      " 5   goout     252 non-null    float64\n",
      " 6   Dalc      256 non-null    int64  \n",
      " 7   Walc      256 non-null    int64  \n",
      " 8   health    256 non-null    int64  \n",
      " 9   absences  256 non-null    int64  \n",
      " 10  grade     256 non-null    int64  \n",
      "dtypes: float64(1), int64(7), object(3)\n",
      "memory usage: 22.1+ KB\n",
      "<class 'pandas.core.frame.DataFrame'>\n",
      "RangeIndex: 110 entries, 0 to 109\n",
      "Data columns (total 11 columns):\n",
      " #   Column    Non-Null Count  Dtype  \n",
      "---  ------    --------------  -----  \n",
      " 0   school    110 non-null    object \n",
      " 1   sex       110 non-null    object \n",
      " 2   paid      110 non-null    object \n",
      " 3   famrel    110 non-null    int64  \n",
      " 4   freetime  110 non-null    int64  \n",
      " 5   goout     104 non-null    float64\n",
      " 6   Dalc      110 non-null    int64  \n",
      " 7   Walc      110 non-null    int64  \n",
      " 8   health    110 non-null    int64  \n",
      " 9   absences  110 non-null    int64  \n",
      " 10  grade     110 non-null    int64  \n",
      "dtypes: float64(1), int64(7), object(3)\n",
      "memory usage: 9.6+ KB\n"
     ]
    }
   ],
   "source": [
    "train.info()\n",
    "test.info()"
   ]
  },
  {
   "cell_type": "code",
   "execution_count": 49,
   "id": "6c150716",
   "metadata": {},
   "outputs": [
    {
     "name": "stdout",
     "output_type": "stream",
     "text": [
      "(179, 10) (179,) (77, 10) (77,)\n"
     ]
    }
   ],
   "source": [
    "# 데이터 분할\n",
    "train_X = train.drop(['grade'], axis = 1)\n",
    "train_y = train['grade']\n",
    "\n",
    "test_y = test.drop(['grade'], axis = 1)\n",
    "test_y = train['grade']\n",
    "\n",
    "from sklearn.model_selection import train_test_split\n",
    "\n",
    "train_X, valid_X, train_y, valid_y = train_test_split(train_X, train_y, test_size=0.3, random_state= 1)\n",
    "print(train_X.shape, train_y.shape, valid_X.shape, valid_y.shape)\n"
   ]
  },
  {
   "cell_type": "code",
   "execution_count": 50,
   "id": "a6e1dc81",
   "metadata": {},
   "outputs": [],
   "source": [
    "# 데이터 전처리\n",
    "cat_columns = train_X.select_dtypes('object').columns.to_list()\n",
    "num_columns = train_X.select_dtypes('number').columns.to_list()\n",
    "\n",
    "# 원-핫 인코딩과 평균 대치법을 위한 메서드 불러오기\n",
    "from sklearn.preprocessing import OneHotEncoder\n",
    "from sklearn.impute import SimpleImputer\n",
    "\n",
    "onehotencoder = OneHotEncoder(sparse_output = False, handle_unknown = 'ignore')\n",
    "imputer = SimpleImputer()"
   ]
  },
  {
   "cell_type": "code",
   "execution_count": null,
   "id": "6794267d",
   "metadata": {},
   "outputs": [],
   "source": []
  }
 ],
 "metadata": {
  "kernelspec": {
   "display_name": "tf",
   "language": "python",
   "name": "python3"
  },
  "language_info": {
   "codemirror_mode": {
    "name": "ipython",
    "version": 3
   },
   "file_extension": ".py",
   "mimetype": "text/x-python",
   "name": "python",
   "nbconvert_exporter": "python",
   "pygments_lexer": "ipython3",
   "version": "3.8.13"
  }
 },
 "nbformat": 4,
 "nbformat_minor": 5
}
