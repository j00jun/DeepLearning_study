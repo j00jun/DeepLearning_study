{
 "cells": [
  {
   "cell_type": "markdown",
   "id": "6370a686",
   "metadata": {},
   "source": [
    "#### 회귀 모델"
   ]
  },
  {
   "cell_type": "code",
   "execution_count": 5,
   "id": "372333da",
   "metadata": {},
   "outputs": [],
   "source": [
    "import pandas as pd\n",
    "\n",
    "df = pd.read_csv('https://raw.githubusercontent.com/YoungjinBD/data/main/grade.csv')"
   ]
  },
  {
   "cell_type": "code",
   "execution_count": 6,
   "id": "33fae52b",
   "metadata": {},
   "outputs": [
    {
     "name": "stdout",
     "output_type": "stream",
     "text": [
      "<class 'pandas.core.frame.DataFrame'>\n",
      "RangeIndex: 10 entries, 0 to 9\n",
      "Data columns (total 6 columns):\n",
      " #   Column      Non-Null Count  Dtype  \n",
      "---  ------      --------------  -----  \n",
      " 0   student_id  10 non-null     int64  \n",
      " 1   name        10 non-null     object \n",
      " 2   gender      10 non-null     object \n",
      " 3   midterm     9 non-null      float64\n",
      " 4   final       9 non-null      float64\n",
      " 5   assignment  9 non-null      float64\n",
      "dtypes: float64(3), int64(1), object(2)\n",
      "memory usage: 608.0+ bytes\n",
      "None\n"
     ]
    }
   ],
   "source": [
    "print(df.info())"
   ]
  },
  {
   "cell_type": "code",
   "execution_count": 7,
   "id": "22a9cb9a",
   "metadata": {},
   "outputs": [
    {
     "data": {
      "text/html": [
       "<div>\n",
       "<style scoped>\n",
       "    .dataframe tbody tr th:only-of-type {\n",
       "        vertical-align: middle;\n",
       "    }\n",
       "\n",
       "    .dataframe tbody tr th {\n",
       "        vertical-align: top;\n",
       "    }\n",
       "\n",
       "    .dataframe thead th {\n",
       "        text-align: right;\n",
       "    }\n",
       "</style>\n",
       "<table border=\"1\" class=\"dataframe\">\n",
       "  <thead>\n",
       "    <tr style=\"text-align: right;\">\n",
       "      <th></th>\n",
       "      <th>student_id</th>\n",
       "      <th>name</th>\n",
       "      <th>gender</th>\n",
       "      <th>midterm</th>\n",
       "      <th>final</th>\n",
       "      <th>assignment</th>\n",
       "    </tr>\n",
       "  </thead>\n",
       "  <tbody>\n",
       "    <tr>\n",
       "      <th>0</th>\n",
       "      <td>1</td>\n",
       "      <td>Alice</td>\n",
       "      <td>F</td>\n",
       "      <td>85.0</td>\n",
       "      <td>88.0</td>\n",
       "      <td>95.0</td>\n",
       "    </tr>\n",
       "    <tr>\n",
       "      <th>2</th>\n",
       "      <td>3</td>\n",
       "      <td>Charlie</td>\n",
       "      <td>M</td>\n",
       "      <td>92.0</td>\n",
       "      <td>94.0</td>\n",
       "      <td>87.0</td>\n",
       "    </tr>\n",
       "    <tr>\n",
       "      <th>3</th>\n",
       "      <td>4</td>\n",
       "      <td>David</td>\n",
       "      <td>M</td>\n",
       "      <td>88.0</td>\n",
       "      <td>90.0</td>\n",
       "      <td>85.0</td>\n",
       "    </tr>\n",
       "    <tr>\n",
       "      <th>5</th>\n",
       "      <td>6</td>\n",
       "      <td>Frank</td>\n",
       "      <td>M</td>\n",
       "      <td>95.0</td>\n",
       "      <td>97.0</td>\n",
       "      <td>98.0</td>\n",
       "    </tr>\n",
       "    <tr>\n",
       "      <th>6</th>\n",
       "      <td>7</td>\n",
       "      <td>Grace</td>\n",
       "      <td>F</td>\n",
       "      <td>89.0</td>\n",
       "      <td>91.0</td>\n",
       "      <td>84.0</td>\n",
       "    </tr>\n",
       "    <tr>\n",
       "      <th>7</th>\n",
       "      <td>8</td>\n",
       "      <td>Hannah</td>\n",
       "      <td>F</td>\n",
       "      <td>90.0</td>\n",
       "      <td>92.0</td>\n",
       "      <td>NaN</td>\n",
       "    </tr>\n",
       "  </tbody>\n",
       "</table>\n",
       "</div>"
      ],
      "text/plain": [
       "   student_id     name gender  midterm  final  assignment\n",
       "0           1    Alice      F     85.0   88.0        95.0\n",
       "2           3  Charlie      M     92.0   94.0        87.0\n",
       "3           4    David      M     88.0   90.0        85.0\n",
       "5           6    Frank      M     95.0   97.0        98.0\n",
       "6           7    Grace      F     89.0   91.0        84.0\n",
       "7           8   Hannah      F     90.0   92.0         NaN"
      ]
     },
     "execution_count": 7,
     "metadata": {},
     "output_type": "execute_result"
    }
   ],
   "source": [
    "df[df['midterm'] >= 85]"
   ]
  },
  {
   "cell_type": "code",
   "execution_count": null,
   "id": "3a613510",
   "metadata": {},
   "outputs": [
    {
     "data": {
      "text/html": [
       "<div>\n",
       "<style scoped>\n",
       "    .dataframe tbody tr th:only-of-type {\n",
       "        vertical-align: middle;\n",
       "    }\n",
       "\n",
       "    .dataframe tbody tr th {\n",
       "        vertical-align: top;\n",
       "    }\n",
       "\n",
       "    .dataframe thead th {\n",
       "        text-align: right;\n",
       "    }\n",
       "</style>\n",
       "<table border=\"1\" class=\"dataframe\">\n",
       "  <thead>\n",
       "    <tr style=\"text-align: right;\">\n",
       "      <th></th>\n",
       "      <th>student_id</th>\n",
       "      <th>name</th>\n",
       "      <th>gender</th>\n",
       "      <th>midterm</th>\n",
       "      <th>final</th>\n",
       "      <th>assignment</th>\n",
       "    </tr>\n",
       "  </thead>\n",
       "  <tbody>\n",
       "    <tr>\n",
       "      <th>5</th>\n",
       "      <td>6</td>\n",
       "      <td>Frank</td>\n",
       "      <td>M</td>\n",
       "      <td>95.0</td>\n",
       "      <td>97.0</td>\n",
       "      <td>98.0</td>\n",
       "    </tr>\n",
       "    <tr>\n",
       "      <th>2</th>\n",
       "      <td>3</td>\n",
       "      <td>Charlie</td>\n",
       "      <td>M</td>\n",
       "      <td>92.0</td>\n",
       "      <td>94.0</td>\n",
       "      <td>87.0</td>\n",
       "    </tr>\n",
       "    <tr>\n",
       "      <th>7</th>\n",
       "      <td>8</td>\n",
       "      <td>Hannah</td>\n",
       "      <td>F</td>\n",
       "      <td>90.0</td>\n",
       "      <td>92.0</td>\n",
       "      <td>NaN</td>\n",
       "    </tr>\n",
       "    <tr>\n",
       "      <th>6</th>\n",
       "      <td>7</td>\n",
       "      <td>Grace</td>\n",
       "      <td>F</td>\n",
       "      <td>89.0</td>\n",
       "      <td>91.0</td>\n",
       "      <td>84.0</td>\n",
       "    </tr>\n",
       "    <tr>\n",
       "      <th>3</th>\n",
       "      <td>4</td>\n",
       "      <td>David</td>\n",
       "      <td>M</td>\n",
       "      <td>88.0</td>\n",
       "      <td>90.0</td>\n",
       "      <td>85.0</td>\n",
       "    </tr>\n",
       "  </tbody>\n",
       "</table>\n",
       "</div>"
      ],
      "text/plain": [
       "   student_id     name gender  midterm  final  assignment\n",
       "5           6    Frank      M     95.0   97.0        98.0\n",
       "2           3  Charlie      M     92.0   94.0        87.0\n",
       "7           8   Hannah      F     90.0   92.0         NaN\n",
       "6           7    Grace      F     89.0   91.0        84.0\n",
       "3           4    David      M     88.0   90.0        85.0"
      ]
     },
     "execution_count": 14,
     "metadata": {},
     "output_type": "execute_result"
    }
   ],
   "source": [
    "# 3\n",
    "df.sort_values(by=['final'], ascending=False).head()"
   ]
  },
  {
   "cell_type": "code",
   "execution_count": null,
   "id": "acf37f56",
   "metadata": {},
   "outputs": [
    {
     "data": {
      "text/html": [
       "<div>\n",
       "<style scoped>\n",
       "    .dataframe tbody tr th:only-of-type {\n",
       "        vertical-align: middle;\n",
       "    }\n",
       "\n",
       "    .dataframe tbody tr th {\n",
       "        vertical-align: top;\n",
       "    }\n",
       "\n",
       "    .dataframe thead th {\n",
       "        text-align: right;\n",
       "    }\n",
       "</style>\n",
       "<table border=\"1\" class=\"dataframe\">\n",
       "  <thead>\n",
       "    <tr style=\"text-align: right;\">\n",
       "      <th></th>\n",
       "      <th>midterm</th>\n",
       "      <th>final</th>\n",
       "    </tr>\n",
       "    <tr>\n",
       "      <th>gender</th>\n",
       "      <th></th>\n",
       "      <th></th>\n",
       "    </tr>\n",
       "  </thead>\n",
       "  <tbody>\n",
       "    <tr>\n",
       "      <th>F</th>\n",
       "      <td>85.0</td>\n",
       "      <td>87.5</td>\n",
       "    </tr>\n",
       "    <tr>\n",
       "      <th>M</th>\n",
       "      <td>86.0</td>\n",
       "      <td>88.2</td>\n",
       "    </tr>\n",
       "  </tbody>\n",
       "</table>\n",
       "</div>"
      ],
      "text/plain": [
       "        midterm  final\n",
       "gender                \n",
       "F          85.0   87.5\n",
       "M          86.0   88.2"
      ]
     },
     "execution_count": 18,
     "metadata": {},
     "output_type": "execute_result"
    }
   ],
   "source": [
    "#4\n",
    "df.groupby('gender')[['midterm', 'final']].mean()"
   ]
  },
  {
   "cell_type": "code",
   "execution_count": 20,
   "id": "952ea7c2",
   "metadata": {},
   "outputs": [
    {
     "name": "stdout",
     "output_type": "stream",
     "text": [
      "<class 'pandas.core.frame.DataFrame'>\n",
      "RangeIndex: 10 entries, 0 to 9\n",
      "Data columns (total 6 columns):\n",
      " #   Column      Non-Null Count  Dtype  \n",
      "---  ------      --------------  -----  \n",
      " 0   student_id  10 non-null     object \n",
      " 1   name        10 non-null     object \n",
      " 2   gender      10 non-null     object \n",
      " 3   midterm     9 non-null      float64\n",
      " 4   final       9 non-null      float64\n",
      " 5   assignment  9 non-null      float64\n",
      "dtypes: float64(3), object(3)\n",
      "memory usage: 608.0+ bytes\n",
      "None\n"
     ]
    }
   ],
   "source": [
    "# 5\n",
    "\n",
    "df['student_id'] = df['student_id'].astype('str')\n",
    "print(df.info())"
   ]
  },
  {
   "cell_type": "code",
   "execution_count": 25,
   "id": "74baf38f",
   "metadata": {},
   "outputs": [
    {
     "name": "stdout",
     "output_type": "stream",
     "text": [
      "4 5\n",
      "student_id        6\n",
      "name          Frank\n",
      "gender            M\n",
      "midterm        95.0\n",
      "final          97.0\n",
      "assignment     98.0\n",
      "Name: 5, dtype: object\n",
      "student_id       5\n",
      "name           Eve\n",
      "gender           F\n",
      "midterm       76.0\n",
      "final         79.0\n",
      "assignment    77.0\n",
      "Name: 4, dtype: object\n"
     ]
    }
   ],
   "source": [
    "# 6\n",
    "\n",
    "print(df['assignment'].idxmin(), df['assignment'].idxmax())\n",
    "\n",
    "print(df.loc[df['assignment'].idxmax()])\n",
    "print(df.loc[df['assignment'].idxmin()])\n"
   ]
  },
  {
   "cell_type": "code",
   "execution_count": 28,
   "id": "6c92ba34",
   "metadata": {},
   "outputs": [
    {
     "name": "stdout",
     "output_type": "stream",
     "text": [
      "  student_id     name gender  midterm  final  assignment    average\n",
      "0          1    Alice      F     85.0   88.0        95.0  89.333333\n",
      "1          2      Bob      M     78.0   74.0        82.0  78.000000\n",
      "2          3  Charlie      M     92.0   94.0        87.0  91.000000\n",
      "3          4    David      M     88.0   90.0        85.0  87.666667\n",
      "4          5      Eve      F     76.0   79.0        77.0  77.333333\n",
      "5          6    Frank      M     95.0   97.0        98.0  96.666667\n",
      "6          7    Grace      F     89.0   91.0        84.0  88.000000\n",
      "7          8   Hannah      F     90.0   92.0         NaN  91.000000\n",
      "8          9     Ivan      M     77.0    NaN        81.0  79.000000\n",
      "9         10     Jack      M      NaN   86.0        88.0  87.000000\n"
     ]
    }
   ],
   "source": [
    "# 7\n",
    "df['average'] = df[['midterm', 'final', 'assignment']].mean(axis=1)\n",
    "print(df)"
   ]
  },
  {
   "cell_type": "code",
   "execution_count": 31,
   "id": "7885ca83",
   "metadata": {},
   "outputs": [
    {
     "name": "stdout",
     "output_type": "stream",
     "text": [
      "<class 'pandas.core.frame.DataFrame'>\n",
      "Index: 7 entries, 0 to 6\n",
      "Data columns (total 7 columns):\n",
      " #   Column      Non-Null Count  Dtype  \n",
      "---  ------      --------------  -----  \n",
      " 0   student_id  7 non-null      object \n",
      " 1   name        7 non-null      object \n",
      " 2   gender      7 non-null      object \n",
      " 3   midterm     7 non-null      float64\n",
      " 4   final       7 non-null      float64\n",
      " 5   assignment  7 non-null      float64\n",
      " 6   average     7 non-null      float64\n",
      "dtypes: float64(4), object(3)\n",
      "memory usage: 448.0+ bytes\n",
      "None\n"
     ]
    }
   ],
   "source": [
    "# 8\n",
    "\n",
    "# 결측치 확인\n",
    "df.isna().sum()\n",
    "# 결측치 있는 행 제거\n",
    "df_cleaned = df.dropna()\n",
    "print(df_cleaned.info())\n"
   ]
  },
  {
   "cell_type": "code",
   "execution_count": 33,
   "id": "54a08dd1",
   "metadata": {},
   "outputs": [
    {
     "name": "stdout",
     "output_type": "stream",
     "text": [
      "  student_id     name gender  midterm  final  assignment    average     club\n",
      "0          1    Alice      F     85.0   88.0        95.0  89.333333      Art\n",
      "1          2      Bob      M     78.0   74.0        82.0  78.000000      NaN\n",
      "2          3  Charlie      M     92.0   94.0        87.0  91.000000  Science\n",
      "3          4    David      M     88.0   90.0        85.0  87.666667      NaN\n",
      "4          5      Eve      F     76.0   79.0        77.0  77.333333     Math\n",
      "5          6    Frank      M     95.0   97.0        98.0  96.666667      NaN\n",
      "6          7    Grace      F     89.0   91.0        84.0  88.000000    Music\n",
      "7          8   Hannah      F     90.0   92.0         NaN  91.000000      NaN\n",
      "8          9     Ivan      M     77.0    NaN        81.0  79.000000    Drama\n",
      "9         10     Jack      M      NaN   86.0        88.0  87.000000      NaN\n"
     ]
    }
   ],
   "source": [
    "# 9 \n",
    "\n",
    "additional_data = {\n",
    "    'student_id': ['1', '3', '5', '7', '9'],\n",
    "    'club': ['Art', 'Science', 'Math', 'Music', 'Drama']\n",
    "}\n",
    "df_additional = pd.DataFrame(additional_data)\n",
    "\n",
    "# 병합\n",
    "merged_df = pd.merge(df, df_additional, on='student_id', how='left')\n",
    "\n",
    "print(merged_df)"
   ]
  },
  {
   "cell_type": "code",
   "execution_count": 35,
   "id": "1b5e7cd4",
   "metadata": {},
   "outputs": [
    {
     "data": {
      "text/html": [
       "<div>\n",
       "<style scoped>\n",
       "    .dataframe tbody tr th:only-of-type {\n",
       "        vertical-align: middle;\n",
       "    }\n",
       "\n",
       "    .dataframe tbody tr th {\n",
       "        vertical-align: top;\n",
       "    }\n",
       "\n",
       "    .dataframe thead th {\n",
       "        text-align: right;\n",
       "    }\n",
       "</style>\n",
       "<table border=\"1\" class=\"dataframe\">\n",
       "  <thead>\n",
       "    <tr style=\"text-align: right;\">\n",
       "      <th>student_id</th>\n",
       "      <th>1</th>\n",
       "      <th>10</th>\n",
       "      <th>2</th>\n",
       "      <th>3</th>\n",
       "      <th>4</th>\n",
       "      <th>5</th>\n",
       "      <th>6</th>\n",
       "      <th>7</th>\n",
       "      <th>8</th>\n",
       "      <th>9</th>\n",
       "    </tr>\n",
       "    <tr>\n",
       "      <th>gender</th>\n",
       "      <th></th>\n",
       "      <th></th>\n",
       "      <th></th>\n",
       "      <th></th>\n",
       "      <th></th>\n",
       "      <th></th>\n",
       "      <th></th>\n",
       "      <th></th>\n",
       "      <th></th>\n",
       "      <th></th>\n",
       "    </tr>\n",
       "  </thead>\n",
       "  <tbody>\n",
       "    <tr>\n",
       "      <th>F</th>\n",
       "      <td>89.333333</td>\n",
       "      <td>NaN</td>\n",
       "      <td>NaN</td>\n",
       "      <td>NaN</td>\n",
       "      <td>NaN</td>\n",
       "      <td>77.333333</td>\n",
       "      <td>NaN</td>\n",
       "      <td>88.0</td>\n",
       "      <td>91.0</td>\n",
       "      <td>NaN</td>\n",
       "    </tr>\n",
       "    <tr>\n",
       "      <th>M</th>\n",
       "      <td>NaN</td>\n",
       "      <td>87.0</td>\n",
       "      <td>78.0</td>\n",
       "      <td>91.0</td>\n",
       "      <td>87.666667</td>\n",
       "      <td>NaN</td>\n",
       "      <td>96.666667</td>\n",
       "      <td>NaN</td>\n",
       "      <td>NaN</td>\n",
       "      <td>79.0</td>\n",
       "    </tr>\n",
       "  </tbody>\n",
       "</table>\n",
       "</div>"
      ],
      "text/plain": [
       "student_id          1    10     2     3          4          5          6  \\\n",
       "gender                                                                     \n",
       "F           89.333333   NaN   NaN   NaN        NaN  77.333333        NaN   \n",
       "M                 NaN  87.0  78.0  91.0  87.666667        NaN  96.666667   \n",
       "\n",
       "student_id     7     8     9  \n",
       "gender                        \n",
       "F           88.0  91.0   NaN  \n",
       "M            NaN   NaN  79.0  "
      ]
     },
     "metadata": {},
     "output_type": "display_data"
    }
   ],
   "source": [
    "# 10\n",
    "\n",
    "pivot_table = df.pivot_table(values='average', index='gender', columns='student_id')\n",
    "display(pivot_table)"
   ]
  },
  {
   "cell_type": "code",
   "execution_count": null,
   "id": "cdbd9c8e",
   "metadata": {},
   "outputs": [
    {
     "name": "stdout",
     "output_type": "stream",
     "text": [
      "  gender    variable      score\n",
      "0      F  assignment  85.333333\n",
      "1      F     average  86.416667\n",
      "2      F       final  87.500000\n",
      "3      F     midterm  85.000000\n",
      "4      M  assignment  86.833333\n",
      "5      M     average  86.555556\n",
      "6      M       final  88.200000\n",
      "7      M     midterm  86.000000\n"
     ]
    }
   ],
   "source": [
    "# 11\n",
    "df['average'] = df[['midterm', 'final', 'assignment']].mean(axis=1)\n",
    "\n",
    "melted_df = pd.melt(df, id_vars = ['student_id', 'name', 'gender'], value_vars = ['assignment', 'average', 'final', 'midterm'], var_name = 'variable', value_name = 'score')\n",
    "\n",
    "grouped_mean = melted_df.groupby(['gender', 'variable'])['score'].mean().reset_index()\n",
    "print(grouped_mean)"
   ]
  },
  {
   "cell_type": "code",
   "execution_count": 43,
   "id": "53870a83",
   "metadata": {},
   "outputs": [
    {
     "data": {
      "text/plain": [
       "name           Frank\n",
       "average    96.666667\n",
       "Name: 5, dtype: object"
      ]
     },
     "execution_count": 43,
     "metadata": {},
     "output_type": "execute_result"
    }
   ],
   "source": [
    "# 12\n",
    "\n",
    "max_average_df = df['average'].idxmax()\n",
    "\n",
    "df.loc[max_average_df][['name', 'average']]"
   ]
  },
  {
   "cell_type": "code",
   "execution_count": null,
   "id": "8ac79ef1",
   "metadata": {},
   "outputs": [],
   "source": []
  },
  {
   "cell_type": "code",
   "execution_count": 67,
   "id": "09673014",
   "metadata": {},
   "outputs": [],
   "source": [
    "# 데이터 로드\n",
    "\n",
    "import pandas as pd\n",
    "import numpy as np\n",
    "train = pd.read_csv('https://raw.githubusercontent.com/YoungjinBD/data/main/st_train.csv')\n",
    "test = pd.read_csv('https://raw.githubusercontent.com/YoungjinBD/data/main/st_test.csv')"
   ]
  },
  {
   "cell_type": "code",
   "execution_count": 68,
   "id": "b5e6eb09",
   "metadata": {},
   "outputs": [
    {
     "name": "stdout",
     "output_type": "stream",
     "text": [
      "<class 'pandas.core.frame.DataFrame'>\n",
      "RangeIndex: 256 entries, 0 to 255\n",
      "Data columns (total 11 columns):\n",
      " #   Column    Non-Null Count  Dtype  \n",
      "---  ------    --------------  -----  \n",
      " 0   school    256 non-null    object \n",
      " 1   sex       256 non-null    object \n",
      " 2   paid      256 non-null    object \n",
      " 3   famrel    256 non-null    int64  \n",
      " 4   freetime  256 non-null    int64  \n",
      " 5   goout     252 non-null    float64\n",
      " 6   Dalc      256 non-null    int64  \n",
      " 7   Walc      256 non-null    int64  \n",
      " 8   health    256 non-null    int64  \n",
      " 9   absences  256 non-null    int64  \n",
      " 10  grade     256 non-null    int64  \n",
      "dtypes: float64(1), int64(7), object(3)\n",
      "memory usage: 22.1+ KB\n",
      "<class 'pandas.core.frame.DataFrame'>\n",
      "RangeIndex: 110 entries, 0 to 109\n",
      "Data columns (total 11 columns):\n",
      " #   Column    Non-Null Count  Dtype  \n",
      "---  ------    --------------  -----  \n",
      " 0   school    110 non-null    object \n",
      " 1   sex       110 non-null    object \n",
      " 2   paid      110 non-null    object \n",
      " 3   famrel    110 non-null    int64  \n",
      " 4   freetime  110 non-null    int64  \n",
      " 5   goout     104 non-null    float64\n",
      " 6   Dalc      110 non-null    int64  \n",
      " 7   Walc      110 non-null    int64  \n",
      " 8   health    110 non-null    int64  \n",
      " 9   absences  110 non-null    int64  \n",
      " 10  grade     110 non-null    int64  \n",
      "dtypes: float64(1), int64(7), object(3)\n",
      "memory usage: 9.6+ KB\n"
     ]
    }
   ],
   "source": [
    "train.info()\n",
    "test.info()"
   ]
  },
  {
   "cell_type": "code",
   "execution_count": 69,
   "id": "6c150716",
   "metadata": {},
   "outputs": [
    {
     "name": "stdout",
     "output_type": "stream",
     "text": [
      "(179, 10) (179,) (77, 10) (77,)\n"
     ]
    }
   ],
   "source": [
    "# 데이터 분할\n",
    "train_X = train.drop(['grade'], axis = 1)\n",
    "train_y = train['grade']\n",
    "\n",
    "test_X = test.drop(['grade'], axis = 1)\n",
    "test_y = train['grade']\n",
    "\n",
    "from sklearn.model_selection import train_test_split\n",
    "\n",
    "train_X, valid_X, train_y, valid_y = train_test_split(train_X, train_y, test_size=0.3, random_state= 1)\n",
    "print(train_X.shape, train_y.shape, valid_X.shape, valid_y.shape)\n"
   ]
  },
  {
   "cell_type": "code",
   "execution_count": 70,
   "id": "a6e1dc81",
   "metadata": {},
   "outputs": [],
   "source": [
    "# 데이터 전처리\n",
    "cat_columns = train_X.select_dtypes('object').columns.to_list()\n",
    "num_columns = train_X.select_dtypes('number').columns.to_list()\n",
    "\n",
    "# 원-핫 인코딩과 평균 대치법을 위한 메서드 불러오기\n",
    "from sklearn.preprocessing import OneHotEncoder\n",
    "from sklearn.impute import SimpleImputer\n",
    "\n",
    "onehotencoder = OneHotEncoder(sparse_output = False, handle_unknown = 'ignore')\n",
    "imputer = SimpleImputer(strategy='mean')"
   ]
  },
  {
   "cell_type": "code",
   "execution_count": 74,
   "id": "6794267d",
   "metadata": {},
   "outputs": [],
   "source": [
    "train_X_numeric_imputed = imputer.fit_transform(train_X[num_columns])\n",
    "valid_X_numeric_imputed = imputer.transform(valid_X[num_columns])\n",
    "test_X_numeric_imputed = imputer.transform(test_X[num_columns])\n",
    "\n",
    "train_X_categorical_encoded = onehotencoder.fit_transform(train_X[cat_columns])\n",
    "valid_X_categorical_encoded = onehotencoder.transform(valid_X[cat_columns])\n",
    "test_X_categorical_encoded = onehotencoder.transform(test_X[cat_columns])\n",
    "\n",
    "train_X_preprocessed = np.concatenate([train_X_numeric_imputed, train_X_categorical_encoded], axis=1)\n",
    "valid_X_preprocessed = np.concatenate([valid_X_numeric_imputed, valid_X_categorical_encoded], axis=1)\n",
    "test_X_preprocessed = np.concatenate([test_X_numeric_imputed, test_X_categorical_encoded], axis=1)"
   ]
  },
  {
   "cell_type": "code",
   "execution_count": 80,
   "id": "2150154e",
   "metadata": {},
   "outputs": [
    {
     "data": {
      "text/html": [
       "<style>#sk-container-id-1 {color: black;}#sk-container-id-1 pre{padding: 0;}#sk-container-id-1 div.sk-toggleable {background-color: white;}#sk-container-id-1 label.sk-toggleable__label {cursor: pointer;display: block;width: 100%;margin-bottom: 0;padding: 0.3em;box-sizing: border-box;text-align: center;}#sk-container-id-1 label.sk-toggleable__label-arrow:before {content: \"▸\";float: left;margin-right: 0.25em;color: #696969;}#sk-container-id-1 label.sk-toggleable__label-arrow:hover:before {color: black;}#sk-container-id-1 div.sk-estimator:hover label.sk-toggleable__label-arrow:before {color: black;}#sk-container-id-1 div.sk-toggleable__content {max-height: 0;max-width: 0;overflow: hidden;text-align: left;background-color: #f0f8ff;}#sk-container-id-1 div.sk-toggleable__content pre {margin: 0.2em;color: black;border-radius: 0.25em;background-color: #f0f8ff;}#sk-container-id-1 input.sk-toggleable__control:checked~div.sk-toggleable__content {max-height: 200px;max-width: 100%;overflow: auto;}#sk-container-id-1 input.sk-toggleable__control:checked~label.sk-toggleable__label-arrow:before {content: \"▾\";}#sk-container-id-1 div.sk-estimator input.sk-toggleable__control:checked~label.sk-toggleable__label {background-color: #d4ebff;}#sk-container-id-1 div.sk-label input.sk-toggleable__control:checked~label.sk-toggleable__label {background-color: #d4ebff;}#sk-container-id-1 input.sk-hidden--visually {border: 0;clip: rect(1px 1px 1px 1px);clip: rect(1px, 1px, 1px, 1px);height: 1px;margin: -1px;overflow: hidden;padding: 0;position: absolute;width: 1px;}#sk-container-id-1 div.sk-estimator {font-family: monospace;background-color: #f0f8ff;border: 1px dotted black;border-radius: 0.25em;box-sizing: border-box;margin-bottom: 0.5em;}#sk-container-id-1 div.sk-estimator:hover {background-color: #d4ebff;}#sk-container-id-1 div.sk-parallel-item::after {content: \"\";width: 100%;border-bottom: 1px solid gray;flex-grow: 1;}#sk-container-id-1 div.sk-label:hover label.sk-toggleable__label {background-color: #d4ebff;}#sk-container-id-1 div.sk-serial::before {content: \"\";position: absolute;border-left: 1px solid gray;box-sizing: border-box;top: 0;bottom: 0;left: 50%;z-index: 0;}#sk-container-id-1 div.sk-serial {display: flex;flex-direction: column;align-items: center;background-color: white;padding-right: 0.2em;padding-left: 0.2em;position: relative;}#sk-container-id-1 div.sk-item {position: relative;z-index: 1;}#sk-container-id-1 div.sk-parallel {display: flex;align-items: stretch;justify-content: center;background-color: white;position: relative;}#sk-container-id-1 div.sk-item::before, #sk-container-id-1 div.sk-parallel-item::before {content: \"\";position: absolute;border-left: 1px solid gray;box-sizing: border-box;top: 0;bottom: 0;left: 50%;z-index: -1;}#sk-container-id-1 div.sk-parallel-item {display: flex;flex-direction: column;z-index: 1;position: relative;background-color: white;}#sk-container-id-1 div.sk-parallel-item:first-child::after {align-self: flex-end;width: 50%;}#sk-container-id-1 div.sk-parallel-item:last-child::after {align-self: flex-start;width: 50%;}#sk-container-id-1 div.sk-parallel-item:only-child::after {width: 0;}#sk-container-id-1 div.sk-dashed-wrapped {border: 1px dashed gray;margin: 0 0.4em 0.5em 0.4em;box-sizing: border-box;padding-bottom: 0.4em;background-color: white;}#sk-container-id-1 div.sk-label label {font-family: monospace;font-weight: bold;display: inline-block;line-height: 1.2em;}#sk-container-id-1 div.sk-label-container {text-align: center;}#sk-container-id-1 div.sk-container {/* jupyter's `normalize.less` sets `[hidden] { display: none; }` but bootstrap.min.css set `[hidden] { display: none !important; }` so we also need the `!important` here to be able to override the default hidden behavior on the sphinx rendered scikit-learn.org. See: https://github.com/scikit-learn/scikit-learn/issues/21755 */display: inline-block !important;position: relative;}#sk-container-id-1 div.sk-text-repr-fallback {display: none;}</style><div id=\"sk-container-id-1\" class=\"sk-top-container\"><div class=\"sk-text-repr-fallback\"><pre>RandomForestRegressor(random_state=1)</pre><b>In a Jupyter environment, please rerun this cell to show the HTML representation or trust the notebook. <br />On GitHub, the HTML representation is unable to render, please try loading this page with nbviewer.org.</b></div><div class=\"sk-container\" hidden><div class=\"sk-item\"><div class=\"sk-estimator sk-toggleable\"><input class=\"sk-toggleable__control sk-hidden--visually\" id=\"sk-estimator-id-1\" type=\"checkbox\" checked><label for=\"sk-estimator-id-1\" class=\"sk-toggleable__label sk-toggleable__label-arrow\">RandomForestRegressor</label><div class=\"sk-toggleable__content\"><pre>RandomForestRegressor(random_state=1)</pre></div></div></div></div></div>"
      ],
      "text/plain": [
       "RandomForestRegressor(random_state=1)"
      ]
     },
     "execution_count": 80,
     "metadata": {},
     "output_type": "execute_result"
    }
   ],
   "source": [
    "# 모델 적합\n",
    "\n",
    "from sklearn.ensemble import RandomForestRegressor\n",
    "rf = RandomForestRegressor(random_state=1)\n",
    "rf.fit(train_X_preprocessed, train_y)"
   ]
  },
  {
   "cell_type": "code",
   "execution_count": 81,
   "id": "055ed3a6",
   "metadata": {},
   "outputs": [
    {
     "name": "stdout",
     "output_type": "stream",
     "text": [
      "3.2503522286653195\n"
     ]
    }
   ],
   "source": [
    "from sklearn.metrics import mean_squared_error\n",
    "\n",
    "pred_val = rf.predict(valid_X_preprocessed)\n",
    "print(mean_squared_error(valid_y, pred_val, squared=False))"
   ]
  },
  {
   "cell_type": "code",
   "execution_count": 82,
   "id": "2ebf0fdf",
   "metadata": {},
   "outputs": [],
   "source": [
    "# 테스트 데이터 예측\n",
    "\n",
    "test_pred = rf.predict(test_X_preprocessed)\n",
    "test_pred = pd.DataFrame(test_pred, columns=['pred'])\n",
    "test_pred.to_csv('result.csv', index=False)"
   ]
  },
  {
   "cell_type": "markdown",
   "id": "7ce6b660",
   "metadata": {},
   "source": [
    "---------------------------------------------------------------------------------------------------------------------------------------------------------------------------------------------------------------"
   ]
  },
  {
   "cell_type": "code",
   "execution_count": 83,
   "id": "e7b0c544",
   "metadata": {},
   "outputs": [],
   "source": [
    "# k-폴드\n",
    "\n",
    "train_X_full = np.concatenate([train_X_preprocessed, valid_X_preprocessed], axis=0)\n",
    "train_y_full = np.concatenate([train_y, valid_y], axis=0)"
   ]
  },
  {
   "cell_type": "code",
   "execution_count": 86,
   "id": "55ac9e4e",
   "metadata": {},
   "outputs": [
    {
     "name": "stdout",
     "output_type": "stream",
     "text": [
      "2.9513729164658664\n"
     ]
    }
   ],
   "source": [
    "# GridSearchCV\n",
    "from sklearn.model_selection import GridSearchCV\n",
    "\n",
    "param_grid = {'max_depth': [10, 20, 30],\n",
    "'min_samples_split': [2,5,10]}\n",
    "\n",
    "rf= RandomForestRegressor(random_state = 1)\n",
    "rf_search = GridSearchCV(estimator = rf,\n",
    "param_grid = param_grid,\n",
    "cv=3,\n",
    "scoring = 'neg_root_mean_squared_error')\n",
    "\n",
    "rf_search.fit(train_X_full, train_y_full)\n",
    "\n",
    "print(-rf_search.best_score_)"
   ]
  },
  {
   "cell_type": "code",
   "execution_count": 87,
   "id": "9bdee037",
   "metadata": {},
   "outputs": [],
   "source": [
    "# 테스트 데이터 \n",
    "test_pred2 = rf_search.predict(test_X_preprocessed)\n",
    "test_pred2 = pd.DataFrame(test_pred2, columns=['pred'])\n",
    "test_pred2.to_csv('result.csv', index=False)"
   ]
  },
  {
   "cell_type": "markdown",
   "id": "3a7159e9",
   "metadata": {},
   "source": [
    "#### 분류 모델"
   ]
  },
  {
   "cell_type": "code",
   "execution_count": 88,
   "id": "ffcaaa6e",
   "metadata": {},
   "outputs": [
    {
     "name": "stdout",
     "output_type": "stream",
     "text": [
      "   mean radius  mean texture  mean perimeter  mean area  mean smoothness  \\\n",
      "0        17.99         10.38          122.80     1001.0          0.11840   \n",
      "1        20.57         17.77          132.90     1326.0          0.08474   \n",
      "2        19.69         21.25          130.00     1203.0          0.10960   \n",
      "3        11.42         20.38           77.58      386.1          0.14250   \n",
      "4        20.29         14.34          135.10     1297.0          0.10030   \n",
      "\n",
      "   mean compactness  mean concavity  mean concave points  mean symmetry  \\\n",
      "0           0.27760          0.3001              0.14710         0.2419   \n",
      "1           0.07864          0.0869              0.07017         0.1812   \n",
      "2           0.15990          0.1974              0.12790         0.2069   \n",
      "3           0.28390          0.2414              0.10520         0.2597   \n",
      "4           0.13280          0.1980              0.10430         0.1809   \n",
      "\n",
      "   mean fractal dimension  ...  worst texture  worst perimeter  worst area  \\\n",
      "0                 0.07871  ...          17.33           184.60      2019.0   \n",
      "1                 0.05667  ...          23.41           158.80      1956.0   \n",
      "2                 0.05999  ...          25.53           152.50      1709.0   \n",
      "3                 0.09744  ...          26.50            98.87       567.7   \n",
      "4                 0.05883  ...          16.67           152.20      1575.0   \n",
      "\n",
      "   worst smoothness  worst compactness  worst concavity  worst concave points  \\\n",
      "0            0.1622             0.6656           0.7119                0.2654   \n",
      "1            0.1238             0.1866           0.2416                0.1860   \n",
      "2            0.1444             0.4245           0.4504                0.2430   \n",
      "3            0.2098             0.8663           0.6869                0.2575   \n",
      "4            0.1374             0.2050           0.4000                0.1625   \n",
      "\n",
      "   worst symmetry  worst fractal dimension  target  \n",
      "0          0.4601                  0.11890       0  \n",
      "1          0.2750                  0.08902       0  \n",
      "2          0.3613                  0.08758       0  \n",
      "3          0.6638                  0.17300       0  \n",
      "4          0.2364                  0.07678       0  \n",
      "\n",
      "[5 rows x 31 columns]\n"
     ]
    }
   ],
   "source": [
    "# 데이터 로드\n",
    "from sklearn.datasets import load_breast_cancer\n",
    "data = load_breast_cancer()\n",
    "\n",
    "X = data.data\n",
    "y = data.target\n",
    "\n",
    "df = pd.DataFrame(X, columns = data.feature_names)\n",
    "df['target'] = y\n",
    "\n",
    "print(df.head())"
   ]
  },
  {
   "cell_type": "code",
   "execution_count": 89,
   "id": "d3a53bad",
   "metadata": {},
   "outputs": [],
   "source": [
    "# 훈련 테스트 분할\n",
    "\n",
    "from sklearn.model_selection import train_test_split\n",
    "\n",
    "train_X, test_X, train_y, test_y = train_test_split(df.drop(columns = 'target'), df['target'], test_size=0.3, random_state=42)"
   ]
  },
  {
   "cell_type": "code",
   "execution_count": 92,
   "id": "5420a094",
   "metadata": {},
   "outputs": [
    {
     "name": "stdout",
     "output_type": "stream",
     "text": [
      "<class 'pandas.core.frame.DataFrame'>\n",
      "Index: 398 entries, 149 to 102\n",
      "Data columns (total 30 columns):\n",
      " #   Column                   Non-Null Count  Dtype  \n",
      "---  ------                   --------------  -----  \n",
      " 0   mean radius              398 non-null    float64\n",
      " 1   mean texture             398 non-null    float64\n",
      " 2   mean perimeter           398 non-null    float64\n",
      " 3   mean area                398 non-null    float64\n",
      " 4   mean smoothness          398 non-null    float64\n",
      " 5   mean compactness         398 non-null    float64\n",
      " 6   mean concavity           398 non-null    float64\n",
      " 7   mean concave points      398 non-null    float64\n",
      " 8   mean symmetry            398 non-null    float64\n",
      " 9   mean fractal dimension   398 non-null    float64\n",
      " 10  radius error             398 non-null    float64\n",
      " 11  texture error            398 non-null    float64\n",
      " 12  perimeter error          398 non-null    float64\n",
      " 13  area error               398 non-null    float64\n",
      " 14  smoothness error         398 non-null    float64\n",
      " 15  compactness error        398 non-null    float64\n",
      " 16  concavity error          398 non-null    float64\n",
      " 17  concave points error     398 non-null    float64\n",
      " 18  symmetry error           398 non-null    float64\n",
      " 19  fractal dimension error  398 non-null    float64\n",
      " 20  worst radius             398 non-null    float64\n",
      " 21  worst texture            398 non-null    float64\n",
      " 22  worst perimeter          398 non-null    float64\n",
      " 23  worst area               398 non-null    float64\n",
      " 24  worst smoothness         398 non-null    float64\n",
      " 25  worst compactness        398 non-null    float64\n",
      " 26  worst concavity          398 non-null    float64\n",
      " 27  worst concave points     398 non-null    float64\n",
      " 28  worst symmetry           398 non-null    float64\n",
      " 29  worst fractal dimension  398 non-null    float64\n",
      "dtypes: float64(30)\n",
      "memory usage: 96.4 KB\n"
     ]
    },
    {
     "data": {
      "text/plain": [
       "None"
      ]
     },
     "metadata": {},
     "output_type": "display_data"
    },
    {
     "name": "stdout",
     "output_type": "stream",
     "text": [
      "<class 'pandas.core.frame.DataFrame'>\n",
      "Index: 171 entries, 204 to 247\n",
      "Data columns (total 30 columns):\n",
      " #   Column                   Non-Null Count  Dtype  \n",
      "---  ------                   --------------  -----  \n",
      " 0   mean radius              171 non-null    float64\n",
      " 1   mean texture             171 non-null    float64\n",
      " 2   mean perimeter           171 non-null    float64\n",
      " 3   mean area                171 non-null    float64\n",
      " 4   mean smoothness          171 non-null    float64\n",
      " 5   mean compactness         171 non-null    float64\n",
      " 6   mean concavity           171 non-null    float64\n",
      " 7   mean concave points      171 non-null    float64\n",
      " 8   mean symmetry            171 non-null    float64\n",
      " 9   mean fractal dimension   171 non-null    float64\n",
      " 10  radius error             171 non-null    float64\n",
      " 11  texture error            171 non-null    float64\n",
      " 12  perimeter error          171 non-null    float64\n",
      " 13  area error               171 non-null    float64\n",
      " 14  smoothness error         171 non-null    float64\n",
      " 15  compactness error        171 non-null    float64\n",
      " 16  concavity error          171 non-null    float64\n",
      " 17  concave points error     171 non-null    float64\n",
      " 18  symmetry error           171 non-null    float64\n",
      " 19  fractal dimension error  171 non-null    float64\n",
      " 20  worst radius             171 non-null    float64\n",
      " 21  worst texture            171 non-null    float64\n",
      " 22  worst perimeter          171 non-null    float64\n",
      " 23  worst area               171 non-null    float64\n",
      " 24  worst smoothness         171 non-null    float64\n",
      " 25  worst compactness        171 non-null    float64\n",
      " 26  worst concavity          171 non-null    float64\n",
      " 27  worst concave points     171 non-null    float64\n",
      " 28  worst symmetry           171 non-null    float64\n",
      " 29  worst fractal dimension  171 non-null    float64\n",
      "dtypes: float64(30)\n",
      "memory usage: 41.4 KB\n"
     ]
    },
    {
     "data": {
      "text/plain": [
       "None"
      ]
     },
     "metadata": {},
     "output_type": "display_data"
    }
   ],
   "source": [
    "# 결측치 확인\n",
    "display(train_X.info())\n",
    "display(test_X.info())"
   ]
  },
  {
   "cell_type": "code",
   "execution_count": 94,
   "id": "83e4674b",
   "metadata": {},
   "outputs": [
    {
     "name": "stdout",
     "output_type": "stream",
     "text": [
      "(278, 30) (120,)\n"
     ]
    }
   ],
   "source": [
    "# 데이터 분할 (훈련 데이터 일부 검증 데이터로)\n",
    "from sklearn.model_selection import train_test_split\n",
    "\n",
    "train_X, valid_X, train_y, valid_y = train_test_split(train_X, train_y, test_size= 0.3, random_state = 1)\n",
    "print(train_X.shape, valid_y.shape)"
   ]
  },
  {
   "cell_type": "code",
   "execution_count": 97,
   "id": "0eeea2a4",
   "metadata": {},
   "outputs": [
    {
     "name": "stderr",
     "output_type": "stream",
     "text": [
      "/opt/homebrew/Caskroom/miniforge/base/envs/tf/lib/python3.8/site-packages/sklearn/preprocessing/_encoders.py:975: FutureWarning: `sparse` was renamed to `sparse_output` in version 1.2 and will be removed in 1.4. `sparse_output` is ignored unless you leave `sparse` to its default value.\n",
      "  warnings.warn(\n"
     ]
    }
   ],
   "source": [
    "# 데이터 전처리\n",
    "\n",
    "cat_columns = train_X.select_dtypes('object').columns.to_list()\n",
    "num_columns = train_X.select_dtypes('number').columns.to_list()\n",
    "\n",
    "# 원 핫 인코딩\n",
    "from sklearn.preprocessing import OneHotEncoder\n",
    "onehotencoder = OneHotEncoder(sparse = False, handle_unknown= 'ignore')\n",
    "\n",
    "# 전처리\n",
    "\n",
    "# 범주형\n",
    "train_X_categorical_encoded = onehotencoder.fit_transform(train_X[cat_columns])\n",
    "valid_X_categorical_encoded = onehotencoder.transform(valid_X[cat_columns])\n",
    "test_X_categorical_encoded = onehotencoder.transform(test_X[cat_columns])\n",
    "\n",
    "train_X_preprocessed = np.concatenate([train_X[num_columns], train_X_categorical_encoded], axis= 1)\n",
    "valid_X_preprocessed = np.concatenate([valid_X[num_columns], valid_X_categorical_encoded], axis= 1)\n",
    "test_X_preprocessed = np.concatenate([test_X[num_columns], test_X_categorical_encoded], axis= 1)"
   ]
  },
  {
   "cell_type": "code",
   "execution_count": 98,
   "id": "f98673b1",
   "metadata": {},
   "outputs": [
    {
     "data": {
      "text/html": [
       "<style>#sk-container-id-2 {color: black;}#sk-container-id-2 pre{padding: 0;}#sk-container-id-2 div.sk-toggleable {background-color: white;}#sk-container-id-2 label.sk-toggleable__label {cursor: pointer;display: block;width: 100%;margin-bottom: 0;padding: 0.3em;box-sizing: border-box;text-align: center;}#sk-container-id-2 label.sk-toggleable__label-arrow:before {content: \"▸\";float: left;margin-right: 0.25em;color: #696969;}#sk-container-id-2 label.sk-toggleable__label-arrow:hover:before {color: black;}#sk-container-id-2 div.sk-estimator:hover label.sk-toggleable__label-arrow:before {color: black;}#sk-container-id-2 div.sk-toggleable__content {max-height: 0;max-width: 0;overflow: hidden;text-align: left;background-color: #f0f8ff;}#sk-container-id-2 div.sk-toggleable__content pre {margin: 0.2em;color: black;border-radius: 0.25em;background-color: #f0f8ff;}#sk-container-id-2 input.sk-toggleable__control:checked~div.sk-toggleable__content {max-height: 200px;max-width: 100%;overflow: auto;}#sk-container-id-2 input.sk-toggleable__control:checked~label.sk-toggleable__label-arrow:before {content: \"▾\";}#sk-container-id-2 div.sk-estimator input.sk-toggleable__control:checked~label.sk-toggleable__label {background-color: #d4ebff;}#sk-container-id-2 div.sk-label input.sk-toggleable__control:checked~label.sk-toggleable__label {background-color: #d4ebff;}#sk-container-id-2 input.sk-hidden--visually {border: 0;clip: rect(1px 1px 1px 1px);clip: rect(1px, 1px, 1px, 1px);height: 1px;margin: -1px;overflow: hidden;padding: 0;position: absolute;width: 1px;}#sk-container-id-2 div.sk-estimator {font-family: monospace;background-color: #f0f8ff;border: 1px dotted black;border-radius: 0.25em;box-sizing: border-box;margin-bottom: 0.5em;}#sk-container-id-2 div.sk-estimator:hover {background-color: #d4ebff;}#sk-container-id-2 div.sk-parallel-item::after {content: \"\";width: 100%;border-bottom: 1px solid gray;flex-grow: 1;}#sk-container-id-2 div.sk-label:hover label.sk-toggleable__label {background-color: #d4ebff;}#sk-container-id-2 div.sk-serial::before {content: \"\";position: absolute;border-left: 1px solid gray;box-sizing: border-box;top: 0;bottom: 0;left: 50%;z-index: 0;}#sk-container-id-2 div.sk-serial {display: flex;flex-direction: column;align-items: center;background-color: white;padding-right: 0.2em;padding-left: 0.2em;position: relative;}#sk-container-id-2 div.sk-item {position: relative;z-index: 1;}#sk-container-id-2 div.sk-parallel {display: flex;align-items: stretch;justify-content: center;background-color: white;position: relative;}#sk-container-id-2 div.sk-item::before, #sk-container-id-2 div.sk-parallel-item::before {content: \"\";position: absolute;border-left: 1px solid gray;box-sizing: border-box;top: 0;bottom: 0;left: 50%;z-index: -1;}#sk-container-id-2 div.sk-parallel-item {display: flex;flex-direction: column;z-index: 1;position: relative;background-color: white;}#sk-container-id-2 div.sk-parallel-item:first-child::after {align-self: flex-end;width: 50%;}#sk-container-id-2 div.sk-parallel-item:last-child::after {align-self: flex-start;width: 50%;}#sk-container-id-2 div.sk-parallel-item:only-child::after {width: 0;}#sk-container-id-2 div.sk-dashed-wrapped {border: 1px dashed gray;margin: 0 0.4em 0.5em 0.4em;box-sizing: border-box;padding-bottom: 0.4em;background-color: white;}#sk-container-id-2 div.sk-label label {font-family: monospace;font-weight: bold;display: inline-block;line-height: 1.2em;}#sk-container-id-2 div.sk-label-container {text-align: center;}#sk-container-id-2 div.sk-container {/* jupyter's `normalize.less` sets `[hidden] { display: none; }` but bootstrap.min.css set `[hidden] { display: none !important; }` so we also need the `!important` here to be able to override the default hidden behavior on the sphinx rendered scikit-learn.org. See: https://github.com/scikit-learn/scikit-learn/issues/21755 */display: inline-block !important;position: relative;}#sk-container-id-2 div.sk-text-repr-fallback {display: none;}</style><div id=\"sk-container-id-2\" class=\"sk-top-container\"><div class=\"sk-text-repr-fallback\"><pre>RandomForestClassifier(random_state=1)</pre><b>In a Jupyter environment, please rerun this cell to show the HTML representation or trust the notebook. <br />On GitHub, the HTML representation is unable to render, please try loading this page with nbviewer.org.</b></div><div class=\"sk-container\" hidden><div class=\"sk-item\"><div class=\"sk-estimator sk-toggleable\"><input class=\"sk-toggleable__control sk-hidden--visually\" id=\"sk-estimator-id-2\" type=\"checkbox\" checked><label for=\"sk-estimator-id-2\" class=\"sk-toggleable__label sk-toggleable__label-arrow\">RandomForestClassifier</label><div class=\"sk-toggleable__content\"><pre>RandomForestClassifier(random_state=1)</pre></div></div></div></div></div>"
      ],
      "text/plain": [
       "RandomForestClassifier(random_state=1)"
      ]
     },
     "execution_count": 98,
     "metadata": {},
     "output_type": "execute_result"
    }
   ],
   "source": [
    "# 모델 적합\n",
    "\n",
    "from sklearn.ensemble import RandomForestClassifier\n",
    "rf = RandomForestClassifier(random_state = 1)\n",
    "rf.fit(train_X_preprocessed, train_y)"
   ]
  },
  {
   "cell_type": "code",
   "execution_count": 99,
   "id": "5d5e4d71",
   "metadata": {},
   "outputs": [
    {
     "name": "stderr",
     "output_type": "stream",
     "text": [
      "/opt/homebrew/Caskroom/miniforge/base/envs/tf/lib/python3.8/site-packages/sklearn/base.py:458: UserWarning: X has feature names, but RandomForestClassifier was fitted without feature names\n",
      "  warnings.warn(\n"
     ]
    },
    {
     "data": {
      "text/plain": [
       "0.9475371611774992"
      ]
     },
     "execution_count": 99,
     "metadata": {},
     "output_type": "execute_result"
    }
   ],
   "source": [
    "from sklearn.metrics import f1_score\n",
    "\n",
    "pred_val = rf.predict(valid_X)\n",
    "f1_score(valid_y, pred_val, average='macro')"
   ]
  },
  {
   "cell_type": "code",
   "execution_count": 100,
   "id": "7864661b",
   "metadata": {},
   "outputs": [],
   "source": [
    "# 테스트 데이터로 예측\n",
    "test_pred = rf.predict(test_X_preprocessed)\n",
    "test_pred = pd.DataFrame(test_pred, columns=['pred'])"
   ]
  },
  {
   "cell_type": "code",
   "execution_count": 101,
   "id": "842b5311",
   "metadata": {},
   "outputs": [],
   "source": [
    "test_pred.to_csv('result.csv', index=False)"
   ]
  },
  {
   "cell_type": "code",
   "execution_count": null,
   "id": "58e884c1",
   "metadata": {},
   "outputs": [],
   "source": [
    "# k-fold를 위해 원 데이터 복구\n",
    "\n",
    "train_X_full = np.concatenate([train_X_preprocessed, valid_X_preprocessed], axis=0)\n",
    "train_y_full = np.concatenate([train_y, valid_y], axis=0)"
   ]
  },
  {
   "cell_type": "code",
   "execution_count": 107,
   "id": "8261e464",
   "metadata": {},
   "outputs": [
    {
     "name": "stdout",
     "output_type": "stream",
     "text": [
      "0.9460649058820315\n"
     ]
    }
   ],
   "source": [
    "from sklearn.model_selection import GridSearchCV\n",
    "\n",
    "param_grid = {'max_depth': [10, 20, 30],\n",
    "'min_samples_split': [2, 5, 10]}\n",
    "\n",
    "rf = RandomForestClassifier(random_state=1)\n",
    "rf_search = GridSearchCV(estimator=rf,\n",
    "param_grid = param_grid,\n",
    "cv=3,\n",
    "scoring='f1_macro')\n",
    "\n",
    "rf_search.fit(train_X_full, train_y_full)\n",
    "\n",
    "print(rf_search.best_score_)"
   ]
  },
  {
   "cell_type": "code",
   "execution_count": 109,
   "id": "65e17d3c",
   "metadata": {},
   "outputs": [],
   "source": [
    "# 테스트 데이터 활용 최종 예측\n",
    "test_pred2 = rf_search.predict(test_X_preprocessed)\n",
    "test_pred2 = pd.DataFrame(test_pred2, columns=['pred'])\n",
    "\n",
    "test_pred.to_csv('result.csv', index=False)"
   ]
  },
  {
   "cell_type": "markdown",
   "id": "23acf647",
   "metadata": {},
   "source": [
    "------------------------------------------------------------------------------------------------------------------------------------------------------------------------------------------------------------"
   ]
  },
  {
   "cell_type": "markdown",
   "id": "69050856",
   "metadata": {},
   "source": [
    "#### 독립 표본 t 검정"
   ]
  },
  {
   "cell_type": "code",
   "execution_count": 111,
   "id": "f519d425",
   "metadata": {},
   "outputs": [
    {
     "name": "stdout",
     "output_type": "stream",
     "text": [
      "    score  gender\n",
      "0    9.76  female\n",
      "1   11.10  female\n",
      "2   10.70  female\n",
      "3   10.72  female\n",
      "4   11.80  female\n",
      "5    6.15  female\n",
      "6   10.52  female\n",
      "7   14.83    male\n",
      "8   13.03    male\n",
      "9   16.46    male\n",
      "10  10.84    male\n",
      "11  12.45    male\n"
     ]
    }
   ],
   "source": [
    "# 샘플 데이터\n",
    "\n",
    "import pandas as pd\n",
    "\n",
    "sample = [9.76, 11.1, 10.7, 10.72, 11.8, 6.15, 10.52, 14.83, 13.03, 16.46, 10.84, 12.45]\n",
    "gender = ['female'] * 7 + ['male'] * 5\n",
    "\n",
    "my_tab2 = pd.DataFrame({\"score\": sample, \"gender\": gender})\n",
    "print(my_tab2)"
   ]
  },
  {
   "cell_type": "code",
   "execution_count": null,
   "id": "2bbf8f7b",
   "metadata": {},
   "outputs": [
    {
     "name": "stdout",
     "output_type": "stream",
     "text": [
      "2.9360367510416165\n",
      "0.01488614765791557\n"
     ]
    }
   ],
   "source": [
    "from scipy.stats import ttest_ind\n",
    "\n",
    "male = my_tab2[my_tab2['gender']=='male']\n",
    "female = my_tab2[my_tab2['gender'] =='female']\n",
    "\n",
    "# 단측 검정\n",
    "t_statistic, p_value = ttest_ind(male['score'], female['score'], equal_var=True, alternative='greater') # 대립가설: 첫번째 집단이 두번째 집단보다 높다 / equal_var: 두 분산이 같다고 가정\n",
    "\n",
    "print(t_statistic)\n",
    "print(p_value)\n"
   ]
  },
  {
   "cell_type": "markdown",
   "id": "2dd995de",
   "metadata": {},
   "source": [
    "#### 대응 표본 t-검정"
   ]
  },
  {
   "cell_type": "code",
   "execution_count": 117,
   "id": "16cfb15d",
   "metadata": {},
   "outputs": [
    {
     "name": "stdout",
     "output_type": "stream",
     "text": [
      "2.5811614301011883\n",
      "0.02468128345546598\n"
     ]
    }
   ],
   "source": [
    "import numpy as np\n",
    "before = np.array([9.76, 11.1, 10.7, 10.72, 11.8, 6.15])\n",
    "after = np.array([10.52, 14.83, 13.03, 16.46, 10.84, 12.45])\n",
    "\n",
    "from scipy.stats import ttest_rel\n",
    "\n",
    "# 단측 검정\n",
    "\n",
    "t_statistic, p_value = ttest_rel(after, before, alternative = 'greater')\n",
    "print(t_statistic)\n",
    "print(p_value)"
   ]
  },
  {
   "cell_type": "markdown",
   "id": "14c4238c",
   "metadata": {},
   "source": [
    "--------------------------------------------------------------------------------------------------------------------------------------------"
   ]
  },
  {
   "cell_type": "markdown",
   "id": "57eb6e76",
   "metadata": {},
   "source": [
    "#### 회귀 분석"
   ]
  },
  {
   "cell_type": "code",
   "execution_count": 121,
   "id": "8d36847b",
   "metadata": {},
   "outputs": [],
   "source": [
    "import numpy as np\n",
    "import pandas as pd\n",
    "from sklearn.datasets import load_iris\n",
    "\n",
    "# iris 데이터 로드\n",
    "df_iris = load_iris()\n",
    "\n",
    "iris = pd.DataFrame(data=df_iris.data, columns = df_iris.feature_names)\n",
    "iris.columns = ['Sepal_Length', 'Sepal_Width', 'Petal_Length', 'Petal_Width']\n",
    "\n",
    "iris['species'] = df_iris.target\n",
    "\n",
    "iris['species'] = iris['species'].map({0: 'setosa', 1: 'versicolor', 2: 'virginica'})"
   ]
  },
  {
   "cell_type": "code",
   "execution_count": 123,
   "id": "ec8f5b51",
   "metadata": {},
   "outputs": [
    {
     "name": "stdout",
     "output_type": "stream",
     "text": [
      "                            OLS Regression Results                            \n",
      "==============================================================================\n",
      "Dep. Variable:           Petal_Length   R-squared:                       0.949\n",
      "Model:                            OLS   Adj. R-squared:                  0.948\n",
      "Method:                 Least Squares   F-statistic:                     1354.\n",
      "Date:                Fri, 20 Jun 2025   Prob (F-statistic):           2.01e-95\n",
      "Time:                        19:21:42   Log-Likelihood:                -75.090\n",
      "No. Observations:                 150   AIC:                             156.2\n",
      "Df Residuals:                     147   BIC:                             165.2\n",
      "Df Model:                           2                                         \n",
      "Covariance Type:            nonrobust                                         \n",
      "================================================================================\n",
      "                   coef    std err          t      P>|t|      [0.025      0.975]\n",
      "--------------------------------------------------------------------------------\n",
      "Intercept       -1.5071      0.337     -4.473      0.000      -2.173      -0.841\n",
      "Petal_Width      1.7481      0.075     23.205      0.000       1.599       1.897\n",
      "Sepal_Length     0.5423      0.069      7.820      0.000       0.405       0.679\n",
      "==============================================================================\n",
      "Omnibus:                        1.243   Durbin-Watson:                   1.339\n",
      "Prob(Omnibus):                  0.537   Jarque-Bera (JB):                0.840\n",
      "Skew:                          -0.058   Prob(JB):                        0.657\n",
      "Kurtosis:                       3.348   Cond. No.                         64.7\n",
      "==============================================================================\n",
      "\n",
      "Notes:\n",
      "[1] Standard Errors assume that the covariance matrix of the errors is correctly specified.\n"
     ]
    }
   ],
   "source": [
    "# formula api\n",
    "\n",
    "import statsmodels.api as sm\n",
    "import statsmodels.formula.api as smf\n",
    "\n",
    "model = smf.ols(\"Petal_Length ~ Petal_Width + Sepal_Length\", data=iris).fit()\n",
    "print(model.summary())"
   ]
  },
  {
   "cell_type": "code",
   "execution_count": 125,
   "id": "baee2a3a",
   "metadata": {},
   "outputs": [
    {
     "data": {
      "text/html": [
       "<table class=\"simpletable\">\n",
       "<caption>OLS Regression Results</caption>\n",
       "<tr>\n",
       "  <th>Dep. Variable:</th>      <td>Petal_Length</td>   <th>  R-squared:         </th> <td>   0.978</td> \n",
       "</tr>\n",
       "<tr>\n",
       "  <th>Model:</th>                   <td>OLS</td>       <th>  Adj. R-squared:    </th> <td>   0.977</td> \n",
       "</tr>\n",
       "<tr>\n",
       "  <th>Method:</th>             <td>Least Squares</td>  <th>  F-statistic:       </th> <td>   1600.</td> \n",
       "</tr>\n",
       "<tr>\n",
       "  <th>Date:</th>             <td>Fri, 20 Jun 2025</td> <th>  Prob (F-statistic):</th> <td>8.06e-119</td>\n",
       "</tr>\n",
       "<tr>\n",
       "  <th>Time:</th>                 <td>19:25:11</td>     <th>  Log-Likelihood:    </th> <td> -11.867</td> \n",
       "</tr>\n",
       "<tr>\n",
       "  <th>No. Observations:</th>      <td>   150</td>      <th>  AIC:               </th> <td>   33.73</td> \n",
       "</tr>\n",
       "<tr>\n",
       "  <th>Df Residuals:</th>          <td>   145</td>      <th>  BIC:               </th> <td>   48.79</td> \n",
       "</tr>\n",
       "<tr>\n",
       "  <th>Df Model:</th>              <td>     4</td>      <th>                     </th>     <td> </td>    \n",
       "</tr>\n",
       "<tr>\n",
       "  <th>Covariance Type:</th>      <td>nonrobust</td>    <th>                     </th>     <td> </td>    \n",
       "</tr>\n",
       "</table>\n",
       "<table class=\"simpletable\">\n",
       "<tr>\n",
       "              <td></td>                <th>coef</th>     <th>std err</th>      <th>t</th>      <th>P>|t|</th>  <th>[0.025</th>    <th>0.975]</th>  \n",
       "</tr>\n",
       "<tr>\n",
       "  <th>Intercept</th>                <td>   -1.4596</td> <td>    0.224</td> <td>   -6.520</td> <td> 0.000</td> <td>   -1.902</td> <td>   -1.017</td>\n",
       "</tr>\n",
       "<tr>\n",
       "  <th>C(species)[T.versicolor]</th> <td>    1.7315</td> <td>    0.128</td> <td>   13.567</td> <td> 0.000</td> <td>    1.479</td> <td>    1.984</td>\n",
       "</tr>\n",
       "<tr>\n",
       "  <th>C(species)[T.virginica]</th>  <td>    2.3047</td> <td>    0.198</td> <td>   11.617</td> <td> 0.000</td> <td>    1.913</td> <td>    2.697</td>\n",
       "</tr>\n",
       "<tr>\n",
       "  <th>Petal_Width</th>              <td>    0.5064</td> <td>    0.115</td> <td>    4.393</td> <td> 0.000</td> <td>    0.279</td> <td>    0.734</td>\n",
       "</tr>\n",
       "<tr>\n",
       "  <th>Sepal_Length</th>             <td>    0.5587</td> <td>    0.046</td> <td>   12.191</td> <td> 0.000</td> <td>    0.468</td> <td>    0.649</td>\n",
       "</tr>\n",
       "</table>\n",
       "<table class=\"simpletable\">\n",
       "<tr>\n",
       "  <th>Omnibus:</th>       <td> 1.189</td> <th>  Durbin-Watson:     </th> <td>   1.620</td>\n",
       "</tr>\n",
       "<tr>\n",
       "  <th>Prob(Omnibus):</th> <td> 0.552</td> <th>  Jarque-Bera (JB):  </th> <td>   0.786</td>\n",
       "</tr>\n",
       "<tr>\n",
       "  <th>Skew:</th>          <td>-0.059</td> <th>  Prob(JB):          </th> <td>   0.675</td>\n",
       "</tr>\n",
       "<tr>\n",
       "  <th>Kurtosis:</th>      <td> 3.335</td> <th>  Cond. No.          </th> <td>    72.1</td>\n",
       "</tr>\n",
       "</table><br/><br/>Notes:<br/>[1] Standard Errors assume that the covariance matrix of the errors is correctly specified."
      ],
      "text/latex": [
       "\\begin{center}\n",
       "\\begin{tabular}{lclc}\n",
       "\\toprule\n",
       "\\textbf{Dep. Variable:}           &  Petal\\_Length   & \\textbf{  R-squared:         } &     0.978   \\\\\n",
       "\\textbf{Model:}                   &       OLS        & \\textbf{  Adj. R-squared:    } &     0.977   \\\\\n",
       "\\textbf{Method:}                  &  Least Squares   & \\textbf{  F-statistic:       } &     1600.   \\\\\n",
       "\\textbf{Date:}                    & Fri, 20 Jun 2025 & \\textbf{  Prob (F-statistic):} & 8.06e-119   \\\\\n",
       "\\textbf{Time:}                    &     19:25:11     & \\textbf{  Log-Likelihood:    } &   -11.867   \\\\\n",
       "\\textbf{No. Observations:}        &         150      & \\textbf{  AIC:               } &     33.73   \\\\\n",
       "\\textbf{Df Residuals:}            &         145      & \\textbf{  BIC:               } &     48.79   \\\\\n",
       "\\textbf{Df Model:}                &           4      & \\textbf{                     } &             \\\\\n",
       "\\textbf{Covariance Type:}         &    nonrobust     & \\textbf{                     } &             \\\\\n",
       "\\bottomrule\n",
       "\\end{tabular}\n",
       "\\begin{tabular}{lcccccc}\n",
       "                                  & \\textbf{coef} & \\textbf{std err} & \\textbf{t} & \\textbf{P$> |$t$|$} & \\textbf{[0.025} & \\textbf{0.975]}  \\\\\n",
       "\\midrule\n",
       "\\textbf{Intercept}                &      -1.4596  &        0.224     &    -6.520  &         0.000        &       -1.902    &       -1.017     \\\\\n",
       "\\textbf{C(species)[T.versicolor]} &       1.7315  &        0.128     &    13.567  &         0.000        &        1.479    &        1.984     \\\\\n",
       "\\textbf{C(species)[T.virginica]}  &       2.3047  &        0.198     &    11.617  &         0.000        &        1.913    &        2.697     \\\\\n",
       "\\textbf{Petal\\_Width}             &       0.5064  &        0.115     &     4.393  &         0.000        &        0.279    &        0.734     \\\\\n",
       "\\textbf{Sepal\\_Length}            &       0.5587  &        0.046     &    12.191  &         0.000        &        0.468    &        0.649     \\\\\n",
       "\\bottomrule\n",
       "\\end{tabular}\n",
       "\\begin{tabular}{lclc}\n",
       "\\textbf{Omnibus:}       &  1.189 & \\textbf{  Durbin-Watson:     } &    1.620  \\\\\n",
       "\\textbf{Prob(Omnibus):} &  0.552 & \\textbf{  Jarque-Bera (JB):  } &    0.786  \\\\\n",
       "\\textbf{Skew:}          & -0.059 & \\textbf{  Prob(JB):          } &    0.675  \\\\\n",
       "\\textbf{Kurtosis:}      &  3.335 & \\textbf{  Cond. No.          } &     72.1  \\\\\n",
       "\\bottomrule\n",
       "\\end{tabular}\n",
       "%\\caption{OLS Regression Results}\n",
       "\\end{center}\n",
       "\n",
       "Notes: \\newline\n",
       " [1] Standard Errors assume that the covariance matrix of the errors is correctly specified."
      ],
      "text/plain": [
       "<class 'statsmodels.iolib.summary.Summary'>\n",
       "\"\"\"\n",
       "                            OLS Regression Results                            \n",
       "==============================================================================\n",
       "Dep. Variable:           Petal_Length   R-squared:                       0.978\n",
       "Model:                            OLS   Adj. R-squared:                  0.977\n",
       "Method:                 Least Squares   F-statistic:                     1600.\n",
       "Date:                Fri, 20 Jun 2025   Prob (F-statistic):          8.06e-119\n",
       "Time:                        19:25:11   Log-Likelihood:                -11.867\n",
       "No. Observations:                 150   AIC:                             33.73\n",
       "Df Residuals:                     145   BIC:                             48.79\n",
       "Df Model:                           4                                         \n",
       "Covariance Type:            nonrobust                                         \n",
       "============================================================================================\n",
       "                               coef    std err          t      P>|t|      [0.025      0.975]\n",
       "--------------------------------------------------------------------------------------------\n",
       "Intercept                   -1.4596      0.224     -6.520      0.000      -1.902      -1.017\n",
       "C(species)[T.versicolor]     1.7315      0.128     13.567      0.000       1.479       1.984\n",
       "C(species)[T.virginica]      2.3047      0.198     11.617      0.000       1.913       2.697\n",
       "Petal_Width                  0.5064      0.115      4.393      0.000       0.279       0.734\n",
       "Sepal_Length                 0.5587      0.046     12.191      0.000       0.468       0.649\n",
       "==============================================================================\n",
       "Omnibus:                        1.189   Durbin-Watson:                   1.620\n",
       "Prob(Omnibus):                  0.552   Jarque-Bera (JB):                0.786\n",
       "Skew:                          -0.059   Prob(JB):                        0.675\n",
       "Kurtosis:                       3.335   Cond. No.                         72.1\n",
       "==============================================================================\n",
       "\n",
       "Notes:\n",
       "[1] Standard Errors assume that the covariance matrix of the errors is correctly specified.\n",
       "\"\"\""
      ]
     },
     "execution_count": 125,
     "metadata": {},
     "output_type": "execute_result"
    }
   ],
   "source": [
    "# 독립변수에 범주형이 잇는 경우\n",
    "\n",
    "import statsmodels.formula.api as smf\n",
    "\n",
    "model = smf.ols(\"Petal_Length ~ Petal_Width + Sepal_Length + C(species)\", data=iris).fit()\n",
    "model.summary()"
   ]
  },
  {
   "cell_type": "code",
   "execution_count": null,
   "id": "88279928",
   "metadata": {},
   "outputs": [],
   "source": []
  },
  {
   "cell_type": "code",
   "execution_count": 126,
   "id": "51ba5a35",
   "metadata": {},
   "outputs": [
    {
     "data": {
      "text/html": [
       "<div>\n",
       "<style scoped>\n",
       "    .dataframe tbody tr th:only-of-type {\n",
       "        vertical-align: middle;\n",
       "    }\n",
       "\n",
       "    .dataframe tbody tr th {\n",
       "        vertical-align: top;\n",
       "    }\n",
       "\n",
       "    .dataframe thead th {\n",
       "        text-align: right;\n",
       "    }\n",
       "</style>\n",
       "<table border=\"1\" class=\"dataframe\">\n",
       "  <thead>\n",
       "    <tr style=\"text-align: right;\">\n",
       "      <th></th>\n",
       "      <th>var1</th>\n",
       "      <th>var2</th>\n",
       "      <th>var3</th>\n",
       "      <th>var4</th>\n",
       "      <th>var5</th>\n",
       "      <th>target</th>\n",
       "    </tr>\n",
       "  </thead>\n",
       "  <tbody>\n",
       "    <tr>\n",
       "      <th>0</th>\n",
       "      <td>0.496714</td>\n",
       "      <td>-0.138264</td>\n",
       "      <td>0.647689</td>\n",
       "      <td>1.523030</td>\n",
       "      <td>-0.234153</td>\n",
       "      <td>2.787480</td>\n",
       "    </tr>\n",
       "    <tr>\n",
       "      <th>1</th>\n",
       "      <td>-0.234137</td>\n",
       "      <td>1.579213</td>\n",
       "      <td>0.767435</td>\n",
       "      <td>-0.469474</td>\n",
       "      <td>0.542560</td>\n",
       "      <td>5.132866</td>\n",
       "    </tr>\n",
       "    <tr>\n",
       "      <th>2</th>\n",
       "      <td>-0.463418</td>\n",
       "      <td>-0.465730</td>\n",
       "      <td>0.241962</td>\n",
       "      <td>-1.913280</td>\n",
       "      <td>-1.724918</td>\n",
       "      <td>-3.478318</td>\n",
       "    </tr>\n",
       "    <tr>\n",
       "      <th>3</th>\n",
       "      <td>-0.562288</td>\n",
       "      <td>-1.012831</td>\n",
       "      <td>0.314247</td>\n",
       "      <td>-0.908024</td>\n",
       "      <td>-1.412304</td>\n",
       "      <td>-2.835308</td>\n",
       "    </tr>\n",
       "    <tr>\n",
       "      <th>4</th>\n",
       "      <td>1.465649</td>\n",
       "      <td>-0.225776</td>\n",
       "      <td>0.067528</td>\n",
       "      <td>-1.424748</td>\n",
       "      <td>-0.544383</td>\n",
       "      <td>3.362279</td>\n",
       "    </tr>\n",
       "  </tbody>\n",
       "</table>\n",
       "</div>"
      ],
      "text/plain": [
       "       var1      var2      var3      var4      var5    target\n",
       "0  0.496714 -0.138264  0.647689  1.523030 -0.234153  2.787480\n",
       "1 -0.234137  1.579213  0.767435 -0.469474  0.542560  5.132866\n",
       "2 -0.463418 -0.465730  0.241962 -1.913280 -1.724918 -3.478318\n",
       "3 -0.562288 -1.012831  0.314247 -0.908024 -1.412304 -2.835308\n",
       "4  1.465649 -0.225776  0.067528 -1.424748 -0.544383  3.362279"
      ]
     },
     "execution_count": 126,
     "metadata": {},
     "output_type": "execute_result"
    }
   ],
   "source": [
    "import pandas as pd\n",
    "import numpy as np\n",
    "\n",
    "# 예제 데이터\n",
    "\n",
    "np.random.seed(42)\n",
    "n_samples = 100\n",
    "X = np.random.randn(n_samples, 5)\n",
    "y = 3 * X[:, 0] + 2 * X[:, 1] + X[:, 2] + np.random.randn(n_samples)\n",
    "df = pd.DataFrame(X, columns=['var1', 'var2', 'var3', 'var4', 'var5'])\n",
    "df['target'] = y\n",
    "\n",
    "df.head()"
   ]
  },
  {
   "cell_type": "code",
   "execution_count": null,
   "id": "57c1a508",
   "metadata": {},
   "outputs": [
    {
     "data": {
      "text/html": [
       "<div>\n",
       "<style scoped>\n",
       "    .dataframe tbody tr th:only-of-type {\n",
       "        vertical-align: middle;\n",
       "    }\n",
       "\n",
       "    .dataframe tbody tr th {\n",
       "        vertical-align: top;\n",
       "    }\n",
       "\n",
       "    .dataframe thead th {\n",
       "        text-align: right;\n",
       "    }\n",
       "</style>\n",
       "<table border=\"1\" class=\"dataframe\">\n",
       "  <thead>\n",
       "    <tr style=\"text-align: right;\">\n",
       "      <th></th>\n",
       "      <th>var1</th>\n",
       "      <th>var2</th>\n",
       "      <th>var3</th>\n",
       "      <th>var4</th>\n",
       "      <th>var5</th>\n",
       "      <th>target</th>\n",
       "    </tr>\n",
       "  </thead>\n",
       "  <tbody>\n",
       "    <tr>\n",
       "      <th>var1</th>\n",
       "      <td>1.000000</td>\n",
       "      <td>-0.163433</td>\n",
       "      <td>0.044866</td>\n",
       "      <td>-0.101832</td>\n",
       "      <td>-0.126184</td>\n",
       "      <td>0.687853</td>\n",
       "    </tr>\n",
       "    <tr>\n",
       "      <th>var2</th>\n",
       "      <td>-0.163433</td>\n",
       "      <td>1.000000</td>\n",
       "      <td>0.122764</td>\n",
       "      <td>0.038215</td>\n",
       "      <td>0.057155</td>\n",
       "      <td>0.501672</td>\n",
       "    </tr>\n",
       "    <tr>\n",
       "      <th>var3</th>\n",
       "      <td>0.044866</td>\n",
       "      <td>0.122764</td>\n",
       "      <td>1.000000</td>\n",
       "      <td>0.008525</td>\n",
       "      <td>0.042819</td>\n",
       "      <td>0.380061</td>\n",
       "    </tr>\n",
       "    <tr>\n",
       "      <th>var4</th>\n",
       "      <td>-0.101832</td>\n",
       "      <td>0.038215</td>\n",
       "      <td>0.008525</td>\n",
       "      <td>1.000000</td>\n",
       "      <td>0.018358</td>\n",
       "      <td>-0.010566</td>\n",
       "    </tr>\n",
       "    <tr>\n",
       "      <th>var5</th>\n",
       "      <td>-0.126184</td>\n",
       "      <td>0.057155</td>\n",
       "      <td>0.042819</td>\n",
       "      <td>0.018358</td>\n",
       "      <td>1.000000</td>\n",
       "      <td>-0.053834</td>\n",
       "    </tr>\n",
       "    <tr>\n",
       "      <th>target</th>\n",
       "      <td>0.687853</td>\n",
       "      <td>0.501672</td>\n",
       "      <td>0.380061</td>\n",
       "      <td>-0.010566</td>\n",
       "      <td>-0.053834</td>\n",
       "      <td>1.000000</td>\n",
       "    </tr>\n",
       "  </tbody>\n",
       "</table>\n",
       "</div>"
      ],
      "text/plain": [
       "            var1      var2      var3      var4      var5    target\n",
       "var1    1.000000 -0.163433  0.044866 -0.101832 -0.126184  0.687853\n",
       "var2   -0.163433  1.000000  0.122764  0.038215  0.057155  0.501672\n",
       "var3    0.044866  0.122764  1.000000  0.008525  0.042819  0.380061\n",
       "var4   -0.101832  0.038215  0.008525  1.000000  0.018358 -0.010566\n",
       "var5   -0.126184  0.057155  0.042819  0.018358  1.000000 -0.053834\n",
       "target  0.687853  0.501672  0.380061 -0.010566 -0.053834  1.000000"
      ]
     },
     "execution_count": 127,
     "metadata": {},
     "output_type": "execute_result"
    }
   ],
   "source": [
    "# 상관계수 계산\n",
    "correlation_matrix = df.corr()\n",
    "correlation_matrix"
   ]
  },
  {
   "cell_type": "code",
   "execution_count": 128,
   "id": "3e09aae0",
   "metadata": {},
   "outputs": [
    {
     "name": "stdout",
     "output_type": "stream",
     "text": [
      "var1 0.6878530699099606\n"
     ]
    }
   ],
   "source": [
    "target_corr = correlation_matrix['target'].drop('target')\n",
    "max_corr_var = target_corr.abs().idxmax()\n",
    "max_corr_value = target_corr.abs().max()\n",
    "print(max_corr_var, max_corr_value)"
   ]
  },
  {
   "cell_type": "code",
   "execution_count": 130,
   "id": "cd3a3ae7",
   "metadata": {},
   "outputs": [
    {
     "data": {
      "text/plain": [
       "0.9352421506883442"
      ]
     },
     "execution_count": 130,
     "metadata": {},
     "output_type": "execute_result"
    }
   ],
   "source": [
    "import statsmodels.formula.api as smf\n",
    "\n",
    "model = smf.ols(\"target ~ var1 + var2 + var3 + var4 + var5\", data=df).fit()\n",
    "model.rsquared"
   ]
  },
  {
   "cell_type": "code",
   "execution_count": 133,
   "id": "26fbc1fe",
   "metadata": {},
   "outputs": [
    {
     "data": {
      "text/plain": [
       "Intercept    1.238606e-01\n",
       "var1         2.082619e-48\n",
       "var2         5.193952e-39\n",
       "var3         5.334408e-17\n",
       "var4         1.020705e-01\n",
       "var5         9.342725e-01\n",
       "dtype: float64"
      ]
     },
     "execution_count": 133,
     "metadata": {},
     "output_type": "execute_result"
    }
   ],
   "source": [
    "model.pvalues"
   ]
  },
  {
   "cell_type": "markdown",
   "id": "620a01d1",
   "metadata": {},
   "source": [
    "--------------------------------------------------------------------------------------------------------------------------------------------"
   ]
  },
  {
   "cell_type": "code",
   "execution_count": 135,
   "id": "103ecec6",
   "metadata": {},
   "outputs": [
    {
     "name": "stdout",
     "output_type": "stream",
     "text": [
      "       var0      var1      var2      target\n",
      "0 -0.792521  0.504987 -0.114736   13.510026\n",
      "1  0.280992 -0.208122 -0.622700  -18.777475\n",
      "2  0.791032  1.402794 -0.909387  111.265809\n",
      "3  0.625667 -1.070892 -0.857158  -77.989347\n",
      "4 -0.342715 -0.161286 -0.802277  -35.951738\n"
     ]
    }
   ],
   "source": [
    "import pandas as pd\n",
    "import numpy as np\n",
    "from sklearn.datasets import make_regression\n",
    "import statsmodels.api as sm\n",
    "\n",
    "X,y = make_regression(n_samples = 100, n_features = 3, noise = 0.1, random_state = 42)\n",
    "df = pd.DataFrame(X, columns = [f'var{i}' for i in range(3)])\n",
    "df['target'] = y\n",
    "\n",
    "print(df.head())\n"
   ]
  },
  {
   "cell_type": "code",
   "execution_count": 148,
   "id": "fa85826c",
   "metadata": {},
   "outputs": [
    {
     "name": "stdout",
     "output_type": "stream",
     "text": [
      "                            OLS Regression Results                            \n",
      "==============================================================================\n",
      "Dep. Variable:                 target   R-squared:                       1.000\n",
      "Model:                            OLS   Adj. R-squared:                  1.000\n",
      "Method:                 Least Squares   F-statistic:                 2.229e+07\n",
      "Date:                Fri, 20 Jun 2025   Prob (F-statistic):          2.74e-280\n",
      "Time:                        19:42:06   Log-Likelihood:                 88.956\n",
      "No. Observations:                 100   AIC:                            -169.9\n",
      "Df Residuals:                      96   BIC:                            -159.5\n",
      "Df Model:                           3                                         \n",
      "Covariance Type:            nonrobust                                         \n",
      "==============================================================================\n",
      "                 coef    std err          t      P>|t|      [0.025      0.975]\n",
      "------------------------------------------------------------------------------\n",
      "Intercept      0.0125      0.010      1.202      0.232      -0.008       0.033\n",
      "var0          28.2046      0.012   2259.928      0.000      28.180      28.229\n",
      "var1          75.0508      0.009   8061.284      0.000      75.032      75.069\n",
      "var2          17.7545      0.011   1688.097      0.000      17.734      17.775\n",
      "==============================================================================\n",
      "Omnibus:                        1.438   Durbin-Watson:                   2.129\n",
      "Prob(Omnibus):                  0.487   Jarque-Bera (JB):                1.487\n",
      "Skew:                          -0.233   Prob(JB):                        0.475\n",
      "Kurtosis:                       2.626   Cond. No.                         1.47\n",
      "==============================================================================\n",
      "\n",
      "Notes:\n",
      "[1] Standard Errors assume that the covariance matrix of the errors is correctly specified.\n"
     ]
    }
   ],
   "source": [
    "import statsmodels.formula.api as smf\n",
    "\n",
    "model = smf.ols('target ~ var0 + var1 + var2', data=df).fit()\n",
    "\n",
    "print(model.summary())"
   ]
  },
  {
   "cell_type": "code",
   "execution_count": 156,
   "id": "2ccf8975",
   "metadata": {},
   "outputs": [
    {
     "data": {
      "text/plain": [
       "Intercept     2.323302e-01\n",
       "var0         1.162021e-228\n",
       "var1         1.106258e-281\n",
       "var2         1.689842e-216\n",
       "dtype: float64"
      ]
     },
     "execution_count": 156,
     "metadata": {},
     "output_type": "execute_result"
    }
   ],
   "source": [
    "model.pvalues"
   ]
  },
  {
   "cell_type": "code",
   "execution_count": 155,
   "id": "bc19096f",
   "metadata": {},
   "outputs": [
    {
     "data": {
      "text/plain": [
       "75.05077567876648"
      ]
     },
     "execution_count": 155,
     "metadata": {},
     "output_type": "execute_result"
    }
   ],
   "source": [
    "model.params['var1']"
   ]
  },
  {
   "cell_type": "code",
   "execution_count": 157,
   "id": "d324a4ee",
   "metadata": {},
   "outputs": [
    {
     "data": {
      "text/plain": [
       "0.9999985640975169"
      ]
     },
     "execution_count": 157,
     "metadata": {},
     "output_type": "execute_result"
    }
   ],
   "source": [
    "model.rsquared"
   ]
  },
  {
   "cell_type": "code",
   "execution_count": 161,
   "id": "b006dd80",
   "metadata": {},
   "outputs": [
    {
     "data": {
      "text/plain": [
       "0    109.50207\n",
       "dtype: float64"
      ]
     },
     "execution_count": 161,
     "metadata": {},
     "output_type": "execute_result"
    }
   ],
   "source": [
    "# 모델 predict\n",
    "\n",
    "test_data = pd.DataFrame({'var0': [0.5], 'var1':[1.2], 'var2': [0.3]})\n",
    "predict_values = model.predict(test_data)\n",
    "predict_values\n"
   ]
  },
  {
   "cell_type": "markdown",
   "id": "ab7e98f6",
   "metadata": {},
   "source": [
    "------------------------------------------------------------------------------------------------------------------------------------------------------------------------------------"
   ]
  },
  {
   "cell_type": "markdown",
   "id": "7b879c2c",
   "metadata": {},
   "source": [
    "#### 로지스틱 회귀 분석"
   ]
  },
  {
   "cell_type": "code",
   "execution_count": 162,
   "id": "47959864",
   "metadata": {},
   "outputs": [],
   "source": [
    "admission_data = pd.read_csv('https://raw.githubusercontent.com/YoungjinBD/data/main/admission.csv')\n",
    "import statsmodels.api as sm\n",
    "import statsmodels.formula.api as smf\n",
    "\n",
    "admission_data['rank'] = admission_data['rank'].astype('category')\n",
    "admission_data['gender'] = admission_data['gender'].astype('category')"
   ]
  },
  {
   "cell_type": "code",
   "execution_count": 163,
   "id": "0e4ec008",
   "metadata": {},
   "outputs": [
    {
     "name": "stdout",
     "output_type": "stream",
     "text": [
      "Optimization terminated successfully.\n",
      "         Current function value: 0.573066\n",
      "         Iterations 6\n",
      "                           Logit Regression Results                           \n",
      "==============================================================================\n",
      "Dep. Variable:                  admit   No. Observations:                  400\n",
      "Model:                          Logit   Df Residuals:                      393\n",
      "Method:                           MLE   Df Model:                            6\n",
      "Date:                Fri, 20 Jun 2025   Pseudo R-squ.:                 0.08305\n",
      "Time:                        19:55:38   Log-Likelihood:                -229.23\n",
      "converged:                       True   LL-Null:                       -249.99\n",
      "Covariance Type:            nonrobust   LLR p-value:                 2.283e-07\n",
      "===============================================================================\n",
      "                  coef    std err          z      P>|z|      [0.025      0.975]\n",
      "-------------------------------------------------------------------------------\n",
      "Intercept      -3.9536      1.149     -3.442      0.001      -6.205      -1.702\n",
      "rank[T.2]      -0.6723      0.317     -2.123      0.034      -1.293      -0.052\n",
      "rank[T.3]      -1.3422      0.345     -3.887      0.000      -2.019      -0.665\n",
      "rank[T.4]      -1.5529      0.418     -3.717      0.000      -2.372      -0.734\n",
      "gender[T.M]    -0.0578      0.228     -0.254      0.800      -0.504       0.388\n",
      "gre             0.0023      0.001      2.062      0.039       0.000       0.004\n",
      "gpa             0.8032      0.332      2.420      0.016       0.153       1.454\n",
      "===============================================================================\n"
     ]
    }
   ],
   "source": [
    "model = smf.logit(\"admit ~ gre + gpa + rank + gender\", data=admission_data).fit()\n",
    "print(model.summary())"
   ]
  },
  {
   "cell_type": "markdown",
   "id": "e746179b",
   "metadata": {},
   "source": [
    "------------------------------------------------------------------------------------"
   ]
  },
  {
   "cell_type": "code",
   "execution_count": 165,
   "id": "f1921bf1",
   "metadata": {},
   "outputs": [
    {
     "name": "stdout",
     "output_type": "stream",
     "text": [
      "     weight    height       age    income  gender\n",
      "0  0.496714 -0.138264  0.647689  1.523030       1\n",
      "1 -0.234153 -0.234137  1.579213  0.767435       0\n",
      "2 -0.469474  0.542560 -0.463418 -0.465730       0\n",
      "3  0.241962 -1.913280 -1.724918 -0.562288       0\n",
      "4 -1.012831  0.314247 -0.908024 -1.412304       0\n"
     ]
    }
   ],
   "source": [
    "import pandas as pd\n",
    "import numpy as np\n",
    "\n",
    "np.random.seed(42)\n",
    "n_samples = 210\n",
    "X = np.random.randn(n_samples, 4)\n",
    "y = (X[:, 0] + X[:, 1] * 0.5 + np.random.randn(n_samples) * 0.5 > 0).astype(int)\n",
    "df = pd.DataFrame(X, columns = ['weight', 'height', 'age', 'income'])\n",
    "df['gender'] = y\n",
    "\n",
    "print(df.head())"
   ]
  },
  {
   "cell_type": "code",
   "execution_count": 166,
   "id": "9906d3ed",
   "metadata": {},
   "outputs": [
    {
     "name": "stdout",
     "output_type": "stream",
     "text": [
      "<class 'pandas.core.frame.DataFrame'>\n",
      "RangeIndex: 210 entries, 0 to 209\n",
      "Data columns (total 5 columns):\n",
      " #   Column  Non-Null Count  Dtype  \n",
      "---  ------  --------------  -----  \n",
      " 0   weight  210 non-null    float64\n",
      " 1   height  210 non-null    float64\n",
      " 2   age     210 non-null    float64\n",
      " 3   income  210 non-null    float64\n",
      " 4   gender  210 non-null    int64  \n",
      "dtypes: float64(4), int64(1)\n",
      "memory usage: 8.3 KB\n"
     ]
    }
   ],
   "source": [
    "df.info()"
   ]
  },
  {
   "cell_type": "code",
   "execution_count": 168,
   "id": "4c1367a4",
   "metadata": {},
   "outputs": [
    {
     "name": "stdout",
     "output_type": "stream",
     "text": [
      "Optimization terminated successfully.\n",
      "         Current function value: 0.426786\n",
      "         Iterations 7\n",
      "                           Logit Regression Results                           \n",
      "==============================================================================\n",
      "Dep. Variable:                 gender   No. Observations:                  210\n",
      "Model:                          Logit   Df Residuals:                      208\n",
      "Method:                           MLE   Df Model:                            1\n",
      "Date:                Fri, 20 Jun 2025   Pseudo R-squ.:                  0.3836\n",
      "Time:                        20:03:23   Log-Likelihood:                -89.625\n",
      "converged:                       True   LL-Null:                       -145.41\n",
      "Covariance Type:            nonrobust   LLR p-value:                 4.445e-26\n",
      "==============================================================================\n",
      "                 coef    std err          z      P>|z|      [0.025      0.975]\n",
      "------------------------------------------------------------------------------\n",
      "Intercept      0.2743      0.188      1.459      0.145      -0.094       0.643\n",
      "weight         2.6078      0.361      7.229      0.000       1.901       3.315\n",
      "==============================================================================\n"
     ]
    }
   ],
   "source": [
    "import statsmodels.formula.api as smf\n",
    "\n",
    "model = smf.logit('gender ~ weight', data=df).fit()\n",
    "\n",
    "print(model.summary())"
   ]
  },
  {
   "cell_type": "code",
   "execution_count": 173,
   "id": "b31b75e8",
   "metadata": {},
   "outputs": [
    {
     "data": {
      "text/plain": [
       "13.569314589014752"
      ]
     },
     "execution_count": 173,
     "metadata": {},
     "output_type": "execute_result"
    }
   ],
   "source": [
    "np.exp(model.params['weight'])"
   ]
  },
  {
   "cell_type": "code",
   "execution_count": 176,
   "id": "b3120f24",
   "metadata": {},
   "outputs": [
    {
     "name": "stdout",
     "output_type": "stream",
     "text": [
      "Optimization terminated successfully.\n",
      "         Current function value: 0.284256\n",
      "         Iterations 8\n",
      "                           Logit Regression Results                           \n",
      "==============================================================================\n",
      "Dep. Variable:                 gender   No. Observations:                  210\n",
      "Model:                          Logit   Df Residuals:                      205\n",
      "Method:                           MLE   Df Model:                            4\n",
      "Date:                Fri, 20 Jun 2025   Pseudo R-squ.:                  0.5895\n",
      "Time:                        20:07:33   Log-Likelihood:                -59.694\n",
      "converged:                       True   LL-Null:                       -145.41\n",
      "Covariance Type:            nonrobust   LLR p-value:                 5.161e-36\n",
      "==============================================================================\n",
      "                 coef    std err          z      P>|z|      [0.025      0.975]\n",
      "------------------------------------------------------------------------------\n",
      "Intercept      0.6549      0.262      2.499      0.012       0.141       1.169\n",
      "weight         4.0574      0.578      7.021      0.000       2.925       5.190\n",
      "height         2.1131      0.372      5.677      0.000       1.384       2.843\n",
      "age            0.2838      0.220      1.287      0.198      -0.148       0.716\n",
      "income        -0.1859      0.243     -0.764      0.445      -0.662       0.291\n",
      "==============================================================================\n"
     ]
    }
   ],
   "source": [
    "import statsmodels.formula.api as smf\n",
    "\n",
    "model = smf.logit('gender ~ weight + height + age + income', data=df).fit()\n",
    "\n",
    "print(model.summary())"
   ]
  },
  {
   "cell_type": "code",
   "execution_count": null,
   "id": "e2425436",
   "metadata": {},
   "outputs": [
    {
     "data": {
      "text/plain": [
       "119.38771008100466"
      ]
     },
     "execution_count": 181,
     "metadata": {},
     "output_type": "execute_result"
    }
   ],
   "source": [
    " # residual deviance( 잔차 이탈도 )\n",
    " -2 * (model.llf)"
   ]
  },
  {
   "cell_type": "code",
   "execution_count": 182,
   "id": "baafb071",
   "metadata": {},
   "outputs": [
    {
     "data": {
      "text/html": [
       "<div>\n",
       "<style scoped>\n",
       "    .dataframe tbody tr th:only-of-type {\n",
       "        vertical-align: middle;\n",
       "    }\n",
       "\n",
       "    .dataframe tbody tr th {\n",
       "        vertical-align: top;\n",
       "    }\n",
       "\n",
       "    .dataframe thead th {\n",
       "        text-align: right;\n",
       "    }\n",
       "</style>\n",
       "<table border=\"1\" class=\"dataframe\">\n",
       "  <thead>\n",
       "    <tr style=\"text-align: right;\">\n",
       "      <th></th>\n",
       "      <th>weight</th>\n",
       "      <th>height</th>\n",
       "      <th>age</th>\n",
       "      <th>income</th>\n",
       "      <th>gender</th>\n",
       "    </tr>\n",
       "  </thead>\n",
       "  <tbody>\n",
       "    <tr>\n",
       "      <th>0</th>\n",
       "      <td>0.496714</td>\n",
       "      <td>-0.138264</td>\n",
       "      <td>0.647689</td>\n",
       "      <td>1.523030</td>\n",
       "      <td>1</td>\n",
       "    </tr>\n",
       "    <tr>\n",
       "      <th>1</th>\n",
       "      <td>-0.234153</td>\n",
       "      <td>-0.234137</td>\n",
       "      <td>1.579213</td>\n",
       "      <td>0.767435</td>\n",
       "      <td>0</td>\n",
       "    </tr>\n",
       "    <tr>\n",
       "      <th>2</th>\n",
       "      <td>-0.469474</td>\n",
       "      <td>0.542560</td>\n",
       "      <td>-0.463418</td>\n",
       "      <td>-0.465730</td>\n",
       "      <td>0</td>\n",
       "    </tr>\n",
       "    <tr>\n",
       "      <th>3</th>\n",
       "      <td>0.241962</td>\n",
       "      <td>-1.913280</td>\n",
       "      <td>-1.724918</td>\n",
       "      <td>-0.562288</td>\n",
       "      <td>0</td>\n",
       "    </tr>\n",
       "    <tr>\n",
       "      <th>4</th>\n",
       "      <td>-1.012831</td>\n",
       "      <td>0.314247</td>\n",
       "      <td>-0.908024</td>\n",
       "      <td>-1.412304</td>\n",
       "      <td>0</td>\n",
       "    </tr>\n",
       "    <tr>\n",
       "      <th>...</th>\n",
       "      <td>...</td>\n",
       "      <td>...</td>\n",
       "      <td>...</td>\n",
       "      <td>...</td>\n",
       "      <td>...</td>\n",
       "    </tr>\n",
       "    <tr>\n",
       "      <th>205</th>\n",
       "      <td>-0.517288</td>\n",
       "      <td>1.409347</td>\n",
       "      <td>2.298898</td>\n",
       "      <td>-0.362839</td>\n",
       "      <td>1</td>\n",
       "    </tr>\n",
       "    <tr>\n",
       "      <th>206</th>\n",
       "      <td>-0.445503</td>\n",
       "      <td>1.453384</td>\n",
       "      <td>1.579572</td>\n",
       "      <td>-0.522860</td>\n",
       "      <td>1</td>\n",
       "    </tr>\n",
       "    <tr>\n",
       "      <th>207</th>\n",
       "      <td>-0.420187</td>\n",
       "      <td>-0.281785</td>\n",
       "      <td>-1.344451</td>\n",
       "      <td>-0.918652</td>\n",
       "      <td>0</td>\n",
       "    </tr>\n",
       "    <tr>\n",
       "      <th>208</th>\n",
       "      <td>-1.004141</td>\n",
       "      <td>-0.767798</td>\n",
       "      <td>-0.034685</td>\n",
       "      <td>0.234215</td>\n",
       "      <td>0</td>\n",
       "    </tr>\n",
       "    <tr>\n",
       "      <th>209</th>\n",
       "      <td>1.550500</td>\n",
       "      <td>-0.998354</td>\n",
       "      <td>0.984322</td>\n",
       "      <td>-0.213989</td>\n",
       "      <td>1</td>\n",
       "    </tr>\n",
       "  </tbody>\n",
       "</table>\n",
       "<p>210 rows × 5 columns</p>\n",
       "</div>"
      ],
      "text/plain": [
       "       weight    height       age    income  gender\n",
       "0    0.496714 -0.138264  0.647689  1.523030       1\n",
       "1   -0.234153 -0.234137  1.579213  0.767435       0\n",
       "2   -0.469474  0.542560 -0.463418 -0.465730       0\n",
       "3    0.241962 -1.913280 -1.724918 -0.562288       0\n",
       "4   -1.012831  0.314247 -0.908024 -1.412304       0\n",
       "..        ...       ...       ...       ...     ...\n",
       "205 -0.517288  1.409347  2.298898 -0.362839       1\n",
       "206 -0.445503  1.453384  1.579572 -0.522860       1\n",
       "207 -0.420187 -0.281785 -1.344451 -0.918652       0\n",
       "208 -1.004141 -0.767798 -0.034685  0.234215       0\n",
       "209  1.550500 -0.998354  0.984322 -0.213989       1\n",
       "\n",
       "[210 rows x 5 columns]"
      ]
     },
     "execution_count": 182,
     "metadata": {},
     "output_type": "execute_result"
    }
   ],
   "source": [
    "df"
   ]
  },
  {
   "cell_type": "code",
   "execution_count": 222,
   "id": "6e88814e",
   "metadata": {},
   "outputs": [
    {
     "name": "stdout",
     "output_type": "stream",
     "text": [
      "Optimization terminated successfully.\n",
      "         Current function value: 0.341305\n",
      "         Iterations 8\n"
     ]
    }
   ],
   "source": [
    "from sklearn.model_selection import train_test_split\n",
    "\n",
    "train, test = train_test_split(df, test_size=90, random_state=42)\n",
    "\n",
    "test_X = test.drop(columns = 'gender', axis=1)\n",
    "test_y = test['gender']\n",
    "\n",
    "model = smf.logit('gender ~ weight + height + age + income', data=train).fit()\n"
   ]
  },
  {
   "cell_type": "code",
   "execution_count": 224,
   "id": "edabdd07",
   "metadata": {},
   "outputs": [
    {
     "name": "stdout",
     "output_type": "stream",
     "text": [
      "                           Logit Regression Results                           \n",
      "==============================================================================\n",
      "Dep. Variable:                 gender   No. Observations:                  120\n",
      "Model:                          Logit   Df Residuals:                      115\n",
      "Method:                           MLE   Df Model:                            4\n",
      "Date:                Fri, 20 Jun 2025   Pseudo R-squ.:                  0.5075\n",
      "Time:                        20:28:00   Log-Likelihood:                -40.957\n",
      "converged:                       True   LL-Null:                       -83.161\n",
      "Covariance Type:            nonrobust   LLR p-value:                 2.025e-17\n",
      "==============================================================================\n",
      "                 coef    std err          z      P>|z|      [0.025      0.975]\n",
      "------------------------------------------------------------------------------\n",
      "Intercept      0.5100      0.316      1.616      0.106      -0.109       1.129\n",
      "weight         3.2469      0.595      5.457      0.000       2.081       4.413\n",
      "height         2.0506      0.473      4.338      0.000       1.124       2.977\n",
      "age            0.1321      0.261      0.507      0.612      -0.379       0.643\n",
      "income        -0.2207      0.291     -0.759      0.448      -0.791       0.350\n",
      "==============================================================================\n"
     ]
    }
   ],
   "source": [
    "print(model.summary())"
   ]
  },
  {
   "cell_type": "code",
   "execution_count": 215,
   "id": "612a0a34",
   "metadata": {},
   "outputs": [],
   "source": [
    "model_predict = model.predict(test) > 0.5"
   ]
  },
  {
   "cell_type": "code",
   "execution_count": 216,
   "id": "5926b14a",
   "metadata": {},
   "outputs": [
    {
     "data": {
      "text/plain": [
       "0.0778"
      ]
     },
     "execution_count": 216,
     "metadata": {},
     "output_type": "execute_result"
    }
   ],
   "source": [
    "from sklearn.metrics import accuracy_score\n",
    "\n",
    "round(1- accuracy_score(test_y, model_predict), 4)"
   ]
  },
  {
   "cell_type": "markdown",
   "id": "8c3f44b5",
   "metadata": {},
   "source": [
    "----"
   ]
  },
  {
   "cell_type": "code",
   "execution_count": 241,
   "id": "6c0f9c49",
   "metadata": {},
   "outputs": [
    {
     "name": "stdout",
     "output_type": "stream",
     "text": [
      "        age       sex       bmi        bp        s1        s2        s3  \\\n",
      "0  0.038076  0.050680  0.061696  0.021872 -0.044223 -0.034821 -0.043401   \n",
      "1 -0.001882 -0.044642 -0.051474 -0.026328 -0.008449 -0.019163  0.074412   \n",
      "2  0.085299  0.050680  0.044451 -0.005670 -0.045599 -0.034194 -0.032356   \n",
      "3 -0.089063 -0.044642 -0.011595 -0.036656  0.012191  0.024991 -0.036038   \n",
      "4  0.005383 -0.044642 -0.036385  0.021872  0.003935  0.015596  0.008142   \n",
      "\n",
      "         s4        s5        s6  target  \n",
      "0 -0.002592  0.019907 -0.017646   151.0  \n",
      "1 -0.039493 -0.068332 -0.092204    75.0  \n",
      "2 -0.002592  0.002861 -0.025930   141.0  \n",
      "3  0.034309  0.022688 -0.009362   206.0  \n",
      "4 -0.002592 -0.031988 -0.046641   135.0  \n"
     ]
    }
   ],
   "source": [
    "import pandas as pd\n",
    "import numpy as np\n",
    "from sklearn.datasets import load_diabetes\n",
    "\n",
    "diabetes = load_diabetes(as_frame = True)\n",
    "df = diabetes.frame\n",
    "print(df.head())"
   ]
  },
  {
   "cell_type": "code",
   "execution_count": 242,
   "id": "94c407b9",
   "metadata": {},
   "outputs": [],
   "source": [
    "df['target'] = (df['target'] > df['target'].quantile(0.5))\n",
    "df['target'] = df['target'].astype(int)"
   ]
  },
  {
   "cell_type": "code",
   "execution_count": 246,
   "id": "4c9e2887",
   "metadata": {},
   "outputs": [
    {
     "name": "stdout",
     "output_type": "stream",
     "text": [
      "Optimization terminated successfully.\n",
      "         Current function value: 0.543957\n",
      "         Iterations 6\n"
     ]
    }
   ],
   "source": [
    "import statsmodels.formula.api as smf\n",
    "\n",
    "model = smf.logit('target ~ age + sex + bmi + bp', data=df).fit()"
   ]
  },
  {
   "cell_type": "code",
   "execution_count": 247,
   "id": "51b841b6",
   "metadata": {},
   "outputs": [
    {
     "name": "stdout",
     "output_type": "stream",
     "text": [
      "                           Logit Regression Results                           \n",
      "==============================================================================\n",
      "Dep. Variable:                 target   No. Observations:                  442\n",
      "Model:                          Logit   Df Residuals:                      437\n",
      "Method:                           MLE   Df Model:                            4\n",
      "Date:                Fri, 20 Jun 2025   Pseudo R-squ.:                  0.2152\n",
      "Time:                        20:48:32   Log-Likelihood:                -240.43\n",
      "converged:                       True   LL-Null:                       -306.37\n",
      "Covariance Type:            nonrobust   LLR p-value:                 1.540e-27\n",
      "==============================================================================\n",
      "                 coef    std err          z      P>|z|      [0.025      0.975]\n",
      "------------------------------------------------------------------------------\n",
      "Intercept      0.0462      0.112      0.413      0.680      -0.173       0.266\n",
      "age            1.1309      2.524      0.448      0.654      -3.816       6.078\n",
      "sex           -4.7679      2.449     -1.947      0.052      -9.567       0.032\n",
      "bmi           21.1005      2.944      7.168      0.000      15.331      26.870\n",
      "bp            12.9963      2.873      4.524      0.000       7.366      18.626\n",
      "==============================================================================\n"
     ]
    }
   ],
   "source": [
    "print(model.summary())"
   ]
  },
  {
   "cell_type": "code",
   "execution_count": 252,
   "id": "751c7234",
   "metadata": {},
   "outputs": [
    {
     "data": {
      "text/plain": [
       "Intercept    0.679658\n",
       "age          0.654140\n",
       "sex          0.051523\n",
       "dtype: float64"
      ]
     },
     "execution_count": 252,
     "metadata": {},
     "output_type": "execute_result"
    }
   ],
   "source": [
    "# 유의하지 않은 변수 개수\n",
    "\n",
    "model.pvalues[model.pvalues >= 0.05]"
   ]
  },
  {
   "cell_type": "code",
   "execution_count": 253,
   "id": "2ba184e1",
   "metadata": {},
   "outputs": [
    {
     "name": "stdout",
     "output_type": "stream",
     "text": [
      "Optimization terminated successfully.\n",
      "         Current function value: 0.548382\n",
      "         Iterations 6\n"
     ]
    }
   ],
   "source": [
    "# 유의한 변수만 학습\n",
    "\n",
    "import statsmodels.formula.api as smf\n",
    "\n",
    "model = smf.logit('target ~ bmi + bp', data=df).fit()"
   ]
  },
  {
   "cell_type": "code",
   "execution_count": 260,
   "id": "4261fb95",
   "metadata": {},
   "outputs": [
    {
     "ename": "AttributeError",
     "evalue": "'LogitResults' object has no attribute 'rsquared'",
     "output_type": "error",
     "traceback": [
      "\u001b[0;31m---------------------------------------------------------------------------\u001b[0m",
      "\u001b[0;31mAttributeError\u001b[0m                            Traceback (most recent call last)",
      "\u001b[0;32m/var/folders/_k/k4vg8yqs5bd1kvyznqhzdt3r0000gn/T/ipykernel_89830/1929896668.py\u001b[0m in \u001b[0;36m<cell line: 1>\u001b[0;34m()\u001b[0m\n\u001b[0;32m----> 1\u001b[0;31m \u001b[0mmodel\u001b[0m\u001b[0;34m.\u001b[0m\u001b[0mrsquared\u001b[0m\u001b[0;34m\u001b[0m\u001b[0;34m\u001b[0m\u001b[0m\n\u001b[0m",
      "\u001b[0;32m/opt/homebrew/Caskroom/miniforge/base/envs/tf/lib/python3.8/site-packages/statsmodels/base/wrapper.py\u001b[0m in \u001b[0;36m__getattribute__\u001b[0;34m(self, attr)\u001b[0m\n\u001b[1;32m     32\u001b[0m             \u001b[0;32mpass\u001b[0m\u001b[0;34m\u001b[0m\u001b[0;34m\u001b[0m\u001b[0m\n\u001b[1;32m     33\u001b[0m \u001b[0;34m\u001b[0m\u001b[0m\n\u001b[0;32m---> 34\u001b[0;31m         \u001b[0mobj\u001b[0m \u001b[0;34m=\u001b[0m \u001b[0mgetattr\u001b[0m\u001b[0;34m(\u001b[0m\u001b[0mresults\u001b[0m\u001b[0;34m,\u001b[0m \u001b[0mattr\u001b[0m\u001b[0;34m)\u001b[0m\u001b[0;34m\u001b[0m\u001b[0;34m\u001b[0m\u001b[0m\n\u001b[0m\u001b[1;32m     35\u001b[0m         \u001b[0mdata\u001b[0m \u001b[0;34m=\u001b[0m \u001b[0mresults\u001b[0m\u001b[0;34m.\u001b[0m\u001b[0mmodel\u001b[0m\u001b[0;34m.\u001b[0m\u001b[0mdata\u001b[0m\u001b[0;34m\u001b[0m\u001b[0;34m\u001b[0m\u001b[0m\n\u001b[1;32m     36\u001b[0m         \u001b[0mhow\u001b[0m \u001b[0;34m=\u001b[0m \u001b[0mself\u001b[0m\u001b[0;34m.\u001b[0m\u001b[0m_wrap_attrs\u001b[0m\u001b[0;34m.\u001b[0m\u001b[0mget\u001b[0m\u001b[0;34m(\u001b[0m\u001b[0mattr\u001b[0m\u001b[0;34m)\u001b[0m\u001b[0;34m\u001b[0m\u001b[0;34m\u001b[0m\u001b[0m\n",
      "\u001b[0;31mAttributeError\u001b[0m: 'LogitResults' object has no attribute 'rsquared'"
     ]
    }
   ],
   "source": [
    "model.rsquared"
   ]
  },
  {
   "cell_type": "code",
   "execution_count": 262,
   "id": "f273a0a8",
   "metadata": {},
   "outputs": [
    {
     "name": "stdout",
     "output_type": "stream",
     "text": [
      "Optimization terminated successfully.\n",
      "         Current function value: 0.543957\n",
      "         Iterations 6\n",
      "                           Logit Regression Results                           \n",
      "==============================================================================\n",
      "Dep. Variable:                 target   No. Observations:                  442\n",
      "Model:                          Logit   Df Residuals:                      437\n",
      "Method:                           MLE   Df Model:                            4\n",
      "Date:                Fri, 20 Jun 2025   Pseudo R-squ.:                  0.2152\n",
      "Time:                        20:53:06   Log-Likelihood:                -240.43\n",
      "converged:                       True   LL-Null:                       -306.37\n",
      "Covariance Type:            nonrobust   LLR p-value:                 1.540e-27\n",
      "==============================================================================\n",
      "                 coef    std err          z      P>|z|      [0.025      0.975]\n",
      "------------------------------------------------------------------------------\n",
      "Intercept      0.0462      0.112      0.413      0.680      -0.173       0.266\n",
      "age            1.1309      2.524      0.448      0.654      -3.816       6.078\n",
      "sex           -4.7679      2.449     -1.947      0.052      -9.567       0.032\n",
      "bmi           21.1005      2.944      7.168      0.000      15.331      26.870\n",
      "bp            12.9963      2.873      4.524      0.000       7.366      18.626\n",
      "==============================================================================\n"
     ]
    }
   ],
   "source": [
    "import statsmodels.formula.api as smf\n",
    "\n",
    "model = smf.logit('target ~ age + sex + bmi + bp', data=df).fit()\n",
    "\n",
    "print(model.summary())"
   ]
  },
  {
   "cell_type": "code",
   "execution_count": 267,
   "id": "fc757d76",
   "metadata": {},
   "outputs": [
    {
     "data": {
      "text/plain": [
       "3.0983699232098245"
      ]
     },
     "execution_count": 267,
     "metadata": {},
     "output_type": "execute_result"
    }
   ],
   "source": [
    "np.exp(model.params['age'])"
   ]
  },
  {
   "cell_type": "code",
   "execution_count": null,
   "id": "d6317068",
   "metadata": {},
   "outputs": [],
   "source": [
    "from sklearn.preprocessing import MinMaxScaler\n",
    "\n",
    "scaler = MinMaxScaler()\n",
    "\n",
    "data = scaler.fit_transform(dd)"
   ]
  },
  {
   "cell_type": "code",
   "execution_count": null,
   "id": "d5b75551",
   "metadata": {},
   "outputs": [],
   "source": []
  }
 ],
 "metadata": {
  "kernelspec": {
   "display_name": "tf",
   "language": "python",
   "name": "python3"
  },
  "language_info": {
   "codemirror_mode": {
    "name": "ipython",
    "version": 3
   },
   "file_extension": ".py",
   "mimetype": "text/x-python",
   "name": "python",
   "nbconvert_exporter": "python",
   "pygments_lexer": "ipython3",
   "version": "3.8.13"
  }
 },
 "nbformat": 4,
 "nbformat_minor": 5
}
