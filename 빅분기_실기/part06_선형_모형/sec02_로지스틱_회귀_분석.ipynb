{
 "cells": [
  {
   "cell_type": "markdown",
   "id": "b65e4aeb",
   "metadata": {},
   "source": [
    "#### 로지스틱 회귀\n",
    "\n",
    "- 오즈(odds)\n",
    "    - 로지스틱 회귀 분석은 확률의 오즈를 선형모형으로 모델링하는 개념\n",
    "    - 어떤 사건이 발생할 확률과 그 사건이 발생하지 않을 확률 비율\n",
    "    - odds = P / 1 - P\n",
    "        - P: 사건이 일어날 확률 (0~1)\n",
    "        - 1 - P: 사건이 일어나지 않을 확률\n",
    "    "
   ]
  },
  {
   "cell_type": "code",
   "execution_count": 1,
   "id": "6770e161",
   "metadata": {},
   "outputs": [
    {
     "name": "stdout",
     "output_type": "stream",
     "text": [
      "(400, 5)\n",
      "   admit  gre   gpa  rank gender\n",
      "0      0  380  3.61     3      M\n",
      "1      1  660  3.67     3      F\n",
      "2      1  800  4.00     1      F\n",
      "3      1  640  3.19     4      M\n",
      "4      0  520  2.93     4      M\n"
     ]
    }
   ],
   "source": [
    "# 대학교 입학 데이터\n",
    "\n",
    "import numpy as np\n",
    "import pandas as pd\n",
    "\n",
    "admission_data = pd.read_csv('https://raw.githubusercontent.com/YoungjinBD/data/main/admission.csv')\n",
    "print(admission_data.shape)\n",
    "print(admission_data.head())"
   ]
  },
  {
   "cell_type": "code",
   "execution_count": 2,
   "id": "ccf1ca2c",
   "metadata": {},
   "outputs": [
    {
     "name": "stdout",
     "output_type": "stream",
     "text": [
      "0.465\n"
     ]
    }
   ],
   "source": [
    "# 데이터에서 입학이 허가될 확률의 오즈 구하기\n",
    "\n",
    "p_hat = admission_data['admit'].mean()\n",
    "print(np.round(p_hat / (1 - p_hat), 3))"
   ]
  },
  {
   "cell_type": "code",
   "execution_count": null,
   "id": "96ee6cf7",
   "metadata": {},
   "outputs": [
    {
     "name": "stdout",
     "output_type": "stream",
     "text": [
      "[1, 2, 3, 4]\n"
     ]
    }
   ],
   "source": [
    "# 범주형 변수를 사용한 오즈 계산\n",
    "\n",
    "unique_ranks = sorted(admission_data['rank'].unique())\n",
    "print(unique_ranks)\n",
    "\n",
    "# rank는 1에서 4등급 까지 존재"
   ]
  },
  {
   "cell_type": "code",
   "execution_count": 6,
   "id": "2398d222",
   "metadata": {},
   "outputs": [
    {
     "name": "stdout",
     "output_type": "stream",
     "text": [
      "       p_admit      odds\n",
      "rank                    \n",
      "1     0.540984  1.178571\n",
      "2     0.357616  0.556701\n",
      "3     0.231405  0.301075\n",
      "4     0.179104  0.218182\n"
     ]
    }
   ],
   "source": [
    "grouped_data = admission_data.groupby('rank').agg(p_admit = ('admit', 'mean'))\n",
    "grouped_data['odds'] = grouped_data['p_admit'] / (1 - grouped_data['p_admit'])\n",
    "print(grouped_data)"
   ]
  },
  {
   "cell_type": "markdown",
   "id": "c2d17e78",
   "metadata": {},
   "source": [
    "#### 오즈(Odds)를 사용한 확률 역산\n"
   ]
  },
  {
   "cell_type": "code",
   "execution_count": 11,
   "id": "ec588737",
   "metadata": {},
   "outputs": [
    {
     "name": "stdout",
     "output_type": "stream",
     "text": [
      "0.541\n"
     ]
    }
   ],
   "source": [
    "print(np.round(1.178 / (1.178 + 1) ,3))"
   ]
  },
  {
   "cell_type": "markdown",
   "id": "476430d5",
   "metadata": {},
   "source": [
    "#### 로지스틱 회귀계수 예측과 해석\n",
    "\n",
    "- 로지스틱 회귀 분석의 계수를 구하는 내용은 MLE를 유도하는 것"
   ]
  },
  {
   "cell_type": "code",
   "execution_count": 15,
   "id": "17834c21",
   "metadata": {},
   "outputs": [
    {
     "name": "stdout",
     "output_type": "stream",
     "text": [
      "   rank   p_admit      odds  log_odds\n",
      "0     1  0.540984  1.178571  0.164303\n",
      "1     2  0.357616  0.556701 -0.585727\n",
      "2     3  0.231405  0.301075 -1.200395\n",
      "3     4  0.179104  0.218182 -1.522427\n"
     ]
    }
   ],
   "source": [
    "odds_data = admission_data.groupby('rank').agg(p_admit = ('admit', 'mean')).reset_index()\n",
    "odds_data['odds'] = odds_data['p_admit'] / (1 - odds_data['p_admit'])\n",
    "odds_data['log_odds'] = np.log(odds_data['odds'])\n",
    "print(odds_data)"
   ]
  },
  {
   "cell_type": "code",
   "execution_count": 17,
   "id": "0ff047d5",
   "metadata": {},
   "outputs": [
    {
     "name": "stdout",
     "output_type": "stream",
     "text": [
      "                            OLS Regression Results                            \n",
      "==============================================================================\n",
      "Dep. Variable:               log_odds   R-squared:                       0.972\n",
      "Model:                            OLS   Adj. R-squared:                  0.957\n",
      "Method:                 Least Squares   F-statistic:                     68.47\n",
      "Date:                Tue, 17 Jun 2025   Prob (F-statistic):             0.0143\n",
      "Time:                        20:15:41   Log-Likelihood:                 3.2107\n",
      "No. Observations:                   4   AIC:                            -2.421\n",
      "Df Residuals:                       2   BIC:                            -3.649\n",
      "Df Model:                           1                                         \n",
      "Covariance Type:            nonrobust                                         \n",
      "==============================================================================\n",
      "                 coef    std err          t      P>|t|      [0.025      0.975]\n",
      "------------------------------------------------------------------------------\n",
      "Intercept      0.6327      0.188      3.368      0.078      -0.175       1.441\n",
      "rank          -0.5675      0.069     -8.275      0.014      -0.863      -0.272\n",
      "==============================================================================\n",
      "Omnibus:                          nan   Durbin-Watson:                   2.037\n",
      "Prob(Omnibus):                    nan   Jarque-Bera (JB):                0.602\n",
      "Skew:                          -0.062   Prob(JB):                        0.740\n",
      "Kurtosis:                       1.103   Cond. No.                         7.47\n",
      "==============================================================================\n",
      "\n",
      "Notes:\n",
      "[1] Standard Errors assume that the covariance matrix of the errors is correctly specified.\n"
     ]
    },
    {
     "name": "stderr",
     "output_type": "stream",
     "text": [
      "/opt/homebrew/Caskroom/miniforge/base/envs/tf/lib/python3.8/site-packages/statsmodels/stats/stattools.py:74: ValueWarning: omni_normtest is not valid with less than 8 observations; 4 samples were given.\n",
      "  warn(\"omni_normtest is not valid with less than 8 observations; %i \"\n"
     ]
    }
   ],
   "source": [
    "# rank 변수는 범주형이지만 순서가 있는 변수 이므로 수치형으로 취급하고 진행\n",
    "\n",
    "import statsmodels.formula.api as smf\n",
    "\n",
    "model = smf.ols(\"log_odds ~rank\", data=odds_data).fit()\n",
    "print(model.summary())"
   ]
  },
  {
   "cell_type": "markdown",
   "id": "9930a8d6",
   "metadata": {},
   "source": [
    "#### 로지스틱 회귀 분석 과정"
   ]
  },
  {
   "cell_type": "code",
   "execution_count": 18,
   "id": "3ee6cb87",
   "metadata": {},
   "outputs": [],
   "source": [
    "admission_data = pd.read_csv('https://raw.githubusercontent.com/YoungjinBD/data/main/admission.csv')\n",
    "import statsmodels.formula.api as smf\n",
    "import statsmodels.api as sm\n",
    "\n",
    "admission_data['rank'] = admission_data['rank'].astype('category')\n",
    "admission_data['gender'] = admission_data['gender'].astype('category')"
   ]
  },
  {
   "cell_type": "code",
   "execution_count": 20,
   "id": "73ac5d37",
   "metadata": {},
   "outputs": [
    {
     "data": {
      "text/html": [
       "<div>\n",
       "<style scoped>\n",
       "    .dataframe tbody tr th:only-of-type {\n",
       "        vertical-align: middle;\n",
       "    }\n",
       "\n",
       "    .dataframe tbody tr th {\n",
       "        vertical-align: top;\n",
       "    }\n",
       "\n",
       "    .dataframe thead th {\n",
       "        text-align: right;\n",
       "    }\n",
       "</style>\n",
       "<table border=\"1\" class=\"dataframe\">\n",
       "  <thead>\n",
       "    <tr style=\"text-align: right;\">\n",
       "      <th></th>\n",
       "      <th>admit</th>\n",
       "      <th>gre</th>\n",
       "      <th>gpa</th>\n",
       "      <th>rank</th>\n",
       "      <th>gender</th>\n",
       "    </tr>\n",
       "  </thead>\n",
       "  <tbody>\n",
       "    <tr>\n",
       "      <th>0</th>\n",
       "      <td>0</td>\n",
       "      <td>380</td>\n",
       "      <td>3.61</td>\n",
       "      <td>3</td>\n",
       "      <td>M</td>\n",
       "    </tr>\n",
       "    <tr>\n",
       "      <th>1</th>\n",
       "      <td>1</td>\n",
       "      <td>660</td>\n",
       "      <td>3.67</td>\n",
       "      <td>3</td>\n",
       "      <td>F</td>\n",
       "    </tr>\n",
       "    <tr>\n",
       "      <th>2</th>\n",
       "      <td>1</td>\n",
       "      <td>800</td>\n",
       "      <td>4.00</td>\n",
       "      <td>1</td>\n",
       "      <td>F</td>\n",
       "    </tr>\n",
       "    <tr>\n",
       "      <th>3</th>\n",
       "      <td>1</td>\n",
       "      <td>640</td>\n",
       "      <td>3.19</td>\n",
       "      <td>4</td>\n",
       "      <td>M</td>\n",
       "    </tr>\n",
       "    <tr>\n",
       "      <th>4</th>\n",
       "      <td>0</td>\n",
       "      <td>520</td>\n",
       "      <td>2.93</td>\n",
       "      <td>4</td>\n",
       "      <td>M</td>\n",
       "    </tr>\n",
       "  </tbody>\n",
       "</table>\n",
       "</div>"
      ],
      "text/plain": [
       "   admit  gre   gpa rank gender\n",
       "0      0  380  3.61    3      M\n",
       "1      1  660  3.67    3      F\n",
       "2      1  800  4.00    1      F\n",
       "3      1  640  3.19    4      M\n",
       "4      0  520  2.93    4      M"
      ]
     },
     "execution_count": 20,
     "metadata": {},
     "output_type": "execute_result"
    }
   ],
   "source": [
    "admission_data.head()"
   ]
  },
  {
   "cell_type": "markdown",
   "id": "21c236f9",
   "metadata": {},
   "source": [
    "#### 방법 1 Formula API 활용"
   ]
  },
  {
   "cell_type": "code",
   "execution_count": null,
   "id": "26e2936d",
   "metadata": {},
   "outputs": [
    {
     "name": "stdout",
     "output_type": "stream",
     "text": [
      "Optimization terminated successfully.\n",
      "         Current function value: 0.578471\n",
      "         Iterations 6\n",
      "                           Logit Regression Results                           \n",
      "==============================================================================\n",
      "Dep. Variable:                  admit   No. Observations:                  400\n",
      "Model:                          Logit   Df Residuals:                      394\n",
      "Method:                           MLE   Df Model:                            5\n",
      "Date:                Tue, 17 Jun 2025   Pseudo R-squ.:                 0.07440\n",
      "Time:                        20:22:03   Log-Likelihood:                -231.39\n",
      "converged:                       True   LL-Null:                       -249.99\n",
      "Covariance Type:            nonrobust   LLR p-value:                 5.461e-07\n",
      "===============================================================================\n",
      "                  coef    std err          z      P>|z|      [0.025      0.975]\n",
      "-------------------------------------------------------------------------------\n",
      "Intercept      -3.4211      1.108     -3.087      0.002      -5.593      -1.249\n",
      "rank[T.2]      -0.6771      0.314     -2.155      0.031      -1.293      -0.061\n",
      "rank[T.3]      -1.3945      0.342     -4.078      0.000      -2.065      -0.724\n",
      "rank[T.4]      -1.5961      0.415     -3.845      0.000      -2.410      -0.782\n",
      "gender[T.M]    -0.0711      0.226     -0.314      0.753      -0.515       0.372\n",
      "gpa             1.0498      0.310      3.384      0.001       0.442       1.658\n",
      "===============================================================================\n"
     ]
    }
   ],
   "source": [
    "model = smf.logit('admit ~ gpa + gpa + rank + gender', data=admission_data).fit()\n",
    "print(model.summary())"
   ]
  },
  {
   "cell_type": "code",
   "execution_count": 24,
   "id": "eea6b67a",
   "metadata": {},
   "outputs": [],
   "source": [
    "model = smf.glm('admit ~ gre + gpa + rank + gender', data=admission_data, family=sm.families.Binomial()).fit()"
   ]
  },
  {
   "cell_type": "markdown",
   "id": "4d5b65b6",
   "metadata": {},
   "source": [
    "#### 방법 2"
   ]
  },
  {
   "cell_type": "code",
   "execution_count": 25,
   "id": "ae51e43a",
   "metadata": {},
   "outputs": [
    {
     "name": "stdout",
     "output_type": "stream",
     "text": [
      "Optimization terminated successfully.\n",
      "         Current function value: 0.573066\n",
      "         Iterations 6\n",
      "                           Logit Regression Results                           \n",
      "==============================================================================\n",
      "Dep. Variable:                  admit   No. Observations:                  400\n",
      "Model:                          Logit   Df Residuals:                      393\n",
      "Method:                           MLE   Df Model:                            6\n",
      "Date:                Tue, 17 Jun 2025   Pseudo R-squ.:                 0.08305\n",
      "Time:                        20:30:24   Log-Likelihood:                -229.23\n",
      "converged:                       True   LL-Null:                       -249.99\n",
      "Covariance Type:            nonrobust   LLR p-value:                 2.283e-07\n",
      "==============================================================================\n",
      "                 coef    std err          z      P>|z|      [0.025      0.975]\n",
      "------------------------------------------------------------------------------\n",
      "const         -3.9536      1.149     -3.442      0.001      -6.205      -1.702\n",
      "gre            0.0023      0.001      2.062      0.039       0.000       0.004\n",
      "gpa            0.8032      0.332      2.420      0.016       0.153       1.454\n",
      "rank_2        -0.6723      0.317     -2.123      0.034      -1.293      -0.052\n",
      "rank_3        -1.3422      0.345     -3.887      0.000      -2.019      -0.665\n",
      "rank_4        -1.5529      0.418     -3.717      0.000      -2.372      -0.734\n",
      "gender_M      -0.0578      0.228     -0.254      0.800      -0.504       0.388\n",
      "==============================================================================\n"
     ]
    }
   ],
   "source": [
    "# 범주형 변수 더미 변수로 변환\n",
    "\n",
    "admission_data = pd.get_dummies(admission_data, columns=['rank', 'gender'], drop_first=True)\n",
    "\n",
    "# bool 타입 int 변환\n",
    "admission_data[['rank_2', 'rank_3', 'rank_4', 'gender_M']] = admission_data[['rank_2', 'rank_3', 'rank_4', 'gender_M']].astype(int)\n",
    "\n",
    "# 독립변수와 종속변수 설정\n",
    "X = admission_data[['gre', 'gpa', 'rank_2','rank_3', 'rank_4', 'gender_M']]\n",
    "y = admission_data['admit']\n",
    "\n",
    "# 상수항 추가\n",
    "X = sm.add_constant(X)\n",
    "\n",
    "# Logit 모델 적합 (로지스틱 회귀)\n",
    "model = sm.Logit(y, X).fit()\n",
    "print(model.summary())\n",
    "#model = sm.GLM(y, X, family = sm.families.Binomial()).fit()"
   ]
  },
  {
   "cell_type": "markdown",
   "id": "503a8e24",
   "metadata": {},
   "source": [
    "-----------------------------------------------------------------------------------------------------------------------------------------------------------------------------"
   ]
  },
  {
   "cell_type": "code",
   "execution_count": 45,
   "id": "19f0b45e",
   "metadata": {},
   "outputs": [
    {
     "name": "stdout",
     "output_type": "stream",
     "text": [
      "     weight    height       age    income  gender\n",
      "0  0.496714 -0.138264  0.647689  1.523030       1\n",
      "1 -0.234153 -0.234137  1.579213  0.767435       0\n",
      "2 -0.469474  0.542560 -0.463418 -0.465730       0\n",
      "3  0.241962 -1.913280 -1.724918 -0.562288       0\n",
      "4 -1.012831  0.314247 -0.908024 -1.412304       0\n"
     ]
    }
   ],
   "source": [
    "import pandas as pd\n",
    "import numpy as np\n",
    "\n",
    "# 예제 데이터 생성\n",
    "np.random.seed(42)\n",
    "n_samples = 210\n",
    "X = np.random.randn(n_samples, 4)\n",
    "y = (X[:, 0] + X[:, 1] * 0.5 + np.random.randn(n_samples) * 0.5 > 0).astype(int)\n",
    "df = pd.DataFrame(X, columns = ['weight', 'height', 'age', 'income'])\n",
    "df['gender'] = y\n",
    "\n",
    "print(df.head())"
   ]
  },
  {
   "cell_type": "code",
   "execution_count": 46,
   "id": "9e44aa75",
   "metadata": {},
   "outputs": [
    {
     "name": "stdout",
     "output_type": "stream",
     "text": [
      "Optimization terminated successfully.\n",
      "         Current function value: 0.426786\n",
      "         Iterations 7\n"
     ]
    },
    {
     "data": {
      "text/html": [
       "<table class=\"simpletable\">\n",
       "<caption>Logit Regression Results</caption>\n",
       "<tr>\n",
       "  <th>Dep. Variable:</th>        <td>gender</td>      <th>  No. Observations:  </th>  <td>   210</td>  \n",
       "</tr>\n",
       "<tr>\n",
       "  <th>Model:</th>                 <td>Logit</td>      <th>  Df Residuals:      </th>  <td>   208</td>  \n",
       "</tr>\n",
       "<tr>\n",
       "  <th>Method:</th>                 <td>MLE</td>       <th>  Df Model:          </th>  <td>     1</td>  \n",
       "</tr>\n",
       "<tr>\n",
       "  <th>Date:</th>            <td>Tue, 17 Jun 2025</td> <th>  Pseudo R-squ.:     </th>  <td>0.3836</td>  \n",
       "</tr>\n",
       "<tr>\n",
       "  <th>Time:</th>                <td>21:19:27</td>     <th>  Log-Likelihood:    </th> <td> -89.625</td> \n",
       "</tr>\n",
       "<tr>\n",
       "  <th>converged:</th>             <td>True</td>       <th>  LL-Null:           </th> <td> -145.41</td> \n",
       "</tr>\n",
       "<tr>\n",
       "  <th>Covariance Type:</th>     <td>nonrobust</td>    <th>  LLR p-value:       </th> <td>4.445e-26</td>\n",
       "</tr>\n",
       "</table>\n",
       "<table class=\"simpletable\">\n",
       "<tr>\n",
       "      <td></td>         <th>coef</th>     <th>std err</th>      <th>z</th>      <th>P>|z|</th>  <th>[0.025</th>    <th>0.975]</th>  \n",
       "</tr>\n",
       "<tr>\n",
       "  <th>Intercept</th> <td>    0.2743</td> <td>    0.188</td> <td>    1.459</td> <td> 0.145</td> <td>   -0.094</td> <td>    0.643</td>\n",
       "</tr>\n",
       "<tr>\n",
       "  <th>weight</th>    <td>    2.6078</td> <td>    0.361</td> <td>    7.229</td> <td> 0.000</td> <td>    1.901</td> <td>    3.315</td>\n",
       "</tr>\n",
       "</table>"
      ],
      "text/latex": [
       "\\begin{center}\n",
       "\\begin{tabular}{lclc}\n",
       "\\toprule\n",
       "\\textbf{Dep. Variable:}   &      gender      & \\textbf{  No. Observations:  } &      210    \\\\\n",
       "\\textbf{Model:}           &      Logit       & \\textbf{  Df Residuals:      } &      208    \\\\\n",
       "\\textbf{Method:}          &       MLE        & \\textbf{  Df Model:          } &        1    \\\\\n",
       "\\textbf{Date:}            & Tue, 17 Jun 2025 & \\textbf{  Pseudo R-squ.:     } &   0.3836    \\\\\n",
       "\\textbf{Time:}            &     21:19:27     & \\textbf{  Log-Likelihood:    } &   -89.625   \\\\\n",
       "\\textbf{converged:}       &       True       & \\textbf{  LL-Null:           } &   -145.41   \\\\\n",
       "\\textbf{Covariance Type:} &    nonrobust     & \\textbf{  LLR p-value:       } & 4.445e-26   \\\\\n",
       "\\bottomrule\n",
       "\\end{tabular}\n",
       "\\begin{tabular}{lcccccc}\n",
       "                   & \\textbf{coef} & \\textbf{std err} & \\textbf{z} & \\textbf{P$> |$z$|$} & \\textbf{[0.025} & \\textbf{0.975]}  \\\\\n",
       "\\midrule\n",
       "\\textbf{Intercept} &       0.2743  &        0.188     &     1.459  &         0.145        &       -0.094    &        0.643     \\\\\n",
       "\\textbf{weight}    &       2.6078  &        0.361     &     7.229  &         0.000        &        1.901    &        3.315     \\\\\n",
       "\\bottomrule\n",
       "\\end{tabular}\n",
       "%\\caption{Logit Regression Results}\n",
       "\\end{center}"
      ],
      "text/plain": [
       "<class 'statsmodels.iolib.summary.Summary'>\n",
       "\"\"\"\n",
       "                           Logit Regression Results                           \n",
       "==============================================================================\n",
       "Dep. Variable:                 gender   No. Observations:                  210\n",
       "Model:                          Logit   Df Residuals:                      208\n",
       "Method:                           MLE   Df Model:                            1\n",
       "Date:                Tue, 17 Jun 2025   Pseudo R-squ.:                  0.3836\n",
       "Time:                        21:19:27   Log-Likelihood:                -89.625\n",
       "converged:                       True   LL-Null:                       -145.41\n",
       "Covariance Type:            nonrobust   LLR p-value:                 4.445e-26\n",
       "==============================================================================\n",
       "                 coef    std err          z      P>|z|      [0.025      0.975]\n",
       "------------------------------------------------------------------------------\n",
       "Intercept      0.2743      0.188      1.459      0.145      -0.094       0.643\n",
       "weight         2.6078      0.361      7.229      0.000       1.901       3.315\n",
       "==============================================================================\n",
       "\"\"\""
      ]
     },
     "execution_count": 46,
     "metadata": {},
     "output_type": "execute_result"
    }
   ],
   "source": [
    "import statsmodels.formula.api as smf\n",
    "\n",
    "model = smf.logit(\"gender ~ weight\", data = df).fit()\n",
    "model.summary()"
   ]
  },
  {
   "cell_type": "code",
   "execution_count": 40,
   "id": "6949b1c2",
   "metadata": {},
   "outputs": [
    {
     "data": {
      "text/plain": [
       "13.569314589014752"
      ]
     },
     "execution_count": 40,
     "metadata": {},
     "output_type": "execute_result"
    }
   ],
   "source": [
    "np.exp(model.params['weight'])"
   ]
  },
  {
   "cell_type": "code",
   "execution_count": 41,
   "id": "44368af7",
   "metadata": {},
   "outputs": [
    {
     "data": {
      "text/html": [
       "<div>\n",
       "<style scoped>\n",
       "    .dataframe tbody tr th:only-of-type {\n",
       "        vertical-align: middle;\n",
       "    }\n",
       "\n",
       "    .dataframe tbody tr th {\n",
       "        vertical-align: top;\n",
       "    }\n",
       "\n",
       "    .dataframe thead th {\n",
       "        text-align: right;\n",
       "    }\n",
       "</style>\n",
       "<table border=\"1\" class=\"dataframe\">\n",
       "  <thead>\n",
       "    <tr style=\"text-align: right;\">\n",
       "      <th></th>\n",
       "      <th>weight</th>\n",
       "      <th>height</th>\n",
       "      <th>age</th>\n",
       "      <th>income</th>\n",
       "      <th>gender</th>\n",
       "    </tr>\n",
       "  </thead>\n",
       "  <tbody>\n",
       "    <tr>\n",
       "      <th>0</th>\n",
       "      <td>0.496714</td>\n",
       "      <td>-0.138264</td>\n",
       "      <td>0.647689</td>\n",
       "      <td>1.523030</td>\n",
       "      <td>1</td>\n",
       "    </tr>\n",
       "    <tr>\n",
       "      <th>1</th>\n",
       "      <td>-0.234153</td>\n",
       "      <td>-0.234137</td>\n",
       "      <td>1.579213</td>\n",
       "      <td>0.767435</td>\n",
       "      <td>0</td>\n",
       "    </tr>\n",
       "    <tr>\n",
       "      <th>2</th>\n",
       "      <td>-0.469474</td>\n",
       "      <td>0.542560</td>\n",
       "      <td>-0.463418</td>\n",
       "      <td>-0.465730</td>\n",
       "      <td>0</td>\n",
       "    </tr>\n",
       "    <tr>\n",
       "      <th>3</th>\n",
       "      <td>0.241962</td>\n",
       "      <td>-1.913280</td>\n",
       "      <td>-1.724918</td>\n",
       "      <td>-0.562288</td>\n",
       "      <td>0</td>\n",
       "    </tr>\n",
       "    <tr>\n",
       "      <th>4</th>\n",
       "      <td>-1.012831</td>\n",
       "      <td>0.314247</td>\n",
       "      <td>-0.908024</td>\n",
       "      <td>-1.412304</td>\n",
       "      <td>0</td>\n",
       "    </tr>\n",
       "  </tbody>\n",
       "</table>\n",
       "</div>"
      ],
      "text/plain": [
       "     weight    height       age    income  gender\n",
       "0  0.496714 -0.138264  0.647689  1.523030       1\n",
       "1 -0.234153 -0.234137  1.579213  0.767435       0\n",
       "2 -0.469474  0.542560 -0.463418 -0.465730       0\n",
       "3  0.241962 -1.913280 -1.724918 -0.562288       0\n",
       "4 -1.012831  0.314247 -0.908024 -1.412304       0"
      ]
     },
     "execution_count": 41,
     "metadata": {},
     "output_type": "execute_result"
    }
   ],
   "source": [
    "df.head()"
   ]
  },
  {
   "cell_type": "code",
   "execution_count": 43,
   "id": "2508eb16",
   "metadata": {},
   "outputs": [
    {
     "name": "stdout",
     "output_type": "stream",
     "text": [
      "Optimization terminated successfully.\n",
      "         Current function value: 0.284256\n",
      "         Iterations 8\n"
     ]
    },
    {
     "data": {
      "text/html": [
       "<table class=\"simpletable\">\n",
       "<caption>Logit Regression Results</caption>\n",
       "<tr>\n",
       "  <th>Dep. Variable:</th>        <td>gender</td>      <th>  No. Observations:  </th>  <td>   210</td>  \n",
       "</tr>\n",
       "<tr>\n",
       "  <th>Model:</th>                 <td>Logit</td>      <th>  Df Residuals:      </th>  <td>   205</td>  \n",
       "</tr>\n",
       "<tr>\n",
       "  <th>Method:</th>                 <td>MLE</td>       <th>  Df Model:          </th>  <td>     4</td>  \n",
       "</tr>\n",
       "<tr>\n",
       "  <th>Date:</th>            <td>Tue, 17 Jun 2025</td> <th>  Pseudo R-squ.:     </th>  <td>0.5895</td>  \n",
       "</tr>\n",
       "<tr>\n",
       "  <th>Time:</th>                <td>21:09:55</td>     <th>  Log-Likelihood:    </th> <td> -59.694</td> \n",
       "</tr>\n",
       "<tr>\n",
       "  <th>converged:</th>             <td>True</td>       <th>  LL-Null:           </th> <td> -145.41</td> \n",
       "</tr>\n",
       "<tr>\n",
       "  <th>Covariance Type:</th>     <td>nonrobust</td>    <th>  LLR p-value:       </th> <td>5.161e-36</td>\n",
       "</tr>\n",
       "</table>\n",
       "<table class=\"simpletable\">\n",
       "<tr>\n",
       "      <td></td>         <th>coef</th>     <th>std err</th>      <th>z</th>      <th>P>|z|</th>  <th>[0.025</th>    <th>0.975]</th>  \n",
       "</tr>\n",
       "<tr>\n",
       "  <th>Intercept</th> <td>    0.6549</td> <td>    0.262</td> <td>    2.499</td> <td> 0.012</td> <td>    0.141</td> <td>    1.169</td>\n",
       "</tr>\n",
       "<tr>\n",
       "  <th>weight</th>    <td>    4.0574</td> <td>    0.578</td> <td>    7.021</td> <td> 0.000</td> <td>    2.925</td> <td>    5.190</td>\n",
       "</tr>\n",
       "<tr>\n",
       "  <th>height</th>    <td>    2.1131</td> <td>    0.372</td> <td>    5.677</td> <td> 0.000</td> <td>    1.384</td> <td>    2.843</td>\n",
       "</tr>\n",
       "<tr>\n",
       "  <th>age</th>       <td>    0.2838</td> <td>    0.220</td> <td>    1.287</td> <td> 0.198</td> <td>   -0.148</td> <td>    0.716</td>\n",
       "</tr>\n",
       "<tr>\n",
       "  <th>income</th>    <td>   -0.1859</td> <td>    0.243</td> <td>   -0.764</td> <td> 0.445</td> <td>   -0.662</td> <td>    0.291</td>\n",
       "</tr>\n",
       "</table>"
      ],
      "text/latex": [
       "\\begin{center}\n",
       "\\begin{tabular}{lclc}\n",
       "\\toprule\n",
       "\\textbf{Dep. Variable:}   &      gender      & \\textbf{  No. Observations:  } &      210    \\\\\n",
       "\\textbf{Model:}           &      Logit       & \\textbf{  Df Residuals:      } &      205    \\\\\n",
       "\\textbf{Method:}          &       MLE        & \\textbf{  Df Model:          } &        4    \\\\\n",
       "\\textbf{Date:}            & Tue, 17 Jun 2025 & \\textbf{  Pseudo R-squ.:     } &   0.5895    \\\\\n",
       "\\textbf{Time:}            &     21:09:55     & \\textbf{  Log-Likelihood:    } &   -59.694   \\\\\n",
       "\\textbf{converged:}       &       True       & \\textbf{  LL-Null:           } &   -145.41   \\\\\n",
       "\\textbf{Covariance Type:} &    nonrobust     & \\textbf{  LLR p-value:       } & 5.161e-36   \\\\\n",
       "\\bottomrule\n",
       "\\end{tabular}\n",
       "\\begin{tabular}{lcccccc}\n",
       "                   & \\textbf{coef} & \\textbf{std err} & \\textbf{z} & \\textbf{P$> |$z$|$} & \\textbf{[0.025} & \\textbf{0.975]}  \\\\\n",
       "\\midrule\n",
       "\\textbf{Intercept} &       0.6549  &        0.262     &     2.499  &         0.012        &        0.141    &        1.169     \\\\\n",
       "\\textbf{weight}    &       4.0574  &        0.578     &     7.021  &         0.000        &        2.925    &        5.190     \\\\\n",
       "\\textbf{height}    &       2.1131  &        0.372     &     5.677  &         0.000        &        1.384    &        2.843     \\\\\n",
       "\\textbf{age}       &       0.2838  &        0.220     &     1.287  &         0.198        &       -0.148    &        0.716     \\\\\n",
       "\\textbf{income}    &      -0.1859  &        0.243     &    -0.764  &         0.445        &       -0.662    &        0.291     \\\\\n",
       "\\bottomrule\n",
       "\\end{tabular}\n",
       "%\\caption{Logit Regression Results}\n",
       "\\end{center}"
      ],
      "text/plain": [
       "<class 'statsmodels.iolib.summary.Summary'>\n",
       "\"\"\"\n",
       "                           Logit Regression Results                           \n",
       "==============================================================================\n",
       "Dep. Variable:                 gender   No. Observations:                  210\n",
       "Model:                          Logit   Df Residuals:                      205\n",
       "Method:                           MLE   Df Model:                            4\n",
       "Date:                Tue, 17 Jun 2025   Pseudo R-squ.:                  0.5895\n",
       "Time:                        21:09:55   Log-Likelihood:                -59.694\n",
       "converged:                       True   LL-Null:                       -145.41\n",
       "Covariance Type:            nonrobust   LLR p-value:                 5.161e-36\n",
       "==============================================================================\n",
       "                 coef    std err          z      P>|z|      [0.025      0.975]\n",
       "------------------------------------------------------------------------------\n",
       "Intercept      0.6549      0.262      2.499      0.012       0.141       1.169\n",
       "weight         4.0574      0.578      7.021      0.000       2.925       5.190\n",
       "height         2.1131      0.372      5.677      0.000       1.384       2.843\n",
       "age            0.2838      0.220      1.287      0.198      -0.148       0.716\n",
       "income        -0.1859      0.243     -0.764      0.445      -0.662       0.291\n",
       "==============================================================================\n",
       "\"\"\""
      ]
     },
     "execution_count": 43,
     "metadata": {},
     "output_type": "execute_result"
    }
   ],
   "source": [
    "import statsmodels.formula.api as smf\n",
    "\n",
    "model = smf.logit(\"gender ~ weight + height + age + income\", data=df).fit()\n",
    "\n",
    "model.summary()"
   ]
  },
  {
   "cell_type": "code",
   "execution_count": 44,
   "id": "49b9d9f9",
   "metadata": {},
   "outputs": [
    {
     "data": {
      "text/plain": [
       "119.38771008100466"
      ]
     },
     "execution_count": 44,
     "metadata": {},
     "output_type": "execute_result"
    }
   ],
   "source": [
    "-2 * (model.llf)"
   ]
  },
  {
   "cell_type": "code",
   "execution_count": 53,
   "id": "dec03c23",
   "metadata": {},
   "outputs": [
    {
     "name": "stdout",
     "output_type": "stream",
     "text": [
      "(120, 5) (90, 5)\n",
      "Optimization terminated successfully.\n",
      "         Current function value: 0.476228\n",
      "         Iterations 7\n"
     ]
    }
   ],
   "source": [
    "# 1번 문제의 모델(몸무게를 독립변수로 사용한) 데이터를 학습 데이터와 평가 데이터(90개로 설정)로 분류 한 후, 오분류율을 계산하라\n",
    "\n",
    "from sklearn.model_selection import train_test_split\n",
    "\n",
    "train, test = train_test_split(df, test_size=90, random_state=42)\n",
    "\n",
    "print(train.shape, test.shape)\n",
    "\n",
    "logit_model = smf.logit(\"gender ~ weight\", data=train).fit()"
   ]
  },
  {
   "cell_type": "code",
   "execution_count": 54,
   "id": "b766ce69",
   "metadata": {},
   "outputs": [],
   "source": [
    "########"
   ]
  },
  {
   "cell_type": "code",
   "execution_count": 55,
   "id": "07be6965",
   "metadata": {},
   "outputs": [
    {
     "name": "stdout",
     "output_type": "stream",
     "text": [
      "        age       sex       bmi        bp        s1        s2        s3  \\\n",
      "0  0.038076  0.050680  0.061696  0.021872 -0.044223 -0.034821 -0.043401   \n",
      "1 -0.001882 -0.044642 -0.051474 -0.026328 -0.008449 -0.019163  0.074412   \n",
      "2  0.085299  0.050680  0.044451 -0.005670 -0.045599 -0.034194 -0.032356   \n",
      "3 -0.089063 -0.044642 -0.011595 -0.036656  0.012191  0.024991 -0.036038   \n",
      "4  0.005383 -0.044642 -0.036385  0.021872  0.003935  0.015596  0.008142   \n",
      "\n",
      "         s4        s5        s6  target  \n",
      "0 -0.002592  0.019907 -0.017646   151.0  \n",
      "1 -0.039493 -0.068332 -0.092204    75.0  \n",
      "2 -0.002592  0.002861 -0.025930   141.0  \n",
      "3  0.034309  0.022688 -0.009362   206.0  \n",
      "4 -0.002592 -0.031988 -0.046641   135.0  \n"
     ]
    }
   ],
   "source": [
    "import pandas as pd\n",
    "import numpy as np\n",
    "from sklearn.datasets import load_diabetes\n",
    "\n",
    "diabetes = load_diabetes(as_frame = True)\n",
    "df = diabetes.frame\n",
    "print(df.head())"
   ]
  },
  {
   "cell_type": "code",
   "execution_count": 84,
   "id": "2ec137d1",
   "metadata": {},
   "outputs": [
    {
     "name": "stdout",
     "output_type": "stream",
     "text": [
      "Optimization terminated successfully.\n",
      "         Current function value: 0.543957\n",
      "         Iterations 6\n"
     ]
    }
   ],
   "source": [
    "# 타겟 값 변경\n",
    "df['target'] = (df['target'] > df['target'].median()).astype(int)\n",
    "\n",
    "import statsmodels.formula.api as smf\n",
    "\n",
    "model = smf.logit(\"target ~ age + sex + bmi + bp\", data=df).fit()\n",
    "\n",
    "model.summary()\n",
    "\n",
    "p_values = model.pvalues"
   ]
  },
  {
   "cell_type": "code",
   "execution_count": 64,
   "id": "24d32d9a",
   "metadata": {},
   "outputs": [],
   "source": [
    "p_values = model.pvalues"
   ]
  },
  {
   "cell_type": "code",
   "execution_count": 67,
   "id": "38739f06",
   "metadata": {},
   "outputs": [
    {
     "data": {
      "text/plain": [
       "Intercept    0.679658\n",
       "age          0.654140\n",
       "sex          0.051523\n",
       "dtype: float64"
      ]
     },
     "execution_count": 67,
     "metadata": {},
     "output_type": "execute_result"
    }
   ],
   "source": [
    "p_values[p_values >= 0.05]"
   ]
  },
  {
   "cell_type": "code",
   "execution_count": 77,
   "id": "d634f7c6",
   "metadata": {},
   "outputs": [
    {
     "name": "stdout",
     "output_type": "stream",
     "text": [
      "Optimization terminated successfully.\n",
      "         Current function value: 0.548382\n",
      "         Iterations 6\n"
     ]
    },
    {
     "data": {
      "text/html": [
       "<table class=\"simpletable\">\n",
       "<caption>Logit Regression Results</caption>\n",
       "<tr>\n",
       "  <th>Dep. Variable:</th>        <td>target</td>      <th>  No. Observations:  </th>  <td>   442</td>  \n",
       "</tr>\n",
       "<tr>\n",
       "  <th>Model:</th>                 <td>Logit</td>      <th>  Df Residuals:      </th>  <td>   439</td>  \n",
       "</tr>\n",
       "<tr>\n",
       "  <th>Method:</th>                 <td>MLE</td>       <th>  Df Model:          </th>  <td>     2</td>  \n",
       "</tr>\n",
       "<tr>\n",
       "  <th>Date:</th>            <td>Tue, 17 Jun 2025</td> <th>  Pseudo R-squ.:     </th>  <td>0.2089</td>  \n",
       "</tr>\n",
       "<tr>\n",
       "  <th>Time:</th>                <td>21:53:16</td>     <th>  Log-Likelihood:    </th> <td> -242.39</td> \n",
       "</tr>\n",
       "<tr>\n",
       "  <th>converged:</th>             <td>True</td>       <th>  LL-Null:           </th> <td> -306.37</td> \n",
       "</tr>\n",
       "<tr>\n",
       "  <th>Covariance Type:</th>     <td>nonrobust</td>    <th>  LLR p-value:       </th> <td>1.626e-28</td>\n",
       "</tr>\n",
       "</table>\n",
       "<table class=\"simpletable\">\n",
       "<tr>\n",
       "      <td></td>         <th>coef</th>     <th>std err</th>      <th>z</th>      <th>P>|z|</th>  <th>[0.025</th>    <th>0.975]</th>  \n",
       "</tr>\n",
       "<tr>\n",
       "  <th>Intercept</th> <td>    0.0403</td> <td>    0.111</td> <td>    0.363</td> <td> 0.717</td> <td>   -0.177</td> <td>    0.258</td>\n",
       "</tr>\n",
       "<tr>\n",
       "  <th>bmi</th>       <td>   21.2153</td> <td>    2.934</td> <td>    7.230</td> <td> 0.000</td> <td>   15.464</td> <td>   26.966</td>\n",
       "</tr>\n",
       "<tr>\n",
       "  <th>bp</th>        <td>   12.0247</td> <td>    2.627</td> <td>    4.578</td> <td> 0.000</td> <td>    6.876</td> <td>   17.173</td>\n",
       "</tr>\n",
       "</table>"
      ],
      "text/latex": [
       "\\begin{center}\n",
       "\\begin{tabular}{lclc}\n",
       "\\toprule\n",
       "\\textbf{Dep. Variable:}   &      target      & \\textbf{  No. Observations:  } &      442    \\\\\n",
       "\\textbf{Model:}           &      Logit       & \\textbf{  Df Residuals:      } &      439    \\\\\n",
       "\\textbf{Method:}          &       MLE        & \\textbf{  Df Model:          } &        2    \\\\\n",
       "\\textbf{Date:}            & Tue, 17 Jun 2025 & \\textbf{  Pseudo R-squ.:     } &   0.2089    \\\\\n",
       "\\textbf{Time:}            &     21:53:16     & \\textbf{  Log-Likelihood:    } &   -242.39   \\\\\n",
       "\\textbf{converged:}       &       True       & \\textbf{  LL-Null:           } &   -306.37   \\\\\n",
       "\\textbf{Covariance Type:} &    nonrobust     & \\textbf{  LLR p-value:       } & 1.626e-28   \\\\\n",
       "\\bottomrule\n",
       "\\end{tabular}\n",
       "\\begin{tabular}{lcccccc}\n",
       "                   & \\textbf{coef} & \\textbf{std err} & \\textbf{z} & \\textbf{P$> |$z$|$} & \\textbf{[0.025} & \\textbf{0.975]}  \\\\\n",
       "\\midrule\n",
       "\\textbf{Intercept} &       0.0403  &        0.111     &     0.363  &         0.717        &       -0.177    &        0.258     \\\\\n",
       "\\textbf{bmi}       &      21.2153  &        2.934     &     7.230  &         0.000        &       15.464    &       26.966     \\\\\n",
       "\\textbf{bp}        &      12.0247  &        2.627     &     4.578  &         0.000        &        6.876    &       17.173     \\\\\n",
       "\\bottomrule\n",
       "\\end{tabular}\n",
       "%\\caption{Logit Regression Results}\n",
       "\\end{center}"
      ],
      "text/plain": [
       "<class 'statsmodels.iolib.summary.Summary'>\n",
       "\"\"\"\n",
       "                           Logit Regression Results                           \n",
       "==============================================================================\n",
       "Dep. Variable:                 target   No. Observations:                  442\n",
       "Model:                          Logit   Df Residuals:                      439\n",
       "Method:                           MLE   Df Model:                            2\n",
       "Date:                Tue, 17 Jun 2025   Pseudo R-squ.:                  0.2089\n",
       "Time:                        21:53:16   Log-Likelihood:                -242.39\n",
       "converged:                       True   LL-Null:                       -306.37\n",
       "Covariance Type:            nonrobust   LLR p-value:                 1.626e-28\n",
       "==============================================================================\n",
       "                 coef    std err          z      P>|z|      [0.025      0.975]\n",
       "------------------------------------------------------------------------------\n",
       "Intercept      0.0403      0.111      0.363      0.717      -0.177       0.258\n",
       "bmi           21.2153      2.934      7.230      0.000      15.464      26.966\n",
       "bp            12.0247      2.627      4.578      0.000       6.876      17.173\n",
       "==============================================================================\n",
       "\"\"\""
      ]
     },
     "execution_count": 77,
     "metadata": {},
     "output_type": "execute_result"
    }
   ],
   "source": [
    "import statsmodels.formula.api as smf\n",
    "\n",
    "new_model = smf.logit('target ~ bmi+bp', data=df).fit()\n",
    "\n",
    "new_model.summary()"
   ]
  },
  {
   "cell_type": "code",
   "execution_count": 78,
   "id": "a0e56dc3",
   "metadata": {},
   "outputs": [
    {
     "data": {
      "text/plain": [
       "11.09340765301607"
      ]
     },
     "execution_count": 78,
     "metadata": {},
     "output_type": "execute_result"
    }
   ],
   "source": [
    "new_model.params.mean()"
   ]
  },
  {
   "cell_type": "code",
   "execution_count": 83,
   "id": "939ae740",
   "metadata": {},
   "outputs": [
    {
     "data": {
      "text/plain": [
       "Intercept     0.040255\n",
       "bmi          21.215278\n",
       "bp           12.024689\n",
       "dtype: float64"
      ]
     },
     "execution_count": 83,
     "metadata": {},
     "output_type": "execute_result"
    }
   ],
   "source": [
    "new_model.params"
   ]
  },
  {
   "cell_type": "code",
   "execution_count": null,
   "id": "ff6e9951",
   "metadata": {},
   "outputs": [
    {
     "data": {
      "text/plain": [
       "65736.37163328465"
      ]
     },
     "execution_count": 82,
     "metadata": {},
     "output_type": "execute_result"
    }
   ],
   "source": [
    "# 오즈비를 구하세요!\n",
    "# 오즈비는 np.exp(회귀계수)\n",
    "\n",
    "np.exp(new_model.params.mean())"
   ]
  },
  {
   "cell_type": "code",
   "execution_count": 85,
   "id": "fd2d704e",
   "metadata": {},
   "outputs": [
    {
     "data": {
      "text/plain": [
       "Intercept     0.046241\n",
       "age           1.130876\n",
       "sex          -4.767892\n",
       "bmi          21.100453\n",
       "bp           12.996251\n",
       "dtype: float64"
      ]
     },
     "execution_count": 85,
     "metadata": {},
     "output_type": "execute_result"
    }
   ],
   "source": [
    "model.params"
   ]
  },
  {
   "cell_type": "code",
   "execution_count": 86,
   "id": "729e5840",
   "metadata": {},
   "outputs": [
    {
     "data": {
      "text/plain": [
       "3.0983694833319757"
      ]
     },
     "execution_count": 86,
     "metadata": {},
     "output_type": "execute_result"
    }
   ],
   "source": [
    "np.exp( 1.130876)"
   ]
  },
  {
   "cell_type": "code",
   "execution_count": null,
   "id": "29a83578",
   "metadata": {},
   "outputs": [],
   "source": []
  }
 ],
 "metadata": {
  "kernelspec": {
   "display_name": "tf",
   "language": "python",
   "name": "python3"
  },
  "language_info": {
   "codemirror_mode": {
    "name": "ipython",
    "version": 3
   },
   "file_extension": ".py",
   "mimetype": "text/x-python",
   "name": "python",
   "nbconvert_exporter": "python",
   "pygments_lexer": "ipython3",
   "version": "3.8.13"
  }
 },
 "nbformat": 4,
 "nbformat_minor": 5
}
