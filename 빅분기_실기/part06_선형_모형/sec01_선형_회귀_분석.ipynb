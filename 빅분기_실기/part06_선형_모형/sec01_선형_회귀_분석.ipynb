{
 "cells": [
  {
   "cell_type": "markdown",
   "id": "7f8e46b2",
   "metadata": {},
   "source": [
    "#### 상관계수"
   ]
  },
  {
   "cell_type": "markdown",
   "id": "7b914d51",
   "metadata": {},
   "source": [
    "- 피어슨 상관계수\n",
    "    - 두 변수 간의 선형 관계 측정하는 통계적 지표\n",
    "    "
   ]
  },
  {
   "cell_type": "code",
   "execution_count": null,
   "id": "abf75d52",
   "metadata": {},
   "outputs": [
    {
     "name": "stdout",
     "output_type": "stream",
     "text": [
      "0.9984018457335851\n",
      "0.0001\n"
     ]
    }
   ],
   "source": [
    "# 데이터 생성\n",
    "import numpy as np\n",
    "import scipy.stats as stats\n",
    "\n",
    "x = np.array([10, 20, 30, 40, 50])\n",
    "y = np.array([5, 15, 25, 35, 48])\n",
    "\n",
    "\n",
    "# 피어슨 상관계수와 p-value 계산\n",
    "corr_coeff, p_value = stats.pearsonr(x, y)\n",
    "\n",
    "print(corr_coeff)\n",
    "print(np.round(p_value, 4))\n",
    "\n",
    "# 높은 상관 관계가 존재하고 유의수준 5%에서 통계적 유의성 존재"
   ]
  },
  {
   "cell_type": "markdown",
   "id": "56b5cecb",
   "metadata": {},
   "source": [
    "- 다중 선형 회귀"
   ]
  },
  {
   "cell_type": "code",
   "execution_count": 11,
   "id": "1f3fb45b",
   "metadata": {},
   "outputs": [],
   "source": [
    "import numpy as np\n",
    "import pandas as pd\n",
    "from sklearn.datasets import load_iris\n",
    "\n",
    "# 데이터 로드\n",
    "df_iris = load_iris()\n",
    "\n",
    "# 데이터 프레임 변경\n",
    "iris = pd.DataFrame(data=df_iris.data, columns=df_iris.feature_names)\n",
    "iris.columns = ['Sepal_Length', 'Sepal_Width', 'Petal_Length','Petal_Width'] # 컬럼 변경시\n",
    "\n",
    "# 타겟 클래스 추가\n",
    "iris['species'] = df_iris.target\n",
    "\n",
    "# 클래스 라벨 실제 이름 변환\n",
    "iris['species'] = iris['species'].map({0: 'setosa', 1:'versicolor', 2: 'virginica'})"
   ]
  },
  {
   "cell_type": "markdown",
   "id": "76965aa7",
   "metadata": {},
   "source": [
    "#### 방법 1 Formula API"
   ]
  },
  {
   "cell_type": "code",
   "execution_count": null,
   "id": "e8ba7b74",
   "metadata": {},
   "outputs": [
    {
     "name": "stdout",
     "output_type": "stream",
     "text": [
      "                            OLS Regression Results                            \n",
      "==============================================================================\n",
      "Dep. Variable:           Petal_Length   R-squared:                       0.949\n",
      "Model:                            OLS   Adj. R-squared:                  0.948\n",
      "Method:                 Least Squares   F-statistic:                     1354.\n",
      "Date:                Tue, 17 Jun 2025   Prob (F-statistic):           2.01e-95\n",
      "Time:                        15:34:04   Log-Likelihood:                -75.090\n",
      "No. Observations:                 150   AIC:                             156.2\n",
      "Df Residuals:                     147   BIC:                             165.2\n",
      "Df Model:                           2                                         \n",
      "Covariance Type:            nonrobust                                         \n",
      "================================================================================\n",
      "                   coef    std err          t      P>|t|      [0.025      0.975]\n",
      "--------------------------------------------------------------------------------\n",
      "Intercept       -1.5071      0.337     -4.473      0.000      -2.173      -0.841\n",
      "Petal_Width      1.7481      0.075     23.205      0.000       1.599       1.897\n",
      "Sepal_Length     0.5423      0.069      7.820      0.000       0.405       0.679\n",
      "==============================================================================\n",
      "Omnibus:                        1.243   Durbin-Watson:                   1.339\n",
      "Prob(Omnibus):                  0.537   Jarque-Bera (JB):                0.840\n",
      "Skew:                          -0.058   Prob(JB):                        0.657\n",
      "Kurtosis:                       3.348   Cond. No.                         64.7\n",
      "==============================================================================\n",
      "\n",
      "Notes:\n",
      "[1] Standard Errors assume that the covariance matrix of the errors is correctly specified.\n"
     ]
    }
   ],
   "source": [
    "# 방법 1 Formula API\n",
    "\n",
    "import statsmodels.api as sm\n",
    "import statsmodels.formula.api as smf\n",
    "\n",
    "model = smf.ols('Petal_Length ~ Petal_Width + Sepal_Length', data= iris).fit() # y(Petal_Length/종속변수) ~ x1,x2(Petal_Width, Sepal_Length / 독립변수) 형식 컬럼이름 맞춰야함\n",
    "print(model.summary())"
   ]
  },
  {
   "cell_type": "code",
   "execution_count": null,
   "id": "e9ecffb0",
   "metadata": {},
   "outputs": [],
   "source": [
    "model = smf.glm('Petal_Length ~ Petal_Width + Sepal_Length', family = sm.families.Gaussian(), data=iris).fit()\n",
    "\n",
    "\n",
    "# family = sm.families.Gaussian()는 다중 선형회귀 모형을 의미\n",
    "\n",
    "# smf.ols는 smf.glm에 비해 선형회귀에 특화된 가설 검정 결과 제공\n"
   ]
  },
  {
   "cell_type": "code",
   "execution_count": null,
   "id": "3e4944fb",
   "metadata": {},
   "outputs": [],
   "source": [
    "# 독립 변수로 범주형 변수가 존재하는 경우 C()로 범주형 변수 명시\n",
    "\n",
    "import statsmodels.api as sm\n",
    "import statsmodels.formula.api as smf\n",
    "\n",
    "model = smf.ols('Petal_Length ~ Petal_Width + Sepal_Length + C(species)', data=iris).fit()"
   ]
  },
  {
   "cell_type": "markdown",
   "id": "144530aa",
   "metadata": {},
   "source": [
    "#### 방법 2: 행렬 활용"
   ]
  },
  {
   "cell_type": "code",
   "execution_count": 22,
   "id": "640d2935",
   "metadata": {},
   "outputs": [
    {
     "name": "stdout",
     "output_type": "stream",
     "text": [
      "                            OLS Regression Results                            \n",
      "==============================================================================\n",
      "Dep. Variable:           Petal_Length   R-squared:                       0.949\n",
      "Model:                            OLS   Adj. R-squared:                  0.948\n",
      "Method:                 Least Squares   F-statistic:                     1354.\n",
      "Date:                Tue, 17 Jun 2025   Prob (F-statistic):           2.01e-95\n",
      "Time:                        15:48:11   Log-Likelihood:                -75.090\n",
      "No. Observations:                 150   AIC:                             156.2\n",
      "Df Residuals:                     147   BIC:                             165.2\n",
      "Df Model:                           2                                         \n",
      "Covariance Type:            nonrobust                                         \n",
      "================================================================================\n",
      "                   coef    std err          t      P>|t|      [0.025      0.975]\n",
      "--------------------------------------------------------------------------------\n",
      "const           -1.5071      0.337     -4.473      0.000      -2.173      -0.841\n",
      "Petal_Width      1.7481      0.075     23.205      0.000       1.599       1.897\n",
      "Sepal_Length     0.5423      0.069      7.820      0.000       0.405       0.679\n",
      "==============================================================================\n",
      "Omnibus:                        1.243   Durbin-Watson:                   1.339\n",
      "Prob(Omnibus):                  0.537   Jarque-Bera (JB):                0.840\n",
      "Skew:                          -0.058   Prob(JB):                        0.657\n",
      "Kurtosis:                       3.348   Cond. No.                         64.7\n",
      "==============================================================================\n",
      "\n",
      "Notes:\n",
      "[1] Standard Errors assume that the covariance matrix of the errors is correctly specified.\n"
     ]
    }
   ],
   "source": [
    "import statsmodels.api as sm\n",
    "\n",
    "X = iris[['Petal_Width', 'Sepal_Length']]\n",
    "y = iris['Petal_Length']\n",
    "\n",
    "X = sm.add_constant(X) # 상수항 즉 절편 추가\n",
    "\n",
    "# 다중회귀 분석 모델 적합 \n",
    "model = sm.OLS(y, X).fit()\n",
    "\n",
    "# 회귀계수 출력\n",
    "print(model.summary())"
   ]
  },
  {
   "cell_type": "code",
   "execution_count": 24,
   "id": "21cd498d",
   "metadata": {},
   "outputs": [],
   "source": [
    "model = smf.glm(\"Petal_Length ~ Petal_Width + Sepal_Length\", family = sm.families.Gaussian(), data=iris).fit()"
   ]
  },
  {
   "cell_type": "code",
   "execution_count": 30,
   "id": "2e486531",
   "metadata": {},
   "outputs": [],
   "source": [
    "# 독립변수로 범주형 변수가 존재하는 경우, 사전에 더미인코딩 적용\n",
    "\n",
    "model = smf.glm(\"Petal_Length ~ Petal_Width + Sepal_Length\", family = sm.families.Gaussian(), data=iris).fit()\n",
    "\n",
    "# 독립변수 (Petal_Width, Sepal_Length) + 범주형 변수 species 추가\n",
    "X = iris[['Petal_Width', 'Sepal_Length', 'species']]\n",
    "\n",
    "# 범주형 변수\n",
    "X = pd.get_dummies(X, columns=[\"species\"], drop_first=True)\n",
    "X = X.astype(float) # 해줘야함\n",
    "y = iris['Petal_Length']\n",
    "X = sm.add_constant(X) # 절편 추가\n",
    "model = sm.OLS(y, X).fit()"
   ]
  },
  {
   "cell_type": "code",
   "execution_count": 31,
   "id": "86c2fe40",
   "metadata": {},
   "outputs": [
    {
     "name": "stdout",
     "output_type": "stream",
     "text": [
      "회귀계수가 가장 큰 변수 species_virginica\n"
     ]
    }
   ],
   "source": [
    "# 회귀계수에 따른 모델식\n",
    "\n",
    "coefficients = model.params[1:]\n",
    "print('회귀계수가 가장 큰 변수', coefficients.idxmax())"
   ]
  },
  {
   "cell_type": "code",
   "execution_count": 32,
   "id": "bf7929c6",
   "metadata": {},
   "outputs": [
    {
     "name": "stdout",
     "output_type": "stream",
     "text": [
      "t-values: const                 -6.519822\n",
      "Petal_Width            4.392751\n",
      "Sepal_Length          12.191282\n",
      "species_versicolor    13.566844\n",
      "species_virginica     11.617036\n",
      "dtype: float64\n",
      "p-values const                 1.092583e-09\n",
      "Petal_Width           2.147008e-05\n",
      "Sepal_Length          5.616327e-24\n",
      "species_versicolor    1.384126e-27\n",
      "species_virginica     1.824160e-22\n",
      "dtype: float64\n"
     ]
    }
   ],
   "source": [
    "t_values = model.tvalues\n",
    "print(\"t-values:\" , t_values)\n",
    "\n",
    "p_values = model.pvalues\n",
    "print('p-values', p_values)"
   ]
  },
  {
   "cell_type": "code",
   "execution_count": 33,
   "id": "80628cb9",
   "metadata": {},
   "outputs": [
    {
     "name": "stdout",
     "output_type": "stream",
     "text": [
      "                           0         1\n",
      "const              -1.902029 -1.017105\n",
      "Petal_Width         0.278559  0.734267\n",
      "Sepal_Length        0.468146  0.649309\n",
      "species_versicolor  1.479213  1.983701\n",
      "species_virginica   1.912572  2.696783\n"
     ]
    }
   ],
   "source": [
    "# 신뢰 구간 추출\n",
    "\n",
    "conf_intervals = model.conf_int()\n",
    "print(conf_intervals)"
   ]
  },
  {
   "cell_type": "code",
   "execution_count": 34,
   "id": "00c87a15",
   "metadata": {},
   "outputs": [
    {
     "name": "stdout",
     "output_type": "stream",
     "text": [
      "                           0         1\n",
      "const              -1.830162 -1.088972\n",
      "Petal_Width         0.315569  0.697258\n",
      "Sepal_Length        0.482859  0.634596\n",
      "species_versicolor  1.520184  1.942730\n",
      "species_virginica   1.976261  2.633095\n"
     ]
    }
   ],
   "source": [
    "# 유의수준 변경 \n",
    "conf_intervals_90 = model.conf_int(alpha = 0.1) # 90% 신뢰구간\n",
    "print(conf_intervals_90)"
   ]
  },
  {
   "cell_type": "markdown",
   "id": "795da5ba",
   "metadata": {},
   "source": [
    "#### 더미 변수 함정"
   ]
  },
  {
   "cell_type": "code",
   "execution_count": 41,
   "id": "3015d1a0",
   "metadata": {},
   "outputs": [],
   "source": [
    "import pandas as pd\n",
    "import statsmodels.api as sm\n",
    "\n",
    "# 샘플 데이터 생성\n",
    "data = {\n",
    "    'color': ['red', 'blue','green', 'red', 'green', 'red', 'green', 'blue', 'green', 'red'],\n",
    "    'size': [1,2,3,1,3,5,9,2,9,10],\n",
    "    'price': [10,20,30,10,30,55,29,10,25,12]\n",
    "}\n",
    "df=pd.DataFrame(data)"
   ]
  },
  {
   "cell_type": "code",
   "execution_count": 42,
   "id": "5c678bb6",
   "metadata": {},
   "outputs": [
    {
     "name": "stdout",
     "output_type": "stream",
     "text": [
      "   size  price  color_green  color_red\n",
      "0     1     10        False       True\n",
      "1     2     20        False      False\n",
      "2     3     30         True      False\n",
      "3     1     10        False       True\n",
      "4     3     30         True      False\n",
      "5     5     55        False       True\n",
      "6     9     29         True      False\n",
      "7     2     10        False      False\n",
      "8     9     25         True      False\n",
      "9    10     12        False       True\n"
     ]
    }
   ],
   "source": [
    "# 범주형 변수 더미 코딩 (drop=first = True로 기준 범수 제거) -> 다중공선성 제거\n",
    "df_dummies = pd.get_dummies(df, columns=['color'], drop_first = True)\n",
    "print(df_dummies)"
   ]
  },
  {
   "cell_type": "code",
   "execution_count": 43,
   "id": "808bd372",
   "metadata": {},
   "outputs": [
    {
     "name": "stdout",
     "output_type": "stream",
     "text": [
      "                            OLS Regression Results                            \n",
      "==============================================================================\n",
      "Dep. Variable:                  price   R-squared:                       0.146\n",
      "Model:                            OLS   Adj. R-squared:                 -0.280\n",
      "Method:                 Least Squares   F-statistic:                    0.3430\n",
      "Date:                Tue, 17 Jun 2025   Prob (F-statistic):              0.796\n",
      "Time:                        16:49:20   Log-Likelihood:                -39.360\n",
      "No. Observations:                  10   AIC:                             86.72\n",
      "Df Residuals:                       6   BIC:                             87.93\n",
      "Df Model:                           3                                         \n",
      "Covariance Type:            nonrobust                                         \n",
      "===============================================================================\n",
      "                  coef    std err          t      P>|t|      [0.025      0.975]\n",
      "-------------------------------------------------------------------------------\n",
      "const          14.3994     11.800      1.220      0.268     -14.475      43.273\n",
      "size            0.3003      1.679      0.179      0.864      -3.809       4.409\n",
      "color_green    12.2989     15.397      0.799      0.455     -25.376      49.974\n",
      "color_red       6.0744     14.360      0.423      0.687     -29.064      41.213\n",
      "==============================================================================\n",
      "Omnibus:                       13.796   Durbin-Watson:                   1.777\n",
      "Prob(Omnibus):                  0.001   Jarque-Bera (JB):                6.788\n",
      "Skew:                           1.679   Prob(JB):                       0.0336\n",
      "Kurtosis:                       5.240   Cond. No.                         24.0\n",
      "==============================================================================\n",
      "\n",
      "Notes:\n",
      "[1] Standard Errors assume that the covariance matrix of the errors is correctly specified.\n"
     ]
    },
    {
     "name": "stderr",
     "output_type": "stream",
     "text": [
      "/opt/homebrew/Caskroom/miniforge/base/envs/tf/lib/python3.8/site-packages/scipy/stats/_stats_py.py:1736: UserWarning: kurtosistest only valid for n>=20 ... continuing anyway, n=10\n",
      "  warnings.warn(\"kurtosistest only valid for n>=20 ... continuing \"\n"
     ]
    }
   ],
   "source": [
    "# 종속 변수와 독립 변수 설정\n",
    "X = df_dummies[['size', 'color_green', 'color_red']]\n",
    "y = df_dummies['price']\n",
    "\n",
    "X = X.astype(float)\n",
    "y = y.astype(float)\n",
    "\n",
    "# 상수항 추가\n",
    "X = sm.add_constant(X)\n",
    "\n",
    "# 다중회귀모델 적합\n",
    "model = sm.OLS(y, X).fit()\n",
    "print(model.summary())"
   ]
  },
  {
   "cell_type": "code",
   "execution_count": 44,
   "id": "7e6a7ea2",
   "metadata": {},
   "outputs": [
    {
     "name": "stdout",
     "output_type": "stream",
     "text": [
      "                            OLS Regression Results                            \n",
      "==============================================================================\n",
      "Dep. Variable:                  price   R-squared:                       0.146\n",
      "Model:                            OLS   Adj. R-squared:                 -0.280\n",
      "Method:                 Least Squares   F-statistic:                    0.3430\n",
      "Date:                Tue, 17 Jun 2025   Prob (F-statistic):              0.796\n",
      "Time:                        16:51:36   Log-Likelihood:                -39.360\n",
      "No. Observations:                  10   AIC:                             86.72\n",
      "Df Residuals:                       6   BIC:                             87.93\n",
      "Df Model:                           3                                         \n",
      "Covariance Type:            nonrobust                                         \n",
      "=====================================================================================\n",
      "                        coef    std err          t      P>|t|      [0.025      0.975]\n",
      "-------------------------------------------------------------------------------------\n",
      "Intercept            14.3994     11.800      1.220      0.268     -14.475      43.273\n",
      "C(color)[T.green]    12.2989     15.397      0.799      0.455     -25.376      49.974\n",
      "C(color)[T.red]       6.0744     14.360      0.423      0.687     -29.064      41.213\n",
      "size                  0.3003      1.679      0.179      0.864      -3.809       4.409\n",
      "==============================================================================\n",
      "Omnibus:                       13.796   Durbin-Watson:                   1.777\n",
      "Prob(Omnibus):                  0.001   Jarque-Bera (JB):                6.788\n",
      "Skew:                           1.679   Prob(JB):                       0.0336\n",
      "Kurtosis:                       5.240   Cond. No.                         24.0\n",
      "==============================================================================\n",
      "\n",
      "Notes:\n",
      "[1] Standard Errors assume that the covariance matrix of the errors is correctly specified.\n"
     ]
    },
    {
     "name": "stderr",
     "output_type": "stream",
     "text": [
      "/opt/homebrew/Caskroom/miniforge/base/envs/tf/lib/python3.8/site-packages/scipy/stats/_stats_py.py:1736: UserWarning: kurtosistest only valid for n>=20 ... continuing anyway, n=10\n",
      "  warnings.warn(\"kurtosistest only valid for n>=20 ... continuing \"\n"
     ]
    }
   ],
   "source": [
    "# smf()를 활용\n",
    "# smf()는 C(범주형 변수)로 설정할 경우 자동으로 더미 인코딩 적용ㅇ\n",
    "\n",
    "import statsmodels.formula.api as smf\n",
    "\n",
    "# 회귀 분석 공식 설정\n",
    "formula = 'price ~ size + C(color)'\n",
    "\n",
    "# 회귀 모델 적합\n",
    "model = smf.ols(formula, data=df).fit()\n",
    "\n",
    "# 모델 요약 출력\n",
    "print(model.summary())"
   ]
  },
  {
   "cell_type": "markdown",
   "id": "7e3c0bce",
   "metadata": {},
   "source": [
    "#### 모델 평가\n",
    "1. 모델 평가 지표\n",
    "    1. 결정계수(R-squared)\n",
    "        - 회귀 직선의 성능을 평가하는 지표"
   ]
  },
  {
   "cell_type": "code",
   "execution_count": 46,
   "id": "9d0f2f2a",
   "metadata": {},
   "outputs": [
    {
     "name": "stdout",
     "output_type": "stream",
     "text": [
      "R-squared: 0.15\n"
     ]
    }
   ],
   "source": [
    "# 결정계수\n",
    "\n",
    "print('R-squared:', np.round(model.rsquared, 2))"
   ]
  },
  {
   "cell_type": "code",
   "execution_count": null,
   "id": "8aaa8392",
   "metadata": {},
   "outputs": [
    {
     "name": "stdout",
     "output_type": "stream",
     "text": [
      "-0.28\n"
     ]
    }
   ],
   "source": [
    "# 수정 결정계수: 모델 복잡도를 고려한 지표 / 일반적으로 모델에 들어있는 독립변수 개수 p가 늘어나면 r-squared도 높아지는 경향을 보임\n",
    "print(np.round(model.rsquared_adj, 2))"
   ]
  },
  {
   "cell_type": "code",
   "execution_count": 49,
   "id": "48ff0ed8",
   "metadata": {},
   "outputs": [
    {
     "name": "stdout",
     "output_type": "stream",
     "text": [
      "f-statistic 0.343\n",
      "porb (f-statistic) F통계량에대한 p_value 0.7958\n"
     ]
    }
   ],
   "source": [
    "# f-statistic: f통계량은 회귀 모델의 유의성을 평가하는 지표\n",
    "print('f-statistic', np.round(model.fvalue, 4))\n",
    "print('porb (f-statistic) F통계량에대한 p_value', np.round(model.f_pvalue, 4))"
   ]
  },
  {
   "cell_type": "code",
   "execution_count": 50,
   "id": "b3eee298",
   "metadata": {},
   "outputs": [
    {
     "name": "stdout",
     "output_type": "stream",
     "text": [
      "AIC 86.72\n",
      "BIC 87.93\n"
     ]
    }
   ],
   "source": [
    "# AIC, BIC\n",
    "\n",
    "print('AIC', np.round(model.aic,2))\n",
    "print('BIC', np.round(model.bic,2))"
   ]
  },
  {
   "cell_type": "markdown",
   "id": "584a5bed",
   "metadata": {},
   "source": [
    "2) 모델 비교하기 - model1 vs model2"
   ]
  },
  {
   "cell_type": "code",
   "execution_count": null,
   "id": "e2794a10",
   "metadata": {},
   "outputs": [
    {
     "name": "stdout",
     "output_type": "stream",
     "text": [
      "   df_resid        ssr  df_diff    ss_diff          F        Pr(>F)\n",
      "0     148.0  33.844753      0.0        NaN        NaN           NaN\n",
      "1     146.0  14.852948      2.0  18.991805  93.341859  7.752746e-27\n"
     ]
    }
   ],
   "source": [
    "# f-검정\n",
    "\n",
    "import statsmodels.api as sm\n",
    "from statsmodels.formula.api import ols\n",
    "\n",
    "model1 = ols('Petal_Length ~ Petal_Width', data=iris).fit()\n",
    "model2 = ols('Petal_Length ~ Petal_Width + Sepal_Length +Sepal_Width', data=iris).fit()\n",
    "\n",
    "table = sm.stats.anova_lm(model1, model2) #anova\n",
    "print(table)\n",
    "\n",
    "# reduced 모델이 첫번째, full모델이 두번째"
   ]
  },
  {
   "cell_type": "code",
   "execution_count": 51,
   "id": "70b82289",
   "metadata": {},
   "outputs": [
    {
     "data": {
      "text/html": [
       "<div>\n",
       "<style scoped>\n",
       "    .dataframe tbody tr th:only-of-type {\n",
       "        vertical-align: middle;\n",
       "    }\n",
       "\n",
       "    .dataframe tbody tr th {\n",
       "        vertical-align: top;\n",
       "    }\n",
       "\n",
       "    .dataframe thead th {\n",
       "        text-align: right;\n",
       "    }\n",
       "</style>\n",
       "<table border=\"1\" class=\"dataframe\">\n",
       "  <thead>\n",
       "    <tr style=\"text-align: right;\">\n",
       "      <th></th>\n",
       "      <th>Sepal_Length</th>\n",
       "      <th>Sepal_Width</th>\n",
       "      <th>Petal_Length</th>\n",
       "      <th>Petal_Width</th>\n",
       "      <th>species</th>\n",
       "    </tr>\n",
       "  </thead>\n",
       "  <tbody>\n",
       "    <tr>\n",
       "      <th>0</th>\n",
       "      <td>5.1</td>\n",
       "      <td>3.5</td>\n",
       "      <td>1.4</td>\n",
       "      <td>0.2</td>\n",
       "      <td>setosa</td>\n",
       "    </tr>\n",
       "    <tr>\n",
       "      <th>1</th>\n",
       "      <td>4.9</td>\n",
       "      <td>3.0</td>\n",
       "      <td>1.4</td>\n",
       "      <td>0.2</td>\n",
       "      <td>setosa</td>\n",
       "    </tr>\n",
       "    <tr>\n",
       "      <th>2</th>\n",
       "      <td>4.7</td>\n",
       "      <td>3.2</td>\n",
       "      <td>1.3</td>\n",
       "      <td>0.2</td>\n",
       "      <td>setosa</td>\n",
       "    </tr>\n",
       "    <tr>\n",
       "      <th>3</th>\n",
       "      <td>4.6</td>\n",
       "      <td>3.1</td>\n",
       "      <td>1.5</td>\n",
       "      <td>0.2</td>\n",
       "      <td>setosa</td>\n",
       "    </tr>\n",
       "    <tr>\n",
       "      <th>4</th>\n",
       "      <td>5.0</td>\n",
       "      <td>3.6</td>\n",
       "      <td>1.4</td>\n",
       "      <td>0.2</td>\n",
       "      <td>setosa</td>\n",
       "    </tr>\n",
       "  </tbody>\n",
       "</table>\n",
       "</div>"
      ],
      "text/plain": [
       "   Sepal_Length  Sepal_Width  Petal_Length  Petal_Width species\n",
       "0           5.1          3.5           1.4          0.2  setosa\n",
       "1           4.9          3.0           1.4          0.2  setosa\n",
       "2           4.7          3.2           1.3          0.2  setosa\n",
       "3           4.6          3.1           1.5          0.2  setosa\n",
       "4           5.0          3.6           1.4          0.2  setosa"
      ]
     },
     "execution_count": 51,
     "metadata": {},
     "output_type": "execute_result"
    }
   ],
   "source": [
    "iris.head()"
   ]
  },
  {
   "cell_type": "markdown",
   "id": "004ee837",
   "metadata": {},
   "source": [
    "#### 예측"
   ]
  },
  {
   "cell_type": "markdown",
   "id": "3796e4a4",
   "metadata": {},
   "source": []
  }
 ],
 "metadata": {
  "kernelspec": {
   "display_name": "tf",
   "language": "python",
   "name": "python3"
  },
  "language_info": {
   "codemirror_mode": {
    "name": "ipython",
    "version": 3
   },
   "file_extension": ".py",
   "mimetype": "text/x-python",
   "name": "python",
   "nbconvert_exporter": "python",
   "pygments_lexer": "ipython3",
   "version": "3.8.13"
  }
 },
 "nbformat": 4,
 "nbformat_minor": 5
}
