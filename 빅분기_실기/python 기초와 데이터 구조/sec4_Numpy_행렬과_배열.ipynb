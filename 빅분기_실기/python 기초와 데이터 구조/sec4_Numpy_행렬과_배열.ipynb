{
 "cells": [
  {
   "cell_type": "code",
   "execution_count": 2,
   "id": "08909c83",
   "metadata": {},
   "outputs": [
    {
     "name": "stdout",
     "output_type": "stream",
     "text": [
      "행렬:\n",
      " [[ 1 12]\n",
      " [ 2 13]\n",
      " [ 3 14]\n",
      " [ 4 15]]\n",
      "행렬의 크기: (4, 2)\n"
     ]
    }
   ],
   "source": [
    "# 두 벡터를 합쳐 행렬 생성\n",
    "\n",
    "import numpy as np\n",
    "\n",
    "matrix = np.column_stack((np.arange(1, 5), np.arange(12,16)))\n",
    "print('행렬:\\n', matrix)\n",
    "print('행렬의 크기:', matrix.shape)"
   ]
  },
  {
   "cell_type": "code",
   "execution_count": 4,
   "id": "65845a4f",
   "metadata": {},
   "outputs": [
    {
     "name": "stdout",
     "output_type": "stream",
     "text": [
      "빈 행렬 y:\n",
      " [[0. 0.]\n",
      " [0. 0.]]\n"
     ]
    }
   ],
   "source": [
    "# 2행 2열 빈 행렬 생성\n",
    "y = np.zeros((2,2))\n",
    "print('빈 행렬 y:\\n', y)"
   ]
  },
  {
   "cell_type": "code",
   "execution_count": null,
   "id": "88f70ff9",
   "metadata": {},
   "outputs": [],
   "source": []
  }
 ],
 "metadata": {
  "kernelspec": {
   "display_name": "tf",
   "language": "python",
   "name": "python3"
  },
  "language_info": {
   "codemirror_mode": {
    "name": "ipython",
    "version": 3
   },
   "file_extension": ".py",
   "mimetype": "text/x-python",
   "name": "python",
   "nbconvert_exporter": "python",
   "pygments_lexer": "ipython3",
   "version": "3.8.13"
  }
 },
 "nbformat": 4,
 "nbformat_minor": 5
}
