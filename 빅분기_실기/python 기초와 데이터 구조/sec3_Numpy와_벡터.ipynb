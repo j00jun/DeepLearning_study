{
 "cells": [
  {
   "cell_type": "code",
   "execution_count": 2,
   "id": "4e6fc0d5",
   "metadata": {},
   "outputs": [
    {
     "name": "stdout",
     "output_type": "stream",
     "text": [
      "Numeric Vector: [1 2 3 4 5]\n",
      "String Vector: ['apple' 'banana' 'orange']\n",
      "Boolean Vector: [ True False  True  True]\n"
     ]
    }
   ],
   "source": [
    "# numpy 숫자형, 문자형, 논리형 벡터 생성 예제\n",
    "\n",
    "import numpy as np\n",
    "\n",
    "a = np.array([1,2,3,4,5])\n",
    "b = np.array(['apple', 'banana', 'orange'])\n",
    "c = np.array([True, False, True, True])\n",
    "\n",
    "print('Numeric Vector:', a)\n",
    "print('String Vector:', b)\n",
    "print('Boolean Vector:', c)"
   ]
  },
  {
   "cell_type": "code",
   "execution_count": 9,
   "id": "fab64e27",
   "metadata": {},
   "outputs": [
    {
     "name": "stdout",
     "output_type": "stream",
     "text": [
      "빈 벡터 생성 [3. 5. 3.]\n",
      "채워진 벡터: [3. 5. 3.]\n"
     ]
    }
   ],
   "source": [
    "# 빈 배열 생성\n",
    "x = np.empty(3)\n",
    "print('빈 벡터 생성', x) # 메모리의 임의의 값을 가지며 시스템에 따라 다르다\n",
    "\n",
    "# 배열 채우기\n",
    "x[0] = 3\n",
    "x[1] = 5\n",
    "x[2] = 3\n",
    "print(\"채워진 벡터:\", x)"
   ]
  },
  {
   "cell_type": "markdown",
   "id": "1a634a4a",
   "metadata": {},
   "source": [
    "### 배열을 생성하면서 채우는 방법\n",
    "- np.array() : 함수로 직접 입력\n",
    "- np.arange() : 함수로 사용하여 일정한 간격의 숫자 배열 생성\n",
    "- np.linspace() : 함수를 사용하여 지정된 범위를 균일하게 나눈 숫자 배열 생성"
   ]
  },
  {
   "cell_type": "code",
   "execution_count": null,
   "id": "04a73da2",
   "metadata": {},
   "outputs": [
    {
     "name": "stdout",
     "output_type": "stream",
     "text": [
      "0부터 9까지 배열 [0 1 2 3 4 5 6 7 8 9]\n",
      "0부터 2미만 0.5 간격 출력 [0.  0.5 1.  1.5]\n"
     ]
    }
   ],
   "source": [
    "# np.arange([start, ], stop, [step,], dtype=None) 함수\n",
    "\n",
    "import numpy as np\n",
    "\n",
    "arr1 = np.arange(10)\n",
    "print('0부터 9까지 배열', arr1)\n",
    "\n",
    "arr2 = np.arange(0, 2, 0.5)\n",
    "print('0부터 2미만 0.5 간격 출력', arr2)"
   ]
  },
  {
   "cell_type": "markdown",
   "id": "e00cd232",
   "metadata": {},
   "source": [
    "### np.linspace()\n",
    "- 시작점과 종료점 사이의 균일한 간격의 숫자 배열 생성\n",
    "- np.linspace(start, stop, num=50, endpoint=True, restep=False, dtype=None)\n",
    "    - start: 시퀀스의 시작값\n",
    "    - stop: 시퀀스의 종료값, endpoint=True라면 해당 값이 배열에 포함\n",
    "    - endpoint: True인 경우 stop이 마지막 샘플로 포함\n",
    "    - restep: True인 경우 결과와 함께 샘플 간의 간격도 반환\n",
    "    - dtype: 배열의 데이터 타입을 지정"
   ]
  },
  {
   "cell_type": "code",
   "execution_count": 20,
   "id": "4ada2a4a",
   "metadata": {},
   "outputs": [
    {
     "name": "stdout",
     "output_type": "stream",
     "text": [
      "0부터 1까지 5개 값 [0.   0.25 0.5  0.75 1.  ]\n",
      "0부터 1까지 5개 값, end point 제외 [0.  0.2 0.4 0.6 0.8]\n"
     ]
    }
   ],
   "source": [
    "# np.linspace 함수 \n",
    "\n",
    "linear_space1 = np.linspace(0, 1, 5)\n",
    "print(\"0부터 1까지 5개 값\", linear_space1)\n",
    "\n",
    "# endpoint= false인 경우\n",
    "linear_space1 = np.linspace(0, 1, 5, endpoint=False)\n",
    "print(\"0부터 1까지 5개 값, end point 제외\", linear_space1)"
   ]
  },
  {
   "cell_type": "markdown",
   "id": "163b416a",
   "metadata": {},
   "source": [
    "### np.repeat()\n",
    "- 반복되는 요소를 배열로 생성\n",
    "- np.repeat(a, repeats, axis=None)\n",
    "    - a: 반복할 입력 배열\n",
    "    - repeats: 각 요소를 반복할 횟수\n",
    "    - axis: 반복을 적용할 축을 지정, 기본값 none, 배열을 평평하게 만든 후 반복"
   ]
  },
  {
   "cell_type": "code",
   "execution_count": null,
   "id": "15802c13",
   "metadata": {},
   "outputs": [
    {
     "name": "stdout",
     "output_type": "stream",
     "text": [
      "8을 4번 반복 [8 8 8 8]\n"
     ]
    }
   ],
   "source": [
    "# 단일 값 반복\n",
    "\n",
    "repeated_vals = np.repeat(8, 4)\n",
    "\n",
    "print(\"8을 4번 반복\", repeated_vals)"
   ]
  },
  {
   "cell_type": "code",
   "execution_count": 23,
   "id": "c7f1da4a",
   "metadata": {},
   "outputs": [
    {
     "name": "stdout",
     "output_type": "stream",
     "text": [
      "배열 [1,2,4] 두번 반복 [1 1 2 2 4 4]\n"
     ]
    }
   ],
   "source": [
    "# 배열 반복\n",
    "\n",
    "repeated_array = np.repeat([1,2,4], 2)\n",
    "print('배열 [1,2,4] 두번 반복', repeated_array)"
   ]
  },
  {
   "cell_type": "code",
   "execution_count": 25,
   "id": "bf4a4df1",
   "metadata": {},
   "outputs": [
    {
     "name": "stdout",
     "output_type": "stream",
     "text": [
      "각 배열의 요소 반복 [1 2 2 4 4 4]\n"
     ]
    }
   ],
   "source": [
    "# 각 요소를 반복\n",
    "\n",
    "repeated_each = np.repeat([1,2,4], repeats=[1,2,3])\n",
    "print('각 배열의 요소 반복', repeated_each)"
   ]
  },
  {
   "cell_type": "markdown",
   "id": "046cb768",
   "metadata": {},
   "source": [
    "### np.tile()\n",
    "- 벡터 전체 반복\n",
    "- np.tile(a, reps)\n",
    "    - a: 반복할 입력 배열\n",
    "    - reps: 반복할 횟수"
   ]
  },
  {
   "cell_type": "code",
   "execution_count": 26,
   "id": "31b438f7",
   "metadata": {},
   "outputs": [
    {
     "name": "stdout",
     "output_type": "stream",
     "text": [
      "전체 배열을 두 번 반복 [1 2 4 1 2 4]\n"
     ]
    }
   ],
   "source": [
    "repeated_whole = np.tile([1,2,4], 2)\n",
    "print('전체 배열을 두 번 반복', repeated_whole)"
   ]
  },
  {
   "cell_type": "markdown",
   "id": "25ab3751",
   "metadata": {},
   "source": [
    "### 벡터의 길이"
   ]
  },
  {
   "cell_type": "code",
   "execution_count": null,
   "id": "0d325e71",
   "metadata": {},
   "outputs": [
    {
     "data": {
      "text/plain": [
       "5"
      ]
     },
     "execution_count": 28,
     "metadata": {},
     "output_type": "execute_result"
    }
   ],
   "source": [
    "# len으로 길이 구하기\n",
    "\n",
    "import numpy as np\n",
    "a = np.array([1,2,3,4,5])\n",
    "len(a)"
   ]
  },
  {
   "cell_type": "code",
   "execution_count": 29,
   "id": "ae50e034",
   "metadata": {},
   "outputs": [
    {
     "data": {
      "text/plain": [
       "(5,)"
      ]
     },
     "execution_count": 29,
     "metadata": {},
     "output_type": "execute_result"
    }
   ],
   "source": [
    "# shape 속성으로 크기 구하기\n",
    "a = np.array([1,2,3,4,5])\n",
    "a.shape"
   ]
  },
  {
   "cell_type": "code",
   "execution_count": 30,
   "id": "ad90e965",
   "metadata": {},
   "outputs": [
    {
     "data": {
      "text/plain": [
       "5"
      ]
     },
     "execution_count": 30,
     "metadata": {},
     "output_type": "execute_result"
    }
   ],
   "source": [
    "# size 속성으로 전체 요소 수 구하기 (배열의 모든 요소의 개수)\n",
    "\n",
    "a = np.array([1,2,3,4,5])\n",
    "a.size\n",
    "\n"
   ]
  },
  {
   "cell_type": "markdown",
   "id": "fb61b9b8",
   "metadata": {},
   "source": [
    "### numpy 벡터 슬라이싱(slicing)\n"
   ]
  },
  {
   "cell_type": "code",
   "execution_count": 32,
   "id": "de32a85a",
   "metadata": {},
   "outputs": [
    {
     "name": "stdout",
     "output_type": "stream",
     "text": [
      "[ 7 20 15 11  8  7 19 11 11  4]\n",
      "20\n"
     ]
    }
   ],
   "source": [
    "# 벡터 슬라이싱 예제\n",
    "\n",
    "import numpy as np\n",
    "\n",
    "np.random.seed(42)\n",
    "a = np.random.randint(1, 21, 10)\n",
    "print(a)\n",
    "print(a[1])"
   ]
  },
  {
   "cell_type": "code",
   "execution_count": null,
   "id": "42c03eb1",
   "metadata": {},
   "outputs": [
    {
     "name": "stdout",
     "output_type": "stream",
     "text": [
      "[15 11  8]\n"
     ]
    }
   ],
   "source": [
    "# 3번째 값부터 다섯 번째 값 추출\n",
    "print(a[2:5])"
   ]
  },
  {
   "cell_type": "code",
   "execution_count": null,
   "id": "12402b14",
   "metadata": {},
   "outputs": [
    {
     "name": "stdout",
     "output_type": "stream",
     "text": [
      "[ 7 15  8]\n",
      "[ 7 15 11  8  7 19 11 11  4]\n"
     ]
    }
   ],
   "source": [
    "# 첫번째 세번째, 다섯 번째 값 추출\n",
    "print(a[[0,2,4]])\n",
    "# a 배열 중 두번 째 값 제외하고 추출\n",
    "print(np.delete(a, 1))"
   ]
  },
  {
   "cell_type": "code",
   "execution_count": null,
   "id": "8f39ce9d",
   "metadata": {},
   "outputs": [
    {
     "name": "stdout",
     "output_type": "stream",
     "text": [
      "[ 7 20 15 11  8  7 19 11 11  4]\n",
      "[20 20 11 15]\n"
     ]
    }
   ],
   "source": [
    "# 인덱싱 중복 선택\n",
    "print(a)\n",
    "print(a[[1,1,3,2]])"
   ]
  },
  {
   "cell_type": "code",
   "execution_count": null,
   "id": "29f238a1",
   "metadata": {},
   "outputs": [
    {
     "name": "stdout",
     "output_type": "stream",
     "text": [
      "[ 7 20 15 11  8  7 19 11 11  4]\n"
     ]
    }
   ],
   "source": [
    "# a 요소 중 3보다 큰 요소 추출 b 할당\n",
    "b = a[a > 3]\n",
    "print(b)"
   ]
  },
  {
   "cell_type": "markdown",
   "id": "1f53c8ac",
   "metadata": {},
   "source": [
    "### 논리 연산자와 조건문\n",
    "- 대괄호 안에 연산자 조합하여 원하는 값을 추출"
   ]
  },
  {
   "cell_type": "code",
   "execution_count": null,
   "id": "2dbeb6a3",
   "metadata": {},
   "outputs": [
    {
     "name": "stdout",
     "output_type": "stream",
     "text": [
      "[7 8 7 4]\n"
     ]
    }
   ],
   "source": [
    "b = a[( a > 2 ) & ( a < 9 )]\n",
    "print(b)"
   ]
  },
  {
   "cell_type": "markdown",
   "id": "ae8c2f12",
   "metadata": {},
   "source": [
    "### np.where()\n",
    "- 조건에 만족하는 원소의 위치를 반환할 수 있음"
   ]
  },
  {
   "cell_type": "code",
   "execution_count": 54,
   "id": "e2fec772",
   "metadata": {},
   "outputs": [
    {
     "data": {
      "text/plain": [
       "array([ True,  True, False, False, False])"
      ]
     },
     "execution_count": 54,
     "metadata": {},
     "output_type": "execute_result"
    }
   ],
   "source": [
    "a = np.array([1,5,7,8,10])\n",
    "\n",
    "result = a < 7\n",
    "result"
   ]
  },
  {
   "cell_type": "code",
   "execution_count": 56,
   "id": "f935b09a",
   "metadata": {},
   "outputs": [
    {
     "data": {
      "text/plain": [
       "(array([0, 1]),)"
      ]
     },
     "execution_count": 56,
     "metadata": {},
     "output_type": "execute_result"
    }
   ],
   "source": [
    "result = np.where(a < 7)\n",
    "result"
   ]
  },
  {
   "cell_type": "markdown",
   "id": "6f2b36a6",
   "metadata": {},
   "source": [
    "## numpy 벡터 활용"
   ]
  },
  {
   "cell_type": "code",
   "execution_count": 58,
   "id": "e5d0dc3d",
   "metadata": {},
   "outputs": [
    {
     "data": {
      "text/plain": [
       "(15, 3.0, 3.0, 1.5811388300841898)"
      ]
     },
     "execution_count": 58,
     "metadata": {},
     "output_type": "execute_result"
    }
   ],
   "source": [
    "import numpy as np\n",
    "a = np.array([1,2,3,4,5])\n",
    "\n",
    "sum_a = np.sum(a) # 총합\n",
    "mean_a = np.mean(a) # 평균\n",
    "median_a = np.median(a) # 중앙값\n",
    "std_a = np.std(a, ddof=1) # 표준편차\n",
    "\n",
    "sum_a, mean_a, median_a, std_a"
   ]
  },
  {
   "cell_type": "code",
   "execution_count": null,
   "id": "2dd9feb1",
   "metadata": {},
   "outputs": [
    {
     "data": {
      "text/plain": [
       "array([ 20.,  nan,  13.,  24., 309.])"
      ]
     },
     "execution_count": 59,
     "metadata": {},
     "output_type": "execute_result"
    }
   ],
   "source": [
    "# 데이터 정의: x np.nan (정의되지 않은 값이나 잘못된 값)\n",
    "\n",
    "a = np.array([20, np.nan, 13, 24, 309])\n",
    "a"
   ]
  },
  {
   "cell_type": "code",
   "execution_count": null,
   "id": "b8d088b8",
   "metadata": {},
   "outputs": [
    {
     "data": {
      "text/plain": [
       "nan"
      ]
     },
     "execution_count": 60,
     "metadata": {},
     "output_type": "execute_result"
    }
   ],
   "source": [
    "# nan은 다른 어떤 수와 계산해도 그 결과 nan\n",
    "np.mean(a)"
   ]
  },
  {
   "cell_type": "code",
   "execution_count": 61,
   "id": "51f49c22",
   "metadata": {},
   "outputs": [
    {
     "data": {
      "text/plain": [
       "91.5"
      ]
     },
     "execution_count": 61,
     "metadata": {},
     "output_type": "execute_result"
    }
   ],
   "source": [
    "# nan 무시 옵션\n",
    "np.nanmean(a)"
   ]
  },
  {
   "cell_type": "code",
   "execution_count": 62,
   "id": "73b3150c",
   "metadata": {},
   "outputs": [
    {
     "name": "stdout",
     "output_type": "stream",
     "text": [
      "값이 NaN입니다.\n"
     ]
    }
   ],
   "source": [
    "# 값이 없는 상태: none (값이 없음을 나타내는 특수한 상수)\n",
    "\n",
    "import numpy as np\n",
    "\n",
    "value = np.nan\n",
    "if np.isnan(value):\n",
    "    print(\"값이 NaN입니다.\")"
   ]
  },
  {
   "cell_type": "code",
   "execution_count": 64,
   "id": "9df7ea93",
   "metadata": {},
   "outputs": [
    {
     "data": {
      "text/plain": [
       "nan"
      ]
     },
     "execution_count": 64,
     "metadata": {},
     "output_type": "execute_result"
    }
   ],
   "source": [
    "# nan은 수치연산이 가능하나 결과는 nan\n",
    "value + 1"
   ]
  },
  {
   "cell_type": "code",
   "execution_count": 65,
   "id": "7a64da67",
   "metadata": {},
   "outputs": [
    {
     "name": "stdout",
     "output_type": "stream",
     "text": [
      "변수에 값이 없습니다.\n"
     ]
    }
   ],
   "source": [
    "my_variable = None\n",
    "if my_variable is None:\n",
    "    print('변수에 값이 없습니다.')"
   ]
  },
  {
   "cell_type": "code",
   "execution_count": 66,
   "id": "22e1a6d1",
   "metadata": {},
   "outputs": [
    {
     "ename": "TypeError",
     "evalue": "unsupported operand type(s) for +: 'NoneType' and 'int'",
     "output_type": "error",
     "traceback": [
      "\u001b[0;31m---------------------------------------------------------------------------\u001b[0m",
      "\u001b[0;31mTypeError\u001b[0m                                 Traceback (most recent call last)",
      "\u001b[0;32m/var/folders/_k/k4vg8yqs5bd1kvyznqhzdt3r0000gn/T/ipykernel_85729/2017221023.py\u001b[0m in \u001b[0;36m<cell line: 2>\u001b[0;34m()\u001b[0m\n\u001b[1;32m      1\u001b[0m \u001b[0;31m# 수치연산 불가능\u001b[0m\u001b[0;34m\u001b[0m\u001b[0;34m\u001b[0m\u001b[0;34m\u001b[0m\u001b[0m\n\u001b[0;32m----> 2\u001b[0;31m \u001b[0;32mNone\u001b[0m \u001b[0;34m+\u001b[0m \u001b[0;36m1\u001b[0m\u001b[0;34m\u001b[0m\u001b[0;34m\u001b[0m\u001b[0m\n\u001b[0m",
      "\u001b[0;31mTypeError\u001b[0m: unsupported operand type(s) for +: 'NoneType' and 'int'"
     ]
    }
   ],
   "source": [
    "# 수치연산 불가능\n",
    "None + 1"
   ]
  },
  {
   "cell_type": "code",
   "execution_count": 67,
   "id": "7a8fbe2d",
   "metadata": {},
   "outputs": [
    {
     "data": {
      "text/plain": [
       "array([ 20.,  13.,  24., 309.])"
      ]
     },
     "execution_count": 67,
     "metadata": {},
     "output_type": "execute_result"
    }
   ],
   "source": [
    "# 빈 칸 제거 방법 ()\n",
    "\n",
    "a = np.array([20, np.nan, 13, 24, 309])\n",
    "\n",
    "a_filtered = a[~np.isnan(a)]\n",
    "a_filtered"
   ]
  },
  {
   "cell_type": "code",
   "execution_count": null,
   "id": "57fbac76",
   "metadata": {},
   "outputs": [
    {
     "data": {
      "text/plain": [
       "array(['사과', '배', '수박', '참외'], dtype='<U2')"
      ]
     },
     "execution_count": 68,
     "metadata": {},
     "output_type": "execute_result"
    }
   ],
   "source": [
    "# 벡터 합치기\n",
    "\n",
    "str_vec = np.array([\"사과\", \"배\", \"수박\", \"참외\"])\n",
    "str_vec\n",
    "# U2는 최대 2 글자의 유니코드 문자열 의미"
   ]
  },
  {
   "cell_type": "code",
   "execution_count": 69,
   "id": "93d0c1fd",
   "metadata": {},
   "outputs": [
    {
     "data": {
      "text/plain": [
       "array(['사과', '12', '수박', '참외'], dtype='<U2')"
      ]
     },
     "execution_count": 69,
     "metadata": {},
     "output_type": "execute_result"
    }
   ],
   "source": [
    "mix_vec = np.array(['사과', 12, '수박', '참외'], dtype=str)\n",
    "mix_vec"
   ]
  },
  {
   "cell_type": "markdown",
   "id": "7cb8114a",
   "metadata": {},
   "source": [
    "### np.concatenate()"
   ]
  },
  {
   "cell_type": "code",
   "execution_count": 71,
   "id": "d67f7ce9",
   "metadata": {},
   "outputs": [
    {
     "data": {
      "text/plain": [
       "array(['사과', '배', '수박', '참외', '사과', '12', '수박', '참외'], dtype='<U2')"
      ]
     },
     "execution_count": 71,
     "metadata": {},
     "output_type": "execute_result"
    }
   ],
   "source": [
    "combined_vec = np.concatenate((str_vec, mix_vec))\n",
    "combined_vec"
   ]
  },
  {
   "cell_type": "markdown",
   "id": "0e806a2f",
   "metadata": {},
   "source": [
    "### np.column_stack(), np.row_stack()\n",
    "- column_stack(): 벡터들을 세로로 붙여준다\n",
    "- row_stack(): 벡터들을 가로로 쌓아준다"
   ]
  },
  {
   "cell_type": "code",
   "execution_count": 76,
   "id": "5ac45d43",
   "metadata": {},
   "outputs": [
    {
     "data": {
      "text/plain": [
       "array([[ 1, 12],\n",
       "       [ 2, 13],\n",
       "       [ 3, 14],\n",
       "       [ 4, 15]])"
      ]
     },
     "execution_count": 76,
     "metadata": {},
     "output_type": "execute_result"
    }
   ],
   "source": [
    "col_stacked = np.column_stack((np.arange(1, 5), np.arange(12, 16)))\n",
    "col_stacked"
   ]
  },
  {
   "cell_type": "markdown",
   "id": "fcf06606",
   "metadata": {},
   "source": [
    "### np.resize()\n",
    "- 벡터 길이 조정"
   ]
  },
  {
   "cell_type": "code",
   "execution_count": null,
   "id": "97092c09",
   "metadata": {},
   "outputs": [
    {
     "ename": "ValueError",
     "evalue": "all the input array dimensions for the concatenation axis must match exactly, but along dimension 0, the array at index 0 has size 4 and the array at index 1 has size 6",
     "output_type": "error",
     "traceback": [
      "\u001b[0;31m---------------------------------------------------------------------------\u001b[0m",
      "\u001b[0;31mValueError\u001b[0m                                Traceback (most recent call last)",
      "\u001b[0;32m/var/folders/_k/k4vg8yqs5bd1kvyznqhzdt3r0000gn/T/ipykernel_85729/4266496181.py\u001b[0m in \u001b[0;36m<cell line: 1>\u001b[0;34m()\u001b[0m\n\u001b[0;32m----> 1\u001b[0;31m \u001b[0muneven_stacked\u001b[0m \u001b[0;34m=\u001b[0m \u001b[0mnp\u001b[0m\u001b[0;34m.\u001b[0m\u001b[0mcolumn_stack\u001b[0m\u001b[0;34m(\u001b[0m\u001b[0;34m(\u001b[0m\u001b[0mnp\u001b[0m\u001b[0;34m.\u001b[0m\u001b[0marange\u001b[0m\u001b[0;34m(\u001b[0m\u001b[0;36m1\u001b[0m\u001b[0;34m,\u001b[0m\u001b[0;36m5\u001b[0m\u001b[0;34m)\u001b[0m\u001b[0;34m,\u001b[0m \u001b[0mnp\u001b[0m\u001b[0;34m.\u001b[0m\u001b[0marange\u001b[0m\u001b[0;34m(\u001b[0m\u001b[0;36m12\u001b[0m\u001b[0;34m,\u001b[0m \u001b[0;36m18\u001b[0m\u001b[0;34m)\u001b[0m\u001b[0;34m)\u001b[0m\u001b[0;34m)\u001b[0m\u001b[0;34m\u001b[0m\u001b[0;34m\u001b[0m\u001b[0m\n\u001b[0m",
      "\u001b[0;32m/opt/homebrew/Caskroom/miniforge/base/envs/tf/lib/python3.8/site-packages/numpy/core/overrides.py\u001b[0m in \u001b[0;36mcolumn_stack\u001b[0;34m(*args, **kwargs)\u001b[0m\n",
      "\u001b[0;32m/opt/homebrew/Caskroom/miniforge/base/envs/tf/lib/python3.8/site-packages/numpy/lib/shape_base.py\u001b[0m in \u001b[0;36mcolumn_stack\u001b[0;34m(tup)\u001b[0m\n\u001b[1;32m    654\u001b[0m             \u001b[0marr\u001b[0m \u001b[0;34m=\u001b[0m \u001b[0marray\u001b[0m\u001b[0;34m(\u001b[0m\u001b[0marr\u001b[0m\u001b[0;34m,\u001b[0m \u001b[0mcopy\u001b[0m\u001b[0;34m=\u001b[0m\u001b[0;32mFalse\u001b[0m\u001b[0;34m,\u001b[0m \u001b[0msubok\u001b[0m\u001b[0;34m=\u001b[0m\u001b[0;32mTrue\u001b[0m\u001b[0;34m,\u001b[0m \u001b[0mndmin\u001b[0m\u001b[0;34m=\u001b[0m\u001b[0;36m2\u001b[0m\u001b[0;34m)\u001b[0m\u001b[0;34m.\u001b[0m\u001b[0mT\u001b[0m\u001b[0;34m\u001b[0m\u001b[0;34m\u001b[0m\u001b[0m\n\u001b[1;32m    655\u001b[0m         \u001b[0marrays\u001b[0m\u001b[0;34m.\u001b[0m\u001b[0mappend\u001b[0m\u001b[0;34m(\u001b[0m\u001b[0marr\u001b[0m\u001b[0;34m)\u001b[0m\u001b[0;34m\u001b[0m\u001b[0;34m\u001b[0m\u001b[0m\n\u001b[0;32m--> 656\u001b[0;31m     \u001b[0;32mreturn\u001b[0m \u001b[0m_nx\u001b[0m\u001b[0;34m.\u001b[0m\u001b[0mconcatenate\u001b[0m\u001b[0;34m(\u001b[0m\u001b[0marrays\u001b[0m\u001b[0;34m,\u001b[0m \u001b[0;36m1\u001b[0m\u001b[0;34m)\u001b[0m\u001b[0;34m\u001b[0m\u001b[0;34m\u001b[0m\u001b[0m\n\u001b[0m\u001b[1;32m    657\u001b[0m \u001b[0;34m\u001b[0m\u001b[0m\n\u001b[1;32m    658\u001b[0m \u001b[0;34m\u001b[0m\u001b[0m\n",
      "\u001b[0;32m/opt/homebrew/Caskroom/miniforge/base/envs/tf/lib/python3.8/site-packages/numpy/core/overrides.py\u001b[0m in \u001b[0;36mconcatenate\u001b[0;34m(*args, **kwargs)\u001b[0m\n",
      "\u001b[0;31mValueError\u001b[0m: all the input array dimensions for the concatenation axis must match exactly, but along dimension 0, the array at index 0 has size 4 and the array at index 1 has size 6"
     ]
    }
   ],
   "source": [
    "# 서로 길이가 다르기 때문에 오류가 발생\n",
    "uneven_stacked = np.column_stack((np.arange(1,5), np.arange(12, 18)))\n",
    "\n",
    "# 길이가 다른 경우 쌓을 수 없는 것 확인 -> np.resize 함수를 사용하여 길이를 맞춰주고 값을 앞에서부터 채워줌"
   ]
  },
  {
   "cell_type": "code",
   "execution_count": null,
   "id": "3d8f54d0",
   "metadata": {},
   "outputs": [
    {
     "data": {
      "text/plain": [
       "array([1, 2, 3, 4, 1, 2])"
      ]
     },
     "execution_count": 79,
     "metadata": {},
     "output_type": "execute_result"
    }
   ],
   "source": [
    "vec1 = np.arange(1,5)\n",
    "vec2 = np.arange(12, 18)\n",
    "vec1 = np.resize(vec1, len(vec2))\n",
    "vec1 # 앞에 값부터 채워주는 것을 확인할 수 있음"
   ]
  },
  {
   "cell_type": "code",
   "execution_count": null,
   "id": "d484d557",
   "metadata": {},
   "outputs": [
    {
     "data": {
      "text/plain": [
       "array([[ 1, 12],\n",
       "       [ 2, 13],\n",
       "       [ 3, 14],\n",
       "       [ 4, 15],\n",
       "       [ 1, 16],\n",
       "       [ 2, 17]])"
      ]
     },
     "execution_count": 80,
     "metadata": {},
     "output_type": "execute_result"
    }
   ],
   "source": [
    "# 길이를 맞춰준 후 column_stack 함수 실행\n",
    "uneven_stacked = np.column_stack((vec1, vec2))\n",
    "uneven_stacked"
   ]
  },
  {
   "cell_type": "code",
   "execution_count": null,
   "id": "b0fa9b14",
   "metadata": {},
   "outputs": [
    {
     "data": {
      "text/plain": [
       "array([ 6,  7,  8,  9, 10])"
      ]
     },
     "execution_count": 82,
     "metadata": {},
     "output_type": "execute_result"
    }
   ],
   "source": [
    "# 1\n",
    "a = np.array([1,2,3,4,5])\n",
    "a+5"
   ]
  },
  {
   "cell_type": "code",
   "execution_count": null,
   "id": "8abfeab7",
   "metadata": {},
   "outputs": [
    {
     "data": {
      "text/plain": [
       "array([12, 35,  5])"
      ]
     },
     "execution_count": 83,
     "metadata": {},
     "output_type": "execute_result"
    }
   ],
   "source": [
    "# 2\n",
    "a = np.array([12,21,35,48,5])\n",
    "a[[0,2,4]]\n",
    "# a[[::2]]"
   ]
  },
  {
   "cell_type": "code",
   "execution_count": 86,
   "id": "b5608c1f",
   "metadata": {},
   "outputs": [
    {
     "data": {
      "text/plain": [
       "93"
      ]
     },
     "execution_count": 86,
     "metadata": {},
     "output_type": "execute_result"
    }
   ],
   "source": [
    "# 3\n",
    "a = np.array([1,22,93,64,54])\n",
    "np.max(a)"
   ]
  },
  {
   "cell_type": "code",
   "execution_count": 87,
   "id": "be113a2b",
   "metadata": {},
   "outputs": [
    {
     "data": {
      "text/plain": [
       "array([1, 2, 3, 4, 5, 6])"
      ]
     },
     "execution_count": 87,
     "metadata": {},
     "output_type": "execute_result"
    }
   ],
   "source": [
    "# 4\n",
    "a = np.array([1, 2, 3, 2, 4, 5, 4, 6])\n",
    "np.unique(a)"
   ]
  },
  {
   "cell_type": "code",
   "execution_count": 92,
   "id": "48e2daf9",
   "metadata": {},
   "outputs": [
    {
     "name": "stdout",
     "output_type": "stream",
     "text": [
      "[21. 24. 31. 44. 58. 67.]\n"
     ]
    }
   ],
   "source": [
    "# 5\n",
    "a = np.array([21, 31, 58])\n",
    "b = np.array([24, 44, 67])\n",
    "c = np.empty([a.size + b.size])\n",
    "c[0::2] = a\n",
    "c[1::2] = b\n",
    "print(c)"
   ]
  },
  {
   "cell_type": "code",
   "execution_count": null,
   "id": "1d7b800b",
   "metadata": {},
   "outputs": [
    {
     "name": "stdout",
     "output_type": "stream",
     "text": [
      "[ 7  9 11 13]\n"
     ]
    }
   ],
   "source": [
    "# 6\n",
    "a = np.array([1, 2, 3, 4, 5])\n",
    "b = np.array([6, 7, 8, 9])\n",
    "c = a[:-1] + b\n",
    "print(c)"
   ]
  },
  {
   "cell_type": "code",
   "execution_count": null,
   "id": "6a7eff92",
   "metadata": {},
   "outputs": [],
   "source": []
  }
 ],
 "metadata": {
  "kernelspec": {
   "display_name": "tf",
   "language": "python",
   "name": "python3"
  },
  "language_info": {
   "codemirror_mode": {
    "name": "ipython",
    "version": 3
   },
   "file_extension": ".py",
   "mimetype": "text/x-python",
   "name": "python",
   "nbconvert_exporter": "python",
   "pygments_lexer": "ipython3",
   "version": "3.8.13"
  }
 },
 "nbformat": 4,
 "nbformat_minor": 5
}
