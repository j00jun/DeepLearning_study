{
 "cells": [
  {
   "cell_type": "code",
   "execution_count": 1,
   "id": "76787d54",
   "metadata": {},
   "outputs": [],
   "source": [
    "# 학생 성적 데이터 불러오기\n",
    "\n",
    "import pandas as pd\n",
    "import numpy as np\n",
    "df = pd.read_csv('https://raw.githubusercontent.com/YoungjinBD/data/main/dat.csv')\n",
    "\n",
    "X = df.drop(['grade'], axis = 1)\n",
    "y = df.grade"
   ]
  },
  {
   "cell_type": "markdown",
   "id": "bdf3bb49",
   "metadata": {},
   "source": [
    "#### 데이터 분할"
   ]
  },
  {
   "cell_type": "code",
   "execution_count": null,
   "id": "b99bcd39",
   "metadata": {},
   "outputs": [],
   "source": [
    "#### 데이터 분할\n",
    "\n",
    "from sklearn.model_selection import train_test_split\n",
    "\n",
    "train_X, test_X, train_y, test_y = train_test_split(\n",
    "    X,\n",
    "    y,\n",
    "    test_size=0.2, # 데이터 비율 8:2 분할\n",
    "    random_state=0, # 결과 재현을 위한 임의의 값\n",
    "    shuffle= True, # 데이터 분할 전에 데이터를 섞을지 여부 \n",
    "    stratify = None # 층화 샘플링 여부: \n",
    ")\n",
    "\n",
    "# shuffle = False로 설정할 경우 stratif=None으로 설정\n",
    "#shuffle=False이면 데이터의 순서를 유지하겠다는 의미이고,\n",
    "#stratify는 레이블 분포를 유지하며 층화 샘플링을 하겠다는 의미입니다.\n",
    "#이 둘은 상호 충돌할 수 있어서, shuffle=False일 땐 stratify=None이어야 합니다."
   ]
  },
  {
   "cell_type": "code",
   "execution_count": 3,
   "id": "acdd91c6",
   "metadata": {},
   "outputs": [
    {
     "name": "stdout",
     "output_type": "stream",
     "text": [
      "trainX shape (292, 10)\n",
      "trainy shape (292,)\n",
      "testX shape (74, 10)\n",
      "testy shape (74,)\n"
     ]
    }
   ],
   "source": [
    "# 분할 경과 확인\n",
    "print('trainX shape', train_X.shape)\n",
    "print('trainy shape', train_y.shape)\n",
    "print('testX shape', test_X.shape)\n",
    "print('testy shape', test_y.shape)"
   ]
  },
  {
   "cell_type": "code",
   "execution_count": 5,
   "id": "93c7b049",
   "metadata": {},
   "outputs": [],
   "source": [
    "# 층화 샘플링 (X의 school에 대해서)\n",
    "\n",
    "train_X, test_X, train_y, test_y = train_test_split(\n",
    "    X,\n",
    "    y,\n",
    "    test_size = 0.2,\n",
    "    stratify = X['school'],\n",
    "    random_state = 0\n",
    ")"
   ]
  },
  {
   "cell_type": "code",
   "execution_count": 6,
   "id": "2b9e8878",
   "metadata": {},
   "outputs": [
    {
     "data": {
      "image/png": "[encoded data removed]",
      "text/plain": [
       "<Figure size 640x480 with 2 Axes>"
      ]
     },
     "metadata": {},
     "output_type": "display_data"
    }
   ],
   "source": [
    "# Target 변수를 기준으로 훈련 데이터와 테스트 데이터의 분포 유사한지 확인\n",
    "import matplotlib.pyplot as plt\n",
    "\n",
    "fig, axs = plt.subplots(nrows=1, ncols = 2)\n",
    "train_y.hist(ax = axs[0], color = 'blue', alpha = 0.7)\n",
    "axs[0].set_title('histogram of train y')\n",
    "\n",
    "test_y.hist(ax = axs[1], color='red', alpha = 0.7)\n",
    "axs[1].set_title('histogram of test y')\n",
    "\n",
    "plt.tight_layout();\n",
    "plt.show();"
   ]
  },
  {
   "cell_type": "code",
   "execution_count": 8,
   "id": "654fbe22",
   "metadata": {},
   "outputs": [
    {
     "data": {
      "text/plain": [
       "0       1\n",
       "1       1\n",
       "2       4\n",
       "3       9\n",
       "4       4\n",
       "       ..\n",
       "361     0\n",
       "362     3\n",
       "363    10\n",
       "364     4\n",
       "365     3\n",
       "Name: grade, Length: 366, dtype: int64"
      ]
     },
     "execution_count": 8,
     "metadata": {},
     "output_type": "execute_result"
    }
   ],
   "source": [
    "y"
   ]
  },
  {
   "cell_type": "markdown",
   "id": "3ce53064",
   "metadata": {},
   "source": [
    "#### 결측치 처리"
   ]
  },
  {
   "cell_type": "code",
   "execution_count": 12,
   "id": "d1500d44",
   "metadata": {},
   "outputs": [
    {
     "name": "stdout",
     "output_type": "stream",
     "text": [
      "school       0\n",
      "sex          0\n",
      "paid         0\n",
      "famrel       0\n",
      "freetime     0\n",
      "goout       10\n",
      "Dalc         0\n",
      "Walc         0\n",
      "health       0\n",
      "absences     0\n",
      "grade        0\n",
      "dtype: int64\n"
     ]
    }
   ],
   "source": [
    "# 결측치 조회\n",
    "print(df.isna().sum(axis=0))"
   ]
  },
  {
   "cell_type": "markdown",
   "id": "7f879886",
   "metadata": {},
   "source": [
    "- 평균 대치법\n",
    "    - 일변량 변수의 평균으로 결측치를 대치하는 방법\n",
    "    - 장점: 쉽고 빠르게 결측치 대치 가능\n",
    "    - 단점: 다른 변수 간의 상관관계를 고려하지 못함, 결측치가 많을 때 평균값의 빈도수가 많아지므로 분포 왜곡"
   ]
  },
  {
   "cell_type": "code",
   "execution_count": null,
   "id": "d9041cbb",
   "metadata": {},
   "outputs": [
    {
     "name": "stdout",
     "output_type": "stream",
     "text": [
      "학습 데이터 goout 변수 결측치 확인: 0\n",
      "테스트 데이터 goout 변수 결측치 확인: 0\n"
     ]
    }
   ],
   "source": [
    "# 평균 대치법\n",
    "\n",
    "from sklearn.impute import SimpleImputer\n",
    "\n",
    "# 훈련 데이터, 테스트 데이터 복사\n",
    "train_X1 = train_X.copy()\n",
    "test_X1 = test_X.copy()\n",
    "imputer_mean = SimpleImputer(strategy='mean')\n",
    "\n",
    "# goout 변수의 결측치를 평균으로 대치하고 저장\n",
    "train_X1['goout'] = imputer_mean.fit_transform(train_X1[['goout']]) # fit() + transform()을 동시에 적용하는 메서드 / fit은 데이터를 학습, transform은 학습된 데이터 활용 데이터 변환\n",
    "test_X1['goout'] = imputer_mean.transform(test_X1[['goout']])\n",
    "\n",
    "print('학습 데이터 goout 변수 결측치 확인:', train_X1['goout'].isna().sum())\n",
    "print('테스트 데이터 goout 변수 결측치 확인:', train_X1['goout'].isna().sum())"
   ]
  },
  {
   "cell_type": "markdown",
   "id": "e3d69919",
   "metadata": {},
   "source": [
    "- 중앙값 대치법\n",
    "    - 일변량 변수의 중앙값으로 결측치를 대치하는 방법\n",
    "    - 장점: 쉽고 빠르게 결측치 대치 가능\n",
    "    - 단점: 다른 변수 간의 관계를 고려하지 못함, 결측치가 많을 때 중앙값의 빈도수가 많아지므로 분포 왜곡"
   ]
  },
  {
   "cell_type": "code",
   "execution_count": 14,
   "id": "8ae1491f",
   "metadata": {},
   "outputs": [
    {
     "name": "stdout",
     "output_type": "stream",
     "text": [
      "학습 데이터 goout 변수 결측치 확인 0\n",
      "테스트 데이터 goout 변수 결측치 확인 0\n"
     ]
    }
   ],
   "source": [
    "# 중앙값 대치법\n",
    "\n",
    "train_X2 = train_X.copy()\n",
    "test_X2 = test_X.copy()\n",
    "\n",
    "imputer_median = SimpleImputer(strategy= 'median')\n",
    "train_X2['goout'] = imputer_median.fit_transform(train_X2[['goout']])\n",
    "test_X2['goout'] = imputer_median.fit_transform(test_X2[['goout']])\n",
    "\n",
    "print('학습 데이터 goout 변수 결측치 확인', train_X2['goout'].isna().sum())\n",
    "print('테스트 데이터 goout 변수 결측치 확인', test_X2['goout'].isna().sum())"
   ]
  },
  {
   "cell_type": "markdown",
   "id": "6f2df653",
   "metadata": {},
   "source": [
    "- 최빈값 대치법\n",
    "    - 일변량 변수의 최빈값으로 결측치를 대치하는 방법\n",
    "    - 장점: 빠르고 쉽게 대치 가능\n",
    "    - 단점: 상관관계 고려 못함, 클래스 불균형 심화시킬 수 있음"
   ]
  },
  {
   "cell_type": "code",
   "execution_count": 16,
   "id": "0a664b39",
   "metadata": {},
   "outputs": [
    {
     "name": "stdout",
     "output_type": "stream",
     "text": [
      "학습 데이터 goout 변수 결측치 확인: 0\n",
      "테스트 데이터 goout 변수 결측치 확인: 0\n"
     ]
    }
   ],
   "source": [
    "# 최빈갑 대치법\n",
    "\n",
    "train_X3 = train_X.copy()\n",
    "test_X3 = test_X.copy()\n",
    "\n",
    "imputer_mode = SimpleImputer(strategy= 'most_frequent')\n",
    "train_X3['goout'] = imputer_mode.fit_transform(train_X3[['goout']])\n",
    "test_X3['goout'] = imputer_mode.fit_transform(test_X3[['goout']])\n",
    "\n",
    "print('학습 데이터 goout 변수 결측치 확인:', train_X3['goout'].isna().sum())\n",
    "print('테스트 데이터 goout 변수 결측치 확인:', test_X3['goout'].isna().sum())"
   ]
  },
  {
   "cell_type": "markdown",
   "id": "1a2247dc",
   "metadata": {},
   "source": [
    "- KNN을 이용한 대치법\n",
    "    - k개의 이웃을 택한 후, 이웃 관측치의 정보를 활용하여 결측치를 대치하는 방법\n",
    "    - 장점: 데이터에 대한 가정 없이 쉽고 빠르게 결측치 대치 가능\n",
    "    - 단점: 변수 스케일 및 이상치에 민감, 고차원 데이터일 경우 모델 성능이 떨어질 수 있음"
   ]
  },
  {
   "cell_type": "code",
   "execution_count": 19,
   "id": "507e4d9c",
   "metadata": {},
   "outputs": [],
   "source": [
    "from sklearn.impute import KNNImputer\n",
    "\n",
    "train_X5 = train_X.copy()\n",
    "test_X5 = test_X.copy()\n",
    "\n",
    "# 수치형 컬럼만 선택\n",
    "train_X5_num = train_X5.select_dtypes('number')\n",
    "test_X5_num = test_X5.select_dtypes('number')\n",
    "\n",
    "train_X5_cat = train_X5.select_dtypes('object')\n",
    "test_X5_cat = test_X5.select_dtypes('object')\n",
    "\n",
    "# 이웃의 크기가 5인 KNN 모형의 예측값을 이용\n",
    "knnimputer = KNNImputer(n_neighbors= 5)\n",
    "\n",
    "train_X5_num_imputed = knnimputer.fit_transform(train_X5_num)\n",
    "test_X5_num_imputed = knnimputer.transform(test_X5_num)"
   ]
  },
  {
   "cell_type": "code",
   "execution_count": 20,
   "id": "d593b9ae",
   "metadata": {},
   "outputs": [
    {
     "data": {
      "text/plain": [
       "array([[ 4. ,  1. ,  1. ,  2. ,  2. ,  5. ,  0. ],\n",
       "       [ 4. ,  3. ,  5. ,  1. ,  5. ,  2. ,  2. ],\n",
       "       [ 5. ,  4. ,  5. ,  2. ,  3. ,  5. ,  0. ],\n",
       "       [ 4. ,  2. ,  5. ,  1. ,  2. ,  5. ,  2. ],\n",
       "       [ 2. ,  2. ,  2. ,  1. ,  1. ,  3. ,  0. ],\n",
       "       [ 5. ,  4. ,  2. ,  1. ,  1. ,  5. ,  0. ],\n",
       "       [ 4. ,  3. ,  2. ,  1. ,  3. ,  3. ,  0. ],\n",
       "       [ 5. ,  4. ,  2. ,  3. ,  4. ,  5. ,  0. ],\n",
       "       [ 4. ,  3. ,  4. ,  1. ,  1. ,  5. ,  9. ],\n",
       "       [ 4. ,  2. ,  2. ,  2. ,  2. ,  5. ,  0. ],\n",
       "       [ 3. ,  2. ,  3. ,  1. ,  1. ,  4. ,  4. ],\n",
       "       [ 5. ,  2. ,  2. ,  1. ,  1. ,  5. ,  8. ],\n",
       "       [ 2. ,  3. ,  4. ,  2. ,  3. ,  2. ,  0. ],\n",
       "       [ 4. ,  2. ,  4. ,  1. ,  1. ,  4. , 14. ],\n",
       "       [ 4. ,  3. ,  4. ,  2. ,  5. ,  5. ,  0. ],\n",
       "       [ 4. ,  4. ,  3. ,  1. ,  1. ,  1. ,  4. ],\n",
       "       [ 4. ,  2. ,  2. ,  1. ,  1. ,  3. , 12. ],\n",
       "       [ 4. ,  3. ,  2. ,  1. ,  4. ,  5. ,  6. ],\n",
       "       [ 4. ,  3. ,  4. ,  1. ,  4. ,  5. ,  0. ],\n",
       "       [ 4. ,  5. ,  2. ,  2. ,  2. ,  4. ,  3. ],\n",
       "       [ 4. ,  2. ,  4. ,  2. ,  2. ,  3. ,  0. ],\n",
       "       [ 4. ,  3. ,  2. ,  1. ,  1. ,  5. ,  2. ],\n",
       "       [ 5. ,  2. ,  3. ,  1. ,  1. ,  2. ,  4. ],\n",
       "       [ 2. ,  5. ,  5. ,  5. ,  5. ,  5. , 10. ],\n",
       "       [ 2. ,  2. ,  4. ,  2. ,  4. ,  1. ,  4. ],\n",
       "       [ 3. ,  3. ,  4. ,  1. ,  1. ,  4. ,  0. ],\n",
       "       [ 4. ,  4. ,  4. ,  1. ,  1. ,  4. ,  0. ],\n",
       "       [ 5. ,  3. ,  5. ,  1. ,  1. ,  3. ,  0. ],\n",
       "       [ 4. ,  3. ,  3. ,  1. ,  2. ,  5. ,  4. ],\n",
       "       [ 4. ,  2. ,  4. ,  1. ,  3. ,  2. ,  6. ],\n",
       "       [ 4. ,  5. ,  2. ,  1. ,  1. ,  1. ,  4. ],\n",
       "       [ 4. ,  3. ,  3. ,  1. ,  3. ,  4. ,  0. ],\n",
       "       [ 5. ,  5. ,  5. ,  3. ,  4. ,  5. ,  6. ],\n",
       "       [ 4. ,  3. ,  2. ,  1. ,  1. ,  5. ,  0. ],\n",
       "       [ 4. ,  5. ,  4. ,  2. ,  3. ,  1. , 17. ],\n",
       "       [ 5. ,  4. ,  3.8,  2. ,  4. ,  5. ,  8. ],\n",
       "       [ 4. ,  3. ,  4. ,  1. ,  4. ,  4. ,  4. ],\n",
       "       [ 4. ,  1. ,  2. ,  1. ,  1. ,  3. , 40. ],\n",
       "       [ 4. ,  5. ,  5. ,  4. ,  4. ,  5. ,  4. ],\n",
       "       [ 4. ,  3. ,  2.8,  1. ,  1. ,  5. ,  2. ],\n",
       "       [ 3. ,  1. ,  2. ,  1. ,  1. ,  1. ,  2. ],\n",
       "       [ 4. ,  3. ,  3. ,  2. ,  2. ,  3. ,  3. ],\n",
       "       [ 5. ,  4. ,  5. ,  1. ,  1. ,  4. ,  4. ],\n",
       "       [ 3. ,  4. ,  3. ,  2. ,  3. ,  5. ,  1. ],\n",
       "       [ 3. ,  4. ,  1. ,  1. ,  1. ,  2. , 20. ],\n",
       "       [ 5. ,  2. ,  2.6,  1. ,  2. ,  3. , 12. ],\n",
       "       [ 4. ,  2. ,  3. ,  1. ,  2. ,  1. ,  8. ],\n",
       "       [ 4. ,  3. ,  3. ,  1. ,  2. ,  4. ,  0. ],\n",
       "       [ 3. ,  4. ,  3. ,  1. ,  1. ,  1. ,  8. ],\n",
       "       [ 3. ,  2. ,  1. ,  1. ,  4. ,  5. , 16. ],\n",
       "       [ 3. ,  5. ,  5. ,  2. ,  5. ,  4. ,  8. ],\n",
       "       [ 4. ,  5. ,  3. ,  1. ,  2. ,  5. ,  0. ],\n",
       "       [ 4. ,  5. ,  2. ,  1. ,  1. ,  2. , 16. ],\n",
       "       [ 4. ,  3. ,  3. ,  1. ,  1. ,  3. ,  0. ],\n",
       "       [ 4. ,  5. ,  1. ,  1. ,  1. ,  3. ,  2. ],\n",
       "       [ 3. ,  5. ,  2. ,  2. ,  2. ,  1. ,  2. ],\n",
       "       [ 3. ,  3. ,  3. ,  1. ,  2. ,  2. ,  0. ],\n",
       "       [ 4. ,  3. ,  2. ,  1. ,  4. ,  5. , 11. ],\n",
       "       [ 4. ,  4. ,  4. ,  4. ,  5. ,  5. , 12. ],\n",
       "       [ 4. ,  3. ,  4. ,  1. ,  1. ,  5. ,  0. ],\n",
       "       [ 1. ,  2. ,  3. ,  1. ,  2. ,  5. ,  2. ],\n",
       "       [ 3. ,  3. ,  3. ,  1. ,  1. ,  4. ,  2. ],\n",
       "       [ 4. ,  2. ,  4. ,  2. ,  3. ,  2. , 24. ],\n",
       "       [ 5. ,  4. ,  4. ,  3. ,  4. ,  5. ,  2. ],\n",
       "       [ 5. ,  4. ,  3. ,  1. ,  1. ,  5. ,  0. ],\n",
       "       [ 3. ,  4. ,  2. ,  1. ,  1. ,  5. ,  2. ],\n",
       "       [ 5. ,  2. ,  2. ,  1. ,  2. ,  5. ,  0. ],\n",
       "       [ 4. ,  2. ,  3. ,  1. ,  2. ,  5. ,  0. ],\n",
       "       [ 3. ,  3. ,  3. ,  2. ,  3. ,  2. ,  4. ],\n",
       "       [ 3. ,  5. ,  1. ,  1. ,  1. ,  5. ,  0. ],\n",
       "       [ 3. ,  4. ,  3. ,  1. ,  1. ,  3. ,  8. ],\n",
       "       [ 5. ,  4. ,  3. ,  1. ,  2. ,  5. , 12. ],\n",
       "       [ 4. ,  3. ,  3. ,  1. ,  2. ,  3. , 10. ],\n",
       "       [ 3. ,  1. ,  3. ,  1. ,  5. ,  3. ,  4. ]])"
      ]
     },
     "execution_count": 20,
     "metadata": {},
     "output_type": "execute_result"
    }
   ],
   "source": [
    "test_X5_num_imputed"
   ]
  },
  {
   "cell_type": "code",
   "execution_count": null,
   "id": "1968b0e1",
   "metadata": {},
   "outputs": [],
   "source": []
  }
 ],
 "metadata": {
  "kernelspec": {
   "display_name": "tf",
   "language": "python",
   "name": "python3"
  },
  "language_info": {
   "codemirror_mode": {
    "name": "ipython",
    "version": 3
   },
   "file_extension": ".py",
   "mimetype": "text/x-python",
   "name": "python",
   "nbconvert_exporter": "python",
   "pygments_lexer": "ipython3",
   "version": "3.8.13"
  }
 },
 "nbformat": 4,
 "nbformat_minor": 5
}
