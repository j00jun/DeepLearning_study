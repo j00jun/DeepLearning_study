{
 "cells": [
  {
   "cell_type": "code",
   "execution_count": 1,
   "id": "76787d54",
   "metadata": {},
   "outputs": [],
   "source": [
    "# 학생 성적 데이터 불러오기\n",
    "\n",
    "import pandas as pd\n",
    "import numpy as np\n",
    "df = pd.read_csv('https://raw.githubusercontent.com/YoungjinBD/data/main/dat.csv')\n",
    "\n",
    "X = df.drop(['grade'], axis = 1)\n",
    "y = df.grade"
   ]
  },
  {
   "cell_type": "markdown",
   "id": "bdf3bb49",
   "metadata": {},
   "source": [
    "#### 데이터 분할"
   ]
  },
  {
   "cell_type": "code",
   "execution_count": null,
   "id": "b99bcd39",
   "metadata": {},
   "outputs": [],
   "source": [
    "#### 데이터 분할\n",
    "\n",
    "from sklearn.model_selection import train_test_split\n",
    "\n",
    "train_X, test_X, train_y, test_y = train_test_split(\n",
    "    X,\n",
    "    y,\n",
    "    test_size=0.2, # 데이터 비율 8:2 분할\n",
    "    random_state=0, # 결과 재현을 위한 임의의 값\n",
    "    shuffle= True, # 데이터 분할 전에 데이터를 섞을지 여부 \n",
    "    stratify = None # 층화 샘플링 여부: \n",
    ")\n",
    "\n",
    "# shuffle = False로 설정할 경우 stratif=None으로 설정\n",
    "#shuffle=False이면 데이터의 순서를 유지하겠다는 의미이고,\n",
    "#stratify는 레이블 분포를 유지하며 층화 샘플링을 하겠다는 의미입니다.\n",
    "#이 둘은 상호 충돌할 수 있어서, shuffle=False일 땐 stratify=None이어야 합니다."
   ]
  },
  {
   "cell_type": "code",
   "execution_count": 3,
   "id": "acdd91c6",
   "metadata": {},
   "outputs": [
    {
     "name": "stdout",
     "output_type": "stream",
     "text": [
      "trainX shape (292, 10)\n",
      "trainy shape (292,)\n",
      "testX shape (74, 10)\n",
      "testy shape (74,)\n"
     ]
    }
   ],
   "source": [
    "# 분할 경과 확인\n",
    "print('trainX shape', train_X.shape)\n",
    "print('trainy shape', train_y.shape)\n",
    "print('testX shape', test_X.shape)\n",
    "print('testy shape', test_y.shape)"
   ]
  },
  {
   "cell_type": "code",
   "execution_count": 5,
   "id": "93c7b049",
   "metadata": {},
   "outputs": [],
   "source": [
    "# 층화 샘플링 (X의 school에 대해서)\n",
    "\n",
    "train_X, test_X, train_y, test_y = train_test_split(\n",
    "    X,\n",
    "    y,\n",
    "    test_size = 0.2,\n",
    "    stratify = X['school'],\n",
    "    random_state = 0\n",
    ")"
   ]
  },
  {
   "cell_type": "code",
   "execution_count": 6,
   "id": "2b9e8878",
   "metadata": {},
   "outputs": [
    {
     "data": {
      "image/png": "[encoded data removed]",
      "text/plain": [
       "<Figure size 640x480 with 2 Axes>"
      ]
     },
     "metadata": {},
     "output_type": "display_data"
    }
   ],
   "source": [
    "# Target 변수를 기준으로 훈련 데이터와 테스트 데이터의 분포 유사한지 확인\n",
    "import matplotlib.pyplot as plt\n",
    "\n",
    "fig, axs = plt.subplots(nrows=1, ncols = 2)\n",
    "train_y.hist(ax = axs[0], color = 'blue', alpha = 0.7)\n",
    "axs[0].set_title('histogram of train y')\n",
    "\n",
    "test_y.hist(ax = axs[1], color='red', alpha = 0.7)\n",
    "axs[1].set_title('histogram of test y')\n",
    "\n",
    "plt.tight_layout();\n",
    "plt.show();"
   ]
  },
  {
   "cell_type": "code",
   "execution_count": 8,
   "id": "654fbe22",
   "metadata": {},
   "outputs": [
    {
     "data": {
      "text/plain": [
       "0       1\n",
       "1       1\n",
       "2       4\n",
       "3       9\n",
       "4       4\n",
       "       ..\n",
       "361     0\n",
       "362     3\n",
       "363    10\n",
       "364     4\n",
       "365     3\n",
       "Name: grade, Length: 366, dtype: int64"
      ]
     },
     "execution_count": 8,
     "metadata": {},
     "output_type": "execute_result"
    }
   ],
   "source": [
    "y"
   ]
  },
  {
   "cell_type": "markdown",
   "id": "3ce53064",
   "metadata": {},
   "source": [
    "#### 결측치 처리"
   ]
  },
  {
   "cell_type": "code",
   "execution_count": 12,
   "id": "d1500d44",
   "metadata": {},
   "outputs": [
    {
     "name": "stdout",
     "output_type": "stream",
     "text": [
      "school       0\n",
      "sex          0\n",
      "paid         0\n",
      "famrel       0\n",
      "freetime     0\n",
      "goout       10\n",
      "Dalc         0\n",
      "Walc         0\n",
      "health       0\n",
      "absences     0\n",
      "grade        0\n",
      "dtype: int64\n"
     ]
    }
   ],
   "source": [
    "# 결측치 조회\n",
    "print(df.isna().sum(axis=0))"
   ]
  },
  {
   "cell_type": "markdown",
   "id": "7f879886",
   "metadata": {},
   "source": [
    "- 평균 대치법\n",
    "    - 일변량 변수의 평균으로 결측치를 대치하는 방법\n",
    "    - 장점: 쉽고 빠르게 결측치 대치 가능\n",
    "    - 단점: 다른 변수 간의 상관관계를 고려하지 못함, 결측치가 많을 때 평균값의 빈도수가 많아지므로 분포 왜곡"
   ]
  },
  {
   "cell_type": "code",
   "execution_count": null,
   "id": "d9041cbb",
   "metadata": {},
   "outputs": [
    {
     "name": "stdout",
     "output_type": "stream",
     "text": [
      "학습 데이터 goout 변수 결측치 확인: 0\n",
      "테스트 데이터 goout 변수 결측치 확인: 0\n"
     ]
    }
   ],
   "source": [
    "# 평균 대치법\n",
    "\n",
    "from sklearn.impute import SimpleImputer\n",
    "\n",
    "# 훈련 데이터, 테스트 데이터 복사\n",
    "train_X1 = train_X.copy()\n",
    "test_X1 = test_X.copy()\n",
    "imputer_mean = SimpleImputer(strategy='mean')\n",
    "\n",
    "# goout 변수의 결측치를 평균으로 대치하고 저장\n",
    "train_X1['goout'] = imputer_mean.fit_transform(train_X1[['goout']]) # fit() + transform()을 동시에 적용하는 메서드 / fit은 데이터를 학습, transform은 학습된 데이터 활용 데이터 변환\n",
    "test_X1['goout'] = imputer_mean.transform(test_X1[['goout']])\n",
    "\n",
    "print('학습 데이터 goout 변수 결측치 확인:', train_X1['goout'].isna().sum())\n",
    "print('테스트 데이터 goout 변수 결측치 확인:', train_X1['goout'].isna().sum())"
   ]
  },
  {
   "cell_type": "markdown",
   "id": "e3d69919",
   "metadata": {},
   "source": [
    "- 중앙값 대치법\n",
    "    - 일변량 변수의 중앙값으로 결측치를 대치하는 방법\n",
    "    - 장점: 쉽고 빠르게 결측치 대치 가능\n",
    "    - 단점: 다른 변수 간의 관계를 고려하지 못함, 결측치가 많을 때 중앙값의 빈도수가 많아지므로 분포 왜곡"
   ]
  },
  {
   "cell_type": "code",
   "execution_count": 14,
   "id": "8ae1491f",
   "metadata": {},
   "outputs": [
    {
     "name": "stdout",
     "output_type": "stream",
     "text": [
      "학습 데이터 goout 변수 결측치 확인 0\n",
      "테스트 데이터 goout 변수 결측치 확인 0\n"
     ]
    }
   ],
   "source": [
    "# 중앙값 대치법\n",
    "\n",
    "train_X2 = train_X.copy()\n",
    "test_X2 = test_X.copy()\n",
    "\n",
    "imputer_median = SimpleImputer(strategy= 'median')\n",
    "train_X2['goout'] = imputer_median.fit_transform(train_X2[['goout']])\n",
    "test_X2['goout'] = imputer_median.fit_transform(test_X2[['goout']])\n",
    "\n",
    "print('학습 데이터 goout 변수 결측치 확인', train_X2['goout'].isna().sum())\n",
    "print('테스트 데이터 goout 변수 결측치 확인', test_X2['goout'].isna().sum())"
   ]
  },
  {
   "cell_type": "markdown",
   "id": "6f2df653",
   "metadata": {},
   "source": [
    "- 최빈값 대치법\n",
    "    - 일변량 변수의 최빈값으로 결측치를 대치하는 방법\n",
    "    - 장점: 빠르고 쉽게 대치 가능\n",
    "    - 단점: 상관관계 고려 못함, 클래스 불균형 심화시킬 수 있음"
   ]
  },
  {
   "cell_type": "code",
   "execution_count": 16,
   "id": "0a664b39",
   "metadata": {},
   "outputs": [
    {
     "name": "stdout",
     "output_type": "stream",
     "text": [
      "학습 데이터 goout 변수 결측치 확인: 0\n",
      "테스트 데이터 goout 변수 결측치 확인: 0\n"
     ]
    }
   ],
   "source": [
    "# 최빈갑 대치법\n",
    "\n",
    "train_X3 = train_X.copy()\n",
    "test_X3 = test_X.copy()\n",
    "\n",
    "imputer_mode = SimpleImputer(strategy= 'most_frequent')\n",
    "train_X3['goout'] = imputer_mode.fit_transform(train_X3[['goout']])\n",
    "test_X3['goout'] = imputer_mode.fit_transform(test_X3[['goout']])\n",
    "\n",
    "print('학습 데이터 goout 변수 결측치 확인:', train_X3['goout'].isna().sum())\n",
    "print('테스트 데이터 goout 변수 결측치 확인:', test_X3['goout'].isna().sum())"
   ]
  },
  {
   "cell_type": "markdown",
   "id": "1a2247dc",
   "metadata": {},
   "source": [
    "- KNN을 이용한 대치법\n",
    "    - k개의 이웃을 택한 후, 이웃 관측치의 정보를 활용하여 결측치를 대치하는 방법\n",
    "    - 장점: 데이터에 대한 가정 없이 쉽고 빠르게 결측치 대치 가능\n",
    "    - 단점: 변수 스케일 및 이상치에 민감, 고차원 데이터일 경우 모델 성능이 떨어질 수 있음"
   ]
  },
  {
   "cell_type": "code",
   "execution_count": 22,
   "id": "507e4d9c",
   "metadata": {},
   "outputs": [
    {
     "name": "stdout",
     "output_type": "stream",
     "text": [
      "0\n",
      "0\n"
     ]
    }
   ],
   "source": [
    "from sklearn.impute import KNNImputer\n",
    "\n",
    "train_X5 = train_X.copy()\n",
    "test_X5 = test_X.copy()\n",
    "\n",
    "# 수치형 컬럼만 선택\n",
    "train_X5_num = train_X5.select_dtypes('number')\n",
    "test_X5_num = test_X5.select_dtypes('number')\n",
    "\n",
    "train_X5_cat = train_X5.select_dtypes('object')\n",
    "test_X5_cat = test_X5.select_dtypes('object')\n",
    "\n",
    "# 이웃의 크기가 5인 KNN 모형의 예측값을 이용\n",
    "knnimputer = KNNImputer(n_neighbors= 5)\n",
    "\n",
    "train_X5_num_imputed = knnimputer.fit_transform(train_X5_num)  \n",
    "test_X5_num_imputed = knnimputer.transform(test_X5_num)\n",
    "\n",
    "# KNNImputer는 np.array로 출력되므로 데이터 프레임 형태로 변환\n",
    "train_X5_num_imputed = pd.DataFrame(\n",
    "    train_X5_num_imputed,\n",
    "    columns=train_X5_num.columns,\n",
    "    index=train_X5.index\n",
    ")\n",
    "\n",
    "test_X5_num_imputed = pd.DataFrame(\n",
    "    test_X5_num_imputed,\n",
    "    columns=test_X5_num.columns,\n",
    "    index=test_X5.index\n",
    ")\n",
    "\n",
    "# 수치형 데이터 범주형 데이터 결합\n",
    "train_X5 = pd.concat([train_X5_cat, train_X5_num_imputed], axis=1)\n",
    "test_X5 = pd.concat([test_X5_cat, test_X5_num_imputed], axis=1)\n",
    "\n",
    "print(train_X5['goout'].isna().sum())\n",
    "print(test_X5['goout'].isna().sum())"
   ]
  },
  {
   "cell_type": "code",
   "execution_count": 24,
   "id": "d593b9ae",
   "metadata": {},
   "outputs": [
    {
     "name": "stdout",
     "output_type": "stream",
     "text": [
      "     famrel  freetime  goout  Dalc  Walc  health  absences\n",
      "123     4.0       3.0    3.0   1.0   1.0     5.0       0.0\n",
      "344     5.0       2.0    3.0   1.0   2.0     4.0       0.0\n",
      "85      5.0       3.0    3.0   1.0   1.0     1.0       0.0\n",
      "18      4.0       4.0    1.0   1.0   1.0     1.0       0.0\n",
      "114     5.0       3.0    2.0   1.0   1.0     1.0       0.0\n",
      "..      ...       ...    ...   ...   ...     ...       ...\n",
      "318     4.0       3.0    3.0   1.0   3.0     5.0      11.0\n",
      "306     4.0       3.0    3.0   1.0   2.0     4.0       4.0\n",
      "340     3.0       2.0    2.0   1.0   2.0     3.0       0.0\n",
      "109     5.0       5.0    4.0   1.0   2.0     5.0       6.0\n",
      "213     4.0       2.0    4.0   2.0   4.0     1.0       2.0\n",
      "\n",
      "[292 rows x 7 columns]\n"
     ]
    }
   ],
   "source": [
    "# set_output(transform= 'pandas') 메서드 활용하면 pandas 데이터 프레임으로 변환\n",
    "\n",
    "knnimputer2 = KNNImputer(n_neighbors=5).set_output(transform='pandas')\n",
    "train_X5_num_imputed2 = knnimputer2.fit_transform(train_X5_num)\n",
    "test_X5_num_inputed2 = knnimputer2.transform(test_X5_num)\n",
    "\n",
    "print(train_X5_num_imputed2)"
   ]
  },
  {
   "cell_type": "markdown",
   "id": "1968b0e1",
   "metadata": {},
   "source": [
    "#### pandas 결측치 처리\n",
    "- fillna()"
   ]
  },
  {
   "cell_type": "code",
   "execution_count": 31,
   "id": "0d1f18d4",
   "metadata": {},
   "outputs": [],
   "source": [
    "data = {\n",
    "    '학생': ['철수', '영희', '민수', '수지', '지현'],\n",
    "    '수학': [85, np.nan, 78, np.nan, 93],\n",
    "    '영어': [np.nan, 88, 79, 85, np.nan],\n",
    "    '과학': [92, 85, np.nan, 80, 88]\n",
    "}\n",
    "df = pd.DataFrame(data)"
   ]
  },
  {
   "cell_type": "code",
   "execution_count": 26,
   "id": "9342479c",
   "metadata": {},
   "outputs": [
    {
     "name": "stdout",
     "output_type": "stream",
     "text": [
      "   학생         수학    영어     과학\n",
      "0  철수  85.000000  84.0  92.00\n",
      "1  영희  85.333333  88.0  85.00\n",
      "2  민수  78.000000  79.0  86.25\n",
      "3  수지  85.333333  85.0  80.00\n",
      "4  지현  93.000000  84.0  88.00\n"
     ]
    }
   ],
   "source": [
    "# 평균으로 결측치 채우기\n",
    "\n",
    "df1 = df.copy()\n",
    "df1['수학'].fillna(df1['수학'].mean(), inplace=True)\n",
    "df1['영어'].fillna(df1['영어'].mean(), inplace=True)\n",
    "df1['과학'].fillna(df1['과학'].mean(), inplace=True)\n",
    "print(df1)"
   ]
  },
  {
   "cell_type": "code",
   "execution_count": 27,
   "id": "2a7fb362",
   "metadata": {},
   "outputs": [
    {
     "name": "stdout",
     "output_type": "stream",
     "text": [
      "   학생    수학    영어    과학\n",
      "0  철수  85.0   NaN  92.0\n",
      "1  영희   0.0  88.0  85.0\n",
      "2  민수  78.0  79.0   NaN\n",
      "3  수지   0.0  85.0  80.0\n",
      "4  지현  93.0   NaN  88.0\n"
     ]
    }
   ],
   "source": [
    "# 지정 값 결측치 채우기\n",
    "\n",
    "df2 = df.copy()\n",
    "df2['수학'].fillna(0, inplace=True)\n",
    "print(df2)"
   ]
  },
  {
   "cell_type": "code",
   "execution_count": null,
   "id": "0a171bcc",
   "metadata": {},
   "outputs": [
    {
     "name": "stdout",
     "output_type": "stream",
     "text": [
      "   학생    수학    영어    과학\n",
      "0  철수  85.0   NaN  92.0\n",
      "1  영희   0.0  88.0  85.0\n",
      "2  민수  78.0  79.0   NaN\n",
      "3  수지   0.0  85.0  80.0\n",
      "4  지현  93.0  85.0  88.0\n"
     ]
    }
   ],
   "source": [
    "# 앞의 값으로 결측치 채우기 \n",
    "\n",
    "df2['영어'].fillna(method='ffill', inplace=True)\n",
    "print(df2)\n",
    "\n",
    "# 영어의 첫번째 행은 앞에 값으로 채울 값이 없어 NaN"
   ]
  },
  {
   "cell_type": "code",
   "execution_count": 30,
   "id": "0801a04a",
   "metadata": {},
   "outputs": [
    {
     "name": "stdout",
     "output_type": "stream",
     "text": [
      "   학생    수학    영어    과학\n",
      "0  철수  85.0   NaN  92.0\n",
      "1  영희   0.0  88.0  85.0\n",
      "2  민수  78.0  79.0  80.0\n",
      "3  수지   0.0  85.0  80.0\n",
      "4  지현  93.0  85.0  88.0\n"
     ]
    }
   ],
   "source": [
    "# 뒤에 값으로 결측치채우기\n",
    "df2['과학'].fillna(method='bfill', inplace=True)\n",
    "print(df2)"
   ]
  },
  {
   "cell_type": "code",
   "execution_count": 32,
   "id": "d7cd1174",
   "metadata": {},
   "outputs": [
    {
     "name": "stdout",
     "output_type": "stream",
     "text": [
      "   학생    수학    영어    과학\n",
      "0  철수  85.0   NaN  92.0\n",
      "1  영희  88.0  88.0  85.0\n",
      "2  민수  78.0  79.0   NaN\n",
      "3  수지  85.0  85.0  80.0\n",
      "4  지현  93.0   NaN  88.0\n"
     ]
    }
   ],
   "source": [
    "# 다른 컬럼의 값을 사용하여 결측치 채우기\n",
    "\n",
    "df3 = df.copy()\n",
    "df3['수학'].fillna(df3['영어'], inplace=True)\n",
    "print(df3)"
   ]
  },
  {
   "cell_type": "code",
   "execution_count": 38,
   "id": "5db97bd2",
   "metadata": {},
   "outputs": [
    {
     "name": "stdout",
     "output_type": "stream",
     "text": [
      "   학생         수학    영어     과학\n",
      "0  철수  85.000000  84.0  92.00\n",
      "1  영희  85.333333  88.0  85.00\n",
      "2  민수  78.000000  79.0  86.25\n",
      "3  수지  85.333333  85.0  80.00\n",
      "4  지현  93.000000  84.0  88.00\n"
     ]
    }
   ],
   "source": [
    "# 각 컬럼의 평균값으로 결측치 채우기\n",
    "\n",
    "df4 = df.copy()\n",
    "df4_num = df4.select_dtypes('number')\n",
    "df4_num= df4_num.apply(lambda col: col.fillna(col.mean()))\n",
    "df4[df4_num.columns] = df4_num\n",
    "\n",
    "print(df4)"
   ]
  },
  {
   "cell_type": "markdown",
   "id": "1e22ac7f",
   "metadata": {},
   "source": [
    "#### 범주형 변수 처리"
   ]
  },
  {
   "cell_type": "code",
   "execution_count": 39,
   "id": "45d850de",
   "metadata": {},
   "outputs": [
    {
     "data": {
      "text/html": [
       "<div>\n",
       "<style scoped>\n",
       "    .dataframe tbody tr th:only-of-type {\n",
       "        vertical-align: middle;\n",
       "    }\n",
       "\n",
       "    .dataframe tbody tr th {\n",
       "        vertical-align: top;\n",
       "    }\n",
       "\n",
       "    .dataframe thead th {\n",
       "        text-align: right;\n",
       "    }\n",
       "</style>\n",
       "<table border=\"1\" class=\"dataframe\">\n",
       "  <thead>\n",
       "    <tr style=\"text-align: right;\">\n",
       "      <th></th>\n",
       "      <th>school</th>\n",
       "      <th>sex</th>\n",
       "      <th>paid</th>\n",
       "      <th>famrel</th>\n",
       "      <th>freetime</th>\n",
       "      <th>goout</th>\n",
       "      <th>Dalc</th>\n",
       "      <th>Walc</th>\n",
       "      <th>health</th>\n",
       "      <th>absences</th>\n",
       "    </tr>\n",
       "  </thead>\n",
       "  <tbody>\n",
       "    <tr>\n",
       "      <th>123</th>\n",
       "      <td>GP</td>\n",
       "      <td>F</td>\n",
       "      <td>no</td>\n",
       "      <td>4</td>\n",
       "      <td>3</td>\n",
       "      <td>3.0</td>\n",
       "      <td>1</td>\n",
       "      <td>1</td>\n",
       "      <td>5</td>\n",
       "      <td>0</td>\n",
       "    </tr>\n",
       "    <tr>\n",
       "      <th>344</th>\n",
       "      <td>MS</td>\n",
       "      <td>F</td>\n",
       "      <td>yes</td>\n",
       "      <td>5</td>\n",
       "      <td>2</td>\n",
       "      <td>3.0</td>\n",
       "      <td>1</td>\n",
       "      <td>2</td>\n",
       "      <td>4</td>\n",
       "      <td>0</td>\n",
       "    </tr>\n",
       "    <tr>\n",
       "      <th>85</th>\n",
       "      <td>GP</td>\n",
       "      <td>F</td>\n",
       "      <td>yes</td>\n",
       "      <td>5</td>\n",
       "      <td>3</td>\n",
       "      <td>3.0</td>\n",
       "      <td>1</td>\n",
       "      <td>1</td>\n",
       "      <td>1</td>\n",
       "      <td>0</td>\n",
       "    </tr>\n",
       "    <tr>\n",
       "      <th>18</th>\n",
       "      <td>GP</td>\n",
       "      <td>M</td>\n",
       "      <td>no</td>\n",
       "      <td>4</td>\n",
       "      <td>4</td>\n",
       "      <td>1.0</td>\n",
       "      <td>1</td>\n",
       "      <td>1</td>\n",
       "      <td>1</td>\n",
       "      <td>0</td>\n",
       "    </tr>\n",
       "    <tr>\n",
       "      <th>114</th>\n",
       "      <td>GP</td>\n",
       "      <td>F</td>\n",
       "      <td>no</td>\n",
       "      <td>5</td>\n",
       "      <td>3</td>\n",
       "      <td>2.0</td>\n",
       "      <td>1</td>\n",
       "      <td>1</td>\n",
       "      <td>1</td>\n",
       "      <td>0</td>\n",
       "    </tr>\n",
       "  </tbody>\n",
       "</table>\n",
       "</div>"
      ],
      "text/plain": [
       "    school sex paid  famrel  freetime  goout  Dalc  Walc  health  absences\n",
       "123     GP   F   no       4         3    3.0     1     1       5         0\n",
       "344     MS   F  yes       5         2    3.0     1     2       4         0\n",
       "85      GP   F  yes       5         3    3.0     1     1       1         0\n",
       "18      GP   M   no       4         4    1.0     1     1       1         0\n",
       "114     GP   F   no       5         3    2.0     1     1       1         0"
      ]
     },
     "execution_count": 39,
     "metadata": {},
     "output_type": "execute_result"
    }
   ],
   "source": [
    "train_X.head()"
   ]
  },
  {
   "cell_type": "code",
   "execution_count": null,
   "id": "2a3ebb19",
   "metadata": {},
   "outputs": [],
   "source": [
    "from sklearn.preprocessing import LabelEncoder # 입력 형식으로 1차원 배열 혹은 시리즈 형식 보통 종속변수 전처리에 활용\n",
    "from sklearn.preprocessing import OrdinalEncoder # 입력 형식으로 2차원 혹은 데이터 프렝미 형식 독립변수 전처리에 활용\n",
    "\n",
    "train_X6 = train_X.copy()\n",
    "test_X6 = test_X.copy()\n",
    "\n",
    "train_X6_cat = train_X6.select_dtypes('object')\n",
    "test_X6_cat = test_X6.select_dtypes('object')"
   ]
  },
  {
   "cell_type": "code",
   "execution_count": 41,
   "id": "81adfca9",
   "metadata": {},
   "outputs": [
    {
     "name": "stdout",
     "output_type": "stream",
     "text": [
      "     school  sex  paid\n",
      "123     0.0  0.0   0.0\n",
      "344     1.0  0.0   1.0\n"
     ]
    }
   ],
   "source": [
    "ordinalencoder = OrdinalEncoder().set_output(transform='pandas')\n",
    "train_X6_cat = ordinalencoder.fit_transform(train_X6_cat)\n",
    "test_X6_cat = ordinalencoder.fit_transform(test_X6_cat)\n",
    "\n",
    "print(train_X6_cat.head(2))"
   ]
  },
  {
   "cell_type": "code",
   "execution_count": 42,
   "id": "c30bf70f",
   "metadata": {},
   "outputs": [
    {
     "data": {
      "text/html": [
       "<div>\n",
       "<style scoped>\n",
       "    .dataframe tbody tr th:only-of-type {\n",
       "        vertical-align: middle;\n",
       "    }\n",
       "\n",
       "    .dataframe tbody tr th {\n",
       "        vertical-align: top;\n",
       "    }\n",
       "\n",
       "    .dataframe thead th {\n",
       "        text-align: right;\n",
       "    }\n",
       "</style>\n",
       "<table border=\"1\" class=\"dataframe\">\n",
       "  <thead>\n",
       "    <tr style=\"text-align: right;\">\n",
       "      <th></th>\n",
       "      <th>school</th>\n",
       "      <th>sex</th>\n",
       "      <th>paid</th>\n",
       "    </tr>\n",
       "  </thead>\n",
       "  <tbody>\n",
       "    <tr>\n",
       "      <th>278</th>\n",
       "      <td>0.0</td>\n",
       "      <td>1.0</td>\n",
       "      <td>1.0</td>\n",
       "    </tr>\n",
       "    <tr>\n",
       "      <th>185</th>\n",
       "      <td>0.0</td>\n",
       "      <td>0.0</td>\n",
       "      <td>0.0</td>\n",
       "    </tr>\n",
       "    <tr>\n",
       "      <th>323</th>\n",
       "      <td>0.0</td>\n",
       "      <td>1.0</td>\n",
       "      <td>1.0</td>\n",
       "    </tr>\n",
       "    <tr>\n",
       "      <th>202</th>\n",
       "      <td>0.0</td>\n",
       "      <td>0.0</td>\n",
       "      <td>0.0</td>\n",
       "    </tr>\n",
       "    <tr>\n",
       "      <th>128</th>\n",
       "      <td>0.0</td>\n",
       "      <td>1.0</td>\n",
       "      <td>0.0</td>\n",
       "    </tr>\n",
       "    <tr>\n",
       "      <th>...</th>\n",
       "      <td>...</td>\n",
       "      <td>...</td>\n",
       "      <td>...</td>\n",
       "    </tr>\n",
       "    <tr>\n",
       "      <th>32</th>\n",
       "      <td>0.0</td>\n",
       "      <td>0.0</td>\n",
       "      <td>0.0</td>\n",
       "    </tr>\n",
       "    <tr>\n",
       "      <th>348</th>\n",
       "      <td>1.0</td>\n",
       "      <td>0.0</td>\n",
       "      <td>0.0</td>\n",
       "    </tr>\n",
       "    <tr>\n",
       "      <th>313</th>\n",
       "      <td>0.0</td>\n",
       "      <td>0.0</td>\n",
       "      <td>1.0</td>\n",
       "    </tr>\n",
       "    <tr>\n",
       "      <th>193</th>\n",
       "      <td>0.0</td>\n",
       "      <td>0.0</td>\n",
       "      <td>1.0</td>\n",
       "    </tr>\n",
       "    <tr>\n",
       "      <th>174</th>\n",
       "      <td>0.0</td>\n",
       "      <td>1.0</td>\n",
       "      <td>0.0</td>\n",
       "    </tr>\n",
       "  </tbody>\n",
       "</table>\n",
       "<p>74 rows × 3 columns</p>\n",
       "</div>"
      ],
      "text/plain": [
       "     school  sex  paid\n",
       "278     0.0  1.0   1.0\n",
       "185     0.0  0.0   0.0\n",
       "323     0.0  1.0   1.0\n",
       "202     0.0  0.0   0.0\n",
       "128     0.0  1.0   0.0\n",
       "..      ...  ...   ...\n",
       "32      0.0  0.0   0.0\n",
       "348     1.0  0.0   0.0\n",
       "313     0.0  0.0   1.0\n",
       "193     0.0  0.0   1.0\n",
       "174     0.0  1.0   0.0\n",
       "\n",
       "[74 rows x 3 columns]"
      ]
     },
     "execution_count": 42,
     "metadata": {},
     "output_type": "execute_result"
    }
   ],
   "source": [
    "test_X6_cat"
   ]
  },
  {
   "cell_type": "code",
   "execution_count": 43,
   "id": "e0746564",
   "metadata": {},
   "outputs": [],
   "source": [
    "# one hot encoding\n",
    "\n",
    "from sklearn.preprocessing import OneHotEncoder\n",
    "\n",
    "train_X7 = train_X.copy()\n",
    "test_X7 = test_X.copy()\n",
    "\n",
    "train_X7_cat = train_X7.select_dtypes('object')\n",
    "test_X7_cat = test_X7.select_dtypes('object')"
   ]
  },
  {
   "cell_type": "code",
   "execution_count": null,
   "id": "59893e8e",
   "metadata": {},
   "outputs": [
    {
     "name": "stdout",
     "output_type": "stream",
     "text": [
      "     school_GP  school_MS  sex_F  sex_M  paid_no  paid_yes\n",
      "123        1.0        0.0    1.0    0.0      1.0       0.0\n",
      "344        0.0        1.0    1.0    0.0      0.0       1.0\n",
      "85         1.0        0.0    1.0    0.0      0.0       1.0\n",
      "18         1.0        0.0    0.0    1.0      1.0       0.0\n",
      "114        1.0        0.0    1.0    0.0      1.0       0.0\n"
     ]
    }
   ],
   "source": [
    "onehotencoder = OneHotEncoder(sparse_output = False, # 희소행렬 표현 즉 0이 아닌 좌표와 값만 저장 -> 메모리 절약\n",
    "                              handle_unknown= 'ignore').set_output(transform='pandas') # handle_unknown= 'ignore' 학습되지 않은 범주가 테스트 데이터에 존재할 경우 오류 방지\n",
    "\n",
    "train_X7_cat = onehotencoder.fit_transform(train_X7_cat)\n",
    "test_X7_cat = onehotencoder.transform(test_X7_cat)\n",
    "\n",
    "print(train_X7_cat.head())\n"
   ]
  },
  {
   "cell_type": "code",
   "execution_count": null,
   "id": "d35f142c",
   "metadata": {},
   "outputs": [],
   "source": [
    "# Dummy encoding: 원핫 인코딩 칼럼 - 1 만큼 생성\n",
    "\n",
    "train_X8 = train_X.copy()\n",
    "test_X8 = test_X.copy()\n",
    "\n",
    "train_X8_cat = train_X8.select_dtypes('object')\n",
    "test_X8_cat = test_X8.select_dtypes('object')"
   ]
  },
  {
   "cell_type": "code",
   "execution_count": 46,
   "id": "f7de4836",
   "metadata": {},
   "outputs": [],
   "source": [
    "dummyencoder = OneHotEncoder(sparse_output= False,\n",
    "                             drop='first',\n",
    "                             handle_unknown='error').set_output(transform='pandas')\n",
    "\n",
    "train_X8_cat = dummyencoder.fit_transform(train_X8_cat)\n",
    "test_X8_cat = dummyencoder.transform(test_X8_cat)"
   ]
  },
  {
   "cell_type": "code",
   "execution_count": 47,
   "id": "8a70f347",
   "metadata": {},
   "outputs": [
    {
     "name": "stdout",
     "output_type": "stream",
     "text": [
      "     school_MS  sex_M  paid_yes\n",
      "123        0.0    0.0       0.0\n",
      "344        1.0    0.0       1.0\n",
      "85         0.0    0.0       1.0\n",
      "18         0.0    1.0       0.0\n",
      "114        0.0    0.0       0.0\n"
     ]
    }
   ],
   "source": [
    "print(train_X8_cat.head())"
   ]
  },
  {
   "cell_type": "markdown",
   "id": "04a2cd06",
   "metadata": {},
   "source": [
    "### 변수 변환 및 스케일링"
   ]
  },
  {
   "cell_type": "markdown",
   "id": "943007d8",
   "metadata": {},
   "source": [
    "### 변수변환\n",
    "- 데이터 치우침이 있을 때 변수 변환을 통해 정규분포 형태로 변환하는 것을 고려해볼 수 있음\n",
    "    - Box-cox 변환\n",
    "    - Yeo-Johnson 변환"
   ]
  },
  {
   "cell_type": "code",
   "execution_count": 48,
   "id": "98b55eca",
   "metadata": {},
   "outputs": [
    {
     "data": {
      "image/png": "[encoded data removed]",
      "text/plain": [
       "<Figure size 640x480 with 1 Axes>"
      ]
     },
     "metadata": {},
     "output_type": "display_data"
    }
   ],
   "source": [
    "# 변수변환\n",
    "\n",
    "from sklearn.preprocessing import PowerTransformer\n",
    "import warnings\n",
    "import matplotlib.pyplot as plt\n",
    "np.warnings = warnings\n",
    "\n",
    "bike_data = pd.read_csv('https://raw.githubusercontent.com/YoungjinBD/data/main/bike_train.csv')\n",
    "bike_data['count'].hist();\n",
    "plt.show();"
   ]
  },
  {
   "cell_type": "code",
   "execution_count": 49,
   "id": "d3777f41",
   "metadata": {},
   "outputs": [
    {
     "name": "stdout",
     "output_type": "stream",
     "text": [
      "lambda [0.31309736]\n"
     ]
    }
   ],
   "source": [
    "box_tr = PowerTransformer(method= 'box-cox')\n",
    "bike_data['count_boxcox'] = box_tr.fit_transform(bike_data[['count']])\n",
    "print('lambda' ,box_tr.lambdas_)"
   ]
  },
  {
   "cell_type": "code",
   "execution_count": 50,
   "id": "52c9aa07",
   "metadata": {},
   "outputs": [],
   "source": [
    "# 로그 변환\n",
    "bike_data['count_log'] = np.log1p(bike_data[['count']])"
   ]
  },
  {
   "cell_type": "code",
   "execution_count": null,
   "id": "1c720cae",
   "metadata": {},
   "outputs": [],
   "source": [
    "#루트변환\n",
    "bike_data['count_sqrt'] = np.sqrt(bike_data[['count']])"
   ]
  },
  {
   "cell_type": "code",
   "execution_count": 52,
   "id": "2b1d0a37",
   "metadata": {},
   "outputs": [
    {
     "data": {
      "image/png": "[encoded data removed]",
      "text/plain": [
       "<Figure size 640x480 with 4 Axes>"
      ]
     },
     "metadata": {},
     "output_type": "display_data"
    }
   ],
   "source": [
    "# 비교\n",
    "bike_data[['count', 'count_boxcox', 'count_log', 'count_sqrt']].hist()\n",
    "\n",
    "plt.show()"
   ]
  },
  {
   "cell_type": "markdown",
   "id": "b0039c92",
   "metadata": {},
   "source": [
    "### 정규화\n"
   ]
  },
  {
   "cell_type": "code",
   "execution_count": 56,
   "id": "1d42f349",
   "metadata": {},
   "outputs": [
    {
     "data": {
      "image/png": "[encoded data removed]",
      "text/plain": [
       "<Figure size 640x480 with 2 Axes>"
      ]
     },
     "metadata": {},
     "output_type": "display_data"
    }
   ],
   "source": [
    "# 표준화 (x-평균)/표준편차 -> 평균을 0 표준편차를 1로 조정\n",
    "\n",
    "from sklearn.preprocessing import StandardScaler\n",
    "\n",
    "train_X9 = train_X.copy()\n",
    "test_X9 = test_X.copy()\n",
    "\n",
    "train_X9_num = train_X9.select_dtypes('number')\n",
    "test_X9_num = test_X9.select_dtypes('number')\n",
    "\n",
    "# 표준화\n",
    "\n",
    "stdscaler = StandardScaler().set_output(transform='pandas')\n",
    "train_X9_num = stdscaler.fit_transform(train_X9_num)\n",
    "test_X9_num = stdscaler.transform(test_X9_num)\n",
    "\n",
    "# 시각화\n",
    "\n",
    "fig, axs = plt.subplots(nrows = 1, ncols = 2)\n",
    "train_X9['absences'].hist(ax = axs[0], color='blue', alpha = 0.7)\n",
    "axs[0].set_title('before')\n",
    "\n",
    "train_X9_num['absences'].hist(ax = axs[1], color='red', alpha = 0.7)\n",
    "axs[1].set_title('after')\n",
    "plt.tight_layout();\n",
    "plt.show();"
   ]
  },
  {
   "cell_type": "code",
   "execution_count": 60,
   "id": "4aea45d0",
   "metadata": {},
   "outputs": [
    {
     "name": "stdout",
     "output_type": "stream",
     "text": [
      "변환 전 평균 6.0\n",
      "변환 후 평균 0.0\n",
      "변환 전 표준편차 8.42\n",
      "변환 후 표준편차 1.0\n"
     ]
    }
   ],
   "source": [
    "print('변환 전 평균',np.round(train_X9['absences'].mean()))\n",
    "print('변환 후 평균',np.round(train_X9_num['absences'].mean()))\n",
    "print('변환 전 표준편차',np.round(train_X9['absences'].std(), 2))\n",
    "print('변환 후 표준편차',np.round(train_X9_num['absences'].std(), 2))"
   ]
  },
  {
   "cell_type": "code",
   "execution_count": 62,
   "id": "9cbc560f",
   "metadata": {},
   "outputs": [
    {
     "name": "stdout",
     "output_type": "stream",
     "text": [
      "Range of each column:\n",
      "famrel      1.0\n",
      "freetime    1.0\n",
      "goout       1.0\n",
      "Dalc        1.0\n",
      "Walc        1.0\n",
      "health      1.0\n",
      "absences    1.0\n",
      "dtype: float64\n"
     ]
    }
   ],
   "source": [
    "# min-max 정규화 (x-최솟값)/(최댓값-최솟값) 데이터 범위를 0~1로 조정\n",
    "\n",
    "from sklearn.preprocessing import MinMaxScaler\n",
    "\n",
    "train_X10 = train_X.copy()\n",
    "test_X10 = test_X.copy()\n",
    "\n",
    "train_X10_num = train_X10.select_dtypes('number')\n",
    "test_X10_num = test_X10.select_dtypes('number')\n",
    "\n",
    "minmaxscaler = MinMaxScaler().set_output(transform='pandas')\n",
    "train_X10_num = minmaxscaler.fit_transform(train_X10_num)\n",
    "test_X10_num = minmaxscaler.transform(test_X10_num)\n",
    "\n",
    "range_df = train_X10_num.select_dtypes('number').apply(lambda x:x.max()-x.min(), axis=0)\n",
    "print(\"Range of each column:\")\n",
    "print(range_df)"
   ]
  },
  {
   "cell_type": "code",
   "execution_count": 63,
   "id": "8b130c80",
   "metadata": {},
   "outputs": [],
   "source": [
    "# 이상치 처리"
   ]
  },
  {
   "cell_type": "code",
   "execution_count": 65,
   "id": "b5afd3e5",
   "metadata": {},
   "outputs": [
    {
     "data": {
      "image/png": "[encoded data removed]",
      "text/plain": [
       "<Figure size 640x480 with 1 Axes>"
      ]
     },
     "metadata": {},
     "output_type": "display_data"
    }
   ],
   "source": [
    "warpbreaks = pd.read_csv('https://raw.githubusercontent.com/YoungjinBD/data/main/warpbreaks.csv')\n",
    "warpbreaks.boxplot(column=['breaks']);\n",
    "plt.show()"
   ]
  },
  {
   "cell_type": "code",
   "execution_count": 66,
   "id": "b6cc8e77",
   "metadata": {},
   "outputs": [
    {
     "data": {
      "text/html": [
       "<div>\n",
       "<style scoped>\n",
       "    .dataframe tbody tr th:only-of-type {\n",
       "        vertical-align: middle;\n",
       "    }\n",
       "\n",
       "    .dataframe tbody tr th {\n",
       "        vertical-align: top;\n",
       "    }\n",
       "\n",
       "    .dataframe thead th {\n",
       "        text-align: right;\n",
       "    }\n",
       "</style>\n",
       "<table border=\"1\" class=\"dataframe\">\n",
       "  <thead>\n",
       "    <tr style=\"text-align: right;\">\n",
       "      <th></th>\n",
       "      <th>breaks</th>\n",
       "      <th>wool</th>\n",
       "      <th>tension</th>\n",
       "    </tr>\n",
       "  </thead>\n",
       "  <tbody>\n",
       "    <tr>\n",
       "      <th>0</th>\n",
       "      <td>26</td>\n",
       "      <td>A</td>\n",
       "      <td>L</td>\n",
       "    </tr>\n",
       "    <tr>\n",
       "      <th>1</th>\n",
       "      <td>30</td>\n",
       "      <td>A</td>\n",
       "      <td>L</td>\n",
       "    </tr>\n",
       "    <tr>\n",
       "      <th>2</th>\n",
       "      <td>54</td>\n",
       "      <td>A</td>\n",
       "      <td>L</td>\n",
       "    </tr>\n",
       "    <tr>\n",
       "      <th>3</th>\n",
       "      <td>25</td>\n",
       "      <td>A</td>\n",
       "      <td>L</td>\n",
       "    </tr>\n",
       "    <tr>\n",
       "      <th>4</th>\n",
       "      <td>70</td>\n",
       "      <td>A</td>\n",
       "      <td>L</td>\n",
       "    </tr>\n",
       "  </tbody>\n",
       "</table>\n",
       "</div>"
      ],
      "text/plain": [
       "   breaks wool tension\n",
       "0      26    A       L\n",
       "1      30    A       L\n",
       "2      54    A       L\n",
       "3      25    A       L\n",
       "4      70    A       L"
      ]
     },
     "execution_count": 66,
     "metadata": {},
     "output_type": "execute_result"
    }
   ],
   "source": [
    "warpbreaks.head()"
   ]
  },
  {
   "cell_type": "code",
   "execution_count": 83,
   "id": "fd22997d",
   "metadata": {},
   "outputs": [
    {
     "name": "stdout",
     "output_type": "stream",
     "text": [
      "   breaks wool tension\n",
      "4      70    A       L\n",
      "8      67    A       L\n"
     ]
    }
   ],
   "source": [
    "# 1분위수 계산\n",
    "Q1 = np.quantile(warpbreaks['breaks'], 0.25)\n",
    "# 3분위수 계산\n",
    "Q3 = np.quantile(warpbreaks['breaks'], 0.75)\n",
    "\n",
    "IQR = Q3 - Q1\n",
    "\n",
    "UC = Q3 + (1.5 * IQR) # 상한선 이 값 보다 크면 이상치 간주\n",
    "LC = Q1 - (1.5 * IQR) # 하한선 이 값 보다 작으면 이상치 간주\n",
    "\n",
    "print(warpbreaks.loc[(warpbreaks.breaks > UC) | (warpbreaks.breaks < LC), : ]) # 이상치 판단"
   ]
  },
  {
   "cell_type": "code",
   "execution_count": 84,
   "id": "d3410fc9",
   "metadata": {},
   "outputs": [
    {
     "data": {
      "text/html": [
       "<div>\n",
       "<style scoped>\n",
       "    .dataframe tbody tr th:only-of-type {\n",
       "        vertical-align: middle;\n",
       "    }\n",
       "\n",
       "    .dataframe tbody tr th {\n",
       "        vertical-align: top;\n",
       "    }\n",
       "\n",
       "    .dataframe thead th {\n",
       "        text-align: right;\n",
       "    }\n",
       "</style>\n",
       "<table border=\"1\" class=\"dataframe\">\n",
       "  <thead>\n",
       "    <tr style=\"text-align: right;\">\n",
       "      <th></th>\n",
       "      <th>breaks</th>\n",
       "      <th>wool</th>\n",
       "      <th>tension</th>\n",
       "    </tr>\n",
       "  </thead>\n",
       "  <tbody>\n",
       "    <tr>\n",
       "      <th>0</th>\n",
       "      <td>26</td>\n",
       "      <td>A</td>\n",
       "      <td>L</td>\n",
       "    </tr>\n",
       "    <tr>\n",
       "      <th>1</th>\n",
       "      <td>30</td>\n",
       "      <td>A</td>\n",
       "      <td>L</td>\n",
       "    </tr>\n",
       "    <tr>\n",
       "      <th>2</th>\n",
       "      <td>54</td>\n",
       "      <td>A</td>\n",
       "      <td>L</td>\n",
       "    </tr>\n",
       "    <tr>\n",
       "      <th>3</th>\n",
       "      <td>25</td>\n",
       "      <td>A</td>\n",
       "      <td>L</td>\n",
       "    </tr>\n",
       "    <tr>\n",
       "      <th>5</th>\n",
       "      <td>52</td>\n",
       "      <td>A</td>\n",
       "      <td>L</td>\n",
       "    </tr>\n",
       "    <tr>\n",
       "      <th>6</th>\n",
       "      <td>51</td>\n",
       "      <td>A</td>\n",
       "      <td>L</td>\n",
       "    </tr>\n",
       "    <tr>\n",
       "      <th>7</th>\n",
       "      <td>26</td>\n",
       "      <td>A</td>\n",
       "      <td>L</td>\n",
       "    </tr>\n",
       "    <tr>\n",
       "      <th>9</th>\n",
       "      <td>18</td>\n",
       "      <td>A</td>\n",
       "      <td>M</td>\n",
       "    </tr>\n",
       "    <tr>\n",
       "      <th>10</th>\n",
       "      <td>21</td>\n",
       "      <td>A</td>\n",
       "      <td>M</td>\n",
       "    </tr>\n",
       "    <tr>\n",
       "      <th>11</th>\n",
       "      <td>29</td>\n",
       "      <td>A</td>\n",
       "      <td>M</td>\n",
       "    </tr>\n",
       "    <tr>\n",
       "      <th>12</th>\n",
       "      <td>17</td>\n",
       "      <td>A</td>\n",
       "      <td>M</td>\n",
       "    </tr>\n",
       "    <tr>\n",
       "      <th>13</th>\n",
       "      <td>12</td>\n",
       "      <td>A</td>\n",
       "      <td>M</td>\n",
       "    </tr>\n",
       "    <tr>\n",
       "      <th>14</th>\n",
       "      <td>18</td>\n",
       "      <td>A</td>\n",
       "      <td>M</td>\n",
       "    </tr>\n",
       "    <tr>\n",
       "      <th>15</th>\n",
       "      <td>35</td>\n",
       "      <td>A</td>\n",
       "      <td>M</td>\n",
       "    </tr>\n",
       "    <tr>\n",
       "      <th>16</th>\n",
       "      <td>30</td>\n",
       "      <td>A</td>\n",
       "      <td>M</td>\n",
       "    </tr>\n",
       "    <tr>\n",
       "      <th>17</th>\n",
       "      <td>36</td>\n",
       "      <td>A</td>\n",
       "      <td>M</td>\n",
       "    </tr>\n",
       "    <tr>\n",
       "      <th>18</th>\n",
       "      <td>36</td>\n",
       "      <td>A</td>\n",
       "      <td>H</td>\n",
       "    </tr>\n",
       "    <tr>\n",
       "      <th>19</th>\n",
       "      <td>21</td>\n",
       "      <td>A</td>\n",
       "      <td>H</td>\n",
       "    </tr>\n",
       "    <tr>\n",
       "      <th>20</th>\n",
       "      <td>24</td>\n",
       "      <td>A</td>\n",
       "      <td>H</td>\n",
       "    </tr>\n",
       "    <tr>\n",
       "      <th>21</th>\n",
       "      <td>18</td>\n",
       "      <td>A</td>\n",
       "      <td>H</td>\n",
       "    </tr>\n",
       "    <tr>\n",
       "      <th>22</th>\n",
       "      <td>10</td>\n",
       "      <td>A</td>\n",
       "      <td>H</td>\n",
       "    </tr>\n",
       "    <tr>\n",
       "      <th>23</th>\n",
       "      <td>43</td>\n",
       "      <td>A</td>\n",
       "      <td>H</td>\n",
       "    </tr>\n",
       "    <tr>\n",
       "      <th>24</th>\n",
       "      <td>28</td>\n",
       "      <td>A</td>\n",
       "      <td>H</td>\n",
       "    </tr>\n",
       "    <tr>\n",
       "      <th>25</th>\n",
       "      <td>15</td>\n",
       "      <td>A</td>\n",
       "      <td>H</td>\n",
       "    </tr>\n",
       "    <tr>\n",
       "      <th>26</th>\n",
       "      <td>26</td>\n",
       "      <td>A</td>\n",
       "      <td>H</td>\n",
       "    </tr>\n",
       "    <tr>\n",
       "      <th>27</th>\n",
       "      <td>27</td>\n",
       "      <td>B</td>\n",
       "      <td>L</td>\n",
       "    </tr>\n",
       "    <tr>\n",
       "      <th>28</th>\n",
       "      <td>14</td>\n",
       "      <td>B</td>\n",
       "      <td>L</td>\n",
       "    </tr>\n",
       "    <tr>\n",
       "      <th>29</th>\n",
       "      <td>29</td>\n",
       "      <td>B</td>\n",
       "      <td>L</td>\n",
       "    </tr>\n",
       "    <tr>\n",
       "      <th>30</th>\n",
       "      <td>19</td>\n",
       "      <td>B</td>\n",
       "      <td>L</td>\n",
       "    </tr>\n",
       "    <tr>\n",
       "      <th>31</th>\n",
       "      <td>29</td>\n",
       "      <td>B</td>\n",
       "      <td>L</td>\n",
       "    </tr>\n",
       "    <tr>\n",
       "      <th>32</th>\n",
       "      <td>31</td>\n",
       "      <td>B</td>\n",
       "      <td>L</td>\n",
       "    </tr>\n",
       "    <tr>\n",
       "      <th>33</th>\n",
       "      <td>41</td>\n",
       "      <td>B</td>\n",
       "      <td>L</td>\n",
       "    </tr>\n",
       "    <tr>\n",
       "      <th>34</th>\n",
       "      <td>20</td>\n",
       "      <td>B</td>\n",
       "      <td>L</td>\n",
       "    </tr>\n",
       "    <tr>\n",
       "      <th>35</th>\n",
       "      <td>44</td>\n",
       "      <td>B</td>\n",
       "      <td>L</td>\n",
       "    </tr>\n",
       "    <tr>\n",
       "      <th>36</th>\n",
       "      <td>42</td>\n",
       "      <td>B</td>\n",
       "      <td>M</td>\n",
       "    </tr>\n",
       "    <tr>\n",
       "      <th>37</th>\n",
       "      <td>26</td>\n",
       "      <td>B</td>\n",
       "      <td>M</td>\n",
       "    </tr>\n",
       "    <tr>\n",
       "      <th>38</th>\n",
       "      <td>19</td>\n",
       "      <td>B</td>\n",
       "      <td>M</td>\n",
       "    </tr>\n",
       "    <tr>\n",
       "      <th>39</th>\n",
       "      <td>16</td>\n",
       "      <td>B</td>\n",
       "      <td>M</td>\n",
       "    </tr>\n",
       "    <tr>\n",
       "      <th>40</th>\n",
       "      <td>39</td>\n",
       "      <td>B</td>\n",
       "      <td>M</td>\n",
       "    </tr>\n",
       "    <tr>\n",
       "      <th>41</th>\n",
       "      <td>28</td>\n",
       "      <td>B</td>\n",
       "      <td>M</td>\n",
       "    </tr>\n",
       "    <tr>\n",
       "      <th>42</th>\n",
       "      <td>21</td>\n",
       "      <td>B</td>\n",
       "      <td>M</td>\n",
       "    </tr>\n",
       "    <tr>\n",
       "      <th>43</th>\n",
       "      <td>39</td>\n",
       "      <td>B</td>\n",
       "      <td>M</td>\n",
       "    </tr>\n",
       "    <tr>\n",
       "      <th>44</th>\n",
       "      <td>29</td>\n",
       "      <td>B</td>\n",
       "      <td>M</td>\n",
       "    </tr>\n",
       "    <tr>\n",
       "      <th>45</th>\n",
       "      <td>20</td>\n",
       "      <td>B</td>\n",
       "      <td>H</td>\n",
       "    </tr>\n",
       "    <tr>\n",
       "      <th>46</th>\n",
       "      <td>21</td>\n",
       "      <td>B</td>\n",
       "      <td>H</td>\n",
       "    </tr>\n",
       "    <tr>\n",
       "      <th>47</th>\n",
       "      <td>24</td>\n",
       "      <td>B</td>\n",
       "      <td>H</td>\n",
       "    </tr>\n",
       "    <tr>\n",
       "      <th>48</th>\n",
       "      <td>17</td>\n",
       "      <td>B</td>\n",
       "      <td>H</td>\n",
       "    </tr>\n",
       "    <tr>\n",
       "      <th>49</th>\n",
       "      <td>13</td>\n",
       "      <td>B</td>\n",
       "      <td>H</td>\n",
       "    </tr>\n",
       "    <tr>\n",
       "      <th>50</th>\n",
       "      <td>15</td>\n",
       "      <td>B</td>\n",
       "      <td>H</td>\n",
       "    </tr>\n",
       "    <tr>\n",
       "      <th>51</th>\n",
       "      <td>15</td>\n",
       "      <td>B</td>\n",
       "      <td>H</td>\n",
       "    </tr>\n",
       "    <tr>\n",
       "      <th>52</th>\n",
       "      <td>16</td>\n",
       "      <td>B</td>\n",
       "      <td>H</td>\n",
       "    </tr>\n",
       "    <tr>\n",
       "      <th>53</th>\n",
       "      <td>28</td>\n",
       "      <td>B</td>\n",
       "      <td>H</td>\n",
       "    </tr>\n",
       "  </tbody>\n",
       "</table>\n",
       "</div>"
      ],
      "text/plain": [
       "    breaks wool tension\n",
       "0       26    A       L\n",
       "1       30    A       L\n",
       "2       54    A       L\n",
       "3       25    A       L\n",
       "5       52    A       L\n",
       "6       51    A       L\n",
       "7       26    A       L\n",
       "9       18    A       M\n",
       "10      21    A       M\n",
       "11      29    A       M\n",
       "12      17    A       M\n",
       "13      12    A       M\n",
       "14      18    A       M\n",
       "15      35    A       M\n",
       "16      30    A       M\n",
       "17      36    A       M\n",
       "18      36    A       H\n",
       "19      21    A       H\n",
       "20      24    A       H\n",
       "21      18    A       H\n",
       "22      10    A       H\n",
       "23      43    A       H\n",
       "24      28    A       H\n",
       "25      15    A       H\n",
       "26      26    A       H\n",
       "27      27    B       L\n",
       "28      14    B       L\n",
       "29      29    B       L\n",
       "30      19    B       L\n",
       "31      29    B       L\n",
       "32      31    B       L\n",
       "33      41    B       L\n",
       "34      20    B       L\n",
       "35      44    B       L\n",
       "36      42    B       M\n",
       "37      26    B       M\n",
       "38      19    B       M\n",
       "39      16    B       M\n",
       "40      39    B       M\n",
       "41      28    B       M\n",
       "42      21    B       M\n",
       "43      39    B       M\n",
       "44      29    B       M\n",
       "45      20    B       H\n",
       "46      21    B       H\n",
       "47      24    B       H\n",
       "48      17    B       H\n",
       "49      13    B       H\n",
       "50      15    B       H\n",
       "51      15    B       H\n",
       "52      16    B       H\n",
       "53      28    B       H"
      ]
     },
     "execution_count": 84,
     "metadata": {},
     "output_type": "execute_result"
    }
   ],
   "source": [
    "# 이상치 제외 값\n",
    "\n",
    "warpbreaks.loc[(warpbreaks.breaks <= UC) & (warpbreaks.breaks >=LC), :]"
   ]
  },
  {
   "cell_type": "markdown",
   "id": "82e2b5b7",
   "metadata": {},
   "source": [
    "#### Z-score를 이용한 방법\n",
    "- z-score의 특정 값을 기준으로 이상치를 판별하는 방법\n",
    "- (x-평균)/ 표준편차\n",
    "- 평균을 중심으로 표준편차 대비 몇 배 떨어져 있는지를 기준으로 이상치 정의\n",
    "- 이상치 판별 기준 Z>3"
   ]
  },
  {
   "cell_type": "code",
   "execution_count": 86,
   "id": "7b2b1aaf",
   "metadata": {},
   "outputs": [
    {
     "data": {
      "text/html": [
       "<div>\n",
       "<style scoped>\n",
       "    .dataframe tbody tr th:only-of-type {\n",
       "        vertical-align: middle;\n",
       "    }\n",
       "\n",
       "    .dataframe tbody tr th {\n",
       "        vertical-align: top;\n",
       "    }\n",
       "\n",
       "    .dataframe thead th {\n",
       "        text-align: right;\n",
       "    }\n",
       "</style>\n",
       "<table border=\"1\" class=\"dataframe\">\n",
       "  <thead>\n",
       "    <tr style=\"text-align: right;\">\n",
       "      <th></th>\n",
       "      <th>breaks</th>\n",
       "      <th>wool</th>\n",
       "      <th>tension</th>\n",
       "    </tr>\n",
       "  </thead>\n",
       "  <tbody>\n",
       "    <tr>\n",
       "      <th>4</th>\n",
       "      <td>70</td>\n",
       "      <td>A</td>\n",
       "      <td>L</td>\n",
       "    </tr>\n",
       "  </tbody>\n",
       "</table>\n",
       "</div>"
      ],
      "text/plain": [
       "   breaks wool tension\n",
       "4      70    A       L"
      ]
     },
     "execution_count": 86,
     "metadata": {},
     "output_type": "execute_result"
    }
   ],
   "source": [
    "upper = warpbreaks['breaks'].mean() + (3*warpbreaks['breaks'].std()) # 상한선\n",
    "lower = warpbreaks['breaks'].mean() - (3*warpbreaks['breaks'].std()) # 하한선\n",
    "\n",
    "warpbreaks.loc[(warpbreaks['breaks'] > upper) | (warpbreaks['breaks'] < lower), :].head()"
   ]
  },
  {
   "cell_type": "markdown",
   "id": "1cb31391",
   "metadata": {},
   "source": [
    "#### 이산화 방법\n",
    "- 수치형 변수를 그룹핑하여 범주형 변수로 변환하는 것"
   ]
  },
  {
   "cell_type": "code",
   "execution_count": 87,
   "id": "98ed0dc4",
   "metadata": {},
   "outputs": [
    {
     "name": "stdout",
     "output_type": "stream",
     "text": [
      "[array([ 0.,  6., 12., 18.])]\n"
     ]
    },
    {
     "name": "stderr",
     "output_type": "stream",
     "text": [
      "/opt/homebrew/Caskroom/miniforge/base/envs/tf/lib/python3.8/site-packages/sklearn/preprocessing/_discretization.py:248: FutureWarning: In version 1.5 onwards, subsample=200_000 will be used by default. Set subsample explicitly to silence this warning in the mean time. Set subsample=None to disable subsampling explicitly.\n",
      "  warnings.warn(\n"
     ]
    }
   ],
   "source": [
    "from sklearn.preprocessing import KBinsDiscretizer\n",
    "\n",
    "X = np.array([[0,1,1,2,5,10,11,14,18]]).T\n",
    "\n",
    "# 구간의 길이가 같도록 이산화\n",
    "kbd = KBinsDiscretizer(n_bins=3, # 구간의 개수 3\n",
    "                       strategy='uniform') # 구간 길이 동일\n",
    "X_bin = kbd.fit_transform(X).toarray()\n",
    "print(kbd.bin_edges_) ###3 각 구간의 경계값 확인"
   ]
  },
  {
   "cell_type": "code",
   "execution_count": 90,
   "id": "0fd9915c",
   "metadata": {},
   "outputs": [
    {
     "name": "stdout",
     "output_type": "stream",
     "text": [
      "[array([ 0.,  1.,  5., 11., 18.])]\n"
     ]
    }
   ],
   "source": [
    "# 분위수를 기준으로 이산화\n",
    "kbd2 = KBinsDiscretizer(n_bins=4, strategy= 'quantile') # 사분위수를 기준으로 이산화\n",
    "X_bin2 = kbd2.fit_transform(X).toarray()\n",
    "print(kbd2.bin_edges_)"
   ]
  },
  {
   "cell_type": "code",
   "execution_count": 91,
   "id": "0b091d82",
   "metadata": {},
   "outputs": [
    {
     "name": "stdout",
     "output_type": "stream",
     "text": [
      "[ 0.  1. 11. 18.]\n"
     ]
    }
   ],
   "source": [
    "print(np.quantile(X, [0, 0.25, 0.75, 1]))"
   ]
  },
  {
   "cell_type": "code",
   "execution_count": 92,
   "id": "65c8aa52",
   "metadata": {},
   "outputs": [
    {
     "name": "stdout",
     "output_type": "stream",
     "text": [
      "[NaN, 'A', 'A', 'A', 'B', 'C', 'C', 'D', 'D']\n",
      "Categories (4, object): ['A' < 'B' < 'C' < 'D']\n"
     ]
    }
   ],
   "source": [
    "# 구간을 임의로 설정하는 방법\n",
    "bins = [0, 4, 7, 11, 18]\n",
    "labels = ['A', 'B', 'C', 'D']\n",
    "X_bin3 = pd.cut(X.reshape(-1),\n",
    "                bins = bins, # 구간의 경계값 설정\n",
    "                labels = labels)\n",
    "print(X_bin3)"
   ]
  },
  {
   "cell_type": "markdown",
   "id": "b3195a2f",
   "metadata": {},
   "source": [
    "#### 차원 축소와 데이터 누수 방지\n",
    "- 차원 축소\n",
    "    - 고차원 데이터를 저차원으로 변환하는 기법 - 데이터를 시각화 할 때 필요\n",
    "    - 필요성\n",
    "        - 차원의 저주\n",
    "            1. 데이터 희소성: 고차원 공간에서는 공간 내의 데이터 희소해지므로 데이터 간의 패턴을 찾기 어려워짐\n",
    "            2. 계산의 복잡성\n",
    "            3. 과적합"
   ]
  },
  {
   "cell_type": "markdown",
   "id": "9916271e",
   "metadata": {},
   "source": [
    "#### 주성분 분석\n",
    "- 차원 축소의 대표적 기법\n",
    "- 고차원 데이터를 저차원 변환하며 데이터 정보를 유지하는데 중점을 둡"
   ]
  },
  {
   "cell_type": "code",
   "execution_count": 96,
   "id": "cef70eac",
   "metadata": {},
   "outputs": [
    {
     "data": {
      "text/html": [
       "<div>\n",
       "<style scoped>\n",
       "    .dataframe tbody tr th:only-of-type {\n",
       "        vertical-align: middle;\n",
       "    }\n",
       "\n",
       "    .dataframe tbody tr th {\n",
       "        vertical-align: top;\n",
       "    }\n",
       "\n",
       "    .dataframe thead th {\n",
       "        text-align: right;\n",
       "    }\n",
       "</style>\n",
       "<table border=\"1\" class=\"dataframe\">\n",
       "  <thead>\n",
       "    <tr style=\"text-align: right;\">\n",
       "      <th></th>\n",
       "      <th>X100m</th>\n",
       "      <th>Long.jump</th>\n",
       "      <th>Shot.put</th>\n",
       "      <th>High.jump</th>\n",
       "      <th>X400m</th>\n",
       "      <th>X110m.hurdle</th>\n",
       "      <th>Discus</th>\n",
       "      <th>Pole.vault</th>\n",
       "      <th>Javeline</th>\n",
       "      <th>X1500m</th>\n",
       "    </tr>\n",
       "    <tr>\n",
       "      <th>index</th>\n",
       "      <th></th>\n",
       "      <th></th>\n",
       "      <th></th>\n",
       "      <th></th>\n",
       "      <th></th>\n",
       "      <th></th>\n",
       "      <th></th>\n",
       "      <th></th>\n",
       "      <th></th>\n",
       "      <th></th>\n",
       "    </tr>\n",
       "  </thead>\n",
       "  <tbody>\n",
       "    <tr>\n",
       "      <th>SEBRLE</th>\n",
       "      <td>11.04</td>\n",
       "      <td>7.58</td>\n",
       "      <td>14.83</td>\n",
       "      <td>2.07</td>\n",
       "      <td>49.81</td>\n",
       "      <td>14.69</td>\n",
       "      <td>43.75</td>\n",
       "      <td>5.02</td>\n",
       "      <td>63.19</td>\n",
       "      <td>291.7</td>\n",
       "    </tr>\n",
       "    <tr>\n",
       "      <th>CLAY</th>\n",
       "      <td>10.76</td>\n",
       "      <td>7.40</td>\n",
       "      <td>14.26</td>\n",
       "      <td>1.86</td>\n",
       "      <td>49.37</td>\n",
       "      <td>14.05</td>\n",
       "      <td>50.72</td>\n",
       "      <td>4.92</td>\n",
       "      <td>60.15</td>\n",
       "      <td>301.5</td>\n",
       "    </tr>\n",
       "    <tr>\n",
       "      <th>BERNARD</th>\n",
       "      <td>11.02</td>\n",
       "      <td>7.23</td>\n",
       "      <td>14.25</td>\n",
       "      <td>1.92</td>\n",
       "      <td>48.93</td>\n",
       "      <td>14.99</td>\n",
       "      <td>40.87</td>\n",
       "      <td>5.32</td>\n",
       "      <td>62.77</td>\n",
       "      <td>280.1</td>\n",
       "    </tr>\n",
       "    <tr>\n",
       "      <th>YURKOV</th>\n",
       "      <td>11.34</td>\n",
       "      <td>7.09</td>\n",
       "      <td>15.19</td>\n",
       "      <td>2.10</td>\n",
       "      <td>50.42</td>\n",
       "      <td>15.31</td>\n",
       "      <td>46.26</td>\n",
       "      <td>4.72</td>\n",
       "      <td>63.44</td>\n",
       "      <td>276.4</td>\n",
       "    </tr>\n",
       "    <tr>\n",
       "      <th>ZSIVOCZKY</th>\n",
       "      <td>11.13</td>\n",
       "      <td>7.30</td>\n",
       "      <td>13.48</td>\n",
       "      <td>2.01</td>\n",
       "      <td>48.62</td>\n",
       "      <td>14.17</td>\n",
       "      <td>45.67</td>\n",
       "      <td>4.42</td>\n",
       "      <td>55.37</td>\n",
       "      <td>268.0</td>\n",
       "    </tr>\n",
       "  </tbody>\n",
       "</table>\n",
       "</div>"
      ],
      "text/plain": [
       "           X100m  Long.jump  Shot.put  High.jump  X400m  X110m.hurdle  Discus  \\\n",
       "index                                                                           \n",
       "SEBRLE     11.04       7.58     14.83       2.07  49.81         14.69   43.75   \n",
       "CLAY       10.76       7.40     14.26       1.86  49.37         14.05   50.72   \n",
       "BERNARD    11.02       7.23     14.25       1.92  48.93         14.99   40.87   \n",
       "YURKOV     11.34       7.09     15.19       2.10  50.42         15.31   46.26   \n",
       "ZSIVOCZKY  11.13       7.30     13.48       2.01  48.62         14.17   45.67   \n",
       "\n",
       "           Pole.vault  Javeline  X1500m  \n",
       "index                                    \n",
       "SEBRLE           5.02     63.19   291.7  \n",
       "CLAY             4.92     60.15   301.5  \n",
       "BERNARD          5.32     62.77   280.1  \n",
       "YURKOV           4.72     63.44   276.4  \n",
       "ZSIVOCZKY        4.42     55.37   268.0  "
      ]
     },
     "metadata": {},
     "output_type": "display_data"
    },
    {
     "name": "stdout",
     "output_type": "stream",
     "text": [
      "(23, 10)\n"
     ]
    }
   ],
   "source": [
    "df = pd.read_csv('https://raw.githubusercontent.com/YoungjinBD/data/main/df_5.csv')\n",
    "df.columns = ['index', 'X100m', 'Long.jump', 'Shot.put', 'High.jump', 'X400m', 'X110m.hurdle', 'Discus', 'Pole.vault', 'Javeline', 'X1500m']  # 컬럼 이름 변경\n",
    "df.set_index('index', inplace=True)\n",
    "display(df.head())\n",
    "print(df.shape)"
   ]
  },
  {
   "cell_type": "code",
   "execution_count": 97,
   "id": "648c78bb",
   "metadata": {},
   "outputs": [],
   "source": [
    "# 훈련 데이터 테스트 데이터 분리\n",
    "from sklearn.model_selection import train_test_split\n",
    "train, test = train_test_split(df, test_size=0.3, random_state=42)"
   ]
  },
  {
   "cell_type": "code",
   "execution_count": 98,
   "id": "7563d4ca",
   "metadata": {},
   "outputs": [],
   "source": [
    "# 주성분 분석 진행 전 사전 전처리 표준화 수행\n",
    "from sklearn.preprocessing import StandardScaler\n",
    "scaler = StandardScaler()\n",
    "train_scaled = scaler.fit_transform(train)\n",
    "test_scaled = scaler.transform(test)"
   ]
  },
  {
   "cell_type": "code",
   "execution_count": 100,
   "id": "9c37d41b",
   "metadata": {},
   "outputs": [],
   "source": [
    "# PCA 주성분 분석 적용\n",
    "from sklearn.decomposition import PCA\n",
    "pca = PCA(n_components=10, # 주성분의 수 (줄이고 싶은 차원의 수)\n",
    "          svd_solver= 'auto') # 주성분 분석 계산 방식\n",
    "\n",
    "X_train_pca = pca.fit_transform(train_scaled)\n",
    "X_test_pca = pca.transform(test_scaled)"
   ]
  },
  {
   "cell_type": "code",
   "execution_count": 103,
   "id": "f2012411",
   "metadata": {},
   "outputs": [
    {
     "data": {
      "image/png": "[encoded data removed]",
      "text/plain": [
       "<Figure size 800x600 with 1 Axes>"
      ]
     },
     "metadata": {},
     "output_type": "display_data"
    }
   ],
   "source": [
    "# 주 성분의 수 설정 (스크리 플롯 활용)\n",
    "\n",
    "import matplotlib.pyplot as plt\n",
    "cumulative_expained_variance = np.cumsum(pca.explained_variance_ratio_)\n",
    "\n",
    "# 스크리 플롯\n",
    "plt.figure(figsize=(8, 6))\n",
    "plt.plot(range(1, len(cumulative_expained_variance) + 1),\n",
    "               cumulative_expained_variance, marker='o', linestyle='-')\n",
    "plt.xlabel('Number of principal components')\n",
    "plt.ylabel('Cumulative Explained Variance')\n",
    "plt.title('scree plot')\n",
    "plt.grid(True)\n",
    "plt.show()"
   ]
  },
  {
   "cell_type": "code",
   "execution_count": null,
   "id": "86fb2af5",
   "metadata": {},
   "outputs": [],
   "source": [
    "# 스크리 플롯을 그리지 않고 주성분 수 정하는 방법\n",
    "\n",
    "pca = PCA(n_components= 0.8, # 설명되는 누적 분산의 비율 80% 수준 설정 / 0.8로 설정할 경우 svd_solver Full 설정\n",
    "          svd_solver='full') # 주성분 분석 계산 방식\n",
    "\n",
    "X_train_pca = pca.fit_transform(train_scaled)\n",
    "X_test_pca = pca.transform(test_scaled)"
   ]
  },
  {
   "cell_type": "code",
   "execution_count": 106,
   "id": "29fbb762",
   "metadata": {},
   "outputs": [
    {
     "name": "stdout",
     "output_type": "stream",
     "text": [
      "[0.45268178 0.15791668 0.1376982  0.08256299]\n",
      "4\n"
     ]
    }
   ],
   "source": [
    "print(pca.explained_variance_ratio_)\n",
    "print(pca.n_components_)"
   ]
  },
  {
   "cell_type": "markdown",
   "id": "06fa537d",
   "metadata": {},
   "source": [
    "#### 데이터 누수\n"
   ]
  },
  {
   "cell_type": "code",
   "execution_count": 107,
   "id": "0d86e354",
   "metadata": {},
   "outputs": [],
   "source": [
    "from sklearn.preprocessing import StandardScaler\n",
    "\n",
    "trainX = pd.DataFrame({'x1': range(1,9,1), 'x2': range(15, 23, 1)})\n",
    "testX = pd.DataFrame({'x1': [1,3,5], 'x2': [2,4,6]})"
   ]
  },
  {
   "cell_type": "code",
   "execution_count": 108,
   "id": "bbf0dc87",
   "metadata": {},
   "outputs": [],
   "source": [
    "stdscaler = StandardScaler()\n",
    "tarinX2 = stdscaler.fit_transform(trainX)\n",
    "\n",
    "testX2 = stdscaler.fit(testX)"
   ]
  },
  {
   "cell_type": "code",
   "execution_count": null,
   "id": "fd51c2b3",
   "metadata": {},
   "outputs": [],
   "source": [
    "(1 - np.mean(trainX['x1']))/ np.std(trainX['x1'])"
   ]
  }
 ],
 "metadata": {
  "kernelspec": {
   "display_name": "tf",
   "language": "python",
   "name": "python3"
  },
  "language_info": {
   "codemirror_mode": {
    "name": "ipython",
    "version": 3
   },
   "file_extension": ".py",
   "mimetype": "text/x-python",
   "name": "python",
   "nbconvert_exporter": "python",
   "pygments_lexer": "ipython3",
   "version": "3.8.13"
  }
 },
 "nbformat": 4,
 "nbformat_minor": 5
}
