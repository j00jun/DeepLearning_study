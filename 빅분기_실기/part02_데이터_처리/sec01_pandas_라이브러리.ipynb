{
 "cells": [
  {
   "cell_type": "code",
   "execution_count": null,
   "id": "7fba2f7b",
   "metadata": {},
   "outputs": [
    {
     "name": "stdout",
     "output_type": "stream",
     "text": [
      "    col1  col2\n",
      "0    one     6\n",
      "1    two     7\n",
      "2  three     8\n",
      "3   four     9\n",
      "4   five    10\n"
     ]
    }
   ],
   "source": [
    "import pandas as pd\n",
    "\n",
    "# 데이터 프레임 생성\n",
    "df = pd.DataFrame({\n",
    "    'col1': ['one', 'two', 'three', 'four', 'five'],\n",
    "    'col2': [6,7,8,9,10]\n",
    "})\n",
    "\n",
    "print(df)"
   ]
  },
  {
   "cell_type": "code",
   "execution_count": 2,
   "id": "3b14a71d",
   "metadata": {},
   "outputs": [
    {
     "name": "stdout",
     "output_type": "stream",
     "text": [
      "object\n",
      "int64\n"
     ]
    }
   ],
   "source": [
    "# 데이터 타입 확인\n",
    "\n",
    "print(df['col1'].dtype)\n",
    "print(df['col2'].dtype)"
   ]
  },
  {
   "cell_type": "code",
   "execution_count": null,
   "id": "92b497d3",
   "metadata": {},
   "outputs": [
    {
     "name": "stdout",
     "output_type": "stream",
     "text": [
      "Empty DataFrame\n",
      "Columns: [실수, 정수, 범주형, 논리, 문자열]\n",
      "Index: []\n",
      "실수      float64\n",
      "정수        int64\n",
      "범주형    category\n",
      "논리         bool\n",
      "문자열      object\n",
      "dtype: object\n"
     ]
    }
   ],
   "source": [
    "# 빈 데이터 프레임 생성 예제\n",
    "\n",
    "my_df = pd.DataFrame({\n",
    "    '실수': pd.Series(dtype='float'),\n",
    "    '정수': pd.Series(dtype='int'),\n",
    "    '범주형': pd.Series(dtype='category'),\n",
    "    '논리': pd.Series(dtype='bool'),\n",
    "    '문자열': pd.Series(dtype='str')\n",
    "})\n",
    "\n",
    "# series: 1차원 배열과 유사하지만, 각 요소에 대한 index를 가지고 있어 데이터에 대한 설명을 추가할 수 있음\n",
    "# 데이터 프레임의 각 열은 series로 구성\n",
    "print(my_df)\n",
    "print(my_df.dtypes)"
   ]
  },
  {
   "cell_type": "code",
   "execution_count": null,
   "id": "46099052",
   "metadata": {},
   "outputs": [],
   "source": [
    "# 데이터 프레임 생성\n",
    "\n",
    "my_df = pd.DataFrame({\n",
    "    'name': ['issac']\n",
    "})"
   ]
  }
 ],
 "metadata": {
  "kernelspec": {
   "display_name": "tf",
   "language": "python",
   "name": "python3"
  },
  "language_info": {
   "codemirror_mode": {
    "name": "ipython",
    "version": 3
   },
   "file_extension": ".py",
   "mimetype": "text/x-python",
   "name": "python",
   "nbconvert_exporter": "python",
   "pygments_lexer": "ipython3",
   "version": "3.8.13"
  }
 },
 "nbformat": 4,
 "nbformat_minor": 5
}
