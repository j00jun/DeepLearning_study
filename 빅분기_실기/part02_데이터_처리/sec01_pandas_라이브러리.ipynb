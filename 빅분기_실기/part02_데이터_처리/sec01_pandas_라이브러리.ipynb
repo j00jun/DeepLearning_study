{
 "cells": [
  {
   "cell_type": "code",
   "execution_count": null,
   "id": "7fba2f7b",
   "metadata": {},
   "outputs": [
    {
     "name": "stdout",
     "output_type": "stream",
     "text": [
      "    col1  col2\n",
      "0    one     6\n",
      "1    two     7\n",
      "2  three     8\n",
      "3   four     9\n",
      "4   five    10\n"
     ]
    }
   ],
   "source": [
    "import pandas as pd\n",
    "\n",
    "# 데이터 프레임 생성\n",
    "df = pd.DataFrame({\n",
    "    'col1': ['one', 'two', 'three', 'four', 'five'],\n",
    "    'col2': [6,7,8,9,10]\n",
    "})\n",
    "\n",
    "print(df)"
   ]
  },
  {
   "cell_type": "code",
   "execution_count": 2,
   "id": "3b14a71d",
   "metadata": {},
   "outputs": [
    {
     "name": "stdout",
     "output_type": "stream",
     "text": [
      "object\n",
      "int64\n"
     ]
    }
   ],
   "source": [
    "# 데이터 타입 확인\n",
    "\n",
    "print(df['col1'].dtype)\n",
    "print(df['col2'].dtype)"
   ]
  },
  {
   "cell_type": "code",
   "execution_count": null,
   "id": "92b497d3",
   "metadata": {},
   "outputs": [
    {
     "name": "stdout",
     "output_type": "stream",
     "text": [
      "Empty DataFrame\n",
      "Columns: [실수, 정수, 범주형, 논리, 문자열]\n",
      "Index: []\n",
      "실수      float64\n",
      "정수        int64\n",
      "범주형    category\n",
      "논리         bool\n",
      "문자열      object\n",
      "dtype: object\n"
     ]
    }
   ],
   "source": [
    "# 빈 데이터 프레임 생성 예제\n",
    "\n",
    "my_df = pd.DataFrame({\n",
    "    '실수': pd.Series(dtype='float'),\n",
    "    '정수': pd.Series(dtype='int'),\n",
    "    '범주형': pd.Series(dtype='category'),\n",
    "    '논리': pd.Series(dtype='bool'),\n",
    "    '문자열': pd.Series(dtype='str')\n",
    "})\n",
    "\n",
    "# series: 1차원 배열과 유사하지만, 각 요소에 대한 index를 가지고 있어 데이터에 대한 설명을 추가할 수 있음\n",
    "# 데이터 프레임의 각 열은 series로 구성\n",
    "print(my_df)\n",
    "print(my_df.dtypes)"
   ]
  },
  {
   "cell_type": "code",
   "execution_count": 4,
   "id": "46099052",
   "metadata": {},
   "outputs": [
    {
     "name": "stdout",
     "output_type": "stream",
     "text": [
      "    name  birthmonth\n",
      "0  issac           5\n",
      "1   bomi           4\n",
      "name          object\n",
      "birthmonth     int64\n",
      "dtype: object\n"
     ]
    }
   ],
   "source": [
    "# 데이터 프레임 생성\n",
    "\n",
    "my_df = pd.DataFrame({\n",
    "    'name': ['issac', 'bomi'],\n",
    "    'birthmonth': [5, 4]\n",
    "})\n",
    "\n",
    "print(my_df)\n",
    "print(my_df.dtypes)"
   ]
  },
  {
   "cell_type": "code",
   "execution_count": 5,
   "id": "e477357b",
   "metadata": {},
   "outputs": [
    {
     "name": "stdout",
     "output_type": "stream",
     "text": [
      "   student_id gender  midterm  final\n",
      "0           1      F       38     46\n",
      "1           2      M       42     67\n",
      "2           3      F       53     56\n",
      "3           4      M       48     54\n",
      "4           5      M       46     39\n",
      "(30, 4)\n"
     ]
    }
   ],
   "source": [
    "# csv 파일로 읽어오기 (URL)\n",
    "# url을 사용해서 바로 읽어오기\n",
    "url = 'https://raw.githubusercontent.com/YoungjinBD/data/main/examscore.csv'\n",
    "mydata = pd.read_csv(url)\n",
    "\n",
    "# 데이터의 위쪽 행들을 확인\n",
    "print(mydata.head())\n",
    "\n",
    "# 데이터 프레임의 차원(행과 열 개수)을 출력\n",
    "print(mydata.shape)"
   ]
  },
  {
   "cell_type": "code",
   "execution_count": 7,
   "id": "138c5f81",
   "metadata": {},
   "outputs": [
    {
     "data": {
      "text/html": [
       "<div>\n",
       "<style scoped>\n",
       "    .dataframe tbody tr th:only-of-type {\n",
       "        vertical-align: middle;\n",
       "    }\n",
       "\n",
       "    .dataframe tbody tr th {\n",
       "        vertical-align: top;\n",
       "    }\n",
       "\n",
       "    .dataframe thead th {\n",
       "        text-align: right;\n",
       "    }\n",
       "</style>\n",
       "<table border=\"1\" class=\"dataframe\">\n",
       "  <thead>\n",
       "    <tr style=\"text-align: right;\">\n",
       "      <th></th>\n",
       "      <th>student_id</th>\n",
       "      <th>gender</th>\n",
       "      <th>midterm</th>\n",
       "      <th>final</th>\n",
       "    </tr>\n",
       "  </thead>\n",
       "  <tbody>\n",
       "    <tr>\n",
       "      <th>19</th>\n",
       "      <td>20</td>\n",
       "      <td>M</td>\n",
       "      <td>9</td>\n",
       "      <td>33</td>\n",
       "    </tr>\n",
       "    <tr>\n",
       "      <th>21</th>\n",
       "      <td>22</td>\n",
       "      <td>M</td>\n",
       "      <td>15</td>\n",
       "      <td>12</td>\n",
       "    </tr>\n",
       "  </tbody>\n",
       "</table>\n",
       "</div>"
      ],
      "text/plain": [
       "    student_id gender  midterm  final\n",
       "19          20      M        9     33\n",
       "21          22      M       15     12"
      ]
     },
     "execution_count": 7,
     "metadata": {},
     "output_type": "execute_result"
    }
   ],
   "source": [
    "# 접근 방식: [ ]연산자를 사용하여 데이터 프레임의 특정 열에 접근 가능\n",
    "\n",
    "my_df['name'] # 특정 열 접근\n",
    "my_df[['name', 'birthmonth']] # 여러 컬럼 선택\n",
    "\n",
    "# iloc[] 필터링 : 인덱싱 접근\n",
    "my_df.iloc[:,0] # 첫 번째 열에 접근\n",
    "my_df.iloc[1,0] # 두 번째 항, 첫 번째 열에 접근\n",
    "\n",
    "# loc[] 필터링: 라벨 기반 인덱싱\n",
    "mydata[mydata['midterm'] <= 15]"
   ]
  },
  {
   "cell_type": "code",
   "execution_count": 8,
   "id": "47bb32fe",
   "metadata": {},
   "outputs": [
    {
     "data": {
      "text/html": [
       "<div>\n",
       "<style scoped>\n",
       "    .dataframe tbody tr th:only-of-type {\n",
       "        vertical-align: middle;\n",
       "    }\n",
       "\n",
       "    .dataframe tbody tr th {\n",
       "        vertical-align: top;\n",
       "    }\n",
       "\n",
       "    .dataframe thead th {\n",
       "        text-align: right;\n",
       "    }\n",
       "</style>\n",
       "<table border=\"1\" class=\"dataframe\">\n",
       "  <thead>\n",
       "    <tr style=\"text-align: right;\">\n",
       "      <th></th>\n",
       "      <th>student_id</th>\n",
       "      <th>gender</th>\n",
       "      <th>midterm</th>\n",
       "      <th>final</th>\n",
       "    </tr>\n",
       "  </thead>\n",
       "  <tbody>\n",
       "    <tr>\n",
       "      <th>19</th>\n",
       "      <td>20</td>\n",
       "      <td>M</td>\n",
       "      <td>9</td>\n",
       "      <td>33</td>\n",
       "    </tr>\n",
       "    <tr>\n",
       "      <th>21</th>\n",
       "      <td>22</td>\n",
       "      <td>M</td>\n",
       "      <td>15</td>\n",
       "      <td>12</td>\n",
       "    </tr>\n",
       "  </tbody>\n",
       "</table>\n",
       "</div>"
      ],
      "text/plain": [
       "    student_id gender  midterm  final\n",
       "19          20      M        9     33\n",
       "21          22      M       15     12"
      ]
     },
     "execution_count": 8,
     "metadata": {},
     "output_type": "execute_result"
    }
   ],
   "source": [
    "# loc[] 필터링: 라벨 기반 인덱싱\n",
    "mydata[mydata['midterm'] <= 15]\n",
    "mydata.loc[mydata['midterm'] <= 15] # 위 결과와 동일\n",
    "mydata.loc[mydata['midterm'] <= 15, :] # 특정 열 지정하지 않을 경우 전체 열 선택"
   ]
  },
  {
   "cell_type": "code",
   "execution_count": 9,
   "id": "769da315",
   "metadata": {},
   "outputs": [
    {
     "data": {
      "text/html": [
       "<div>\n",
       "<style scoped>\n",
       "    .dataframe tbody tr th:only-of-type {\n",
       "        vertical-align: middle;\n",
       "    }\n",
       "\n",
       "    .dataframe tbody tr th {\n",
       "        vertical-align: top;\n",
       "    }\n",
       "\n",
       "    .dataframe thead th {\n",
       "        text-align: right;\n",
       "    }\n",
       "</style>\n",
       "<table border=\"1\" class=\"dataframe\">\n",
       "  <thead>\n",
       "    <tr style=\"text-align: right;\">\n",
       "      <th></th>\n",
       "      <th>student_id</th>\n",
       "      <th>final</th>\n",
       "    </tr>\n",
       "  </thead>\n",
       "  <tbody>\n",
       "    <tr>\n",
       "      <th>19</th>\n",
       "      <td>20</td>\n",
       "      <td>33</td>\n",
       "    </tr>\n",
       "    <tr>\n",
       "      <th>21</th>\n",
       "      <td>22</td>\n",
       "      <td>12</td>\n",
       "    </tr>\n",
       "  </tbody>\n",
       "</table>\n",
       "</div>"
      ],
      "text/plain": [
       "    student_id  final\n",
       "19          20     33\n",
       "21          22     12"
      ]
     },
     "execution_count": 9,
     "metadata": {},
     "output_type": "execute_result"
    }
   ],
   "source": [
    "# 조건을 만족하는 행과 열을 함께 필터링 가능\n",
    "\n",
    "mydata.loc[mydata['midterm'] <= 15, ['student_id', 'final']]"
   ]
  },
  {
   "cell_type": "code",
   "execution_count": 14,
   "id": "77e7ed77",
   "metadata": {},
   "outputs": [
    {
     "data": {
      "text/html": [
       "<div>\n",
       "<style scoped>\n",
       "    .dataframe tbody tr th:only-of-type {\n",
       "        vertical-align: middle;\n",
       "    }\n",
       "\n",
       "    .dataframe tbody tr th {\n",
       "        vertical-align: top;\n",
       "    }\n",
       "\n",
       "    .dataframe thead th {\n",
       "        text-align: right;\n",
       "    }\n",
       "</style>\n",
       "<table border=\"1\" class=\"dataframe\">\n",
       "  <thead>\n",
       "    <tr style=\"text-align: right;\">\n",
       "      <th></th>\n",
       "      <th>student_id</th>\n",
       "      <th>gender</th>\n",
       "      <th>midterm</th>\n",
       "      <th>final</th>\n",
       "    </tr>\n",
       "  </thead>\n",
       "  <tbody>\n",
       "    <tr>\n",
       "      <th>0</th>\n",
       "      <td>1</td>\n",
       "      <td>F</td>\n",
       "      <td>38</td>\n",
       "      <td>46</td>\n",
       "    </tr>\n",
       "    <tr>\n",
       "      <th>8</th>\n",
       "      <td>9</td>\n",
       "      <td>M</td>\n",
       "      <td>28</td>\n",
       "      <td>25</td>\n",
       "    </tr>\n",
       "    <tr>\n",
       "      <th>9</th>\n",
       "      <td>10</td>\n",
       "      <td>M</td>\n",
       "      <td>38</td>\n",
       "      <td>59</td>\n",
       "    </tr>\n",
       "    <tr>\n",
       "      <th>23</th>\n",
       "      <td>24</td>\n",
       "      <td>M</td>\n",
       "      <td>28</td>\n",
       "      <td>55</td>\n",
       "    </tr>\n",
       "    <tr>\n",
       "      <th>27</th>\n",
       "      <td>28</td>\n",
       "      <td>F</td>\n",
       "      <td>52</td>\n",
       "      <td>66</td>\n",
       "    </tr>\n",
       "  </tbody>\n",
       "</table>\n",
       "</div>"
      ],
      "text/plain": [
       "    student_id gender  midterm  final\n",
       "0            1      F       38     46\n",
       "8            9      M       28     25\n",
       "9           10      M       38     59\n",
       "23          24      M       28     55\n",
       "27          28      F       52     66"
      ]
     },
     "execution_count": 14,
     "metadata": {},
     "output_type": "execute_result"
    }
   ],
   "source": [
    "# isin[]: 특정 값이 데이터 프레임 내에 존재확인\n",
    "mydata[mydata['midterm'].isin([28, 38, 52])].head()"
   ]
  },
  {
   "cell_type": "code",
   "execution_count": 15,
   "id": "c204198f",
   "metadata": {},
   "outputs": [
    {
     "data": {
      "text/html": [
       "<div>\n",
       "<style scoped>\n",
       "    .dataframe tbody tr th:only-of-type {\n",
       "        vertical-align: middle;\n",
       "    }\n",
       "\n",
       "    .dataframe tbody tr th {\n",
       "        vertical-align: top;\n",
       "    }\n",
       "\n",
       "    .dataframe thead th {\n",
       "        text-align: right;\n",
       "    }\n",
       "</style>\n",
       "<table border=\"1\" class=\"dataframe\">\n",
       "  <thead>\n",
       "    <tr style=\"text-align: right;\">\n",
       "      <th></th>\n",
       "      <th>student_id</th>\n",
       "      <th>final</th>\n",
       "    </tr>\n",
       "  </thead>\n",
       "  <tbody>\n",
       "    <tr>\n",
       "      <th>0</th>\n",
       "      <td>1</td>\n",
       "      <td>46</td>\n",
       "    </tr>\n",
       "    <tr>\n",
       "      <th>8</th>\n",
       "      <td>9</td>\n",
       "      <td>25</td>\n",
       "    </tr>\n",
       "    <tr>\n",
       "      <th>9</th>\n",
       "      <td>10</td>\n",
       "      <td>59</td>\n",
       "    </tr>\n",
       "    <tr>\n",
       "      <th>23</th>\n",
       "      <td>24</td>\n",
       "      <td>55</td>\n",
       "    </tr>\n",
       "    <tr>\n",
       "      <th>27</th>\n",
       "      <td>28</td>\n",
       "      <td>66</td>\n",
       "    </tr>\n",
       "  </tbody>\n",
       "</table>\n",
       "</div>"
      ],
      "text/plain": [
       "    student_id  final\n",
       "0            1     46\n",
       "8            9     25\n",
       "9           10     59\n",
       "23          24     55\n",
       "27          28     66"
      ]
     },
     "execution_count": 15,
     "metadata": {},
     "output_type": "execute_result"
    }
   ],
   "source": [
    "# 특정 값이 포함된 행을 필터링 후 열 선택\n",
    "mydata.loc[mydata['midterm'].isin([28, 38, 52]), ['student_id', 'final']].head()"
   ]
  },
  {
   "cell_type": "code",
   "execution_count": 16,
   "id": "d3312e88",
   "metadata": {},
   "outputs": [
    {
     "data": {
      "text/html": [
       "<div>\n",
       "<style scoped>\n",
       "    .dataframe tbody tr th:only-of-type {\n",
       "        vertical-align: middle;\n",
       "    }\n",
       "\n",
       "    .dataframe tbody tr th {\n",
       "        vertical-align: top;\n",
       "    }\n",
       "\n",
       "    .dataframe thead th {\n",
       "        text-align: right;\n",
       "    }\n",
       "</style>\n",
       "<table border=\"1\" class=\"dataframe\">\n",
       "  <thead>\n",
       "    <tr style=\"text-align: right;\">\n",
       "      <th></th>\n",
       "      <th>student_id</th>\n",
       "      <th>gender</th>\n",
       "      <th>midterm</th>\n",
       "      <th>final</th>\n",
       "    </tr>\n",
       "  </thead>\n",
       "  <tbody>\n",
       "    <tr>\n",
       "      <th>1</th>\n",
       "      <td>2</td>\n",
       "      <td>M</td>\n",
       "      <td>42</td>\n",
       "      <td>67</td>\n",
       "    </tr>\n",
       "    <tr>\n",
       "      <th>2</th>\n",
       "      <td>3</td>\n",
       "      <td>F</td>\n",
       "      <td>53</td>\n",
       "      <td>56</td>\n",
       "    </tr>\n",
       "    <tr>\n",
       "      <th>3</th>\n",
       "      <td>4</td>\n",
       "      <td>M</td>\n",
       "      <td>48</td>\n",
       "      <td>54</td>\n",
       "    </tr>\n",
       "    <tr>\n",
       "      <th>4</th>\n",
       "      <td>5</td>\n",
       "      <td>M</td>\n",
       "      <td>46</td>\n",
       "      <td>39</td>\n",
       "    </tr>\n",
       "    <tr>\n",
       "      <th>5</th>\n",
       "      <td>6</td>\n",
       "      <td>M</td>\n",
       "      <td>51</td>\n",
       "      <td>74</td>\n",
       "    </tr>\n",
       "  </tbody>\n",
       "</table>\n",
       "</div>"
      ],
      "text/plain": [
       "   student_id gender  midterm  final\n",
       "1           2      M       42     67\n",
       "2           3      F       53     56\n",
       "3           4      M       48     54\n",
       "4           5      M       46     39\n",
       "5           6      M       51     74"
      ]
     },
     "execution_count": 16,
     "metadata": {},
     "output_type": "execute_result"
    }
   ],
   "source": [
    "# ~isin: 제외(부정)\n",
    "\n",
    "mydata.loc[~mydata['midterm'].isin([28, 38, 52])].head()"
   ]
  },
  {
   "cell_type": "markdown",
   "id": "4f491760",
   "metadata": {},
   "source": [
    "#### 정리\n"
   ]
  },
  {
   "cell_type": "code",
   "execution_count": 21,
   "id": "30acfcb4",
   "metadata": {},
   "outputs": [
    {
     "name": "stdout",
     "output_type": "stream",
     "text": [
      "   student_id gender  midterm  final\n",
      "0         1.0    NaN       38     46\n",
      "1         2.0      M       42     67\n",
      "2         3.0      F       53     56\n",
      "3         4.0      M       48     54\n",
      "4         NaN      M       46     39\n"
     ]
    }
   ],
   "source": [
    "import numpy as np\n",
    "import pandas as pd\n",
    "\n",
    "# 예제 데이터 프레임 생성\n",
    "\n",
    "mydata = pd.DataFrame({\n",
    "    'student_id': [1,2,3,4,5],\n",
    "    'gender': ['F', 'M', 'F', 'M','M'],\n",
    "    'midterm': [38, 42, 53, 48, 46],\n",
    "    'final': [46,67,56,54,39]\n",
    "})\n",
    "\n",
    "# 일부 데이터를 NA 설정\n",
    "mydata.iloc[0, 1] = np.nan\n",
    "mydata.iloc[4, 0] = np.nan\n",
    "print(mydata.head())"
   ]
  },
  {
   "cell_type": "code",
   "execution_count": 22,
   "id": "9ff5737e",
   "metadata": {},
   "outputs": [
    {
     "name": "stdout",
     "output_type": "stream",
     "text": [
      "gender 컬럼 빈칸 확인 1\n",
      "student_id 빈칸 확인 1\n"
     ]
    }
   ],
   "source": [
    "# isna()함수 : 칸이 들어있는 부분 열별 체크\n",
    "\n",
    "print('gender 컬럼 빈칸 확인', mydata['gender'].isna().sum())\n",
    "print('student_id 빈칸 확인', mydata['student_id'].isna().sum())"
   ]
  },
  {
   "cell_type": "code",
   "execution_count": 23,
   "id": "8dff595e",
   "metadata": {},
   "outputs": [
    {
     "name": "stdout",
     "output_type": "stream",
     "text": [
      "완전한 행의 수: 3\n",
      "   student_id gender  midterm  final\n",
      "1         2.0      M       42     67\n",
      "2         3.0      F       53     56\n",
      "3         4.0      M       48     54\n"
     ]
    }
   ],
   "source": [
    "# 빈 칸을 포함하지 않는 완전한 행을 원할 경우 dropna() 메서드\n",
    "# Dropna: 꽉 채워져 있는 행만 출력\n",
    "\n",
    "complete_row = mydata.dropna()\n",
    "print('완전한 행의 수:', len(complete_row))\n",
    "print(complete_row)"
   ]
  },
  {
   "cell_type": "markdown",
   "id": "18a180c3",
   "metadata": {},
   "source": [
    "### 구성원소 추가 / 삭제 / 변경"
   ]
  },
  {
   "cell_type": "code",
   "execution_count": 24,
   "id": "3902ea5c",
   "metadata": {},
   "outputs": [
    {
     "name": "stdout",
     "output_type": "stream",
     "text": [
      "   final  total\n",
      "0     46     84\n",
      "1     67    109\n",
      "2     56    109\n"
     ]
    }
   ],
   "source": [
    "mydata['total'] = mydata['midterm'] + mydata['final']\n",
    "print(mydata.iloc[0:3, [3,4]])"
   ]
  },
  {
   "cell_type": "code",
   "execution_count": null,
   "id": "72827ecc",
   "metadata": {},
   "outputs": [
    {
     "name": "stdout",
     "output_type": "stream",
     "text": [
      "   student_id gender  midterm  final  total  average  total\n",
      "0         1.0    NaN       38     46     84     42.0   42.0\n",
      "1         2.0      M       42     67    109     54.5   54.5\n",
      "2         3.0      F       53     56    109     54.5   54.5\n",
      "3         4.0      M       48     54    102     51.0   51.0\n",
      "4         NaN      M       46     39     85     42.5   42.5\n"
     ]
    }
   ],
   "source": [
    "# pd.concat() : 새로운 열 추가 \n",
    "\n",
    "mydata = pd.concat([mydata, (mydata['total']/2).rename('average')], axis=1)\n",
    "print(mydata.head())"
   ]
  },
  {
   "cell_type": "code",
   "execution_count": null,
   "id": "338ea8e3",
   "metadata": {},
   "outputs": [
    {
     "name": "stdout",
     "output_type": "stream",
     "text": [
      "   student_id gender  midterm  final  total  my_average  total\n",
      "0         1.0    NaN       38     46     84        42.0   42.0\n",
      "1         2.0      M       42     67    109        54.5   54.5\n",
      "2         3.0      F       53     56    109        54.5   54.5\n",
      "3         4.0      M       48     54    102        51.0   51.0\n",
      "4         NaN      M       46     39     85        42.5   42.5\n"
     ]
    }
   ],
   "source": [
    "# rename\n",
    "mydata.rename(columns= {'average': 'my_average'}, inplace=True)\n",
    "print(mydata.head())"
   ]
  },
  {
   "cell_type": "code",
   "execution_count": null,
   "id": "b7ad2165",
   "metadata": {},
   "outputs": [
    {
     "name": "stdout",
     "output_type": "stream",
     "text": [
      "   student_id  midterm  final  total  my_average  total\n",
      "0         1.0       38     46     84        42.0   42.0\n",
      "1         2.0       42     67    109        54.5   54.5\n",
      "2         3.0       53     56    109        54.5   54.5\n",
      "3         4.0       48     54    102        51.0   51.0\n",
      "4         NaN       46     39     85        42.5   42.5\n"
     ]
    }
   ],
   "source": [
    "# del 사용한 삭제 \n",
    "# 동일한 이름 컬럼이 있을 경우 첫번째 값부터 삭제 \n",
    "del mydata['gender']\n",
    "print(mydata.head())"
   ]
  },
  {
   "cell_type": "code",
   "execution_count": null,
   "id": "790404e8",
   "metadata": {},
   "outputs": [
    {
     "name": "stdout",
     "output_type": "stream",
     "text": [
      "    A   B\n",
      "0  A0  B0\n",
      "1  A1  B1\n",
      "2  A2  B2\n",
      "0  A3  B3\n",
      "1  A4  B4\n",
      "2  A5  B5\n"
     ]
    }
   ],
   "source": [
    "# pd.concat() 함수\n",
    "\n",
    "import pandas as pd\n",
    "\n",
    "df1  = pd.DataFrame({\n",
    "    'A': ['A0', 'A1', 'A2'],\n",
    "    'B': ['B0', 'B1', 'B2']\n",
    "})\n",
    "\n",
    "df2 = pd.DataFrame({\n",
    "    'A': ['A3', 'A4', 'A5'],\n",
    "    'B': ['B3', 'B4', 'B5']\n",
    "})\n",
    "\n",
    "result = pd.concat([df1, df2])\n",
    "print(result)\n",
    "\n",
    " # 기본은 axis=0 (행) 방향으로 연결"
   ]
  },
  {
   "cell_type": "code",
   "execution_count": 30,
   "id": "5d15cee8",
   "metadata": {},
   "outputs": [
    {
     "name": "stdout",
     "output_type": "stream",
     "text": [
      "    A   B   C   D\n",
      "0  A0  B0  C0  D0\n",
      "1  A1  B1  C1  D1\n",
      "2  A2  B2  C2  D2\n"
     ]
    }
   ],
   "source": [
    "# 열 방향으로 연결\n",
    "\n",
    "df3 = pd.DataFrame({\n",
    "    'C': ['C0', 'C1', 'C2'],\n",
    "    'D': ['D0', 'D1', 'D2']\n",
    "})\n",
    "\n",
    "result = pd.concat([df1, df3], axis = 1)\n",
    "print(result)"
   ]
  },
  {
   "cell_type": "code",
   "execution_count": 31,
   "id": "2682991d",
   "metadata": {},
   "outputs": [
    {
     "name": "stdout",
     "output_type": "stream",
     "text": [
      "    A   B\n",
      "0  A0  B0\n",
      "1  A1  B1\n",
      "2  A2  B2\n",
      "0  A3  B3\n",
      "1  A4  B4\n",
      "2  A5  B5\n",
      "    A   B\n",
      "0  A0  B0\n",
      "1  A1  B1\n",
      "2  A2  B2\n",
      "3  A3  B3\n",
      "4  A4  B4\n",
      "5  A5  B5\n"
     ]
    }
   ],
   "source": [
    "# 기본 설정 행 방향으로 합쳤을 경우 행 번호가 중복되어 출력되는 것을 확인할 수 있음.\n",
    "# ignore_index = True : 행번호 정리\n",
    "\n",
    "result = pd.concat([df1, df2])\n",
    "print(result)\n",
    "\n",
    "\n",
    "result = pd.concat([df1, df2],ignore_index= True)\n",
    "print(result)"
   ]
  },
  {
   "cell_type": "code",
   "execution_count": 32,
   "id": "8c4a2aaa",
   "metadata": {},
   "outputs": [
    {
     "name": "stdout",
     "output_type": "stream",
     "text": [
      "    A   B\n",
      "0  A0  B0\n",
      "1  A1  B1\n",
      "2  A2  B2\n",
      "    A   B   C\n",
      "0  A2  B2  C2\n",
      "1  A3  B3  C3\n",
      "2  A4  B4  C4\n"
     ]
    }
   ],
   "source": [
    "# 공통된 열만 합치기 (inner)\n",
    "\n",
    "df4 = pd.DataFrame({\n",
    "    'A': ['A2', 'A3', 'A4'],\n",
    "    'B': ['B2', 'B3', 'B4'],\n",
    "    'C': ['C2', 'C3', 'C4']\n",
    "})\n",
    "print(df1)\n",
    "print(df4)"
   ]
  },
  {
   "cell_type": "code",
   "execution_count": null,
   "id": "1f697d56",
   "metadata": {},
   "outputs": [
    {
     "name": "stdout",
     "output_type": "stream",
     "text": [
      "    A   B\n",
      "0  A0  B0\n",
      "1  A1  B1\n",
      "2  A2  B2\n",
      "0  A2  B2\n",
      "1  A3  B3\n",
      "2  A4  B4\n"
     ]
    }
   ],
   "source": [
    "# 공통된 열만 합치기 (inner)\n",
    "result = pd.concat([df1, df4], join='inner')\n",
    "print(result)"
   ]
  },
  {
   "cell_type": "code",
   "execution_count": 34,
   "id": "1942367f",
   "metadata": {},
   "outputs": [
    {
     "name": "stdout",
     "output_type": "stream",
     "text": [
      "    A   B\n",
      "0  A0  B0\n",
      "1  A1  B1\n",
      "2  A2  B2\n",
      "    A   B   C\n",
      "0  A2  B2  C2\n",
      "1  A3  B3  C3\n",
      "2  A4  B4  C4\n",
      "    A   B    C\n",
      "0  A0  B0  NaN\n",
      "1  A1  B1  NaN\n",
      "2  A2  B2  NaN\n",
      "0  A2  B2   C2\n",
      "1  A3  B3   C3\n",
      "2  A4  B4   C4\n"
     ]
    }
   ],
   "source": [
    "# 모든 열을 포함시키는 외부 결합 ( 하나의 프레임에만 존재하는 값은 NaN으로 채움) (outer)\n",
    "\n",
    "import pandas as pd\n",
    "\n",
    "df1 = pd.DataFrame({\n",
    "    'A': ['A0', 'A1', 'A2'],\n",
    "    'B': ['B0', 'B1', 'B2']\n",
    "})\n",
    "df4 = pd.DataFrame({\n",
    "    'A': ['A2', 'A3', 'A4'],\n",
    "    'B': ['B2', 'B3', 'B4'],\n",
    "    'C': ['C2', 'C3', 'C4']\n",
    "})\n",
    "\n",
    "# 데이터 프레임 출력\n",
    "print(df1)\n",
    "print(df4)\n",
    "\n",
    "result = pd.concat([df1, df4], join='outer')\n",
    "print(result)"
   ]
  },
  {
   "cell_type": "code",
   "execution_count": null,
   "id": "28bf7920",
   "metadata": {},
   "outputs": [
    {
     "name": "stdout",
     "output_type": "stream",
     "text": [
      "    A   B\n",
      "0  A0  B0\n",
      "1  A1  B1\n",
      "2  A2  B2\n",
      "    A   B\n",
      "0  A3  B3\n",
      "1  A4  B4\n",
      "2  A5  B5\n"
     ]
    }
   ],
   "source": [
    "# keys 옵션\n",
    "print(df1)\n",
    "print(df2)"
   ]
  },
  {
   "cell_type": "code",
   "execution_count": 36,
   "id": "eed2d064",
   "metadata": {},
   "outputs": [
    {
     "name": "stdout",
     "output_type": "stream",
     "text": [
      "         A   B\n",
      "key1 0  A0  B0\n",
      "     1  A1  B1\n",
      "     2  A2  B2\n",
      "key2 0  A3  B3\n",
      "     1  A4  B4\n",
      "     2  A5  B5\n"
     ]
    }
   ],
   "source": [
    "# df1 df2 같은 컬럼 A, B를 가지고 있는 데이터 프레임, 이것들을 합칠 때 각 행이 어느 데이터 프레임에서 왔는지 기록할 경우 keys 옵션 사용\n",
    "\n",
    "result = pd.concat([df1, df2], keys= ['key1', 'key2'])\n",
    "print(result)"
   ]
  },
  {
   "cell_type": "code",
   "execution_count": 37,
   "id": "32560e31",
   "metadata": {},
   "outputs": [
    {
     "name": "stdout",
     "output_type": "stream",
     "text": [
      "    A   B\n",
      "1  A4  B4\n",
      "2  A5  B5\n"
     ]
    }
   ],
   "source": [
    "# key2에 해당하는 데이터 프레임의 2번째 3번째 행 선택\n",
    "df1_rows = result.loc['key2'].iloc[1:3]\n",
    "print(df1_rows)"
   ]
  },
  {
   "cell_type": "markdown",
   "id": "1714d1ec",
   "metadata": {},
   "source": [
    "### pandas 메서드"
   ]
  },
  {
   "cell_type": "code",
   "execution_count": 39,
   "id": "fe797d1a",
   "metadata": {},
   "outputs": [],
   "source": [
    "import pandas as pd\n",
    "\n",
    "# 팔머 펭귄 데이터 불러오기\n",
    "df = pd.read_csv('https://raw.githubusercontent.com/YoungjinBD/data/main/penguins.csv')"
   ]
  },
  {
   "cell_type": "code",
   "execution_count": 40,
   "id": "8a4d41b9",
   "metadata": {},
   "outputs": [
    {
     "data": {
      "text/html": [
       "<div>\n",
       "<style scoped>\n",
       "    .dataframe tbody tr th:only-of-type {\n",
       "        vertical-align: middle;\n",
       "    }\n",
       "\n",
       "    .dataframe tbody tr th {\n",
       "        vertical-align: top;\n",
       "    }\n",
       "\n",
       "    .dataframe thead th {\n",
       "        text-align: right;\n",
       "    }\n",
       "</style>\n",
       "<table border=\"1\" class=\"dataframe\">\n",
       "  <thead>\n",
       "    <tr style=\"text-align: right;\">\n",
       "      <th></th>\n",
       "      <th>species</th>\n",
       "      <th>island</th>\n",
       "      <th>bill_length_mm</th>\n",
       "      <th>bill_depth_mm</th>\n",
       "      <th>flipper_length_mm</th>\n",
       "      <th>body_mass_g</th>\n",
       "      <th>sex</th>\n",
       "    </tr>\n",
       "  </thead>\n",
       "  <tbody>\n",
       "    <tr>\n",
       "      <th>0</th>\n",
       "      <td>Adelie</td>\n",
       "      <td>Torgersen</td>\n",
       "      <td>39.1</td>\n",
       "      <td>18.7</td>\n",
       "      <td>181.0</td>\n",
       "      <td>3750.0</td>\n",
       "      <td>Male</td>\n",
       "    </tr>\n",
       "    <tr>\n",
       "      <th>1</th>\n",
       "      <td>Adelie</td>\n",
       "      <td>Torgersen</td>\n",
       "      <td>39.5</td>\n",
       "      <td>17.4</td>\n",
       "      <td>186.0</td>\n",
       "      <td>3800.0</td>\n",
       "      <td>Female</td>\n",
       "    </tr>\n",
       "    <tr>\n",
       "      <th>2</th>\n",
       "      <td>Adelie</td>\n",
       "      <td>Torgersen</td>\n",
       "      <td>40.3</td>\n",
       "      <td>18.0</td>\n",
       "      <td>195.0</td>\n",
       "      <td>3250.0</td>\n",
       "      <td>Female</td>\n",
       "    </tr>\n",
       "    <tr>\n",
       "      <th>3</th>\n",
       "      <td>Adelie</td>\n",
       "      <td>Torgersen</td>\n",
       "      <td>NaN</td>\n",
       "      <td>NaN</td>\n",
       "      <td>NaN</td>\n",
       "      <td>NaN</td>\n",
       "      <td>NaN</td>\n",
       "    </tr>\n",
       "    <tr>\n",
       "      <th>4</th>\n",
       "      <td>Adelie</td>\n",
       "      <td>Torgersen</td>\n",
       "      <td>36.7</td>\n",
       "      <td>19.3</td>\n",
       "      <td>193.0</td>\n",
       "      <td>3450.0</td>\n",
       "      <td>Female</td>\n",
       "    </tr>\n",
       "  </tbody>\n",
       "</table>\n",
       "</div>"
      ],
      "text/plain": [
       "  species     island  bill_length_mm  bill_depth_mm  flipper_length_mm  \\\n",
       "0  Adelie  Torgersen            39.1           18.7              181.0   \n",
       "1  Adelie  Torgersen            39.5           17.4              186.0   \n",
       "2  Adelie  Torgersen            40.3           18.0              195.0   \n",
       "3  Adelie  Torgersen             NaN            NaN                NaN   \n",
       "4  Adelie  Torgersen            36.7           19.3              193.0   \n",
       "\n",
       "   body_mass_g     sex  \n",
       "0       3750.0    Male  \n",
       "1       3800.0  Female  \n",
       "2       3250.0  Female  \n",
       "3          NaN     NaN  \n",
       "4       3450.0  Female  "
      ]
     },
     "execution_count": 40,
     "metadata": {},
     "output_type": "execute_result"
    }
   ],
   "source": [
    "# head\n",
    "df.head()"
   ]
  },
  {
   "cell_type": "code",
   "execution_count": 41,
   "id": "2af3c627",
   "metadata": {},
   "outputs": [
    {
     "data": {
      "text/html": [
       "<div>\n",
       "<style scoped>\n",
       "    .dataframe tbody tr th:only-of-type {\n",
       "        vertical-align: middle;\n",
       "    }\n",
       "\n",
       "    .dataframe tbody tr th {\n",
       "        vertical-align: top;\n",
       "    }\n",
       "\n",
       "    .dataframe thead th {\n",
       "        text-align: right;\n",
       "    }\n",
       "</style>\n",
       "<table border=\"1\" class=\"dataframe\">\n",
       "  <thead>\n",
       "    <tr style=\"text-align: right;\">\n",
       "      <th></th>\n",
       "      <th>species</th>\n",
       "      <th>island</th>\n",
       "      <th>bill_length_mm</th>\n",
       "      <th>bill_depth_mm</th>\n",
       "      <th>flipper_length_mm</th>\n",
       "      <th>body_mass_g</th>\n",
       "      <th>sex</th>\n",
       "    </tr>\n",
       "  </thead>\n",
       "  <tbody>\n",
       "    <tr>\n",
       "      <th>339</th>\n",
       "      <td>Gentoo</td>\n",
       "      <td>Biscoe</td>\n",
       "      <td>NaN</td>\n",
       "      <td>NaN</td>\n",
       "      <td>NaN</td>\n",
       "      <td>NaN</td>\n",
       "      <td>NaN</td>\n",
       "    </tr>\n",
       "    <tr>\n",
       "      <th>340</th>\n",
       "      <td>Gentoo</td>\n",
       "      <td>Biscoe</td>\n",
       "      <td>46.8</td>\n",
       "      <td>14.3</td>\n",
       "      <td>215.0</td>\n",
       "      <td>4850.0</td>\n",
       "      <td>Female</td>\n",
       "    </tr>\n",
       "    <tr>\n",
       "      <th>341</th>\n",
       "      <td>Gentoo</td>\n",
       "      <td>Biscoe</td>\n",
       "      <td>50.4</td>\n",
       "      <td>15.7</td>\n",
       "      <td>222.0</td>\n",
       "      <td>5750.0</td>\n",
       "      <td>Male</td>\n",
       "    </tr>\n",
       "    <tr>\n",
       "      <th>342</th>\n",
       "      <td>Gentoo</td>\n",
       "      <td>Biscoe</td>\n",
       "      <td>45.2</td>\n",
       "      <td>14.8</td>\n",
       "      <td>212.0</td>\n",
       "      <td>5200.0</td>\n",
       "      <td>Female</td>\n",
       "    </tr>\n",
       "    <tr>\n",
       "      <th>343</th>\n",
       "      <td>Gentoo</td>\n",
       "      <td>Biscoe</td>\n",
       "      <td>49.9</td>\n",
       "      <td>16.1</td>\n",
       "      <td>213.0</td>\n",
       "      <td>5400.0</td>\n",
       "      <td>Male</td>\n",
       "    </tr>\n",
       "  </tbody>\n",
       "</table>\n",
       "</div>"
      ],
      "text/plain": [
       "    species  island  bill_length_mm  bill_depth_mm  flipper_length_mm  \\\n",
       "339  Gentoo  Biscoe             NaN            NaN                NaN   \n",
       "340  Gentoo  Biscoe            46.8           14.3              215.0   \n",
       "341  Gentoo  Biscoe            50.4           15.7              222.0   \n",
       "342  Gentoo  Biscoe            45.2           14.8              212.0   \n",
       "343  Gentoo  Biscoe            49.9           16.1              213.0   \n",
       "\n",
       "     body_mass_g     sex  \n",
       "339          NaN     NaN  \n",
       "340       4850.0  Female  \n",
       "341       5750.0    Male  \n",
       "342       5200.0  Female  \n",
       "343       5400.0    Male  "
      ]
     },
     "execution_count": 41,
     "metadata": {},
     "output_type": "execute_result"
    }
   ],
   "source": [
    "# tail\n",
    "df.tail()"
   ]
  },
  {
   "cell_type": "code",
   "execution_count": 43,
   "id": "c430164e",
   "metadata": {},
   "outputs": [
    {
     "data": {
      "text/html": [
       "<div>\n",
       "<style scoped>\n",
       "    .dataframe tbody tr th:only-of-type {\n",
       "        vertical-align: middle;\n",
       "    }\n",
       "\n",
       "    .dataframe tbody tr th {\n",
       "        vertical-align: top;\n",
       "    }\n",
       "\n",
       "    .dataframe thead th {\n",
       "        text-align: right;\n",
       "    }\n",
       "</style>\n",
       "<table border=\"1\" class=\"dataframe\">\n",
       "  <thead>\n",
       "    <tr style=\"text-align: right;\">\n",
       "      <th></th>\n",
       "      <th>bill_length_mm</th>\n",
       "      <th>bill_depth_mm</th>\n",
       "      <th>flipper_length_mm</th>\n",
       "      <th>body_mass_g</th>\n",
       "    </tr>\n",
       "  </thead>\n",
       "  <tbody>\n",
       "    <tr>\n",
       "      <th>count</th>\n",
       "      <td>342.000000</td>\n",
       "      <td>342.000000</td>\n",
       "      <td>342.000000</td>\n",
       "      <td>342.000000</td>\n",
       "    </tr>\n",
       "    <tr>\n",
       "      <th>mean</th>\n",
       "      <td>43.921930</td>\n",
       "      <td>17.151170</td>\n",
       "      <td>200.915205</td>\n",
       "      <td>4201.754386</td>\n",
       "    </tr>\n",
       "    <tr>\n",
       "      <th>std</th>\n",
       "      <td>5.459584</td>\n",
       "      <td>1.974793</td>\n",
       "      <td>14.061714</td>\n",
       "      <td>801.954536</td>\n",
       "    </tr>\n",
       "    <tr>\n",
       "      <th>min</th>\n",
       "      <td>32.100000</td>\n",
       "      <td>13.100000</td>\n",
       "      <td>172.000000</td>\n",
       "      <td>2700.000000</td>\n",
       "    </tr>\n",
       "    <tr>\n",
       "      <th>25%</th>\n",
       "      <td>39.225000</td>\n",
       "      <td>15.600000</td>\n",
       "      <td>190.000000</td>\n",
       "      <td>3550.000000</td>\n",
       "    </tr>\n",
       "    <tr>\n",
       "      <th>50%</th>\n",
       "      <td>44.450000</td>\n",
       "      <td>17.300000</td>\n",
       "      <td>197.000000</td>\n",
       "      <td>4050.000000</td>\n",
       "    </tr>\n",
       "    <tr>\n",
       "      <th>75%</th>\n",
       "      <td>48.500000</td>\n",
       "      <td>18.700000</td>\n",
       "      <td>213.000000</td>\n",
       "      <td>4750.000000</td>\n",
       "    </tr>\n",
       "    <tr>\n",
       "      <th>max</th>\n",
       "      <td>59.600000</td>\n",
       "      <td>21.500000</td>\n",
       "      <td>231.000000</td>\n",
       "      <td>6300.000000</td>\n",
       "    </tr>\n",
       "  </tbody>\n",
       "</table>\n",
       "</div>"
      ],
      "text/plain": [
       "       bill_length_mm  bill_depth_mm  flipper_length_mm  body_mass_g\n",
       "count      342.000000     342.000000         342.000000   342.000000\n",
       "mean        43.921930      17.151170         200.915205  4201.754386\n",
       "std          5.459584       1.974793          14.061714   801.954536\n",
       "min         32.100000      13.100000         172.000000  2700.000000\n",
       "25%         39.225000      15.600000         190.000000  3550.000000\n",
       "50%         44.450000      17.300000         197.000000  4050.000000\n",
       "75%         48.500000      18.700000         213.000000  4750.000000\n",
       "max         59.600000      21.500000         231.000000  6300.000000"
      ]
     },
     "execution_count": 43,
     "metadata": {},
     "output_type": "execute_result"
    }
   ],
   "source": [
    "# describe\n",
    "\n",
    "df.describe()"
   ]
  },
  {
   "cell_type": "code",
   "execution_count": 44,
   "id": "f601f110",
   "metadata": {},
   "outputs": [
    {
     "name": "stdout",
     "output_type": "stream",
     "text": [
      "<class 'pandas.core.frame.DataFrame'>\n",
      "RangeIndex: 344 entries, 0 to 343\n",
      "Data columns (total 7 columns):\n",
      " #   Column             Non-Null Count  Dtype  \n",
      "---  ------             --------------  -----  \n",
      " 0   species            344 non-null    object \n",
      " 1   island             344 non-null    object \n",
      " 2   bill_length_mm     342 non-null    float64\n",
      " 3   bill_depth_mm      342 non-null    float64\n",
      " 4   flipper_length_mm  342 non-null    float64\n",
      " 5   body_mass_g        342 non-null    float64\n",
      " 6   sex                333 non-null    object \n",
      "dtypes: float64(4), object(3)\n",
      "memory usage: 18.9+ KB\n"
     ]
    }
   ],
   "source": [
    "# info\n",
    "df.info()"
   ]
  },
  {
   "cell_type": "code",
   "execution_count": 47,
   "id": "2239fbce",
   "metadata": {},
   "outputs": [
    {
     "data": {
      "text/html": [
       "<div>\n",
       "<style scoped>\n",
       "    .dataframe tbody tr th:only-of-type {\n",
       "        vertical-align: middle;\n",
       "    }\n",
       "\n",
       "    .dataframe tbody tr th {\n",
       "        vertical-align: top;\n",
       "    }\n",
       "\n",
       "    .dataframe thead th {\n",
       "        text-align: right;\n",
       "    }\n",
       "</style>\n",
       "<table border=\"1\" class=\"dataframe\">\n",
       "  <thead>\n",
       "    <tr style=\"text-align: right;\">\n",
       "      <th></th>\n",
       "      <th>species</th>\n",
       "      <th>island</th>\n",
       "      <th>bill_length_mm</th>\n",
       "      <th>bill_depth_mm</th>\n",
       "      <th>flipper_length_mm</th>\n",
       "      <th>body_mass_g</th>\n",
       "      <th>sex</th>\n",
       "    </tr>\n",
       "  </thead>\n",
       "  <tbody>\n",
       "    <tr>\n",
       "      <th>253</th>\n",
       "      <td>Gentoo</td>\n",
       "      <td>Biscoe</td>\n",
       "      <td>59.6</td>\n",
       "      <td>17.0</td>\n",
       "      <td>230.0</td>\n",
       "      <td>6050.0</td>\n",
       "      <td>Male</td>\n",
       "    </tr>\n",
       "    <tr>\n",
       "      <th>169</th>\n",
       "      <td>Chinstrap</td>\n",
       "      <td>Dream</td>\n",
       "      <td>58.0</td>\n",
       "      <td>17.8</td>\n",
       "      <td>181.0</td>\n",
       "      <td>3700.0</td>\n",
       "      <td>Female</td>\n",
       "    </tr>\n",
       "    <tr>\n",
       "      <th>321</th>\n",
       "      <td>Gentoo</td>\n",
       "      <td>Biscoe</td>\n",
       "      <td>55.9</td>\n",
       "      <td>17.0</td>\n",
       "      <td>228.0</td>\n",
       "      <td>5600.0</td>\n",
       "      <td>Male</td>\n",
       "    </tr>\n",
       "    <tr>\n",
       "      <th>215</th>\n",
       "      <td>Chinstrap</td>\n",
       "      <td>Dream</td>\n",
       "      <td>55.8</td>\n",
       "      <td>19.8</td>\n",
       "      <td>207.0</td>\n",
       "      <td>4000.0</td>\n",
       "      <td>Male</td>\n",
       "    </tr>\n",
       "    <tr>\n",
       "      <th>335</th>\n",
       "      <td>Gentoo</td>\n",
       "      <td>Biscoe</td>\n",
       "      <td>55.1</td>\n",
       "      <td>16.0</td>\n",
       "      <td>230.0</td>\n",
       "      <td>5850.0</td>\n",
       "      <td>Male</td>\n",
       "    </tr>\n",
       "  </tbody>\n",
       "</table>\n",
       "</div>"
      ],
      "text/plain": [
       "       species  island  bill_length_mm  bill_depth_mm  flipper_length_mm  \\\n",
       "253     Gentoo  Biscoe            59.6           17.0              230.0   \n",
       "169  Chinstrap   Dream            58.0           17.8              181.0   \n",
       "321     Gentoo  Biscoe            55.9           17.0              228.0   \n",
       "215  Chinstrap   Dream            55.8           19.8              207.0   \n",
       "335     Gentoo  Biscoe            55.1           16.0              230.0   \n",
       "\n",
       "     body_mass_g     sex  \n",
       "253       6050.0    Male  \n",
       "169       3700.0  Female  \n",
       "321       5600.0    Male  \n",
       "215       4000.0    Male  \n",
       "335       5850.0    Male  "
      ]
     },
     "execution_count": 47,
     "metadata": {},
     "output_type": "execute_result"
    }
   ],
   "source": [
    "# sort_values(): 디폴트: 오름차순\n",
    "\n",
    "sorted_df = df.sort_values(by='bill_length_mm', ascending=False)\n",
    "sorted_df.head()"
   ]
  },
  {
   "cell_type": "code",
   "execution_count": 48,
   "id": "a17ce981",
   "metadata": {},
   "outputs": [
    {
     "data": {
      "text/html": [
       "<div>\n",
       "<style scoped>\n",
       "    .dataframe tbody tr th:only-of-type {\n",
       "        vertical-align: middle;\n",
       "    }\n",
       "\n",
       "    .dataframe tbody tr th {\n",
       "        vertical-align: top;\n",
       "    }\n",
       "\n",
       "    .dataframe thead th {\n",
       "        text-align: right;\n",
       "    }\n",
       "</style>\n",
       "<table border=\"1\" class=\"dataframe\">\n",
       "  <thead>\n",
       "    <tr style=\"text-align: right;\">\n",
       "      <th></th>\n",
       "      <th>species</th>\n",
       "      <th>island</th>\n",
       "      <th>bill_length_mm</th>\n",
       "      <th>bill_depth_mm</th>\n",
       "      <th>flipper_length_mm</th>\n",
       "      <th>body_mass_g</th>\n",
       "      <th>sex</th>\n",
       "    </tr>\n",
       "  </thead>\n",
       "  <tbody>\n",
       "    <tr>\n",
       "      <th>253</th>\n",
       "      <td>Gentoo</td>\n",
       "      <td>Biscoe</td>\n",
       "      <td>59.6</td>\n",
       "      <td>17.0</td>\n",
       "      <td>230.0</td>\n",
       "      <td>6050.0</td>\n",
       "      <td>Male</td>\n",
       "    </tr>\n",
       "    <tr>\n",
       "      <th>169</th>\n",
       "      <td>Chinstrap</td>\n",
       "      <td>Dream</td>\n",
       "      <td>58.0</td>\n",
       "      <td>17.8</td>\n",
       "      <td>181.0</td>\n",
       "      <td>3700.0</td>\n",
       "      <td>Female</td>\n",
       "    </tr>\n",
       "    <tr>\n",
       "      <th>321</th>\n",
       "      <td>Gentoo</td>\n",
       "      <td>Biscoe</td>\n",
       "      <td>55.9</td>\n",
       "      <td>17.0</td>\n",
       "      <td>228.0</td>\n",
       "      <td>5600.0</td>\n",
       "      <td>Male</td>\n",
       "    </tr>\n",
       "    <tr>\n",
       "      <th>215</th>\n",
       "      <td>Chinstrap</td>\n",
       "      <td>Dream</td>\n",
       "      <td>55.8</td>\n",
       "      <td>19.8</td>\n",
       "      <td>207.0</td>\n",
       "      <td>4000.0</td>\n",
       "      <td>Male</td>\n",
       "    </tr>\n",
       "    <tr>\n",
       "      <th>335</th>\n",
       "      <td>Gentoo</td>\n",
       "      <td>Biscoe</td>\n",
       "      <td>55.1</td>\n",
       "      <td>16.0</td>\n",
       "      <td>230.0</td>\n",
       "      <td>5850.0</td>\n",
       "      <td>Male</td>\n",
       "    </tr>\n",
       "  </tbody>\n",
       "</table>\n",
       "</div>"
      ],
      "text/plain": [
       "       species  island  bill_length_mm  bill_depth_mm  flipper_length_mm  \\\n",
       "253     Gentoo  Biscoe            59.6           17.0              230.0   \n",
       "169  Chinstrap   Dream            58.0           17.8              181.0   \n",
       "321     Gentoo  Biscoe            55.9           17.0              228.0   \n",
       "215  Chinstrap   Dream            55.8           19.8              207.0   \n",
       "335     Gentoo  Biscoe            55.1           16.0              230.0   \n",
       "\n",
       "     body_mass_g     sex  \n",
       "253       6050.0    Male  \n",
       "169       3700.0  Female  \n",
       "321       5600.0    Male  \n",
       "215       4000.0    Male  \n",
       "335       5850.0    Male  "
      ]
     },
     "execution_count": 48,
     "metadata": {},
     "output_type": "execute_result"
    }
   ],
   "source": [
    "# 두 개의 열 기준으로 데이터 프레임 정렬\n",
    "\n",
    "# bill_length_mm 내림차순, bill_depth_mm 오름차순\n",
    "\n",
    "sorted_df = df.sort_values(\n",
    "    by=['bill_length_mm', 'bill_depth_mm'], # 같은 length에서 depth를 오름차순 정렬\n",
    "    ascending= [False, True]\n",
    ")\n",
    "\n",
    "sorted_df.head()"
   ]
  },
  {
   "cell_type": "code",
   "execution_count": null,
   "id": "7bb25bb9",
   "metadata": {},
   "outputs": [
    {
     "data": {
      "text/plain": [
       "int"
      ]
     },
     "execution_count": 50,
     "metadata": {},
     "output_type": "execute_result"
    }
   ],
   "source": [
    "# idxmax(), idxmin(): 데이터 프레임에서 최댓값과 최솟값을 가지는 첫 번째 인덱스 반환\n",
    "\n",
    "max_idx = df['bill_length_mm'].idxmax()\n"
   ]
  },
  {
   "cell_type": "code",
   "execution_count": null,
   "id": "c4de102a",
   "metadata": {},
   "outputs": [
    {
     "data": {
      "text/plain": [
       "species              Gentoo\n",
       "island               Biscoe\n",
       "bill_length_mm         59.6\n",
       "bill_depth_mm          17.0\n",
       "flipper_length_mm     230.0\n",
       "body_mass_g          6050.0\n",
       "sex                    Male\n",
       "Name: 253, dtype: object"
      ]
     },
     "execution_count": 51,
     "metadata": {},
     "output_type": "execute_result"
    }
   ],
   "source": [
    "df.iloc[max_idx] # 인덱스가 숫자 형태이기 때문에 가능"
   ]
  },
  {
   "cell_type": "code",
   "execution_count": null,
   "id": "458cdab4",
   "metadata": {},
   "outputs": [
    {
     "data": {
      "text/plain": [
       "species              Gentoo\n",
       "island               Biscoe\n",
       "bill_length_mm         59.6\n",
       "bill_depth_mm          17.0\n",
       "flipper_length_mm     230.0\n",
       "body_mass_g          6050.0\n",
       "sex                    Male\n",
       "Name: 253, dtype: object"
      ]
     },
     "execution_count": 52,
     "metadata": {},
     "output_type": "execute_result"
    }
   ],
   "source": [
    "df.loc[max_idx] # 정석"
   ]
  },
  {
   "cell_type": "code",
   "execution_count": 53,
   "id": "aa63e6e8",
   "metadata": {},
   "outputs": [
    {
     "name": "stdout",
     "output_type": "stream",
     "text": [
      "142\n"
     ]
    },
    {
     "data": {
      "text/plain": [
       "species              Adelie\n",
       "island                Dream\n",
       "bill_length_mm         32.1\n",
       "bill_depth_mm          15.5\n",
       "flipper_length_mm     188.0\n",
       "body_mass_g          3050.0\n",
       "sex                  Female\n",
       "Name: 142, dtype: object"
      ]
     },
     "execution_count": 53,
     "metadata": {},
     "output_type": "execute_result"
    }
   ],
   "source": [
    "# bill_length_mm 열에서 최솟값을 가지는 행의 인덱스를 찾기\n",
    "min_idx = df['bill_length_mm'].idxmin()\n",
    "print(min_idx)\n",
    "df.loc[min_idx]"
   ]
  },
  {
   "cell_type": "code",
   "execution_count": 56,
   "id": "9d0d8f18",
   "metadata": {},
   "outputs": [
    {
     "name": "stdout",
     "output_type": "stream",
     "text": [
      "\n",
      "First row of the sorted DataFrame:\n",
      "species              Gentoo\n",
      "island               Biscoe\n",
      "bill_length_mm         59.6\n",
      "bill_depth_mm          17.0\n",
      "flipper_length_mm     230.0\n",
      "body_mass_g          6050.0\n",
      "sex                    Male\n",
      "Name: 253, dtype: object\n"
     ]
    }
   ],
   "source": [
    "# sort_values()와 idxmax()의 결과 비교\n",
    "\n",
    "# bill_length_mm 열을 기준으로 데이터 프레임 정렬\n",
    "sorted_df = df.sort_values(by='bill_length_mm', ascending= False)\n",
    "\n",
    "# 정렬된 데이터 프레임의 첫 번째 행과 idxmax()로 찾은 행이 같은지 확인해보기\n",
    "sorted_max_value_row = sorted_df.iloc[0]\n",
    "print('\\nFirst row of the sorted DataFrame:')\n",
    "print(sorted_max_value_row)"
   ]
  },
  {
   "cell_type": "code",
   "execution_count": 57,
   "id": "e4d8ad64",
   "metadata": {},
   "outputs": [
    {
     "name": "stdout",
     "output_type": "stream",
     "text": [
      "species              Gentoo\n",
      "island               Biscoe\n",
      "bill_length_mm         59.6\n",
      "bill_depth_mm          17.0\n",
      "flipper_length_mm     230.0\n",
      "body_mass_g          6050.0\n",
      "sex                    Male\n",
      "Name: 253, dtype: object\n"
     ]
    }
   ],
   "source": [
    "# bill_length_mm 열에서 최댓값을 가지는 행의 인덱스를 찾기\n",
    "max_idx = df['bill_length_mm'].idxmax()\n",
    "max_value_row = df.loc[max_idx]\n",
    "print(max_value_row)"
   ]
  },
  {
   "cell_type": "code",
   "execution_count": 58,
   "id": "aafe78f5",
   "metadata": {},
   "outputs": [],
   "source": [
    "# 같음.."
   ]
  },
  {
   "cell_type": "code",
   "execution_count": null,
   "id": "e9c770c7",
   "metadata": {},
   "outputs": [
    {
     "name": "stdout",
     "output_type": "stream",
     "text": [
      "           bill_length_mm  bill_depth_mm  flipper_length_mm  body_mass_g\n",
      "species                                                                 \n",
      "Adelie          38.791391      18.346358         189.953642  3700.662252\n",
      "Chinstrap       48.833824      18.420588         195.823529  3733.088235\n",
      "Gentoo          47.504878      14.982114         217.186992  5076.016260\n"
     ]
    }
   ],
   "source": [
    "# groupby\n",
    "\n",
    "# species 열을 기준으로 그룹화하여 평균 계산 (수치형 열만 선택)\n",
    "grouped_df = df.groupby('species').mean(numeric_only=True) # numeric_only=True: 수치형 데이터만 선택하여 연산\n",
    "print(grouped_df)"
   ]
  },
  {
   "cell_type": "code",
   "execution_count": null,
   "id": "fa0ce436",
   "metadata": {},
   "outputs": [
    {
     "name": "stdout",
     "output_type": "stream",
     "text": [
      "bill_length_mm         43.921930\n",
      "bill_depth_mm          17.151170\n",
      "flipper_length_mm     200.915205\n",
      "body_mass_g          4201.754386\n",
      "dtype: float64\n"
     ]
    }
   ],
   "source": [
    "# mean() # 각 열의 평균을 계산\n",
    "print(df.mean(numeric_only=True))"
   ]
  },
  {
   "cell_type": "code",
   "execution_count": null,
   "id": "fac67c5c",
   "metadata": {},
   "outputs": [
    {
     "name": "stdout",
     "output_type": "stream",
     "text": [
      "  key  value_x  value_y\n",
      "0   A        1        4\n",
      "1   B        2        5\n"
     ]
    }
   ],
   "source": [
    "# pd.merge() # 열 기준 병합\n",
    "\n",
    "# 예제 데이터프레임 생성\n",
    "df1 = pd.DataFrame({'key': ['A', 'B', 'C'], 'value': [1,2,3]})\n",
    "df2 = pd.DataFrame({'key': ['A', 'B', 'D'], 'value': [4,5,6]})\n",
    "\n",
    "# 두 데이터 프레임 병합\n",
    "merged_df = pd.merge(df1, df2, on='key', how='inner')\n",
    "print(merged_df)"
   ]
  },
  {
   "cell_type": "code",
   "execution_count": 65,
   "id": "8326a0c8",
   "metadata": {},
   "outputs": [
    {
     "data": {
      "text/html": [
       "<div>\n",
       "<style scoped>\n",
       "    .dataframe tbody tr th:only-of-type {\n",
       "        vertical-align: middle;\n",
       "    }\n",
       "\n",
       "    .dataframe tbody tr th {\n",
       "        vertical-align: top;\n",
       "    }\n",
       "\n",
       "    .dataframe thead th {\n",
       "        text-align: right;\n",
       "    }\n",
       "</style>\n",
       "<table border=\"1\" class=\"dataframe\">\n",
       "  <thead>\n",
       "    <tr style=\"text-align: right;\">\n",
       "      <th></th>\n",
       "      <th>key</th>\n",
       "      <th>value_x</th>\n",
       "      <th>value_y</th>\n",
       "    </tr>\n",
       "  </thead>\n",
       "  <tbody>\n",
       "    <tr>\n",
       "      <th>0</th>\n",
       "      <td>A</td>\n",
       "      <td>1.0</td>\n",
       "      <td>4.0</td>\n",
       "    </tr>\n",
       "    <tr>\n",
       "      <th>1</th>\n",
       "      <td>B</td>\n",
       "      <td>2.0</td>\n",
       "      <td>5.0</td>\n",
       "    </tr>\n",
       "    <tr>\n",
       "      <th>2</th>\n",
       "      <td>C</td>\n",
       "      <td>3.0</td>\n",
       "      <td>NaN</td>\n",
       "    </tr>\n",
       "    <tr>\n",
       "      <th>3</th>\n",
       "      <td>D</td>\n",
       "      <td>NaN</td>\n",
       "      <td>6.0</td>\n",
       "    </tr>\n",
       "  </tbody>\n",
       "</table>\n",
       "</div>"
      ],
      "text/plain": [
       "  key  value_x  value_y\n",
       "0   A      1.0      4.0\n",
       "1   B      2.0      5.0\n",
       "2   C      3.0      NaN\n",
       "3   D      NaN      6.0"
      ]
     },
     "execution_count": 65,
     "metadata": {},
     "output_type": "execute_result"
    }
   ],
   "source": [
    "# 두 데이터 프레임을 outer join으로 병합\n",
    "merged_df_outer = pd.merge(df1, df2, on='key', how='outer')\n",
    "merged_df_outer"
   ]
  },
  {
   "cell_type": "code",
   "execution_count": 67,
   "id": "5597caf1",
   "metadata": {},
   "outputs": [
    {
     "data": {
      "text/html": [
       "<div>\n",
       "<style scoped>\n",
       "    .dataframe tbody tr th:only-of-type {\n",
       "        vertical-align: middle;\n",
       "    }\n",
       "\n",
       "    .dataframe tbody tr th {\n",
       "        vertical-align: top;\n",
       "    }\n",
       "\n",
       "    .dataframe thead th {\n",
       "        text-align: right;\n",
       "    }\n",
       "</style>\n",
       "<table border=\"1\" class=\"dataframe\">\n",
       "  <thead>\n",
       "    <tr style=\"text-align: right;\">\n",
       "      <th></th>\n",
       "      <th>key</th>\n",
       "      <th>value</th>\n",
       "    </tr>\n",
       "  </thead>\n",
       "  <tbody>\n",
       "    <tr>\n",
       "      <th>0</th>\n",
       "      <td>A</td>\n",
       "      <td>1</td>\n",
       "    </tr>\n",
       "    <tr>\n",
       "      <th>1</th>\n",
       "      <td>B</td>\n",
       "      <td>2</td>\n",
       "    </tr>\n",
       "    <tr>\n",
       "      <th>2</th>\n",
       "      <td>C</td>\n",
       "      <td>3</td>\n",
       "    </tr>\n",
       "  </tbody>\n",
       "</table>\n",
       "</div>"
      ],
      "text/plain": [
       "  key  value\n",
       "0   A      1\n",
       "1   B      2\n",
       "2   C      3"
      ]
     },
     "execution_count": 67,
     "metadata": {},
     "output_type": "execute_result"
    }
   ],
   "source": [
    "df1"
   ]
  },
  {
   "cell_type": "code",
   "execution_count": 66,
   "id": "969305d3",
   "metadata": {},
   "outputs": [
    {
     "data": {
      "text/html": [
       "<div>\n",
       "<style scoped>\n",
       "    .dataframe tbody tr th:only-of-type {\n",
       "        vertical-align: middle;\n",
       "    }\n",
       "\n",
       "    .dataframe tbody tr th {\n",
       "        vertical-align: top;\n",
       "    }\n",
       "\n",
       "    .dataframe thead th {\n",
       "        text-align: right;\n",
       "    }\n",
       "</style>\n",
       "<table border=\"1\" class=\"dataframe\">\n",
       "  <thead>\n",
       "    <tr style=\"text-align: right;\">\n",
       "      <th></th>\n",
       "      <th>key</th>\n",
       "      <th>value</th>\n",
       "    </tr>\n",
       "  </thead>\n",
       "  <tbody>\n",
       "    <tr>\n",
       "      <th>0</th>\n",
       "      <td>A</td>\n",
       "      <td>4</td>\n",
       "    </tr>\n",
       "    <tr>\n",
       "      <th>1</th>\n",
       "      <td>B</td>\n",
       "      <td>5</td>\n",
       "    </tr>\n",
       "    <tr>\n",
       "      <th>2</th>\n",
       "      <td>D</td>\n",
       "      <td>6</td>\n",
       "    </tr>\n",
       "  </tbody>\n",
       "</table>\n",
       "</div>"
      ],
      "text/plain": [
       "  key  value\n",
       "0   A      4\n",
       "1   B      5\n",
       "2   D      6"
      ]
     },
     "execution_count": 66,
     "metadata": {},
     "output_type": "execute_result"
    }
   ],
   "source": [
    "df2"
   ]
  },
  {
   "cell_type": "markdown",
   "id": "9b20321b",
   "metadata": {},
   "source": [
    "### 데이터 재구조화"
   ]
  },
  {
   "cell_type": "markdown",
   "id": "5d635ae3",
   "metadata": {},
   "source": [
    "#### pd.melt(): 데이터를 넓은 형식에서 긴 형식으로 변환\n",
    "- frame: 재구조화할 데이터 프레임\n",
    "- id_vars: 변환하지 않고 그대로 유지될 컬럼 지정\n",
    "- value_vars: 변환할 컬럼 지정 (지정하지 않으면 id_vars를 제외한 모든 컬럼이 선택)\n",
    "- var_name: value_vars의 컬럼명이 저장될 컬럼의 컬럼명 지정 (기본값:variable)\n",
    "- value_name: value_vars의 값이 저장될 컬럼명 지정 (기본값: value)"
   ]
  },
  {
   "cell_type": "code",
   "execution_count": 68,
   "id": "c323fa7e",
   "metadata": {},
   "outputs": [
    {
     "name": "stdout",
     "output_type": "stream",
     "text": [
      "         Date  Temperature  Humidity\n",
      "0  2024-07-01           10        60\n",
      "1  2024-07-02           20        65\n",
      "2  2024-07-03           25        70\n",
      "3  2024-07-03           20        21\n"
     ]
    }
   ],
   "source": [
    "# 예제 데이터 생성\n",
    "import pandas as pd\n",
    "data = {\n",
    "    'Date' : ['2024-07-01', '2024-07-02', '2024-07-03', '2024-07-03'],\n",
    "    'Temperature': [10, 20, 25, 20],\n",
    "    'Humidity': [60, 65, 70, 21]\n",
    "}\n",
    "df = pd.DataFrame(data)\n",
    "print(df)"
   ]
  },
  {
   "cell_type": "code",
   "execution_count": 69,
   "id": "ccc819d3",
   "metadata": {},
   "outputs": [
    {
     "name": "stdout",
     "output_type": "stream",
     "text": [
      "         Date     Variable  Value\n",
      "0  2024-07-01  Temperature     10\n",
      "1  2024-07-02  Temperature     20\n",
      "2  2024-07-03  Temperature     25\n",
      "3  2024-07-03  Temperature     20\n",
      "4  2024-07-01     Humidity     60\n",
      "5  2024-07-02     Humidity     65\n",
      "6  2024-07-03     Humidity     70\n",
      "7  2024-07-03     Humidity     21\n"
     ]
    }
   ],
   "source": [
    "# pd.melt를 사용해 긴 형식 변환\n",
    "\n",
    "df_melted = pd.melt(df,\n",
    "                    id_vars=['Date'],\n",
    "                    value_vars=['Temperature', 'Humidity'],\n",
    "                    var_name = 'Variable',\n",
    "                    value_name='Value')\n",
    "print(df_melted)"
   ]
  },
  {
   "cell_type": "markdown",
   "id": "65033959",
   "metadata": {},
   "source": [
    "#### pivot()\n",
    "- 긴 형식에서 넓은 형식으로 변환\n",
    "- index: 새 데이터 프레임에서 행 인덱스로 사용할 컬럼명 지정\n",
    "- columns: 새 데이터 프레임에서 열로 사용할 컬럼명 지정\n",
    "- values: 새 데이터 프레임에서 각 인덱스-열 조합에 대해 채워질 값으로 사용할 컬럼명 지정"
   ]
  },
  {
   "cell_type": "code",
   "execution_count": null,
   "id": "c80a49a8",
   "metadata": {},
   "outputs": [
    {
     "ename": "ValueError",
     "evalue": "Index contains duplicate entries, cannot reshape",
     "output_type": "error",
     "traceback": [
      "\u001b[0;31m---------------------------------------------------------------------------\u001b[0m",
      "\u001b[0;31mValueError\u001b[0m                                Traceback (most recent call last)",
      "\u001b[0;32m/var/folders/_k/k4vg8yqs5bd1kvyznqhzdt3r0000gn/T/ipykernel_13038/1908721750.py\u001b[0m in \u001b[0;36m<cell line: 3>\u001b[0;34m()\u001b[0m\n\u001b[1;32m      1\u001b[0m \u001b[0;31m# pd.melt() 메서드로 변환된 데이터를 pivot()을 활용하여 재변환\u001b[0m\u001b[0;34m\u001b[0m\u001b[0;34m\u001b[0m\u001b[0;34m\u001b[0m\u001b[0m\n\u001b[1;32m      2\u001b[0m \u001b[0;34m\u001b[0m\u001b[0m\n\u001b[0;32m----> 3\u001b[0;31m df_pivoted = df_melted.pivot(index= 'Date',\n\u001b[0m\u001b[1;32m      4\u001b[0m                              \u001b[0mcolumns\u001b[0m\u001b[0;34m=\u001b[0m\u001b[0;34m'Variable'\u001b[0m\u001b[0;34m,\u001b[0m\u001b[0;34m\u001b[0m\u001b[0;34m\u001b[0m\u001b[0m\n\u001b[1;32m      5\u001b[0m                              values = 'Value').reset_index()\n",
      "\u001b[0;32m/opt/homebrew/Caskroom/miniforge/base/envs/tf/lib/python3.8/site-packages/pandas/core/frame.py\u001b[0m in \u001b[0;36mpivot\u001b[0;34m(self, columns, index, values)\u001b[0m\n\u001b[1;32m   8412\u001b[0m         \u001b[0;32mfrom\u001b[0m \u001b[0mpandas\u001b[0m\u001b[0;34m.\u001b[0m\u001b[0mcore\u001b[0m\u001b[0;34m.\u001b[0m\u001b[0mreshape\u001b[0m\u001b[0;34m.\u001b[0m\u001b[0mpivot\u001b[0m \u001b[0;32mimport\u001b[0m \u001b[0mpivot\u001b[0m\u001b[0;34m\u001b[0m\u001b[0;34m\u001b[0m\u001b[0m\n\u001b[1;32m   8413\u001b[0m \u001b[0;34m\u001b[0m\u001b[0m\n\u001b[0;32m-> 8414\u001b[0;31m         \u001b[0;32mreturn\u001b[0m \u001b[0mpivot\u001b[0m\u001b[0;34m(\u001b[0m\u001b[0mself\u001b[0m\u001b[0;34m,\u001b[0m \u001b[0mindex\u001b[0m\u001b[0;34m=\u001b[0m\u001b[0mindex\u001b[0m\u001b[0;34m,\u001b[0m \u001b[0mcolumns\u001b[0m\u001b[0;34m=\u001b[0m\u001b[0mcolumns\u001b[0m\u001b[0;34m,\u001b[0m \u001b[0mvalues\u001b[0m\u001b[0;34m=\u001b[0m\u001b[0mvalues\u001b[0m\u001b[0;34m)\u001b[0m\u001b[0;34m\u001b[0m\u001b[0;34m\u001b[0m\u001b[0m\n\u001b[0m\u001b[1;32m   8415\u001b[0m \u001b[0;34m\u001b[0m\u001b[0m\n\u001b[1;32m   8416\u001b[0m     _shared_docs[\n",
      "\u001b[0;32m/opt/homebrew/Caskroom/miniforge/base/envs/tf/lib/python3.8/site-packages/pandas/core/reshape/pivot.py\u001b[0m in \u001b[0;36mpivot\u001b[0;34m(data, columns, index, values)\u001b[0m\n\u001b[1;32m    555\u001b[0m     \u001b[0;31m# [List[Any], ExtensionArray, ndarray[Any, Any], Index, Series]\"; expected\u001b[0m\u001b[0;34m\u001b[0m\u001b[0;34m\u001b[0m\u001b[0;34m\u001b[0m\u001b[0m\n\u001b[1;32m    556\u001b[0m     \u001b[0;31m# \"Hashable\"\u001b[0m\u001b[0;34m\u001b[0m\u001b[0;34m\u001b[0m\u001b[0;34m\u001b[0m\u001b[0m\n\u001b[0;32m--> 557\u001b[0;31m     \u001b[0mresult\u001b[0m \u001b[0;34m=\u001b[0m \u001b[0mindexed\u001b[0m\u001b[0;34m.\u001b[0m\u001b[0munstack\u001b[0m\u001b[0;34m(\u001b[0m\u001b[0mcolumns_listlike\u001b[0m\u001b[0;34m)\u001b[0m  \u001b[0;31m# type: ignore[arg-type]\u001b[0m\u001b[0;34m\u001b[0m\u001b[0;34m\u001b[0m\u001b[0m\n\u001b[0m\u001b[1;32m    558\u001b[0m     result.index.names = [\n\u001b[1;32m    559\u001b[0m         \u001b[0mname\u001b[0m \u001b[0;32mif\u001b[0m \u001b[0mname\u001b[0m \u001b[0;32mis\u001b[0m \u001b[0;32mnot\u001b[0m \u001b[0mlib\u001b[0m\u001b[0;34m.\u001b[0m\u001b[0mNoDefault\u001b[0m \u001b[0;32melse\u001b[0m \u001b[0;32mNone\u001b[0m \u001b[0;32mfor\u001b[0m \u001b[0mname\u001b[0m \u001b[0;32min\u001b[0m \u001b[0mresult\u001b[0m\u001b[0;34m.\u001b[0m\u001b[0mindex\u001b[0m\u001b[0;34m.\u001b[0m\u001b[0mnames\u001b[0m\u001b[0;34m\u001b[0m\u001b[0;34m\u001b[0m\u001b[0m\n",
      "\u001b[0;32m/opt/homebrew/Caskroom/miniforge/base/envs/tf/lib/python3.8/site-packages/pandas/core/series.py\u001b[0m in \u001b[0;36munstack\u001b[0;34m(self, level, fill_value)\u001b[0m\n\u001b[1;32m   4311\u001b[0m         \u001b[0;32mfrom\u001b[0m \u001b[0mpandas\u001b[0m\u001b[0;34m.\u001b[0m\u001b[0mcore\u001b[0m\u001b[0;34m.\u001b[0m\u001b[0mreshape\u001b[0m\u001b[0;34m.\u001b[0m\u001b[0mreshape\u001b[0m \u001b[0;32mimport\u001b[0m \u001b[0munstack\u001b[0m\u001b[0;34m\u001b[0m\u001b[0;34m\u001b[0m\u001b[0m\n\u001b[1;32m   4312\u001b[0m \u001b[0;34m\u001b[0m\u001b[0m\n\u001b[0;32m-> 4313\u001b[0;31m         \u001b[0;32mreturn\u001b[0m \u001b[0munstack\u001b[0m\u001b[0;34m(\u001b[0m\u001b[0mself\u001b[0m\u001b[0;34m,\u001b[0m \u001b[0mlevel\u001b[0m\u001b[0;34m,\u001b[0m \u001b[0mfill_value\u001b[0m\u001b[0;34m)\u001b[0m\u001b[0;34m\u001b[0m\u001b[0;34m\u001b[0m\u001b[0m\n\u001b[0m\u001b[1;32m   4314\u001b[0m \u001b[0;34m\u001b[0m\u001b[0m\n\u001b[1;32m   4315\u001b[0m     \u001b[0;31m# ----------------------------------------------------------------------\u001b[0m\u001b[0;34m\u001b[0m\u001b[0;34m\u001b[0m\u001b[0;34m\u001b[0m\u001b[0m\n",
      "\u001b[0;32m/opt/homebrew/Caskroom/miniforge/base/envs/tf/lib/python3.8/site-packages/pandas/core/reshape/reshape.py\u001b[0m in \u001b[0;36munstack\u001b[0;34m(obj, level, fill_value)\u001b[0m\n\u001b[1;32m    486\u001b[0m         \u001b[0;32mif\u001b[0m \u001b[0mis_1d_only_ea_dtype\u001b[0m\u001b[0;34m(\u001b[0m\u001b[0mobj\u001b[0m\u001b[0;34m.\u001b[0m\u001b[0mdtype\u001b[0m\u001b[0;34m)\u001b[0m\u001b[0;34m:\u001b[0m\u001b[0;34m\u001b[0m\u001b[0;34m\u001b[0m\u001b[0m\n\u001b[1;32m    487\u001b[0m             \u001b[0;32mreturn\u001b[0m \u001b[0m_unstack_extension_series\u001b[0m\u001b[0;34m(\u001b[0m\u001b[0mobj\u001b[0m\u001b[0;34m,\u001b[0m \u001b[0mlevel\u001b[0m\u001b[0;34m,\u001b[0m \u001b[0mfill_value\u001b[0m\u001b[0;34m)\u001b[0m\u001b[0;34m\u001b[0m\u001b[0;34m\u001b[0m\u001b[0m\n\u001b[0;32m--> 488\u001b[0;31m         unstacker = _Unstacker(\n\u001b[0m\u001b[1;32m    489\u001b[0m             \u001b[0mobj\u001b[0m\u001b[0;34m.\u001b[0m\u001b[0mindex\u001b[0m\u001b[0;34m,\u001b[0m \u001b[0mlevel\u001b[0m\u001b[0;34m=\u001b[0m\u001b[0mlevel\u001b[0m\u001b[0;34m,\u001b[0m \u001b[0mconstructor\u001b[0m\u001b[0;34m=\u001b[0m\u001b[0mobj\u001b[0m\u001b[0;34m.\u001b[0m\u001b[0m_constructor_expanddim\u001b[0m\u001b[0;34m\u001b[0m\u001b[0;34m\u001b[0m\u001b[0m\n\u001b[1;32m    490\u001b[0m         )\n",
      "\u001b[0;32m/opt/homebrew/Caskroom/miniforge/base/envs/tf/lib/python3.8/site-packages/pandas/core/reshape/reshape.py\u001b[0m in \u001b[0;36m__init__\u001b[0;34m(self, index, level, constructor)\u001b[0m\n\u001b[1;32m    134\u001b[0m             )\n\u001b[1;32m    135\u001b[0m \u001b[0;34m\u001b[0m\u001b[0m\n\u001b[0;32m--> 136\u001b[0;31m         \u001b[0mself\u001b[0m\u001b[0;34m.\u001b[0m\u001b[0m_make_selectors\u001b[0m\u001b[0;34m(\u001b[0m\u001b[0;34m)\u001b[0m\u001b[0;34m\u001b[0m\u001b[0;34m\u001b[0m\u001b[0m\n\u001b[0m\u001b[1;32m    137\u001b[0m \u001b[0;34m\u001b[0m\u001b[0m\n\u001b[1;32m    138\u001b[0m     \u001b[0;34m@\u001b[0m\u001b[0mcache_readonly\u001b[0m\u001b[0;34m\u001b[0m\u001b[0;34m\u001b[0m\u001b[0m\n",
      "\u001b[0;32m/opt/homebrew/Caskroom/miniforge/base/envs/tf/lib/python3.8/site-packages/pandas/core/reshape/reshape.py\u001b[0m in \u001b[0;36m_make_selectors\u001b[0;34m(self)\u001b[0m\n\u001b[1;32m    186\u001b[0m \u001b[0;34m\u001b[0m\u001b[0m\n\u001b[1;32m    187\u001b[0m         \u001b[0;32mif\u001b[0m \u001b[0mmask\u001b[0m\u001b[0;34m.\u001b[0m\u001b[0msum\u001b[0m\u001b[0;34m(\u001b[0m\u001b[0;34m)\u001b[0m \u001b[0;34m<\u001b[0m \u001b[0mlen\u001b[0m\u001b[0;34m(\u001b[0m\u001b[0mself\u001b[0m\u001b[0;34m.\u001b[0m\u001b[0mindex\u001b[0m\u001b[0;34m)\u001b[0m\u001b[0;34m:\u001b[0m\u001b[0;34m\u001b[0m\u001b[0;34m\u001b[0m\u001b[0m\n\u001b[0;32m--> 188\u001b[0;31m             \u001b[0;32mraise\u001b[0m \u001b[0mValueError\u001b[0m\u001b[0;34m(\u001b[0m\u001b[0;34m\"Index contains duplicate entries, cannot reshape\"\u001b[0m\u001b[0;34m)\u001b[0m\u001b[0;34m\u001b[0m\u001b[0;34m\u001b[0m\u001b[0m\n\u001b[0m\u001b[1;32m    189\u001b[0m \u001b[0;34m\u001b[0m\u001b[0m\n\u001b[1;32m    190\u001b[0m         \u001b[0mself\u001b[0m\u001b[0;34m.\u001b[0m\u001b[0mgroup_index\u001b[0m \u001b[0;34m=\u001b[0m \u001b[0mcomp_index\u001b[0m\u001b[0;34m\u001b[0m\u001b[0;34m\u001b[0m\u001b[0m\n",
      "\u001b[0;31mValueError\u001b[0m: Index contains duplicate entries, cannot reshape"
     ]
    }
   ],
   "source": [
    "# pd.melt() 메서드로 변환된 데이터를 pivot()을 활용하여 재변환\n",
    "\n",
    "df_pivoted = df_melted.pivot(index= 'Date',\n",
    "                             columns='Variable',\n",
    "                             values = 'Value').reset_index()\n",
    "\n",
    "print(df_pivoted)\n",
    "\n",
    "# pivot() 메서드는 각 행을 고유하게 식별할 수 있는 인덱스 필요 - index로 설정한 date가 겹침"
   ]
  },
  {
   "cell_type": "code",
   "execution_count": 72,
   "id": "b632d40a",
   "metadata": {},
   "outputs": [
    {
     "name": "stdout",
     "output_type": "stream",
     "text": [
      "   index     Variable  Value\n",
      "0      0  Temperature     10\n",
      "1      1  Temperature     20\n",
      "2      2  Temperature     25\n",
      "3      3  Temperature     20\n",
      "4      0     Humidity     60\n",
      "5      1     Humidity     65\n",
      "6      2     Humidity     70\n",
      "7      3     Humidity     21\n"
     ]
    }
   ],
   "source": [
    "df_melted2 = pd.melt(df.reset_index(),\n",
    "                    id_vars=['index'],\n",
    "                    value_vars=['Temperature', 'Humidity'],\n",
    "                    var_name = 'Variable',\n",
    "                    value_name='Value')\n",
    "print(df_melted2)"
   ]
  },
  {
   "cell_type": "code",
   "execution_count": 73,
   "id": "0e6086c3",
   "metadata": {},
   "outputs": [
    {
     "name": "stdout",
     "output_type": "stream",
     "text": [
      "Variable  Humidity  Temperature\n",
      "index                          \n",
      "0               60           10\n",
      "1               65           20\n",
      "2               70           25\n",
      "3               21           20\n"
     ]
    }
   ],
   "source": [
    "df_pivoted = df_melted2.pivot(index= 'index',\n",
    "                             columns='Variable',\n",
    "                             values = 'Value')\n",
    "\n",
    "print(df_pivoted)"
   ]
  },
  {
   "cell_type": "markdown",
   "id": "82b457f1",
   "metadata": {},
   "source": [
    "#### pivot_table()\n",
    "- data: 피벗할 데이터 프레임\n",
    "- values: 집계할 데이터 값의 컬럼명 지정\n",
    "- index: 행 인덱스로 사용할 컬럼명 지정\n",
    "- columns: 열로 사용할 컬럼명 지정\n",
    "- aggfunc: 집계 함수 (ex) mean, sum, count 등) 지정 (기본값: mean)"
   ]
  },
  {
   "cell_type": "code",
   "execution_count": null,
   "id": "41fe926c",
   "metadata": {},
   "outputs": [
    {
     "name": "stdout",
     "output_type": "stream",
     "text": [
      "Variable        Date  Humidity  Temperature\n",
      "0         2024-07-01      60.0         10.0\n",
      "1         2024-07-02      65.0         20.0\n",
      "2         2024-07-03      45.5         22.5\n"
     ]
    }
   ],
   "source": [
    "df_pivot_table = df_melted.pivot_table(index = 'Date',\n",
    "                                       columns = 'Variable',\n",
    "                                       values = 'Value').reset_index()\n",
    "\n",
    "print(df_pivot_table)\n",
    "\n",
    "# pivot()을 사용할 경우 date가 겹쳐서 오류가 발생하였지만 pivot_table같은 경우 두 값의 집계함수를 이용해서 계산"
   ]
  },
  {
   "cell_type": "code",
   "execution_count": 79,
   "id": "078e6785",
   "metadata": {},
   "outputs": [],
   "source": [
    "# 데이터 불러오기\n",
    "\n",
    "import pandas as pd\n",
    "\n",
    "df = pd.read_csv('https://raw.githubusercontent.com/YoungjinBD/data/main/dat.csv')"
   ]
  },
  {
   "cell_type": "code",
   "execution_count": 81,
   "id": "865eda23",
   "metadata": {},
   "outputs": [
    {
     "name": "stdout",
     "output_type": "stream",
     "text": [
      "<class 'pandas.core.frame.DataFrame'>\n",
      "RangeIndex: 366 entries, 0 to 365\n",
      "Data columns (total 11 columns):\n",
      " #   Column    Non-Null Count  Dtype  \n",
      "---  ------    --------------  -----  \n",
      " 0   school    366 non-null    object \n",
      " 1   sex       366 non-null    object \n",
      " 2   paid      366 non-null    object \n",
      " 3   famrel    366 non-null    int64  \n",
      " 4   freetime  366 non-null    int64  \n",
      " 5   goout     356 non-null    float64\n",
      " 6   Dalc      366 non-null    int64  \n",
      " 7   Walc      366 non-null    int64  \n",
      " 8   health    366 non-null    int64  \n",
      " 9   absences  366 non-null    int64  \n",
      " 10  grade     366 non-null    int64  \n",
      "dtypes: float64(1), int64(7), object(3)\n",
      "memory usage: 31.6+ KB\n"
     ]
    }
   ],
   "source": [
    "df.info()"
   ]
  },
  {
   "cell_type": "code",
   "execution_count": null,
   "id": "8d6cab87",
   "metadata": {},
   "outputs": [
    {
     "name": "stdout",
     "output_type": "stream",
     "text": [
      "Index(['school', 'sex', 'paid', 'famrel', 'freetime', 'goout', 'dalc', 'walc',\n",
      "       'health', 'absences', 'grade'],\n",
      "      dtype='object')\n"
     ]
    }
   ],
   "source": [
    "# rename: 컬럼 이름 변경\n",
    "\n",
    "df = df.rename(columns= {'Dalc' : 'dalc', 'Walc': 'walc'})\n",
    "print(df.columns)"
   ]
  },
  {
   "cell_type": "code",
   "execution_count": 85,
   "id": "a7e0cbd5",
   "metadata": {},
   "outputs": [
    {
     "name": "stdout",
     "output_type": "stream",
     "text": [
      "<class 'pandas.core.frame.DataFrame'>\n",
      "RangeIndex: 366 entries, 0 to 365\n",
      "Data columns (total 11 columns):\n",
      " #   Column    Non-Null Count  Dtype  \n",
      "---  ------    --------------  -----  \n",
      " 0   school    366 non-null    object \n",
      " 1   sex       366 non-null    object \n",
      " 2   paid      366 non-null    object \n",
      " 3   famrel    366 non-null    object \n",
      " 4   freetime  366 non-null    int64  \n",
      " 5   goout     356 non-null    float64\n",
      " 6   dalc      366 non-null    float64\n",
      " 7   walc      366 non-null    int64  \n",
      " 8   health    366 non-null    int64  \n",
      " 9   absences  366 non-null    int64  \n",
      " 10  grade     366 non-null    int64  \n",
      "dtypes: float64(2), int64(5), object(4)\n",
      "memory usage: 31.6+ KB\n",
      "None\n"
     ]
    }
   ],
   "source": [
    "# astype(): 데이터 타입 변경\n",
    "\n",
    "print(df.astype({'famrel': 'object', 'dalc': 'float64'}).info())\n"
   ]
  },
  {
   "cell_type": "markdown",
   "id": "ae945b0a",
   "metadata": {},
   "source": [
    "#### assign()\n",
    "-  파생변수와 같은 새로운 칼럼을 생성하거나 특정 컬럼 값을 변경하는 데 사용\n"
   ]
  },
  {
   "cell_type": "code",
   "execution_count": 88,
   "id": "eefc5851",
   "metadata": {},
   "outputs": [
    {
     "name": "stdout",
     "output_type": "stream",
     "text": [
      "   famrel famrel_quality\n",
      "0       4         Medium\n",
      "1       5           High\n",
      "2       4         Medium\n",
      "3       3         Medium\n",
      "4       4         Medium\n"
     ]
    }
   ],
   "source": [
    "# famrel 칼럼의 특정 값을 기준으로 'Low', 'Medium', 'High'로 구분\n",
    "\n",
    "# 사용자 함수 정의\n",
    "\n",
    "def classify_famrel(famrel):\n",
    "    if famrel <= 2:\n",
    "        return 'Low'\n",
    "    elif famrel <= 4:\n",
    "        return 'Medium'\n",
    "    else:\n",
    "        return 'High'\n",
    "    \n",
    "# apply()를 통해 정의한 함수 적용 famrel_quality 컬럼 생성\n",
    "\n",
    "df1 = df.copy()\n",
    "df1 = df1.assign(famrel_quality = df1['famrel'].apply(classify_famrel))\n",
    "\n",
    "print(df1[['famrel', 'famrel_quality']].head())"
   ]
  },
  {
   "cell_type": "code",
   "execution_count": 89,
   "id": "2be33c1e",
   "metadata": {},
   "outputs": [
    {
     "name": "stdout",
     "output_type": "stream",
     "text": [
      "   famrel\n",
      "0  Medium\n",
      "1    High\n",
      "2  Medium\n",
      "3  Medium\n",
      "4  Medium\n"
     ]
    }
   ],
   "source": [
    "# 기존에 있던 famrel 컬럼 값 변경\n",
    "df2 = df.copy()\n",
    "df2 = df2.assign(famrel=df2['famrel'].apply(classify_famrel))\n",
    "\n",
    "print(df2[['famrel']].head())"
   ]
  },
  {
   "cell_type": "markdown",
   "id": "16b1292d",
   "metadata": {},
   "source": [
    "#### select_dtypes()\n",
    "- 데이터 프레임에서 특정 데이터 타입을 가진 컬럼만 선택하는 데 사용하는 메서드\n",
    "- number: 모든 수치형 데이터 타입을 포함\n",
    "- float: 부동 소수점 숫자\n",
    "- int: 정수\n",
    "- complex: 복소수\n",
    "- object: 일반적인 객체 타입 (보통 문자열)\n",
    "- bool: 불리언\n",
    "- category: 범주형 데이터 타입\n",
    "- datetime: 날짜 및 시간"
   ]
  },
  {
   "cell_type": "code",
   "execution_count": 91,
   "id": "64b34e15",
   "metadata": {},
   "outputs": [
    {
     "name": "stdout",
     "output_type": "stream",
     "text": [
      "   famrel  freetime  goout  dalc  walc  health  absences  grade\n",
      "0       4         3    4.0     1     1       3         6      1\n",
      "1       5         3    3.0     1     1       3         4      1\n"
     ]
    }
   ],
   "source": [
    "# 수치형 컬럼만 선택\n",
    "print(df.select_dtypes('number').head(2))"
   ]
  },
  {
   "cell_type": "code",
   "execution_count": 92,
   "id": "bd83c36a",
   "metadata": {},
   "outputs": [
    {
     "name": "stdout",
     "output_type": "stream",
     "text": [
      "  school sex paid\n",
      "0     GP   F   no\n",
      "1     GP   F   no\n"
     ]
    }
   ],
   "source": [
    "# 범주형 컬럼 선택\n",
    "print(df.select_dtypes('object').head(2))"
   ]
  },
  {
   "cell_type": "code",
   "execution_count": 93,
   "id": "39220194",
   "metadata": {},
   "outputs": [
    {
     "data": {
      "text/html": [
       "<div>\n",
       "<style scoped>\n",
       "    .dataframe tbody tr th:only-of-type {\n",
       "        vertical-align: middle;\n",
       "    }\n",
       "\n",
       "    .dataframe tbody tr th {\n",
       "        vertical-align: top;\n",
       "    }\n",
       "\n",
       "    .dataframe thead th {\n",
       "        text-align: right;\n",
       "    }\n",
       "</style>\n",
       "<table border=\"1\" class=\"dataframe\">\n",
       "  <thead>\n",
       "    <tr style=\"text-align: right;\">\n",
       "      <th></th>\n",
       "      <th>famrel</th>\n",
       "      <th>freetime</th>\n",
       "      <th>goout</th>\n",
       "      <th>dalc</th>\n",
       "      <th>walc</th>\n",
       "      <th>health</th>\n",
       "      <th>absences</th>\n",
       "      <th>grade</th>\n",
       "    </tr>\n",
       "  </thead>\n",
       "  <tbody>\n",
       "    <tr>\n",
       "      <th>0</th>\n",
       "      <td>-0.41557</td>\n",
       "      <td>-0.242302</td>\n",
       "      <td>1.192457</td>\n",
       "      <td>-0.677095</td>\n",
       "      <td>-0.789321</td>\n",
       "      <td>0.408977</td>\n",
       "      <td>5.310415</td>\n",
       "      <td>-0.639516</td>\n",
       "    </tr>\n",
       "    <tr>\n",
       "      <th>1</th>\n",
       "      <td>0.58443</td>\n",
       "      <td>-0.242302</td>\n",
       "      <td>0.192457</td>\n",
       "      <td>-0.677095</td>\n",
       "      <td>-0.789321</td>\n",
       "      <td>0.408977</td>\n",
       "      <td>3.310415</td>\n",
       "      <td>-0.639516</td>\n",
       "    </tr>\n",
       "  </tbody>\n",
       "</table>\n",
       "</div>"
      ],
      "text/plain": [
       "    famrel  freetime     goout      dalc      walc    health  absences  \\\n",
       "0 -0.41557 -0.242302  1.192457 -0.677095 -0.789321  0.408977  5.310415   \n",
       "1  0.58443 -0.242302  0.192457 -0.677095 -0.789321  0.408977  3.310415   \n",
       "\n",
       "      grade  \n",
       "0 -0.639516  \n",
       "1 -0.639516  "
      ]
     },
     "execution_count": 93,
     "metadata": {},
     "output_type": "execute_result"
    }
   ],
   "source": [
    "# 임의의 함수 정의 후 수치형 컬럼 적용\n",
    "\n",
    "def standardize(x):\n",
    "    return (x - np.nanmean(x)/ np.std(x))\n",
    "\n",
    "df.select_dtypes('number').apply(standardize).head(2)"
   ]
  },
  {
   "cell_type": "markdown",
   "id": "51d6d5b0",
   "metadata": {},
   "source": [
    "#### 컬럼명 패턴을 활용하여 특정 컬럼 선택\n",
    "1. str.startwith()"
   ]
  },
  {
   "cell_type": "code",
   "execution_count": 98,
   "id": "bb5ae1d5",
   "metadata": {},
   "outputs": [
    {
     "name": "stdout",
     "output_type": "stream",
     "text": [
      "Index(['school', 'sex', 'paid', 'famrel', 'freetime', 'goout', 'dalc', 'walc',\n",
      "       'health', 'absences', 'grade'],\n",
      "      dtype='object')\n",
      "[False False False  True  True False False False False False False]\n",
      "   famrel  freetime\n",
      "0       4         3\n",
      "1       5         3\n",
      "2       4         3\n",
      "3       3         2\n",
      "4       4         3\n"
     ]
    }
   ],
   "source": [
    "# str.startwith()\n",
    "\n",
    "# 컬럼명이 'f'로 시작하는 경우 True, 그 외에는 False\n",
    "\n",
    "print(df.columns)\n",
    "print(df.columns.str.startswith('f'))\n",
    "print(df.loc[:, df.columns.str.startswith('f')].head())"
   ]
  },
  {
   "cell_type": "code",
   "execution_count": 100,
   "id": "1508bb55",
   "metadata": {},
   "outputs": [
    {
     "name": "stdout",
     "output_type": "stream",
     "text": [
      "[False False False False False False  True  True False False False]\n",
      "   dalc  walc\n",
      "0     1     1\n",
      "1     1     1\n",
      "2     2     3\n",
      "3     1     1\n",
      "4     1     2\n"
     ]
    }
   ],
   "source": [
    "# str.endswith()\n",
    "\n",
    "print(df.columns.str.endswith('c'))\n",
    "print(df.loc[:, df.columns.str.endswith('c')].head())"
   ]
  },
  {
   "cell_type": "code",
   "execution_count": 101,
   "id": "b77377fb",
   "metadata": {},
   "outputs": [
    {
     "name": "stdout",
     "output_type": "stream",
     "text": [
      "[False False False  True  True False False False False False False]\n",
      "   famrel  freetime\n",
      "0       4         3\n",
      "1       5         3\n",
      "2       4         3\n",
      "3       3         2\n",
      "4       4         3\n"
     ]
    }
   ],
   "source": [
    "# str.contains()\n",
    "\n",
    "print(df.columns.str.contains('f'))\n",
    "print(df.loc[:, df.columns.str.contains('f')].head())"
   ]
  },
  {
   "cell_type": "code",
   "execution_count": 102,
   "id": "6a04a5a9",
   "metadata": {},
   "outputs": [
    {
     "name": "stdout",
     "output_type": "stream",
     "text": [
      "    famrel  freetime\n",
      "0 -0.41557 -0.242302\n",
      "1  0.58443 -0.242302\n",
      "2 -0.41557 -0.242302\n",
      "3 -1.41557 -1.242302\n",
      "4 -0.41557 -0.242302\n"
     ]
    }
   ],
   "source": [
    "print(df.loc[:, df.columns.str.contains('f')].apply(standardize).head())"
   ]
  },
  {
   "cell_type": "code",
   "execution_count": 103,
   "id": "577bb54a",
   "metadata": {},
   "outputs": [],
   "source": [
    "### 데이터 불러오기\n",
    "\n",
    "import pandas as pd\n",
    "df = pd.read_csv('https://raw.githubusercontent.com/YoungjinBD/data/main/grade.csv')"
   ]
  },
  {
   "cell_type": "code",
   "execution_count": null,
   "id": "10231bff",
   "metadata": {},
   "outputs": [
    {
     "name": "stdout",
     "output_type": "stream",
     "text": [
      "<class 'pandas.core.frame.DataFrame'>\n",
      "RangeIndex: 10 entries, 0 to 9\n",
      "Data columns (total 6 columns):\n",
      " #   Column      Non-Null Count  Dtype  \n",
      "---  ------      --------------  -----  \n",
      " 0   student_id  10 non-null     int64  \n",
      " 1   name        10 non-null     object \n",
      " 2   gender      10 non-null     object \n",
      " 3   midterm     9 non-null      float64\n",
      " 4   final       9 non-null      float64\n",
      " 5   assignment  9 non-null      float64\n",
      "dtypes: float64(3), int64(1), object(2)\n",
      "memory usage: 608.0+ bytes\n"
     ]
    }
   ],
   "source": [
    "# 1\n",
    "df.info()"
   ]
  },
  {
   "cell_type": "code",
   "execution_count": null,
   "id": "95cb71a3",
   "metadata": {},
   "outputs": [
    {
     "data": {
      "text/html": [
       "<div>\n",
       "<style scoped>\n",
       "    .dataframe tbody tr th:only-of-type {\n",
       "        vertical-align: middle;\n",
       "    }\n",
       "\n",
       "    .dataframe tbody tr th {\n",
       "        vertical-align: top;\n",
       "    }\n",
       "\n",
       "    .dataframe thead th {\n",
       "        text-align: right;\n",
       "    }\n",
       "</style>\n",
       "<table border=\"1\" class=\"dataframe\">\n",
       "  <thead>\n",
       "    <tr style=\"text-align: right;\">\n",
       "      <th></th>\n",
       "      <th>student_id</th>\n",
       "      <th>name</th>\n",
       "      <th>gender</th>\n",
       "      <th>midterm</th>\n",
       "      <th>final</th>\n",
       "      <th>assignment</th>\n",
       "    </tr>\n",
       "  </thead>\n",
       "  <tbody>\n",
       "    <tr>\n",
       "      <th>0</th>\n",
       "      <td>1</td>\n",
       "      <td>Alice</td>\n",
       "      <td>F</td>\n",
       "      <td>85.0</td>\n",
       "      <td>88.0</td>\n",
       "      <td>95.0</td>\n",
       "    </tr>\n",
       "    <tr>\n",
       "      <th>2</th>\n",
       "      <td>3</td>\n",
       "      <td>Charlie</td>\n",
       "      <td>M</td>\n",
       "      <td>92.0</td>\n",
       "      <td>94.0</td>\n",
       "      <td>87.0</td>\n",
       "    </tr>\n",
       "    <tr>\n",
       "      <th>3</th>\n",
       "      <td>4</td>\n",
       "      <td>David</td>\n",
       "      <td>M</td>\n",
       "      <td>88.0</td>\n",
       "      <td>90.0</td>\n",
       "      <td>85.0</td>\n",
       "    </tr>\n",
       "    <tr>\n",
       "      <th>5</th>\n",
       "      <td>6</td>\n",
       "      <td>Frank</td>\n",
       "      <td>M</td>\n",
       "      <td>95.0</td>\n",
       "      <td>97.0</td>\n",
       "      <td>98.0</td>\n",
       "    </tr>\n",
       "    <tr>\n",
       "      <th>6</th>\n",
       "      <td>7</td>\n",
       "      <td>Grace</td>\n",
       "      <td>F</td>\n",
       "      <td>89.0</td>\n",
       "      <td>91.0</td>\n",
       "      <td>84.0</td>\n",
       "    </tr>\n",
       "    <tr>\n",
       "      <th>7</th>\n",
       "      <td>8</td>\n",
       "      <td>Hannah</td>\n",
       "      <td>F</td>\n",
       "      <td>90.0</td>\n",
       "      <td>92.0</td>\n",
       "      <td>NaN</td>\n",
       "    </tr>\n",
       "  </tbody>\n",
       "</table>\n",
       "</div>"
      ],
      "text/plain": [
       "   student_id     name gender  midterm  final  assignment\n",
       "0           1    Alice      F     85.0   88.0        95.0\n",
       "2           3  Charlie      M     92.0   94.0        87.0\n",
       "3           4    David      M     88.0   90.0        85.0\n",
       "5           6    Frank      M     95.0   97.0        98.0\n",
       "6           7    Grace      F     89.0   91.0        84.0\n",
       "7           8   Hannah      F     90.0   92.0         NaN"
      ]
     },
     "execution_count": 105,
     "metadata": {},
     "output_type": "execute_result"
    }
   ],
   "source": [
    "# 2\n",
    "df[df['midterm'] >= 85]"
   ]
  },
  {
   "cell_type": "code",
   "execution_count": null,
   "id": "7af07609",
   "metadata": {},
   "outputs": [
    {
     "data": {
      "text/html": [
       "<div>\n",
       "<style scoped>\n",
       "    .dataframe tbody tr th:only-of-type {\n",
       "        vertical-align: middle;\n",
       "    }\n",
       "\n",
       "    .dataframe tbody tr th {\n",
       "        vertical-align: top;\n",
       "    }\n",
       "\n",
       "    .dataframe thead th {\n",
       "        text-align: right;\n",
       "    }\n",
       "</style>\n",
       "<table border=\"1\" class=\"dataframe\">\n",
       "  <thead>\n",
       "    <tr style=\"text-align: right;\">\n",
       "      <th></th>\n",
       "      <th>student_id</th>\n",
       "      <th>name</th>\n",
       "      <th>gender</th>\n",
       "      <th>midterm</th>\n",
       "      <th>final</th>\n",
       "      <th>assignment</th>\n",
       "    </tr>\n",
       "  </thead>\n",
       "  <tbody>\n",
       "    <tr>\n",
       "      <th>5</th>\n",
       "      <td>6</td>\n",
       "      <td>Frank</td>\n",
       "      <td>M</td>\n",
       "      <td>95.0</td>\n",
       "      <td>97.0</td>\n",
       "      <td>98.0</td>\n",
       "    </tr>\n",
       "    <tr>\n",
       "      <th>2</th>\n",
       "      <td>3</td>\n",
       "      <td>Charlie</td>\n",
       "      <td>M</td>\n",
       "      <td>92.0</td>\n",
       "      <td>94.0</td>\n",
       "      <td>87.0</td>\n",
       "    </tr>\n",
       "    <tr>\n",
       "      <th>7</th>\n",
       "      <td>8</td>\n",
       "      <td>Hannah</td>\n",
       "      <td>F</td>\n",
       "      <td>90.0</td>\n",
       "      <td>92.0</td>\n",
       "      <td>NaN</td>\n",
       "    </tr>\n",
       "    <tr>\n",
       "      <th>6</th>\n",
       "      <td>7</td>\n",
       "      <td>Grace</td>\n",
       "      <td>F</td>\n",
       "      <td>89.0</td>\n",
       "      <td>91.0</td>\n",
       "      <td>84.0</td>\n",
       "    </tr>\n",
       "    <tr>\n",
       "      <th>3</th>\n",
       "      <td>4</td>\n",
       "      <td>David</td>\n",
       "      <td>M</td>\n",
       "      <td>88.0</td>\n",
       "      <td>90.0</td>\n",
       "      <td>85.0</td>\n",
       "    </tr>\n",
       "  </tbody>\n",
       "</table>\n",
       "</div>"
      ],
      "text/plain": [
       "   student_id     name gender  midterm  final  assignment\n",
       "5           6    Frank      M     95.0   97.0        98.0\n",
       "2           3  Charlie      M     92.0   94.0        87.0\n",
       "7           8   Hannah      F     90.0   92.0         NaN\n",
       "6           7    Grace      F     89.0   91.0        84.0\n",
       "3           4    David      M     88.0   90.0        85.0"
      ]
     },
     "execution_count": 108,
     "metadata": {},
     "output_type": "execute_result"
    }
   ],
   "source": [
    "# 3\n",
    "df.sort_values('final', ascending=False).head()"
   ]
  },
  {
   "cell_type": "code",
   "execution_count": null,
   "id": "33268066",
   "metadata": {},
   "outputs": [
    {
     "data": {
      "text/html": [
       "<div>\n",
       "<style scoped>\n",
       "    .dataframe tbody tr th:only-of-type {\n",
       "        vertical-align: middle;\n",
       "    }\n",
       "\n",
       "    .dataframe tbody tr th {\n",
       "        vertical-align: top;\n",
       "    }\n",
       "\n",
       "    .dataframe thead th {\n",
       "        text-align: right;\n",
       "    }\n",
       "</style>\n",
       "<table border=\"1\" class=\"dataframe\">\n",
       "  <thead>\n",
       "    <tr style=\"text-align: right;\">\n",
       "      <th></th>\n",
       "      <th>student_id</th>\n",
       "      <th>midterm</th>\n",
       "      <th>final</th>\n",
       "      <th>assignment</th>\n",
       "    </tr>\n",
       "    <tr>\n",
       "      <th>gender</th>\n",
       "      <th></th>\n",
       "      <th></th>\n",
       "      <th></th>\n",
       "      <th></th>\n",
       "    </tr>\n",
       "  </thead>\n",
       "  <tbody>\n",
       "    <tr>\n",
       "      <th>F</th>\n",
       "      <td>5.250000</td>\n",
       "      <td>85.0</td>\n",
       "      <td>87.5</td>\n",
       "      <td>85.333333</td>\n",
       "    </tr>\n",
       "    <tr>\n",
       "      <th>M</th>\n",
       "      <td>5.666667</td>\n",
       "      <td>86.0</td>\n",
       "      <td>88.2</td>\n",
       "      <td>86.833333</td>\n",
       "    </tr>\n",
       "  </tbody>\n",
       "</table>\n",
       "</div>"
      ],
      "text/plain": [
       "        student_id  midterm  final  assignment\n",
       "gender                                        \n",
       "F         5.250000     85.0   87.5   85.333333\n",
       "M         5.666667     86.0   88.2   86.833333"
      ]
     },
     "execution_count": 111,
     "metadata": {},
     "output_type": "execute_result"
    }
   ],
   "source": [
    "# 4\n",
    "df.groupby('gender').mean(numeric_only=True)"
   ]
  },
  {
   "cell_type": "code",
   "execution_count": 115,
   "id": "0d8c8d38",
   "metadata": {},
   "outputs": [
    {
     "name": "stdout",
     "output_type": "stream",
     "text": [
      "<class 'pandas.core.frame.DataFrame'>\n",
      "RangeIndex: 10 entries, 0 to 9\n",
      "Data columns (total 6 columns):\n",
      " #   Column      Non-Null Count  Dtype  \n",
      "---  ------      --------------  -----  \n",
      " 0   student_id  10 non-null     object \n",
      " 1   name        10 non-null     object \n",
      " 2   gender      10 non-null     object \n",
      " 3   midterm     9 non-null      float64\n",
      " 4   final       9 non-null      float64\n",
      " 5   assignment  9 non-null      float64\n",
      "dtypes: float64(3), object(3)\n",
      "memory usage: 608.0+ bytes\n"
     ]
    }
   ],
   "source": [
    "# 5\n",
    "df_test5 = df.astype({'student_id': 'object'})\n",
    "df_test5.info()"
   ]
  },
  {
   "cell_type": "code",
   "execution_count": 125,
   "id": "e22d819c",
   "metadata": {},
   "outputs": [
    {
     "name": "stdout",
     "output_type": "stream",
     "text": [
      "student_id        6\n",
      "name          Frank\n",
      "gender            M\n",
      "midterm        95.0\n",
      "final          97.0\n",
      "assignment     98.0\n",
      "Name: 5, dtype: object\n",
      "\n",
      "student_id       5\n",
      "name           Eve\n",
      "gender           F\n",
      "midterm       76.0\n",
      "final         79.0\n",
      "assignment    77.0\n",
      "Name: 4, dtype: object\n"
     ]
    }
   ],
   "source": [
    "# 6\n",
    "\n",
    "print(df.loc[df['assignment'].idxmax()]) # 최댓값\n",
    "print('')\n",
    "print(df.loc[df['assignment'].idxmin()]) # 최솟값"
   ]
  },
  {
   "cell_type": "code",
   "execution_count": 127,
   "id": "b9baf2fb",
   "metadata": {},
   "outputs": [
    {
     "name": "stdout",
     "output_type": "stream",
     "text": [
      "   student_id     name gender  midterm  final  assignment    average\n",
      "0           1    Alice      F     85.0   88.0        95.0  89.333333\n",
      "1           2      Bob      M     78.0   74.0        82.0  78.000000\n",
      "2           3  Charlie      M     92.0   94.0        87.0  91.000000\n",
      "3           4    David      M     88.0   90.0        85.0  87.666667\n",
      "4           5      Eve      F     76.0   79.0        77.0  77.333333\n",
      "5           6    Frank      M     95.0   97.0        98.0  96.666667\n",
      "6           7    Grace      F     89.0   91.0        84.0  88.000000\n",
      "7           8   Hannah      F     90.0   92.0         NaN        NaN\n",
      "8           9     Ivan      M     77.0    NaN        81.0        NaN\n",
      "9          10     Jack      M      NaN   86.0        88.0        NaN\n"
     ]
    }
   ],
   "source": [
    "# 7\n",
    "\n",
    "df_7 = pd.concat([df, ((df['midterm'] + df['final'] + df['assignment']) / 3).rename('average')], axis=1)\n",
    "print(df_7)"
   ]
  },
  {
   "cell_type": "code",
   "execution_count": 130,
   "id": "8d115c30",
   "metadata": {},
   "outputs": [
    {
     "name": "stdout",
     "output_type": "stream",
     "text": [
      "<class 'pandas.core.frame.DataFrame'>\n",
      "Index: 7 entries, 0 to 6\n",
      "Data columns (total 6 columns):\n",
      " #   Column      Non-Null Count  Dtype  \n",
      "---  ------      --------------  -----  \n",
      " 0   student_id  7 non-null      int64  \n",
      " 1   name        7 non-null      object \n",
      " 2   gender      7 non-null      object \n",
      " 3   midterm     7 non-null      float64\n",
      " 4   final       7 non-null      float64\n",
      " 5   assignment  7 non-null      float64\n",
      "dtypes: float64(3), int64(1), object(2)\n",
      "memory usage: 392.0+ bytes\n"
     ]
    },
    {
     "data": {
      "text/html": [
       "<div>\n",
       "<style scoped>\n",
       "    .dataframe tbody tr th:only-of-type {\n",
       "        vertical-align: middle;\n",
       "    }\n",
       "\n",
       "    .dataframe tbody tr th {\n",
       "        vertical-align: top;\n",
       "    }\n",
       "\n",
       "    .dataframe thead th {\n",
       "        text-align: right;\n",
       "    }\n",
       "</style>\n",
       "<table border=\"1\" class=\"dataframe\">\n",
       "  <thead>\n",
       "    <tr style=\"text-align: right;\">\n",
       "      <th></th>\n",
       "      <th>student_id</th>\n",
       "      <th>name</th>\n",
       "      <th>gender</th>\n",
       "      <th>midterm</th>\n",
       "      <th>final</th>\n",
       "      <th>assignment</th>\n",
       "    </tr>\n",
       "  </thead>\n",
       "  <tbody>\n",
       "    <tr>\n",
       "      <th>0</th>\n",
       "      <td>1</td>\n",
       "      <td>Alice</td>\n",
       "      <td>F</td>\n",
       "      <td>85.0</td>\n",
       "      <td>88.0</td>\n",
       "      <td>95.0</td>\n",
       "    </tr>\n",
       "    <tr>\n",
       "      <th>1</th>\n",
       "      <td>2</td>\n",
       "      <td>Bob</td>\n",
       "      <td>M</td>\n",
       "      <td>78.0</td>\n",
       "      <td>74.0</td>\n",
       "      <td>82.0</td>\n",
       "    </tr>\n",
       "    <tr>\n",
       "      <th>2</th>\n",
       "      <td>3</td>\n",
       "      <td>Charlie</td>\n",
       "      <td>M</td>\n",
       "      <td>92.0</td>\n",
       "      <td>94.0</td>\n",
       "      <td>87.0</td>\n",
       "    </tr>\n",
       "    <tr>\n",
       "      <th>3</th>\n",
       "      <td>4</td>\n",
       "      <td>David</td>\n",
       "      <td>M</td>\n",
       "      <td>88.0</td>\n",
       "      <td>90.0</td>\n",
       "      <td>85.0</td>\n",
       "    </tr>\n",
       "    <tr>\n",
       "      <th>4</th>\n",
       "      <td>5</td>\n",
       "      <td>Eve</td>\n",
       "      <td>F</td>\n",
       "      <td>76.0</td>\n",
       "      <td>79.0</td>\n",
       "      <td>77.0</td>\n",
       "    </tr>\n",
       "    <tr>\n",
       "      <th>5</th>\n",
       "      <td>6</td>\n",
       "      <td>Frank</td>\n",
       "      <td>M</td>\n",
       "      <td>95.0</td>\n",
       "      <td>97.0</td>\n",
       "      <td>98.0</td>\n",
       "    </tr>\n",
       "    <tr>\n",
       "      <th>6</th>\n",
       "      <td>7</td>\n",
       "      <td>Grace</td>\n",
       "      <td>F</td>\n",
       "      <td>89.0</td>\n",
       "      <td>91.0</td>\n",
       "      <td>84.0</td>\n",
       "    </tr>\n",
       "  </tbody>\n",
       "</table>\n",
       "</div>"
      ],
      "text/plain": [
       "   student_id     name gender  midterm  final  assignment\n",
       "0           1    Alice      F     85.0   88.0        95.0\n",
       "1           2      Bob      M     78.0   74.0        82.0\n",
       "2           3  Charlie      M     92.0   94.0        87.0\n",
       "3           4    David      M     88.0   90.0        85.0\n",
       "4           5      Eve      F     76.0   79.0        77.0\n",
       "5           6    Frank      M     95.0   97.0        98.0\n",
       "6           7    Grace      F     89.0   91.0        84.0"
      ]
     },
     "execution_count": 130,
     "metadata": {},
     "output_type": "execute_result"
    }
   ],
   "source": [
    "# 8 \n",
    "\n",
    "df_drop_na = df.dropna()\n",
    "df_drop_na.info()\n",
    "df_drop_na"
   ]
  },
  {
   "cell_type": "code",
   "execution_count": 141,
   "id": "2964f361",
   "metadata": {},
   "outputs": [
    {
     "data": {
      "text/html": [
       "<div>\n",
       "<style scoped>\n",
       "    .dataframe tbody tr th:only-of-type {\n",
       "        vertical-align: middle;\n",
       "    }\n",
       "\n",
       "    .dataframe tbody tr th {\n",
       "        vertical-align: top;\n",
       "    }\n",
       "\n",
       "    .dataframe thead th {\n",
       "        text-align: right;\n",
       "    }\n",
       "</style>\n",
       "<table border=\"1\" class=\"dataframe\">\n",
       "  <thead>\n",
       "    <tr style=\"text-align: right;\">\n",
       "      <th></th>\n",
       "      <th>student_id</th>\n",
       "      <th>name</th>\n",
       "      <th>gender</th>\n",
       "      <th>midterm</th>\n",
       "      <th>final</th>\n",
       "      <th>assignment</th>\n",
       "      <th>club</th>\n",
       "    </tr>\n",
       "  </thead>\n",
       "  <tbody>\n",
       "    <tr>\n",
       "      <th>0</th>\n",
       "      <td>1</td>\n",
       "      <td>Alice</td>\n",
       "      <td>F</td>\n",
       "      <td>85.0</td>\n",
       "      <td>88.0</td>\n",
       "      <td>95.0</td>\n",
       "      <td>Art</td>\n",
       "    </tr>\n",
       "    <tr>\n",
       "      <th>1</th>\n",
       "      <td>3</td>\n",
       "      <td>Charlie</td>\n",
       "      <td>M</td>\n",
       "      <td>92.0</td>\n",
       "      <td>94.0</td>\n",
       "      <td>87.0</td>\n",
       "      <td>Science</td>\n",
       "    </tr>\n",
       "    <tr>\n",
       "      <th>2</th>\n",
       "      <td>5</td>\n",
       "      <td>Eve</td>\n",
       "      <td>F</td>\n",
       "      <td>76.0</td>\n",
       "      <td>79.0</td>\n",
       "      <td>77.0</td>\n",
       "      <td>Math</td>\n",
       "    </tr>\n",
       "    <tr>\n",
       "      <th>3</th>\n",
       "      <td>7</td>\n",
       "      <td>Grace</td>\n",
       "      <td>F</td>\n",
       "      <td>89.0</td>\n",
       "      <td>91.0</td>\n",
       "      <td>84.0</td>\n",
       "      <td>Music</td>\n",
       "    </tr>\n",
       "    <tr>\n",
       "      <th>4</th>\n",
       "      <td>9</td>\n",
       "      <td>Ivan</td>\n",
       "      <td>M</td>\n",
       "      <td>77.0</td>\n",
       "      <td>NaN</td>\n",
       "      <td>81.0</td>\n",
       "      <td>Drama</td>\n",
       "    </tr>\n",
       "  </tbody>\n",
       "</table>\n",
       "</div>"
      ],
      "text/plain": [
       "   student_id     name gender  midterm  final  assignment     club\n",
       "0           1    Alice      F     85.0   88.0        95.0      Art\n",
       "1           3  Charlie      M     92.0   94.0        87.0  Science\n",
       "2           5      Eve      F     76.0   79.0        77.0     Math\n",
       "3           7    Grace      F     89.0   91.0        84.0    Music\n",
       "4           9     Ivan      M     77.0    NaN        81.0    Drama"
      ]
     },
     "execution_count": 141,
     "metadata": {},
     "output_type": "execute_result"
    }
   ],
   "source": [
    "# 9\n",
    "\n",
    "additional_data = {\n",
    "    'student_id': ['1','3','5','7','9'],\n",
    "    'club': ['Art', 'Science', 'Math', 'Music', 'Drama']\n",
    "}\n",
    "df_additional = pd.DataFrame(additional_data)\n",
    "\n",
    "df_additional = df_additional.astype({'student_id':'int64'})\n",
    "\n",
    "pd.merge(df, df_additional, on='student_id')"
   ]
  },
  {
   "cell_type": "code",
   "execution_count": null,
   "id": "57e356b1",
   "metadata": {},
   "outputs": [
    {
     "data": {
      "text/html": [
       "<div>\n",
       "<style scoped>\n",
       "    .dataframe tbody tr th:only-of-type {\n",
       "        vertical-align: middle;\n",
       "    }\n",
       "\n",
       "    .dataframe tbody tr th {\n",
       "        vertical-align: top;\n",
       "    }\n",
       "\n",
       "    .dataframe thead th {\n",
       "        text-align: right;\n",
       "    }\n",
       "</style>\n",
       "<table border=\"1\" class=\"dataframe\">\n",
       "  <thead>\n",
       "    <tr style=\"text-align: right;\">\n",
       "      <th></th>\n",
       "      <th>student_id</th>\n",
       "      <th>name</th>\n",
       "      <th>gender</th>\n",
       "      <th>midterm</th>\n",
       "      <th>final</th>\n",
       "      <th>assignment</th>\n",
       "      <th>average</th>\n",
       "    </tr>\n",
       "  </thead>\n",
       "  <tbody>\n",
       "    <tr>\n",
       "      <th>0</th>\n",
       "      <td>1</td>\n",
       "      <td>Alice</td>\n",
       "      <td>F</td>\n",
       "      <td>85.0</td>\n",
       "      <td>88.0</td>\n",
       "      <td>95.0</td>\n",
       "      <td>89.333333</td>\n",
       "    </tr>\n",
       "    <tr>\n",
       "      <th>1</th>\n",
       "      <td>2</td>\n",
       "      <td>Bob</td>\n",
       "      <td>M</td>\n",
       "      <td>78.0</td>\n",
       "      <td>74.0</td>\n",
       "      <td>82.0</td>\n",
       "      <td>78.000000</td>\n",
       "    </tr>\n",
       "    <tr>\n",
       "      <th>2</th>\n",
       "      <td>3</td>\n",
       "      <td>Charlie</td>\n",
       "      <td>M</td>\n",
       "      <td>92.0</td>\n",
       "      <td>94.0</td>\n",
       "      <td>87.0</td>\n",
       "      <td>91.000000</td>\n",
       "    </tr>\n",
       "    <tr>\n",
       "      <th>3</th>\n",
       "      <td>4</td>\n",
       "      <td>David</td>\n",
       "      <td>M</td>\n",
       "      <td>88.0</td>\n",
       "      <td>90.0</td>\n",
       "      <td>85.0</td>\n",
       "      <td>87.666667</td>\n",
       "    </tr>\n",
       "    <tr>\n",
       "      <th>4</th>\n",
       "      <td>5</td>\n",
       "      <td>Eve</td>\n",
       "      <td>F</td>\n",
       "      <td>76.0</td>\n",
       "      <td>79.0</td>\n",
       "      <td>77.0</td>\n",
       "      <td>77.333333</td>\n",
       "    </tr>\n",
       "  </tbody>\n",
       "</table>\n",
       "</div>"
      ],
      "text/plain": [
       "   student_id     name gender  midterm  final  assignment    average\n",
       "0           1    Alice      F     85.0   88.0        95.0  89.333333\n",
       "1           2      Bob      M     78.0   74.0        82.0  78.000000\n",
       "2           3  Charlie      M     92.0   94.0        87.0  91.000000\n",
       "3           4    David      M     88.0   90.0        85.0  87.666667\n",
       "4           5      Eve      F     76.0   79.0        77.0  77.333333"
      ]
     },
     "execution_count": 145,
     "metadata": {},
     "output_type": "execute_result"
    }
   ],
   "source": [
    "# 10\n",
    "df_7.head()"
   ]
  },
  {
   "cell_type": "markdown",
   "id": "2987a336",
   "metadata": {},
   "source": [
    "### pd.melt()\n",
    "- 넓은 형식에서 긴 형식으로 변환\n",
    "- 시각화 좋음\n",
    "- 열이 적고 행이 많아짐\n"
   ]
  },
  {
   "cell_type": "code",
   "execution_count": 148,
   "id": "003da102",
   "metadata": {},
   "outputs": [
    {
     "data": {
      "text/html": [
       "<div>\n",
       "<style scoped>\n",
       "    .dataframe tbody tr th:only-of-type {\n",
       "        vertical-align: middle;\n",
       "    }\n",
       "\n",
       "    .dataframe tbody tr th {\n",
       "        vertical-align: top;\n",
       "    }\n",
       "\n",
       "    .dataframe thead th {\n",
       "        text-align: right;\n",
       "    }\n",
       "</style>\n",
       "<table border=\"1\" class=\"dataframe\">\n",
       "  <thead>\n",
       "    <tr style=\"text-align: right;\">\n",
       "      <th></th>\n",
       "      <th>Date</th>\n",
       "      <th>Temperature</th>\n",
       "      <th>Humidity</th>\n",
       "    </tr>\n",
       "  </thead>\n",
       "  <tbody>\n",
       "    <tr>\n",
       "      <th>0</th>\n",
       "      <td>2024-07-01</td>\n",
       "      <td>10</td>\n",
       "      <td>60</td>\n",
       "    </tr>\n",
       "    <tr>\n",
       "      <th>1</th>\n",
       "      <td>2024-07-02</td>\n",
       "      <td>20</td>\n",
       "      <td>65</td>\n",
       "    </tr>\n",
       "    <tr>\n",
       "      <th>2</th>\n",
       "      <td>2024-07-03</td>\n",
       "      <td>25</td>\n",
       "      <td>70</td>\n",
       "    </tr>\n",
       "    <tr>\n",
       "      <th>3</th>\n",
       "      <td>2024-07-03</td>\n",
       "      <td>20</td>\n",
       "      <td>21</td>\n",
       "    </tr>\n",
       "  </tbody>\n",
       "</table>\n",
       "</div>"
      ],
      "text/plain": [
       "         Date  Temperature  Humidity\n",
       "0  2024-07-01           10        60\n",
       "1  2024-07-02           20        65\n",
       "2  2024-07-03           25        70\n",
       "3  2024-07-03           20        21"
      ]
     },
     "execution_count": 148,
     "metadata": {},
     "output_type": "execute_result"
    }
   ],
   "source": [
    "# 예제 데이터 생성\n",
    "import pandas as pd\n",
    "data = {\n",
    "    'Date' : ['2024-07-01', '2024-07-02', '2024-07-03', '2024-07-03'],\n",
    "    'Temperature': [10, 20, 25, 20],\n",
    "    'Humidity': [60, 65, 70, 21]\n",
    "}\n",
    "df = pd.DataFrame(data)\n",
    "df"
   ]
  },
  {
   "cell_type": "code",
   "execution_count": 150,
   "id": "e3fa5bd9",
   "metadata": {},
   "outputs": [
    {
     "data": {
      "text/html": [
       "<div>\n",
       "<style scoped>\n",
       "    .dataframe tbody tr th:only-of-type {\n",
       "        vertical-align: middle;\n",
       "    }\n",
       "\n",
       "    .dataframe tbody tr th {\n",
       "        vertical-align: top;\n",
       "    }\n",
       "\n",
       "    .dataframe thead th {\n",
       "        text-align: right;\n",
       "    }\n",
       "</style>\n",
       "<table border=\"1\" class=\"dataframe\">\n",
       "  <thead>\n",
       "    <tr style=\"text-align: right;\">\n",
       "      <th></th>\n",
       "      <th>Date</th>\n",
       "      <th>Variable</th>\n",
       "      <th>Value</th>\n",
       "    </tr>\n",
       "  </thead>\n",
       "  <tbody>\n",
       "    <tr>\n",
       "      <th>0</th>\n",
       "      <td>2024-07-01</td>\n",
       "      <td>Temperature</td>\n",
       "      <td>10</td>\n",
       "    </tr>\n",
       "    <tr>\n",
       "      <th>1</th>\n",
       "      <td>2024-07-02</td>\n",
       "      <td>Temperature</td>\n",
       "      <td>20</td>\n",
       "    </tr>\n",
       "    <tr>\n",
       "      <th>2</th>\n",
       "      <td>2024-07-03</td>\n",
       "      <td>Temperature</td>\n",
       "      <td>25</td>\n",
       "    </tr>\n",
       "    <tr>\n",
       "      <th>3</th>\n",
       "      <td>2024-07-03</td>\n",
       "      <td>Temperature</td>\n",
       "      <td>20</td>\n",
       "    </tr>\n",
       "    <tr>\n",
       "      <th>4</th>\n",
       "      <td>2024-07-01</td>\n",
       "      <td>Humidity</td>\n",
       "      <td>60</td>\n",
       "    </tr>\n",
       "    <tr>\n",
       "      <th>5</th>\n",
       "      <td>2024-07-02</td>\n",
       "      <td>Humidity</td>\n",
       "      <td>65</td>\n",
       "    </tr>\n",
       "    <tr>\n",
       "      <th>6</th>\n",
       "      <td>2024-07-03</td>\n",
       "      <td>Humidity</td>\n",
       "      <td>70</td>\n",
       "    </tr>\n",
       "    <tr>\n",
       "      <th>7</th>\n",
       "      <td>2024-07-03</td>\n",
       "      <td>Humidity</td>\n",
       "      <td>21</td>\n",
       "    </tr>\n",
       "  </tbody>\n",
       "</table>\n",
       "</div>"
      ],
      "text/plain": [
       "         Date     Variable  Value\n",
       "0  2024-07-01  Temperature     10\n",
       "1  2024-07-02  Temperature     20\n",
       "2  2024-07-03  Temperature     25\n",
       "3  2024-07-03  Temperature     20\n",
       "4  2024-07-01     Humidity     60\n",
       "5  2024-07-02     Humidity     65\n",
       "6  2024-07-03     Humidity     70\n",
       "7  2024-07-03     Humidity     21"
      ]
     },
     "execution_count": 150,
     "metadata": {},
     "output_type": "execute_result"
    }
   ],
   "source": [
    "df_melted = pd.melt(df,\n",
    "                    id_vars=['Date'],\n",
    "                    value_vars= ['Temperature', 'Humidity'],\n",
    "                    var_name='Variable',\n",
    "                    value_name='Value')\n",
    "df_melted"
   ]
  },
  {
   "cell_type": "markdown",
   "id": "2cf907fe",
   "metadata": {},
   "source": [
    "#### pivot_table\n",
    "- 긴 형식에서 넓은 형식으로\n",
    "- 사람 보기 편함\n",
    "- 열이 많고 행이 적음"
   ]
  },
  {
   "cell_type": "code",
   "execution_count": null,
   "id": "a1842ef6",
   "metadata": {},
   "outputs": [],
   "source": [
    "df_pivot_table = df_melted.pivot_table(index = 'Date',\n",
    "                                       columns = 'Variable',\n",
    "                                       values = 'Value').reset_index()\n",
    "\n",
    "print(df_pivot_table)\n",
    "\n",
    "# pivot()을 사용할 경우 date가 겹쳐서 오류가 발생하였지만 pivot_table같은 경우 두 값의 집계함수를 이용해서 계산"
   ]
  },
  {
   "cell_type": "code",
   "execution_count": null,
   "id": "039f26d8",
   "metadata": {},
   "outputs": [],
   "source": []
  },
  {
   "cell_type": "code",
   "execution_count": null,
   "id": "b2408617",
   "metadata": {},
   "outputs": [
    {
     "name": "stdout",
     "output_type": "stream",
     "text": [
      "student_id          1     2     3          4          5          6     7\n",
      "gender                                                                  \n",
      "F           89.333333   NaN   NaN        NaN  77.333333        NaN  88.0\n",
      "M                 NaN  78.0  91.0  87.666667        NaN  96.666667   NaN\n"
     ]
    }
   ],
   "source": [
    "# 10 \n",
    "pivot_table = df_7.pivot_table(values='average', index='gender', columns='student_id')\n",
    "print(pivot_table)"
   ]
  },
  {
   "cell_type": "code",
   "execution_count": 146,
   "id": "2ae939b5",
   "metadata": {},
   "outputs": [
    {
     "data": {
      "text/html": [
       "<div>\n",
       "<style scoped>\n",
       "    .dataframe tbody tr th:only-of-type {\n",
       "        vertical-align: middle;\n",
       "    }\n",
       "\n",
       "    .dataframe tbody tr th {\n",
       "        vertical-align: top;\n",
       "    }\n",
       "\n",
       "    .dataframe thead th {\n",
       "        text-align: right;\n",
       "    }\n",
       "</style>\n",
       "<table border=\"1\" class=\"dataframe\">\n",
       "  <thead>\n",
       "    <tr style=\"text-align: right;\">\n",
       "      <th></th>\n",
       "      <th>student_id</th>\n",
       "      <th>name</th>\n",
       "      <th>gender</th>\n",
       "      <th>midterm</th>\n",
       "      <th>final</th>\n",
       "      <th>assignment</th>\n",
       "    </tr>\n",
       "  </thead>\n",
       "  <tbody>\n",
       "    <tr>\n",
       "      <th>0</th>\n",
       "      <td>1</td>\n",
       "      <td>Alice</td>\n",
       "      <td>F</td>\n",
       "      <td>85.0</td>\n",
       "      <td>88.0</td>\n",
       "      <td>95.0</td>\n",
       "    </tr>\n",
       "    <tr>\n",
       "      <th>1</th>\n",
       "      <td>2</td>\n",
       "      <td>Bob</td>\n",
       "      <td>M</td>\n",
       "      <td>78.0</td>\n",
       "      <td>74.0</td>\n",
       "      <td>82.0</td>\n",
       "    </tr>\n",
       "    <tr>\n",
       "      <th>2</th>\n",
       "      <td>3</td>\n",
       "      <td>Charlie</td>\n",
       "      <td>M</td>\n",
       "      <td>92.0</td>\n",
       "      <td>94.0</td>\n",
       "      <td>87.0</td>\n",
       "    </tr>\n",
       "    <tr>\n",
       "      <th>3</th>\n",
       "      <td>4</td>\n",
       "      <td>David</td>\n",
       "      <td>M</td>\n",
       "      <td>88.0</td>\n",
       "      <td>90.0</td>\n",
       "      <td>85.0</td>\n",
       "    </tr>\n",
       "    <tr>\n",
       "      <th>4</th>\n",
       "      <td>5</td>\n",
       "      <td>Eve</td>\n",
       "      <td>F</td>\n",
       "      <td>76.0</td>\n",
       "      <td>79.0</td>\n",
       "      <td>77.0</td>\n",
       "    </tr>\n",
       "  </tbody>\n",
       "</table>\n",
       "</div>"
      ],
      "text/plain": [
       "   student_id     name gender  midterm  final  assignment\n",
       "0           1    Alice      F     85.0   88.0        95.0\n",
       "1           2      Bob      M     78.0   74.0        82.0\n",
       "2           3  Charlie      M     92.0   94.0        87.0\n",
       "3           4    David      M     88.0   90.0        85.0\n",
       "4           5      Eve      F     76.0   79.0        77.0"
      ]
     },
     "execution_count": 146,
     "metadata": {},
     "output_type": "execute_result"
    }
   ],
   "source": [
    "df.head()"
   ]
  },
  {
   "cell_type": "code",
   "execution_count": null,
   "id": "ab9b77d4",
   "metadata": {},
   "outputs": [],
   "source": [
    "# 11\n",
    "df['average'] = df[['midterm', 'final', 'assignment']].mean(axis =1)\n",
    "\n",
    "melted_df = pd.melt(df, id_vars= ['student_id,', 'name', 'gender'], value_vars)"
   ]
  }
 ],
 "metadata": {
  "kernelspec": {
   "display_name": "tf",
   "language": "python",
   "name": "python3"
  },
  "language_info": {
   "codemirror_mode": {
    "name": "ipython",
    "version": 3
   },
   "file_extension": ".py",
   "mimetype": "text/x-python",
   "name": "python",
   "nbconvert_exporter": "python",
   "pygments_lexer": "ipython3",
   "version": "3.8.13"
  }
 },
 "nbformat": 4,
 "nbformat_minor": 5
}
