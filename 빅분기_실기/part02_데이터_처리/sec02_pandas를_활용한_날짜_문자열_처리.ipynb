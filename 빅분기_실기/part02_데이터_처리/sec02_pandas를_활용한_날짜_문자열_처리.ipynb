{
 "cells": [
  {
   "cell_type": "markdown",
   "id": "b5937bf3",
   "metadata": {},
   "source": [
    "### 날짜와 시간\n"
   ]
  },
  {
   "cell_type": "code",
   "execution_count": null,
   "id": "cf816eb7",
   "metadata": {},
   "outputs": [
    {
     "name": "stdout",
     "output_type": "stream",
     "text": [
      "<class 'pandas.core.frame.DataFrame'>\n",
      "RangeIndex: 4 entries, 0 to 3\n",
      "Data columns (total 2 columns):\n",
      " #   Column  Non-Null Count  Dtype \n",
      "---  ------  --------------  ----- \n",
      " 0   date    4 non-null      object\n",
      " 1   value   4 non-null      int64 \n",
      "dtypes: int64(1), object(1)\n",
      "memory usage: 192.0+ bytes\n",
      "None\n"
     ]
    }
   ],
   "source": [
    "import pandas as pd\n",
    "\n",
    "data = {\n",
    "    'date': ['2024-01-01 12:34:56', '2024-02-01 23:45:01', '2024-03-01 06:07:08', '2021-04-01 14:15:16'],\n",
    "    'value': [100, 201, 302, 404]\n",
    "}\n",
    "\n",
    "df = pd.DataFrame(data)\n",
    "\n",
    "print(df.info())\n",
    "\n",
    "# date컬럼 odject확인"
   ]
  },
  {
   "cell_type": "code",
   "execution_count": 3,
   "id": "873582c8",
   "metadata": {},
   "outputs": [
    {
     "name": "stdout",
     "output_type": "stream",
     "text": [
      "                 date  value\n",
      "0 2024-01-01 12:34:56    100\n",
      "1 2024-02-01 23:45:01    201\n",
      "date     datetime64[ns]\n",
      "value             int64\n",
      "dtype: object\n"
     ]
    }
   ],
   "source": [
    "# 문자열을 날짜 형식으로 변환\n",
    "\n",
    "df['date'] = pd.to_datetime(df['date'])\n",
    "\n",
    "print(df.head(2))\n",
    "print(df.dtypes)"
   ]
  },
  {
   "cell_type": "code",
   "execution_count": 4,
   "id": "dc2a0ca5",
   "metadata": {},
   "outputs": [
    {
     "ename": "DateParseError",
     "evalue": "day is out of range for month: 02-2024-01, at position 0",
     "output_type": "error",
     "traceback": [
      "\u001b[0;31m---------------------------------------------------------------------------\u001b[0m",
      "\u001b[0;31mValueError\u001b[0m                                Traceback (most recent call last)",
      "\u001b[0;32m/opt/homebrew/Caskroom/miniforge/base/envs/tf/lib/python3.8/site-packages/pandas/_libs/tslibs/parsing.pyx\u001b[0m in \u001b[0;36mpandas._libs.tslibs.parsing.dateutil_parse\u001b[0;34m()\u001b[0m\n",
      "\u001b[0;31mValueError\u001b[0m: day is out of range for month",
      "\nThe above exception was the direct cause of the following exception:\n",
      "\u001b[0;31mDateParseError\u001b[0m                            Traceback (most recent call last)",
      "\u001b[0;32m/var/folders/_k/k4vg8yqs5bd1kvyznqhzdt3r0000gn/T/ipykernel_11079/3123212418.py\u001b[0m in \u001b[0;36m<cell line: 3>\u001b[0;34m()\u001b[0m\n\u001b[1;32m      1\u001b[0m \u001b[0;31m# to_datetime()은 비표준화 형식 날짜 문자열 경우 날짜 형식 자동 변환 x\u001b[0m\u001b[0;34m\u001b[0m\u001b[0;34m\u001b[0m\u001b[0;34m\u001b[0m\u001b[0m\n\u001b[1;32m      2\u001b[0m \u001b[0;34m\u001b[0m\u001b[0m\n\u001b[0;32m----> 3\u001b[0;31m \u001b[0mpd\u001b[0m\u001b[0;34m.\u001b[0m\u001b[0mto_datetime\u001b[0m\u001b[0;34m(\u001b[0m\u001b[0;34m'02-2024-01'\u001b[0m\u001b[0;34m)\u001b[0m\u001b[0;34m\u001b[0m\u001b[0;34m\u001b[0m\u001b[0m\n\u001b[0m",
      "\u001b[0;32m/opt/homebrew/Caskroom/miniforge/base/envs/tf/lib/python3.8/site-packages/pandas/core/tools/datetimes.py\u001b[0m in \u001b[0;36mto_datetime\u001b[0;34m(arg, errors, dayfirst, yearfirst, utc, format, exact, unit, infer_datetime_format, origin, cache)\u001b[0m\n\u001b[1;32m   1082\u001b[0m             \u001b[0mresult\u001b[0m \u001b[0;34m=\u001b[0m \u001b[0mconvert_listlike\u001b[0m\u001b[0;34m(\u001b[0m\u001b[0margc\u001b[0m\u001b[0;34m,\u001b[0m \u001b[0mformat\u001b[0m\u001b[0;34m)\u001b[0m\u001b[0;34m\u001b[0m\u001b[0;34m\u001b[0m\u001b[0m\n\u001b[1;32m   1083\u001b[0m     \u001b[0;32melse\u001b[0m\u001b[0;34m:\u001b[0m\u001b[0;34m\u001b[0m\u001b[0;34m\u001b[0m\u001b[0m\n\u001b[0;32m-> 1084\u001b[0;31m         \u001b[0mresult\u001b[0m \u001b[0;34m=\u001b[0m \u001b[0mconvert_listlike\u001b[0m\u001b[0;34m(\u001b[0m\u001b[0mnp\u001b[0m\u001b[0;34m.\u001b[0m\u001b[0marray\u001b[0m\u001b[0;34m(\u001b[0m\u001b[0;34m[\u001b[0m\u001b[0marg\u001b[0m\u001b[0;34m]\u001b[0m\u001b[0;34m)\u001b[0m\u001b[0;34m,\u001b[0m \u001b[0mformat\u001b[0m\u001b[0;34m)\u001b[0m\u001b[0;34m[\u001b[0m\u001b[0;36m0\u001b[0m\u001b[0;34m]\u001b[0m\u001b[0;34m\u001b[0m\u001b[0;34m\u001b[0m\u001b[0m\n\u001b[0m\u001b[1;32m   1085\u001b[0m         \u001b[0;32mif\u001b[0m \u001b[0misinstance\u001b[0m\u001b[0;34m(\u001b[0m\u001b[0marg\u001b[0m\u001b[0;34m,\u001b[0m \u001b[0mbool\u001b[0m\u001b[0;34m)\u001b[0m \u001b[0;32mand\u001b[0m \u001b[0misinstance\u001b[0m\u001b[0;34m(\u001b[0m\u001b[0mresult\u001b[0m\u001b[0;34m,\u001b[0m \u001b[0mnp\u001b[0m\u001b[0;34m.\u001b[0m\u001b[0mbool_\u001b[0m\u001b[0;34m)\u001b[0m\u001b[0;34m:\u001b[0m\u001b[0;34m\u001b[0m\u001b[0;34m\u001b[0m\u001b[0m\n\u001b[1;32m   1086\u001b[0m             \u001b[0mresult\u001b[0m \u001b[0;34m=\u001b[0m \u001b[0mbool\u001b[0m\u001b[0;34m(\u001b[0m\u001b[0mresult\u001b[0m\u001b[0;34m)\u001b[0m  \u001b[0;31m# TODO: avoid this kludge.\u001b[0m\u001b[0;34m\u001b[0m\u001b[0;34m\u001b[0m\u001b[0m\n",
      "\u001b[0;32m/opt/homebrew/Caskroom/miniforge/base/envs/tf/lib/python3.8/site-packages/pandas/core/tools/datetimes.py\u001b[0m in \u001b[0;36m_convert_listlike_datetimes\u001b[0;34m(arg, format, name, utc, unit, errors, dayfirst, yearfirst, exact)\u001b[0m\n\u001b[1;32m    453\u001b[0m         \u001b[0;32mreturn\u001b[0m \u001b[0m_array_strptime_with_fallback\u001b[0m\u001b[0;34m(\u001b[0m\u001b[0marg\u001b[0m\u001b[0;34m,\u001b[0m \u001b[0mname\u001b[0m\u001b[0;34m,\u001b[0m \u001b[0mutc\u001b[0m\u001b[0;34m,\u001b[0m \u001b[0mformat\u001b[0m\u001b[0;34m,\u001b[0m \u001b[0mexact\u001b[0m\u001b[0;34m,\u001b[0m \u001b[0merrors\u001b[0m\u001b[0;34m)\u001b[0m\u001b[0;34m\u001b[0m\u001b[0;34m\u001b[0m\u001b[0m\n\u001b[1;32m    454\u001b[0m \u001b[0;34m\u001b[0m\u001b[0m\n\u001b[0;32m--> 455\u001b[0;31m     result, tz_parsed = objects_to_datetime64ns(\n\u001b[0m\u001b[1;32m    456\u001b[0m         \u001b[0marg\u001b[0m\u001b[0;34m,\u001b[0m\u001b[0;34m\u001b[0m\u001b[0;34m\u001b[0m\u001b[0m\n\u001b[1;32m    457\u001b[0m         \u001b[0mdayfirst\u001b[0m\u001b[0;34m=\u001b[0m\u001b[0mdayfirst\u001b[0m\u001b[0;34m,\u001b[0m\u001b[0;34m\u001b[0m\u001b[0;34m\u001b[0m\u001b[0m\n",
      "\u001b[0;32m/opt/homebrew/Caskroom/miniforge/base/envs/tf/lib/python3.8/site-packages/pandas/core/arrays/datetimes.py\u001b[0m in \u001b[0;36mobjects_to_datetime64ns\u001b[0;34m(data, dayfirst, yearfirst, utc, errors, allow_object)\u001b[0m\n\u001b[1;32m   2175\u001b[0m     \u001b[0mdata\u001b[0m \u001b[0;34m=\u001b[0m \u001b[0mnp\u001b[0m\u001b[0;34m.\u001b[0m\u001b[0marray\u001b[0m\u001b[0;34m(\u001b[0m\u001b[0mdata\u001b[0m\u001b[0;34m,\u001b[0m \u001b[0mcopy\u001b[0m\u001b[0;34m=\u001b[0m\u001b[0;32mFalse\u001b[0m\u001b[0;34m,\u001b[0m \u001b[0mdtype\u001b[0m\u001b[0;34m=\u001b[0m\u001b[0mnp\u001b[0m\u001b[0;34m.\u001b[0m\u001b[0mobject_\u001b[0m\u001b[0;34m)\u001b[0m\u001b[0;34m\u001b[0m\u001b[0;34m\u001b[0m\u001b[0m\n\u001b[1;32m   2176\u001b[0m \u001b[0;34m\u001b[0m\u001b[0m\n\u001b[0;32m-> 2177\u001b[0;31m     result, tz_parsed = tslib.array_to_datetime(\n\u001b[0m\u001b[1;32m   2178\u001b[0m         \u001b[0mdata\u001b[0m\u001b[0;34m,\u001b[0m\u001b[0;34m\u001b[0m\u001b[0;34m\u001b[0m\u001b[0m\n\u001b[1;32m   2179\u001b[0m         \u001b[0merrors\u001b[0m\u001b[0;34m=\u001b[0m\u001b[0merrors\u001b[0m\u001b[0;34m,\u001b[0m\u001b[0;34m\u001b[0m\u001b[0;34m\u001b[0m\u001b[0m\n",
      "\u001b[0;32m/opt/homebrew/Caskroom/miniforge/base/envs/tf/lib/python3.8/site-packages/pandas/_libs/tslib.pyx\u001b[0m in \u001b[0;36mpandas._libs.tslib.array_to_datetime\u001b[0;34m()\u001b[0m\n",
      "\u001b[0;32m/opt/homebrew/Caskroom/miniforge/base/envs/tf/lib/python3.8/site-packages/pandas/_libs/tslib.pyx\u001b[0m in \u001b[0;36mpandas._libs.tslib.array_to_datetime\u001b[0;34m()\u001b[0m\n",
      "\u001b[0;32m/opt/homebrew/Caskroom/miniforge/base/envs/tf/lib/python3.8/site-packages/pandas/_libs/tslib.pyx\u001b[0m in \u001b[0;36mpandas._libs.tslib.array_to_datetime\u001b[0;34m()\u001b[0m\n",
      "\u001b[0;32m/opt/homebrew/Caskroom/miniforge/base/envs/tf/lib/python3.8/site-packages/pandas/_libs/tslibs/conversion.pyx\u001b[0m in \u001b[0;36mpandas._libs.tslibs.conversion.convert_str_to_tsobject\u001b[0;34m()\u001b[0m\n",
      "\u001b[0;32m/opt/homebrew/Caskroom/miniforge/base/envs/tf/lib/python3.8/site-packages/pandas/_libs/tslibs/parsing.pyx\u001b[0m in \u001b[0;36mpandas._libs.tslibs.parsing.parse_datetime_string\u001b[0;34m()\u001b[0m\n",
      "\u001b[0;32m/opt/homebrew/Caskroom/miniforge/base/envs/tf/lib/python3.8/site-packages/pandas/_libs/tslibs/parsing.pyx\u001b[0m in \u001b[0;36mpandas._libs.tslibs.parsing.dateutil_parse\u001b[0;34m()\u001b[0m\n",
      "\u001b[0;31mDateParseError\u001b[0m: day is out of range for month: 02-2024-01, at position 0"
     ]
    }
   ],
   "source": [
    "# to_datetime()은 비표준화 형식 날짜 문자열 경우 날짜 형식 자동 변환 x\n",
    "\n",
    "pd.to_datetime('02-2024-01')"
   ]
  },
  {
   "cell_type": "code",
   "execution_count": 5,
   "id": "5e3c1966",
   "metadata": {},
   "outputs": [
    {
     "data": {
      "text/plain": [
       "Timestamp('2024-02-01 00:00:00')"
      ]
     },
     "execution_count": 5,
     "metadata": {},
     "output_type": "execute_result"
    }
   ],
   "source": [
    "# (format = '%m-%y-%d')로 형식 지정하여 해결 가능\n",
    "\n",
    "pd.to_datetime('02-2024-01', format='%m-%Y-%d')"
   ]
  },
  {
   "cell_type": "code",
   "execution_count": 8,
   "id": "28ea514c",
   "metadata": {},
   "outputs": [
    {
     "data": {
      "text/plain": [
       "Timestamp('2024-01-01 00:00:00')"
      ]
     },
     "execution_count": 8,
     "metadata": {},
     "output_type": "execute_result"
    }
   ],
   "source": [
    "# 날짜에 한글을 포함하는 경우\n",
    "pd.to_datetime('2024년 01월 01일', format='%Y년 %m월 %d일')"
   ]
  },
  {
   "cell_type": "markdown",
   "id": "96965e21",
   "metadata": {},
   "source": [
    "#### 날짜 정보 추출"
   ]
  },
  {
   "cell_type": "code",
   "execution_count": 14,
   "id": "69e41f4b",
   "metadata": {},
   "outputs": [],
   "source": [
    "# 연도 추출\n",
    "df['year'] = df['date'].dt.year\n",
    "\n",
    "# 월 추출\n",
    "df['month'] = df['date'].dt.month\n",
    "\n",
    "# 일 추출 \n",
    "df['day'] = df['date'].dt.day\n",
    "# 요일 추출 dt.day_name(), dt.weekday\n",
    "# 시간 dt.hour\n",
    "# 초 dt.second\n",
    "# 년-월-일 dt.date"
   ]
  },
  {
   "cell_type": "markdown",
   "id": "4cacb7b6",
   "metadata": {},
   "source": [
    "#### 날짜 연산"
   ]
  },
  {
   "cell_type": "code",
   "execution_count": 10,
   "id": "9ead3f1d",
   "metadata": {},
   "outputs": [
    {
     "name": "stdout",
     "output_type": "stream",
     "text": [
      "                 date  value  year  month  days_diff\n",
      "0 2024-01-01 12:34:56    100  2024      1        120\n",
      "1 2024-02-01 23:45:01    201  2024      2         89\n"
     ]
    }
   ],
   "source": [
    "# 현재 날짜 생성\n",
    "current_date = pd.to_datetime('2024-05-01')\n",
    "\n",
    "# 날짜 차이 계산\n",
    "df['days_diff'] = (current_date - df['date']).dt.days\n",
    "\n",
    "print(df.head(2))"
   ]
  },
  {
   "cell_type": "markdown",
   "id": "141b861a",
   "metadata": {},
   "source": [
    "#### 날짜 범위 생성"
   ]
  },
  {
   "cell_type": "code",
   "execution_count": 11,
   "id": "82418490",
   "metadata": {},
   "outputs": [
    {
     "name": "stdout",
     "output_type": "stream",
     "text": [
      "DatetimeIndex(['2021-01-01', '2021-01-02', '2021-01-03', '2021-01-04',\n",
      "               '2021-01-05', '2021-01-06', '2021-01-07', '2021-01-08',\n",
      "               '2021-01-09', '2021-01-10'],\n",
      "              dtype='datetime64[ns]', freq='D')\n"
     ]
    }
   ],
   "source": [
    "date_range = pd.date_range(start = '2021-01-01', end = '2021-01-10', freq = 'D')\n",
    "\n",
    "print(date_range)"
   ]
  },
  {
   "cell_type": "markdown",
   "id": "f46261b0",
   "metadata": {},
   "source": [
    "#### 날짜 합치기"
   ]
  },
  {
   "cell_type": "code",
   "execution_count": 15,
   "id": "5d983aab",
   "metadata": {},
   "outputs": [
    {
     "name": "stdout",
     "output_type": "stream",
     "text": [
      "                 date      date2\n",
      "0 2024-01-01 12:34:56 2024-01-01\n",
      "1 2024-02-01 23:45:01 2024-02-01\n",
      "2 2024-03-01 06:07:08 2024-03-01\n",
      "3 2021-04-01 14:15:16 2021-04-01\n"
     ]
    }
   ],
   "source": [
    "df['date2'] = pd.to_datetime(dict(year = df.year, month = df.month, day = df.day))\n",
    "\n",
    "print(df[['date','date2']])"
   ]
  },
  {
   "cell_type": "markdown",
   "id": "189b46f5",
   "metadata": {},
   "source": [
    "#### 문자열 처리"
   ]
  },
  {
   "cell_type": "code",
   "execution_count": null,
   "id": "89e6abd7",
   "metadata": {},
   "outputs": [],
   "source": [
    "# 예제 데이터 생성\n",
    "\n",
    "import pandas as pd\n",
    "\n",
    "data = {\n",
    "    '가전제품': ['냉장고', '세탁기', '전자레인지', '에어컨', '청소기'],\n",
    "    '브랜드': ['LG', 'Samsung', 'Panasonic', 'Daikin', 'Dyson']\n",
    "}\n",
    "\n",
    "df = pd.DataFrame(data)"
   ]
  },
  {
   "cell_type": "code",
   "execution_count": null,
   "id": "22c17e5e",
   "metadata": {},
   "outputs": [
    {
     "name": "stdout",
     "output_type": "stream",
     "text": [
      "  가전제품      브랜드  제품명_길이  브랜드_길이\n",
      "0  냉장고       LG       3       2\n",
      "1  세탁기  Samsung       3       7\n"
     ]
    }
   ],
   "source": [
    "# 문자열 길이 확인 # str.len()\n",
    "df['제품명_길이'] = df['가전제품'].str.len()\n",
    "df['브랜드_길이'] = df['브랜드'].str.len()\n",
    "\n",
    "print(df.head(2))"
   ]
  },
  {
   "cell_type": "code",
   "execution_count": 21,
   "id": "35c37437",
   "metadata": {},
   "outputs": [
    {
     "name": "stdout",
     "output_type": "stream",
     "text": [
      "         브랜드    브랜드_소문자    브랜드_대문자\n",
      "0         LG         lg         LG\n",
      "1    Samsung    samsung    SAMSUNG\n",
      "2  Panasonic  panasonic  PANASONIC\n",
      "3     Daikin     daikin     DAIKIN\n",
      "4      Dyson      dyson      DYSON\n"
     ]
    }
   ],
   "source": [
    "# 문자열 대소문자 변환\n",
    "\n",
    "df['브랜드_소문자'] = df['브랜드'].str.lower()\n",
    "df['브랜드_대문자'] = df['브랜드'].str.upper()\n",
    "\n",
    "print(df[['브랜드', '브랜드_소문자', '브랜드_대문자']])"
   ]
  },
  {
   "cell_type": "code",
   "execution_count": 22,
   "id": "7441f35a",
   "metadata": {},
   "outputs": [
    {
     "name": "stdout",
     "output_type": "stream",
     "text": [
      "         브랜드  브랜드에_a포함\n",
      "0         LG     False\n",
      "1    Samsung      True\n",
      "2  Panasonic      True\n",
      "3     Daikin      True\n",
      "4      Dyson     False\n"
     ]
    }
   ],
   "source": [
    "# 특정 문자 포함 여부 확인\n",
    "df['브랜드에_a포함'] = df['브랜드'].str.contains('a')\n",
    "\n",
    "print(df[['브랜드', '브랜드에_a포함']])"
   ]
  },
  {
   "cell_type": "code",
   "execution_count": 23,
   "id": "cb1dc454",
   "metadata": {},
   "outputs": [
    {
     "name": "stdout",
     "output_type": "stream",
     "text": [
      "         브랜드  브랜드_언더스코어\n",
      "0         LG     HHHHGG\n",
      "1    Samsung    Samsung\n",
      "2  Panasonic  Panasonic\n",
      "3     Daikin     Daikin\n",
      "4      Dyson      Dyson\n"
     ]
    }
   ],
   "source": [
    "# 특정 문자열 교체\n",
    "df['브랜드_언더스코어'] = df['브랜드'].str.replace('L', 'HHHHG')\n",
    "\n",
    "print(df[['브랜드', '브랜드_언더스코어']])"
   ]
  },
  {
   "cell_type": "code",
   "execution_count": 25,
   "id": "5b742a42",
   "metadata": {},
   "outputs": [
    {
     "name": "stdout",
     "output_type": "stream",
     "text": [
      "         브랜드 브랜드_첫부분 브랜드_두번째 브랜드_세번째\n",
      "0         LG      LG    None    None\n",
      "1    Samsung       S   msung    None\n",
      "2  Panasonic       P       n   sonic\n",
      "3     Daikin       D    ikin    None\n",
      "4      Dyson   Dyson    None    None\n"
     ]
    }
   ],
   "source": [
    "# 문자열 분할\n",
    "df[['브랜드_첫부분', '브랜드_두번째', '브랜드_세번째']] = df['브랜드'].str.split('a', expand=True) #expand=True 분할 결과를 여러 칼럼으로 확장 반대일 경우 리스트 시리즈를 반환\n",
    "\n",
    "print(df[['브랜드', '브랜드_첫부분', '브랜드_두번째', '브랜드_세번째']])"
   ]
  },
  {
   "cell_type": "code",
   "execution_count": 29,
   "id": "7f68342f",
   "metadata": {},
   "outputs": [
    {
     "name": "stdout",
     "output_type": "stream",
     "text": [
      "    가전제품        브랜드           제품_브랜드\n",
      "0    냉장고         LG           냉장고,LG\n",
      "1    세탁기    Samsung      세탁기,Samsung\n",
      "2  전자레인지  Panasonic  전자레인지,Panasonic\n",
      "3    에어컨     Daikin       에어컨,Daikin\n",
      "4    청소기      Dyson        청소기,Dyson\n"
     ]
    }
   ],
   "source": [
    "# 문자열 결합\n",
    "\n",
    "df['제품_브랜드'] = df['가전제품'].str.cat(df['브랜드'], sep=',')\n",
    "print(df[['가전제품', '브랜드', '제품_브랜드']])"
   ]
  },
  {
   "cell_type": "code",
   "execution_count": 30,
   "id": "41e62be0",
   "metadata": {},
   "outputs": [
    {
     "name": "stdout",
     "output_type": "stream",
     "text": [
      "          가전제품 가전제품_공백제거\n",
      "0          냉장고       냉장고\n",
      "1          세탁기       세탁기\n",
      "2    전자레인지         전자레인지\n",
      "3          에어컨       에어컨\n",
      "4          청소기       청소기\n"
     ]
    }
   ],
   "source": [
    "# 문자열 공백 제거\n",
    "\n",
    "df['가전제품'] = df['가전제품'].str.replace('전자레인지', '  전자레인지    ')\n",
    "df['가전제품_공백제거'] = df['가전제품'].str.strip()\n",
    "\n",
    "print(df[['가전제품', '가전제품_공백제거']])"
   ]
  },
  {
   "cell_type": "markdown",
   "id": "2dc32626",
   "metadata": {},
   "source": [
    "#### 정규표현식을 통한 문자열"
   ]
  },
  {
   "cell_type": "code",
   "execution_count": 34,
   "id": "df4f592b",
   "metadata": {},
   "outputs": [],
   "source": [
    "# 예제 데이터 프레임 생성\n",
    "data = {\n",
    "    '주소': ['서울특별시 강남구 테헤란로 123', '부산광역시 해운대구 센텀중앙로 45', '대구광역시 수성구 동대구로 77-9@@##', '인천광역시 남동구 예술로 501&&, 아트센터', '광주광역시 북구 용봉로 123']\n",
    "}\n",
    "\n",
    "df = pd.DataFrame(data)"
   ]
  },
  {
   "cell_type": "code",
   "execution_count": 35,
   "id": "6533d954",
   "metadata": {},
   "outputs": [
    {
     "name": "stdout",
     "output_type": "stream",
     "text": [
      "                          주소     도시\n",
      "0         서울특별시 강남구 테헤란로 123  서울특별시\n",
      "1        부산광역시 해운대구 센텀중앙로 45  부산광역시\n",
      "2    대구광역시 수성구 동대구로 77-9@@##  대구광역시\n",
      "3  인천광역시 남동구 예술로 501&&, 아트센터  인천광역시\n",
      "4           광주광역시 북구 용봉로 123  광주광역시\n"
     ]
    }
   ],
   "source": [
    "# 특정 문자열 추출\n",
    "# str.extract(): 정규표현식으로 매칭되는 패턴 충 첫 번째 값을 추출\n",
    "\n",
    "df['도시'] = df['주소'].str.extract(r'([가-힣]+광역시|[가-힣]+특별시)', expand=False)\n",
    "print(df)"
   ]
  },
  {
   "cell_type": "code",
   "execution_count": 36,
   "id": "7e43ceab",
   "metadata": {},
   "outputs": [
    {
     "name": "stdout",
     "output_type": "stream",
     "text": [
      "         0\n",
      "  match   \n",
      "2 0      -\n",
      "  1      @\n",
      "  2      @\n",
      "  3      #\n",
      "  4      #\n",
      "3 0      &\n",
      "  1      &\n",
      "  2      ,\n"
     ]
    }
   ],
   "source": [
    "# str.extractall(): 정규표현식으로 매칭되는 패턴 중 모든 값을 추출\n",
    "\n",
    "special_chars = df['주소'].str.extractall(r'([^a-zA-Z0-9가-힣\\s])')\n",
    "print(special_chars)"
   ]
  },
  {
   "cell_type": "code",
   "execution_count": 37,
   "id": "8ec5bf97",
   "metadata": {},
   "outputs": [
    {
     "name": "stdout",
     "output_type": "stream",
     "text": [
      "0        서울특별시 강남구 테헤란로 123\n",
      "1       부산광역시 해운대구 센텀중앙로 45\n",
      "2        대구광역시 수성구 동대구로 779\n",
      "3    인천광역시 남동구 예술로 501 아트센터\n",
      "4          광주광역시 북구 용봉로 123\n",
      "Name: 주소_특수문자제거, dtype: object\n"
     ]
    }
   ],
   "source": [
    "# 특수 문자 제거\n",
    "\n",
    "df['주소_특수문자제거']= df['주소'].str.replace(r'[^a-zA-Z0-9가-힣\\s]', '', regex=True) # regex=True 옵션을 활용하면 정규표현식을 적용할 수 있음\n",
    "print(df['주소_특수문자제거'])"
   ]
  },
  {
   "cell_type": "code",
   "execution_count": 66,
   "id": "7edf80ec",
   "metadata": {},
   "outputs": [],
   "source": [
    "# 사전 데이터 불러오기\n",
    "\n",
    "import pandas as pd\n",
    "\n",
    "df = pd.read_csv('https://raw.githubusercontent.com/YoungjinBD/data/main/bike_data.csv')"
   ]
  },
  {
   "cell_type": "code",
   "execution_count": 67,
   "id": "959b13d9",
   "metadata": {},
   "outputs": [
    {
     "data": {
      "text/html": [
       "<div>\n",
       "<style scoped>\n",
       "    .dataframe tbody tr th:only-of-type {\n",
       "        vertical-align: middle;\n",
       "    }\n",
       "\n",
       "    .dataframe tbody tr th {\n",
       "        vertical-align: top;\n",
       "    }\n",
       "\n",
       "    .dataframe thead th {\n",
       "        text-align: right;\n",
       "    }\n",
       "</style>\n",
       "<table border=\"1\" class=\"dataframe\">\n",
       "  <thead>\n",
       "    <tr style=\"text-align: right;\">\n",
       "      <th></th>\n",
       "      <th>datetime</th>\n",
       "      <th>season</th>\n",
       "      <th>holiday</th>\n",
       "      <th>workingday</th>\n",
       "      <th>weather</th>\n",
       "      <th>temp</th>\n",
       "      <th>atemp</th>\n",
       "      <th>humidity</th>\n",
       "      <th>windspeed</th>\n",
       "      <th>casual</th>\n",
       "      <th>registered</th>\n",
       "      <th>count</th>\n",
       "    </tr>\n",
       "  </thead>\n",
       "  <tbody>\n",
       "    <tr>\n",
       "      <th>0</th>\n",
       "      <td>2011-09-05 17:00:00</td>\n",
       "      <td>3</td>\n",
       "      <td>1</td>\n",
       "      <td>0</td>\n",
       "      <td>2</td>\n",
       "      <td>27.06</td>\n",
       "      <td>29.545</td>\n",
       "      <td>89</td>\n",
       "      <td>7.0015</td>\n",
       "      <td>37</td>\n",
       "      <td>77</td>\n",
       "      <td>114</td>\n",
       "    </tr>\n",
       "    <tr>\n",
       "      <th>1</th>\n",
       "      <td>2011-05-17 11:00:00</td>\n",
       "      <td>2</td>\n",
       "      <td>0</td>\n",
       "      <td>1</td>\n",
       "      <td>2</td>\n",
       "      <td>22.96</td>\n",
       "      <td>26.515</td>\n",
       "      <td>83</td>\n",
       "      <td>27.9993</td>\n",
       "      <td>26</td>\n",
       "      <td>104</td>\n",
       "      <td>130</td>\n",
       "    </tr>\n",
       "    <tr>\n",
       "      <th>2</th>\n",
       "      <td>2011-11-10 09:00:00</td>\n",
       "      <td>4</td>\n",
       "      <td>0</td>\n",
       "      <td>1</td>\n",
       "      <td>2</td>\n",
       "      <td>17.22</td>\n",
       "      <td>21.210</td>\n",
       "      <td>94</td>\n",
       "      <td>7.0015</td>\n",
       "      <td>23</td>\n",
       "      <td>188</td>\n",
       "      <td>211</td>\n",
       "    </tr>\n",
       "    <tr>\n",
       "      <th>3</th>\n",
       "      <td>2011-10-13 07:00:00</td>\n",
       "      <td>4</td>\n",
       "      <td>0</td>\n",
       "      <td>1</td>\n",
       "      <td>3</td>\n",
       "      <td>22.14</td>\n",
       "      <td>25.760</td>\n",
       "      <td>100</td>\n",
       "      <td>8.9981</td>\n",
       "      <td>5</td>\n",
       "      <td>76</td>\n",
       "      <td>81</td>\n",
       "    </tr>\n",
       "    <tr>\n",
       "      <th>4</th>\n",
       "      <td>2011-10-15 14:00:00</td>\n",
       "      <td>4</td>\n",
       "      <td>0</td>\n",
       "      <td>0</td>\n",
       "      <td>1</td>\n",
       "      <td>24.60</td>\n",
       "      <td>31.060</td>\n",
       "      <td>33</td>\n",
       "      <td>31.0009</td>\n",
       "      <td>242</td>\n",
       "      <td>230</td>\n",
       "      <td>472</td>\n",
       "    </tr>\n",
       "  </tbody>\n",
       "</table>\n",
       "</div>"
      ],
      "text/plain": [
       "              datetime  season  holiday  workingday  weather   temp   atemp  \\\n",
       "0  2011-09-05 17:00:00       3        1           0        2  27.06  29.545   \n",
       "1  2011-05-17 11:00:00       2        0           1        2  22.96  26.515   \n",
       "2  2011-11-10 09:00:00       4        0           1        2  17.22  21.210   \n",
       "3  2011-10-13 07:00:00       4        0           1        3  22.14  25.760   \n",
       "4  2011-10-15 14:00:00       4        0           0        1  24.60  31.060   \n",
       "\n",
       "   humidity  windspeed  casual  registered  count  \n",
       "0        89     7.0015      37          77    114  \n",
       "1        83    27.9993      26         104    130  \n",
       "2        94     7.0015      23         188    211  \n",
       "3       100     8.9981       5          76     81  \n",
       "4        33    31.0009     242         230    472  "
      ]
     },
     "execution_count": 67,
     "metadata": {},
     "output_type": "execute_result"
    }
   ],
   "source": [
    "df.head()"
   ]
  },
  {
   "cell_type": "code",
   "execution_count": 68,
   "id": "5f2a1c19",
   "metadata": {},
   "outputs": [
    {
     "name": "stdout",
     "output_type": "stream",
     "text": [
      "<class 'pandas.core.frame.DataFrame'>\n",
      "RangeIndex: 435 entries, 0 to 434\n",
      "Data columns (total 12 columns):\n",
      " #   Column      Non-Null Count  Dtype  \n",
      "---  ------      --------------  -----  \n",
      " 0   datetime    435 non-null    object \n",
      " 1   season      435 non-null    int64  \n",
      " 2   holiday     435 non-null    int64  \n",
      " 3   workingday  435 non-null    int64  \n",
      " 4   weather     435 non-null    int64  \n",
      " 5   temp        435 non-null    float64\n",
      " 6   atemp       435 non-null    float64\n",
      " 7   humidity    435 non-null    int64  \n",
      " 8   windspeed   435 non-null    float64\n",
      " 9   casual      435 non-null    int64  \n",
      " 10  registered  435 non-null    int64  \n",
      " 11  count       435 non-null    int64  \n",
      "dtypes: float64(3), int64(8), object(1)\n",
      "memory usage: 40.9+ KB\n"
     ]
    }
   ],
   "source": [
    "df.info()"
   ]
  },
  {
   "cell_type": "code",
   "execution_count": 84,
   "id": "fbd6a12b",
   "metadata": {},
   "outputs": [
    {
     "name": "stdout",
     "output_type": "stream",
     "text": [
      "{17} {970}\n"
     ]
    }
   ],
   "source": [
    "# 1\n",
    "\n",
    "# 데이터 형식 변경\n",
    "df = df.astype({'datetime': 'datetime64[ns]', 'weather': 'int64', 'season': 'object', 'workingday': 'object', 'holiday': 'object'})\n",
    "df_sub = df.loc[df.season == 1,].copy()\n",
    "\n",
    "# 시간 정보 추출\n",
    "df_sub['hour'] = df_sub['datetime'].dt.hour\n",
    "\n",
    "# 계절별 및 시간대별 대여량 합계 계산\n",
    "summary_data = df_sub.groupby(['season', 'hour']).agg({'count': 'sum'}).reset_index()\n",
    "\n",
    "# count가 가장 큰 hour 찾기\n",
    "max_count_hour = df_sub.loc[df_sub['count'].idxmax(), 'hour']\n",
    "max_count = df['count'].max()\n",
    "\n",
    "print({max_count_hour}, {max_count})"
   ]
  },
  {
   "cell_type": "code",
   "execution_count": 87,
   "id": "396003d4",
   "metadata": {},
   "outputs": [
    {
     "data": {
      "text/html": [
       "<div>\n",
       "<style scoped>\n",
       "    .dataframe tbody tr th:only-of-type {\n",
       "        vertical-align: middle;\n",
       "    }\n",
       "\n",
       "    .dataframe tbody tr th {\n",
       "        vertical-align: top;\n",
       "    }\n",
       "\n",
       "    .dataframe thead th {\n",
       "        text-align: right;\n",
       "    }\n",
       "</style>\n",
       "<table border=\"1\" class=\"dataframe\">\n",
       "  <thead>\n",
       "    <tr style=\"text-align: right;\">\n",
       "      <th></th>\n",
       "      <th>datetime</th>\n",
       "      <th>season</th>\n",
       "      <th>holiday</th>\n",
       "      <th>workingday</th>\n",
       "      <th>weather</th>\n",
       "      <th>temp</th>\n",
       "      <th>atemp</th>\n",
       "      <th>humidity</th>\n",
       "      <th>windspeed</th>\n",
       "      <th>casual</th>\n",
       "      <th>registered</th>\n",
       "      <th>count</th>\n",
       "    </tr>\n",
       "  </thead>\n",
       "  <tbody>\n",
       "    <tr>\n",
       "      <th>192</th>\n",
       "      <td>2012-09-11 17:00:00</td>\n",
       "      <td>3</td>\n",
       "      <td>0</td>\n",
       "      <td>1</td>\n",
       "      <td>1</td>\n",
       "      <td>28.70</td>\n",
       "      <td>31.820</td>\n",
       "      <td>28</td>\n",
       "      <td>0.0000</td>\n",
       "      <td>168</td>\n",
       "      <td>802</td>\n",
       "      <td>970</td>\n",
       "    </tr>\n",
       "    <tr>\n",
       "      <th>382</th>\n",
       "      <td>2012-10-16 17:00:00</td>\n",
       "      <td>4</td>\n",
       "      <td>0</td>\n",
       "      <td>1</td>\n",
       "      <td>1</td>\n",
       "      <td>21.32</td>\n",
       "      <td>25.000</td>\n",
       "      <td>39</td>\n",
       "      <td>12.9980</td>\n",
       "      <td>104</td>\n",
       "      <td>839</td>\n",
       "      <td>943</td>\n",
       "    </tr>\n",
       "    <tr>\n",
       "      <th>394</th>\n",
       "      <td>2012-10-03 17:00:00</td>\n",
       "      <td>4</td>\n",
       "      <td>0</td>\n",
       "      <td>1</td>\n",
       "      <td>1</td>\n",
       "      <td>28.70</td>\n",
       "      <td>32.575</td>\n",
       "      <td>65</td>\n",
       "      <td>0.0000</td>\n",
       "      <td>84</td>\n",
       "      <td>833</td>\n",
       "      <td>917</td>\n",
       "    </tr>\n",
       "    <tr>\n",
       "      <th>132</th>\n",
       "      <td>2012-08-01 17:00:00</td>\n",
       "      <td>3</td>\n",
       "      <td>0</td>\n",
       "      <td>1</td>\n",
       "      <td>1</td>\n",
       "      <td>32.80</td>\n",
       "      <td>37.120</td>\n",
       "      <td>49</td>\n",
       "      <td>11.0014</td>\n",
       "      <td>103</td>\n",
       "      <td>734</td>\n",
       "      <td>837</td>\n",
       "    </tr>\n",
       "    <tr>\n",
       "      <th>209</th>\n",
       "      <td>2012-08-16 18:00:00</td>\n",
       "      <td>3</td>\n",
       "      <td>0</td>\n",
       "      <td>1</td>\n",
       "      <td>1</td>\n",
       "      <td>32.80</td>\n",
       "      <td>35.605</td>\n",
       "      <td>36</td>\n",
       "      <td>0.0000</td>\n",
       "      <td>109</td>\n",
       "      <td>723</td>\n",
       "      <td>832</td>\n",
       "    </tr>\n",
       "    <tr>\n",
       "      <th>...</th>\n",
       "      <td>...</td>\n",
       "      <td>...</td>\n",
       "      <td>...</td>\n",
       "      <td>...</td>\n",
       "      <td>...</td>\n",
       "      <td>...</td>\n",
       "      <td>...</td>\n",
       "      <td>...</td>\n",
       "      <td>...</td>\n",
       "      <td>...</td>\n",
       "      <td>...</td>\n",
       "      <td>...</td>\n",
       "    </tr>\n",
       "    <tr>\n",
       "      <th>346</th>\n",
       "      <td>2011-01-01 05:00:00</td>\n",
       "      <td>1</td>\n",
       "      <td>0</td>\n",
       "      <td>0</td>\n",
       "      <td>2</td>\n",
       "      <td>9.84</td>\n",
       "      <td>12.880</td>\n",
       "      <td>75</td>\n",
       "      <td>6.0032</td>\n",
       "      <td>0</td>\n",
       "      <td>1</td>\n",
       "      <td>1</td>\n",
       "    </tr>\n",
       "    <tr>\n",
       "      <th>329</th>\n",
       "      <td>2011-03-10 02:00:00</td>\n",
       "      <td>1</td>\n",
       "      <td>0</td>\n",
       "      <td>1</td>\n",
       "      <td>3</td>\n",
       "      <td>13.94</td>\n",
       "      <td>15.910</td>\n",
       "      <td>0</td>\n",
       "      <td>16.9979</td>\n",
       "      <td>0</td>\n",
       "      <td>1</td>\n",
       "      <td>1</td>\n",
       "    </tr>\n",
       "    <tr>\n",
       "      <th>315</th>\n",
       "      <td>2011-04-11 04:00:00</td>\n",
       "      <td>2</td>\n",
       "      <td>0</td>\n",
       "      <td>1</td>\n",
       "      <td>1</td>\n",
       "      <td>18.86</td>\n",
       "      <td>22.725</td>\n",
       "      <td>94</td>\n",
       "      <td>12.9980</td>\n",
       "      <td>0</td>\n",
       "      <td>1</td>\n",
       "      <td>1</td>\n",
       "    </tr>\n",
       "    <tr>\n",
       "      <th>97</th>\n",
       "      <td>2011-03-04 03:00:00</td>\n",
       "      <td>1</td>\n",
       "      <td>0</td>\n",
       "      <td>1</td>\n",
       "      <td>2</td>\n",
       "      <td>7.38</td>\n",
       "      <td>8.335</td>\n",
       "      <td>74</td>\n",
       "      <td>16.9979</td>\n",
       "      <td>0</td>\n",
       "      <td>1</td>\n",
       "      <td>1</td>\n",
       "    </tr>\n",
       "    <tr>\n",
       "      <th>411</th>\n",
       "      <td>2011-01-06 04:00:00</td>\n",
       "      <td>1</td>\n",
       "      <td>0</td>\n",
       "      <td>1</td>\n",
       "      <td>2</td>\n",
       "      <td>6.56</td>\n",
       "      <td>9.850</td>\n",
       "      <td>64</td>\n",
       "      <td>6.0032</td>\n",
       "      <td>0</td>\n",
       "      <td>1</td>\n",
       "      <td>1</td>\n",
       "    </tr>\n",
       "  </tbody>\n",
       "</table>\n",
       "<p>435 rows × 12 columns</p>\n",
       "</div>"
      ],
      "text/plain": [
       "               datetime season holiday workingday  weather   temp   atemp  \\\n",
       "192 2012-09-11 17:00:00      3       0          1        1  28.70  31.820   \n",
       "382 2012-10-16 17:00:00      4       0          1        1  21.32  25.000   \n",
       "394 2012-10-03 17:00:00      4       0          1        1  28.70  32.575   \n",
       "132 2012-08-01 17:00:00      3       0          1        1  32.80  37.120   \n",
       "209 2012-08-16 18:00:00      3       0          1        1  32.80  35.605   \n",
       "..                  ...    ...     ...        ...      ...    ...     ...   \n",
       "346 2011-01-01 05:00:00      1       0          0        2   9.84  12.880   \n",
       "329 2011-03-10 02:00:00      1       0          1        3  13.94  15.910   \n",
       "315 2011-04-11 04:00:00      2       0          1        1  18.86  22.725   \n",
       "97  2011-03-04 03:00:00      1       0          1        2   7.38   8.335   \n",
       "411 2011-01-06 04:00:00      1       0          1        2   6.56   9.850   \n",
       "\n",
       "     humidity  windspeed  casual  registered  count  \n",
       "192        28     0.0000     168         802    970  \n",
       "382        39    12.9980     104         839    943  \n",
       "394        65     0.0000      84         833    917  \n",
       "132        49    11.0014     103         734    837  \n",
       "209        36     0.0000     109         723    832  \n",
       "..        ...        ...     ...         ...    ...  \n",
       "346        75     6.0032       0           1      1  \n",
       "329         0    16.9979       0           1      1  \n",
       "315        94    12.9980       0           1      1  \n",
       "97         74    16.9979       0           1      1  \n",
       "411        64     6.0032       0           1      1  \n",
       "\n",
       "[435 rows x 12 columns]"
      ]
     },
     "execution_count": 87,
     "metadata": {},
     "output_type": "execute_result"
    }
   ],
   "source": [
    "df.sort_values('count', ascending=False)"
   ]
  },
  {
   "cell_type": "code",
   "execution_count": 89,
   "id": "71d8581a",
   "metadata": {},
   "outputs": [
    {
     "name": "stdout",
     "output_type": "stream",
     "text": [
      "   season       count\n",
      "0       1  103.169811\n",
      "1       2  218.803922\n",
      "2       3  265.500000\n",
      "3       4  218.581197\n"
     ]
    }
   ],
   "source": [
    "# 2 각 계절별 평균 대여량을 구하시오\n",
    "season_avg = df.groupby('season')['count'].mean().reset_index()\n",
    "print(season_avg)"
   ]
  },
  {
   "cell_type": "code",
   "execution_count": 92,
   "id": "5e82dc60",
   "metadata": {},
   "outputs": [
    {
     "name": "stdout",
     "output_type": "stream",
     "text": [
      "2567\n"
     ]
    }
   ],
   "source": [
    "# 3. 1월 동안의 총 대여량을 구하시오\n",
    "df['month'] = df['datetime'].dt.month\n",
    "\n",
    "january_rentals = df[df['month'] == 1]['count'].sum()\n",
    "print(january_rentals)"
   ]
  },
  {
   "cell_type": "code",
   "execution_count": 93,
   "id": "a3f5c6c3",
   "metadata": {},
   "outputs": [
    {
     "name": "stdout",
     "output_type": "stream",
     "text": [
      "2012-05-11 1398\n"
     ]
    }
   ],
   "source": [
    "# 4. 가장 대여량이 많은 날짜를 구하시오.\n",
    "\n",
    "# 날짜 정보 추출\n",
    "df['date'] = df['datetime'].dt.date\n",
    "\n",
    "# 날짜별로 대여량 합계 계산\n",
    "date_rentals = df.groupby('date')['count'].sum()\n",
    "\n",
    "# 가장 대여량이 많은 날짜 찾기\n",
    "max_rental_date = date_rentals.idxmax()\n",
    "max_rental_count = date_rentals.max()\n",
    "print( max_rental_date, max_rental_count)"
   ]
  },
  {
   "cell_type": "code",
   "execution_count": 95,
   "id": "3d995ed0",
   "metadata": {},
   "outputs": [
    {
     "name": "stdout",
     "output_type": "stream",
     "text": [
      "    hour       count\n",
      "0      0   43.500000\n",
      "1      1   52.714286\n",
      "2      2   32.842105\n",
      "3      3   12.000000\n",
      "4      4    6.687500\n",
      "5      5   17.750000\n",
      "6      6   58.705882\n",
      "7      7  208.937500\n",
      "8      8  483.055556\n",
      "9      9  260.117647\n",
      "10    10  144.130435\n",
      "11    11  182.000000\n",
      "12    12  277.533333\n",
      "13    13  290.600000\n",
      "14    14  266.842105\n",
      "15    15  255.666667\n",
      "16    16  373.052632\n",
      "17    17  519.200000\n",
      "18    18  447.769231\n",
      "19    19  322.103448\n",
      "20    20  210.083333\n",
      "21    21  196.619048\n",
      "22    22  113.560000\n",
      "23    23   77.352941\n"
     ]
    }
   ],
   "source": [
    "# 5. 시간대별 평균 대여량을 구하시오\n",
    "df['hour'] = df['datetime'].dt.hour\n",
    "\n",
    "hour_avg = df.groupby('hour')['count'].mean().reset_index()\n",
    "print(hour_avg)"
   ]
  },
  {
   "cell_type": "code",
   "execution_count": 97,
   "id": "0d9faa4c",
   "metadata": {},
   "outputs": [
    {
     "data": {
      "text/plain": [
       "10191"
      ]
     },
     "execution_count": 97,
     "metadata": {},
     "output_type": "execute_result"
    }
   ],
   "source": [
    "# 6. 월요일(weekday) 동안의 총 대여량(count)을 구하시오.\n",
    "\n",
    "#요일 정보 추출 (0 = Monday, 6=sunday)\n",
    "df['weekday'] = df['datetime'].dt.weekday\n",
    "\n",
    "# 특정 요일 (예ㅣ monday) 필터링\n",
    "monday_rentals = df[df['weekday'] == 0]['count'].sum()\n",
    "monday_rentals"
   ]
  },
  {
   "cell_type": "code",
   "execution_count": null,
   "id": "0ca080d6",
   "metadata": {},
   "outputs": [],
   "source": [
    "# pd.melt() 긴형식으로 변경\n",
    "# pd.pivot_table() 짧은 형식"
   ]
  },
  {
   "cell_type": "code",
   "execution_count": 98,
   "id": "c9392ad9",
   "metadata": {},
   "outputs": [
    {
     "data": {
      "text/html": [
       "<div>\n",
       "<style scoped>\n",
       "    .dataframe tbody tr th:only-of-type {\n",
       "        vertical-align: middle;\n",
       "    }\n",
       "\n",
       "    .dataframe tbody tr th {\n",
       "        vertical-align: top;\n",
       "    }\n",
       "\n",
       "    .dataframe thead th {\n",
       "        text-align: right;\n",
       "    }\n",
       "</style>\n",
       "<table border=\"1\" class=\"dataframe\">\n",
       "  <thead>\n",
       "    <tr style=\"text-align: right;\">\n",
       "      <th></th>\n",
       "      <th>datetime</th>\n",
       "      <th>season</th>\n",
       "      <th>holiday</th>\n",
       "      <th>workingday</th>\n",
       "      <th>weather</th>\n",
       "      <th>temp</th>\n",
       "      <th>atemp</th>\n",
       "      <th>humidity</th>\n",
       "      <th>windspeed</th>\n",
       "      <th>casual</th>\n",
       "      <th>registered</th>\n",
       "      <th>count</th>\n",
       "      <th>month</th>\n",
       "      <th>date</th>\n",
       "      <th>hour</th>\n",
       "      <th>weekday</th>\n",
       "    </tr>\n",
       "  </thead>\n",
       "  <tbody>\n",
       "    <tr>\n",
       "      <th>0</th>\n",
       "      <td>2011-09-05 17:00:00</td>\n",
       "      <td>3</td>\n",
       "      <td>1</td>\n",
       "      <td>0</td>\n",
       "      <td>2</td>\n",
       "      <td>27.06</td>\n",
       "      <td>29.545</td>\n",
       "      <td>89</td>\n",
       "      <td>7.0015</td>\n",
       "      <td>37</td>\n",
       "      <td>77</td>\n",
       "      <td>114</td>\n",
       "      <td>9</td>\n",
       "      <td>2011-09-05</td>\n",
       "      <td>17</td>\n",
       "      <td>0</td>\n",
       "    </tr>\n",
       "    <tr>\n",
       "      <th>1</th>\n",
       "      <td>2011-05-17 11:00:00</td>\n",
       "      <td>2</td>\n",
       "      <td>0</td>\n",
       "      <td>1</td>\n",
       "      <td>2</td>\n",
       "      <td>22.96</td>\n",
       "      <td>26.515</td>\n",
       "      <td>83</td>\n",
       "      <td>27.9993</td>\n",
       "      <td>26</td>\n",
       "      <td>104</td>\n",
       "      <td>130</td>\n",
       "      <td>5</td>\n",
       "      <td>2011-05-17</td>\n",
       "      <td>11</td>\n",
       "      <td>1</td>\n",
       "    </tr>\n",
       "    <tr>\n",
       "      <th>2</th>\n",
       "      <td>2011-11-10 09:00:00</td>\n",
       "      <td>4</td>\n",
       "      <td>0</td>\n",
       "      <td>1</td>\n",
       "      <td>2</td>\n",
       "      <td>17.22</td>\n",
       "      <td>21.210</td>\n",
       "      <td>94</td>\n",
       "      <td>7.0015</td>\n",
       "      <td>23</td>\n",
       "      <td>188</td>\n",
       "      <td>211</td>\n",
       "      <td>11</td>\n",
       "      <td>2011-11-10</td>\n",
       "      <td>9</td>\n",
       "      <td>3</td>\n",
       "    </tr>\n",
       "    <tr>\n",
       "      <th>3</th>\n",
       "      <td>2011-10-13 07:00:00</td>\n",
       "      <td>4</td>\n",
       "      <td>0</td>\n",
       "      <td>1</td>\n",
       "      <td>3</td>\n",
       "      <td>22.14</td>\n",
       "      <td>25.760</td>\n",
       "      <td>100</td>\n",
       "      <td>8.9981</td>\n",
       "      <td>5</td>\n",
       "      <td>76</td>\n",
       "      <td>81</td>\n",
       "      <td>10</td>\n",
       "      <td>2011-10-13</td>\n",
       "      <td>7</td>\n",
       "      <td>3</td>\n",
       "    </tr>\n",
       "    <tr>\n",
       "      <th>4</th>\n",
       "      <td>2011-10-15 14:00:00</td>\n",
       "      <td>4</td>\n",
       "      <td>0</td>\n",
       "      <td>0</td>\n",
       "      <td>1</td>\n",
       "      <td>24.60</td>\n",
       "      <td>31.060</td>\n",
       "      <td>33</td>\n",
       "      <td>31.0009</td>\n",
       "      <td>242</td>\n",
       "      <td>230</td>\n",
       "      <td>472</td>\n",
       "      <td>10</td>\n",
       "      <td>2011-10-15</td>\n",
       "      <td>14</td>\n",
       "      <td>5</td>\n",
       "    </tr>\n",
       "    <tr>\n",
       "      <th>...</th>\n",
       "      <td>...</td>\n",
       "      <td>...</td>\n",
       "      <td>...</td>\n",
       "      <td>...</td>\n",
       "      <td>...</td>\n",
       "      <td>...</td>\n",
       "      <td>...</td>\n",
       "      <td>...</td>\n",
       "      <td>...</td>\n",
       "      <td>...</td>\n",
       "      <td>...</td>\n",
       "      <td>...</td>\n",
       "      <td>...</td>\n",
       "      <td>...</td>\n",
       "      <td>...</td>\n",
       "      <td>...</td>\n",
       "    </tr>\n",
       "    <tr>\n",
       "      <th>430</th>\n",
       "      <td>2011-04-07 16:00:00</td>\n",
       "      <td>2</td>\n",
       "      <td>0</td>\n",
       "      <td>1</td>\n",
       "      <td>1</td>\n",
       "      <td>24.60</td>\n",
       "      <td>31.060</td>\n",
       "      <td>35</td>\n",
       "      <td>0.0000</td>\n",
       "      <td>52</td>\n",
       "      <td>161</td>\n",
       "      <td>213</td>\n",
       "      <td>4</td>\n",
       "      <td>2011-04-07</td>\n",
       "      <td>16</td>\n",
       "      <td>3</td>\n",
       "    </tr>\n",
       "    <tr>\n",
       "      <th>431</th>\n",
       "      <td>2011-09-03 22:00:00</td>\n",
       "      <td>3</td>\n",
       "      <td>0</td>\n",
       "      <td>0</td>\n",
       "      <td>1</td>\n",
       "      <td>27.88</td>\n",
       "      <td>31.820</td>\n",
       "      <td>83</td>\n",
       "      <td>7.0015</td>\n",
       "      <td>66</td>\n",
       "      <td>96</td>\n",
       "      <td>162</td>\n",
       "      <td>9</td>\n",
       "      <td>2011-09-03</td>\n",
       "      <td>22</td>\n",
       "      <td>5</td>\n",
       "    </tr>\n",
       "    <tr>\n",
       "      <th>432</th>\n",
       "      <td>2011-11-12 22:00:00</td>\n",
       "      <td>4</td>\n",
       "      <td>0</td>\n",
       "      <td>0</td>\n",
       "      <td>1</td>\n",
       "      <td>17.22</td>\n",
       "      <td>21.210</td>\n",
       "      <td>47</td>\n",
       "      <td>16.9979</td>\n",
       "      <td>30</td>\n",
       "      <td>88</td>\n",
       "      <td>118</td>\n",
       "      <td>11</td>\n",
       "      <td>2011-11-12</td>\n",
       "      <td>22</td>\n",
       "      <td>5</td>\n",
       "    </tr>\n",
       "    <tr>\n",
       "      <th>433</th>\n",
       "      <td>2012-04-11 23:00:00</td>\n",
       "      <td>2</td>\n",
       "      <td>0</td>\n",
       "      <td>1</td>\n",
       "      <td>1</td>\n",
       "      <td>13.94</td>\n",
       "      <td>15.150</td>\n",
       "      <td>57</td>\n",
       "      <td>19.9995</td>\n",
       "      <td>9</td>\n",
       "      <td>52</td>\n",
       "      <td>61</td>\n",
       "      <td>4</td>\n",
       "      <td>2012-04-11</td>\n",
       "      <td>23</td>\n",
       "      <td>2</td>\n",
       "    </tr>\n",
       "    <tr>\n",
       "      <th>434</th>\n",
       "      <td>2012-01-06 09:00:00</td>\n",
       "      <td>1</td>\n",
       "      <td>0</td>\n",
       "      <td>1</td>\n",
       "      <td>1</td>\n",
       "      <td>9.84</td>\n",
       "      <td>12.120</td>\n",
       "      <td>70</td>\n",
       "      <td>11.0014</td>\n",
       "      <td>4</td>\n",
       "      <td>237</td>\n",
       "      <td>241</td>\n",
       "      <td>1</td>\n",
       "      <td>2012-01-06</td>\n",
       "      <td>9</td>\n",
       "      <td>4</td>\n",
       "    </tr>\n",
       "  </tbody>\n",
       "</table>\n",
       "<p>435 rows × 16 columns</p>\n",
       "</div>"
      ],
      "text/plain": [
       "               datetime season holiday workingday  weather   temp   atemp  \\\n",
       "0   2011-09-05 17:00:00      3       1          0        2  27.06  29.545   \n",
       "1   2011-05-17 11:00:00      2       0          1        2  22.96  26.515   \n",
       "2   2011-11-10 09:00:00      4       0          1        2  17.22  21.210   \n",
       "3   2011-10-13 07:00:00      4       0          1        3  22.14  25.760   \n",
       "4   2011-10-15 14:00:00      4       0          0        1  24.60  31.060   \n",
       "..                  ...    ...     ...        ...      ...    ...     ...   \n",
       "430 2011-04-07 16:00:00      2       0          1        1  24.60  31.060   \n",
       "431 2011-09-03 22:00:00      3       0          0        1  27.88  31.820   \n",
       "432 2011-11-12 22:00:00      4       0          0        1  17.22  21.210   \n",
       "433 2012-04-11 23:00:00      2       0          1        1  13.94  15.150   \n",
       "434 2012-01-06 09:00:00      1       0          1        1   9.84  12.120   \n",
       "\n",
       "     humidity  windspeed  casual  registered  count  month        date  hour  \\\n",
       "0          89     7.0015      37          77    114      9  2011-09-05    17   \n",
       "1          83    27.9993      26         104    130      5  2011-05-17    11   \n",
       "2          94     7.0015      23         188    211     11  2011-11-10     9   \n",
       "3         100     8.9981       5          76     81     10  2011-10-13     7   \n",
       "4          33    31.0009     242         230    472     10  2011-10-15    14   \n",
       "..        ...        ...     ...         ...    ...    ...         ...   ...   \n",
       "430        35     0.0000      52         161    213      4  2011-04-07    16   \n",
       "431        83     7.0015      66          96    162      9  2011-09-03    22   \n",
       "432        47    16.9979      30          88    118     11  2011-11-12    22   \n",
       "433        57    19.9995       9          52     61      4  2012-04-11    23   \n",
       "434        70    11.0014       4         237    241      1  2012-01-06     9   \n",
       "\n",
       "     weekday  \n",
       "0          0  \n",
       "1          1  \n",
       "2          3  \n",
       "3          3  \n",
       "4          5  \n",
       "..       ...  \n",
       "430        3  \n",
       "431        5  \n",
       "432        5  \n",
       "433        2  \n",
       "434        4  \n",
       "\n",
       "[435 rows x 16 columns]"
      ]
     },
     "execution_count": 98,
     "metadata": {},
     "output_type": "execute_result"
    }
   ],
   "source": [
    "df"
   ]
  },
  {
   "cell_type": "code",
   "execution_count": 100,
   "id": "e74b39f0",
   "metadata": {},
   "outputs": [
    {
     "data": {
      "text/html": [
       "<div>\n",
       "<style scoped>\n",
       "    .dataframe tbody tr th:only-of-type {\n",
       "        vertical-align: middle;\n",
       "    }\n",
       "\n",
       "    .dataframe tbody tr th {\n",
       "        vertical-align: top;\n",
       "    }\n",
       "\n",
       "    .dataframe thead th {\n",
       "        text-align: right;\n",
       "    }\n",
       "</style>\n",
       "<table border=\"1\" class=\"dataframe\">\n",
       "  <thead>\n",
       "    <tr style=\"text-align: right;\">\n",
       "      <th></th>\n",
       "      <th>datetime</th>\n",
       "      <th>season</th>\n",
       "      <th>user_type</th>\n",
       "      <th>rental_count</th>\n",
       "    </tr>\n",
       "  </thead>\n",
       "  <tbody>\n",
       "    <tr>\n",
       "      <th>0</th>\n",
       "      <td>2011-09-05 17:00:00</td>\n",
       "      <td>3</td>\n",
       "      <td>casual</td>\n",
       "      <td>37</td>\n",
       "    </tr>\n",
       "    <tr>\n",
       "      <th>1</th>\n",
       "      <td>2011-05-17 11:00:00</td>\n",
       "      <td>2</td>\n",
       "      <td>casual</td>\n",
       "      <td>26</td>\n",
       "    </tr>\n",
       "    <tr>\n",
       "      <th>2</th>\n",
       "      <td>2011-11-10 09:00:00</td>\n",
       "      <td>4</td>\n",
       "      <td>casual</td>\n",
       "      <td>23</td>\n",
       "    </tr>\n",
       "    <tr>\n",
       "      <th>3</th>\n",
       "      <td>2011-10-13 07:00:00</td>\n",
       "      <td>4</td>\n",
       "      <td>casual</td>\n",
       "      <td>5</td>\n",
       "    </tr>\n",
       "    <tr>\n",
       "      <th>4</th>\n",
       "      <td>2011-10-15 14:00:00</td>\n",
       "      <td>4</td>\n",
       "      <td>casual</td>\n",
       "      <td>242</td>\n",
       "    </tr>\n",
       "    <tr>\n",
       "      <th>...</th>\n",
       "      <td>...</td>\n",
       "      <td>...</td>\n",
       "      <td>...</td>\n",
       "      <td>...</td>\n",
       "    </tr>\n",
       "    <tr>\n",
       "      <th>865</th>\n",
       "      <td>2011-04-07 16:00:00</td>\n",
       "      <td>2</td>\n",
       "      <td>registered</td>\n",
       "      <td>161</td>\n",
       "    </tr>\n",
       "    <tr>\n",
       "      <th>866</th>\n",
       "      <td>2011-09-03 22:00:00</td>\n",
       "      <td>3</td>\n",
       "      <td>registered</td>\n",
       "      <td>96</td>\n",
       "    </tr>\n",
       "    <tr>\n",
       "      <th>867</th>\n",
       "      <td>2011-11-12 22:00:00</td>\n",
       "      <td>4</td>\n",
       "      <td>registered</td>\n",
       "      <td>88</td>\n",
       "    </tr>\n",
       "    <tr>\n",
       "      <th>868</th>\n",
       "      <td>2012-04-11 23:00:00</td>\n",
       "      <td>2</td>\n",
       "      <td>registered</td>\n",
       "      <td>52</td>\n",
       "    </tr>\n",
       "    <tr>\n",
       "      <th>869</th>\n",
       "      <td>2012-01-06 09:00:00</td>\n",
       "      <td>1</td>\n",
       "      <td>registered</td>\n",
       "      <td>237</td>\n",
       "    </tr>\n",
       "  </tbody>\n",
       "</table>\n",
       "<p>870 rows × 4 columns</p>\n",
       "</div>"
      ],
      "text/plain": [
       "               datetime season   user_type  rental_count\n",
       "0   2011-09-05 17:00:00      3      casual            37\n",
       "1   2011-05-17 11:00:00      2      casual            26\n",
       "2   2011-11-10 09:00:00      4      casual            23\n",
       "3   2011-10-13 07:00:00      4      casual             5\n",
       "4   2011-10-15 14:00:00      4      casual           242\n",
       "..                  ...    ...         ...           ...\n",
       "865 2011-04-07 16:00:00      2  registered           161\n",
       "866 2011-09-03 22:00:00      3  registered            96\n",
       "867 2011-11-12 22:00:00      4  registered            88\n",
       "868 2012-04-11 23:00:00      2  registered            52\n",
       "869 2012-01-06 09:00:00      1  registered           237\n",
       "\n",
       "[870 rows x 4 columns]"
      ]
     },
     "execution_count": 100,
     "metadata": {},
     "output_type": "execute_result"
    }
   ],
   "source": [
    "# 7 긴 형식으로 변환 / casual, registered 한 열로 각 기록 대여 유형 대여 수 포함 \n",
    "\n",
    "melted_df = df.melt(id_vars=['datetime', 'season'], value_vars=['casual', 'registered'], var_name='user_type', value_name='rental_count')\n",
    "\n",
    "melted_df"
   ]
  },
  {
   "cell_type": "code",
   "execution_count": 102,
   "id": "413bdbf4",
   "metadata": {},
   "outputs": [
    {
     "data": {
      "text/html": [
       "<div>\n",
       "<style scoped>\n",
       "    .dataframe tbody tr th:only-of-type {\n",
       "        vertical-align: middle;\n",
       "    }\n",
       "\n",
       "    .dataframe tbody tr th {\n",
       "        vertical-align: top;\n",
       "    }\n",
       "\n",
       "    .dataframe thead th {\n",
       "        text-align: right;\n",
       "    }\n",
       "</style>\n",
       "<table border=\"1\" class=\"dataframe\">\n",
       "  <thead>\n",
       "    <tr style=\"text-align: right;\">\n",
       "      <th></th>\n",
       "      <th>season</th>\n",
       "      <th>user_type</th>\n",
       "      <th>rental_count</th>\n",
       "    </tr>\n",
       "  </thead>\n",
       "  <tbody>\n",
       "    <tr>\n",
       "      <th>0</th>\n",
       "      <td>1</td>\n",
       "      <td>casual</td>\n",
       "      <td>14.122642</td>\n",
       "    </tr>\n",
       "    <tr>\n",
       "      <th>1</th>\n",
       "      <td>1</td>\n",
       "      <td>registered</td>\n",
       "      <td>89.047170</td>\n",
       "    </tr>\n",
       "    <tr>\n",
       "      <th>2</th>\n",
       "      <td>2</td>\n",
       "      <td>casual</td>\n",
       "      <td>48.990196</td>\n",
       "    </tr>\n",
       "    <tr>\n",
       "      <th>3</th>\n",
       "      <td>2</td>\n",
       "      <td>registered</td>\n",
       "      <td>169.813725</td>\n",
       "    </tr>\n",
       "    <tr>\n",
       "      <th>4</th>\n",
       "      <td>3</td>\n",
       "      <td>casual</td>\n",
       "      <td>55.127273</td>\n",
       "    </tr>\n",
       "    <tr>\n",
       "      <th>5</th>\n",
       "      <td>3</td>\n",
       "      <td>registered</td>\n",
       "      <td>210.372727</td>\n",
       "    </tr>\n",
       "    <tr>\n",
       "      <th>6</th>\n",
       "      <td>4</td>\n",
       "      <td>casual</td>\n",
       "      <td>29.709402</td>\n",
       "    </tr>\n",
       "    <tr>\n",
       "      <th>7</th>\n",
       "      <td>4</td>\n",
       "      <td>registered</td>\n",
       "      <td>188.871795</td>\n",
       "    </tr>\n",
       "  </tbody>\n",
       "</table>\n",
       "</div>"
      ],
      "text/plain": [
       "   season   user_type  rental_count\n",
       "0       1      casual     14.122642\n",
       "1       1  registered     89.047170\n",
       "2       2      casual     48.990196\n",
       "3       2  registered    169.813725\n",
       "4       3      casual     55.127273\n",
       "5       3  registered    210.372727\n",
       "6       4      casual     29.709402\n",
       "7       4  registered    188.871795"
      ]
     },
     "execution_count": 102,
     "metadata": {},
     "output_type": "execute_result"
    }
   ],
   "source": [
    "# 8. 생성한 긴 형식 데이터 프레임을 활용하여 각 계절(season)별로 casual과 registered 사용자의 평균 대여 수(count)를 구하시오.\n",
    "\n",
    "# season과 user_type별로 그룹화하여 평균 대여 수 계산\n",
    "avg_rentals = melted_df.groupby(['season', 'user_type'])['rental_count'].mean().reset_index()\n",
    "\n",
    "avg_rentals"
   ]
  },
  {
   "cell_type": "code",
   "execution_count": 103,
   "id": "dfa7909c",
   "metadata": {},
   "outputs": [],
   "source": [
    "import pandas as pd\n",
    "df = pd.read_csv('https://raw.githubusercontent.com/YoungjinBD/data/main/logdata.csv')"
   ]
  },
  {
   "cell_type": "code",
   "execution_count": 104,
   "id": "bbf25124",
   "metadata": {},
   "outputs": [
    {
     "data": {
      "text/html": [
       "<div>\n",
       "<style scoped>\n",
       "    .dataframe tbody tr th:only-of-type {\n",
       "        vertical-align: middle;\n",
       "    }\n",
       "\n",
       "    .dataframe tbody tr th {\n",
       "        vertical-align: top;\n",
       "    }\n",
       "\n",
       "    .dataframe thead th {\n",
       "        text-align: right;\n",
       "    }\n",
       "</style>\n",
       "<table border=\"1\" class=\"dataframe\">\n",
       "  <thead>\n",
       "    <tr style=\"text-align: right;\">\n",
       "      <th></th>\n",
       "      <th>로그</th>\n",
       "    </tr>\n",
       "  </thead>\n",
       "  <tbody>\n",
       "    <tr>\n",
       "      <th>0</th>\n",
       "      <td>2024-07-18 12:34:56 User: 홍길동 Action: Login ID...</td>\n",
       "    </tr>\n",
       "    <tr>\n",
       "      <th>1</th>\n",
       "      <td>2024-07-18 12:35:00 User: 김철수 Action: Purchase...</td>\n",
       "    </tr>\n",
       "    <tr>\n",
       "      <th>2</th>\n",
       "      <td>2024-07-18 12:36:10 User: 이영희 Action: Logout T...</td>\n",
       "    </tr>\n",
       "    <tr>\n",
       "      <th>3</th>\n",
       "      <td>2024-07-18 12:37:22 User: 박지성 Action: Login ID...</td>\n",
       "    </tr>\n",
       "    <tr>\n",
       "      <th>4</th>\n",
       "      <td>2024-07-18 12:38:44 User: 최강타 Action: Purchase...</td>\n",
       "    </tr>\n",
       "  </tbody>\n",
       "</table>\n",
       "</div>"
      ],
      "text/plain": [
       "                                                  로그\n",
       "0  2024-07-18 12:34:56 User: 홍길동 Action: Login ID...\n",
       "1  2024-07-18 12:35:00 User: 김철수 Action: Purchase...\n",
       "2  2024-07-18 12:36:10 User: 이영희 Action: Logout T...\n",
       "3  2024-07-18 12:37:22 User: 박지성 Action: Login ID...\n",
       "4  2024-07-18 12:38:44 User: 최강타 Action: Purchase..."
      ]
     },
     "execution_count": 104,
     "metadata": {},
     "output_type": "execute_result"
    }
   ],
   "source": [
    "df.head()"
   ]
  },
  {
   "cell_type": "code",
   "execution_count": 105,
   "id": "708ab1bd",
   "metadata": {},
   "outputs": [
    {
     "name": "stdout",
     "output_type": "stream",
     "text": [
      "<class 'pandas.core.frame.DataFrame'>\n",
      "RangeIndex: 30 entries, 0 to 29\n",
      "Data columns (total 1 columns):\n",
      " #   Column  Non-Null Count  Dtype \n",
      "---  ------  --------------  ----- \n",
      " 0   로그      30 non-null     object\n",
      "dtypes: object(1)\n",
      "memory usage: 368.0+ bytes\n"
     ]
    }
   ],
   "source": [
    "df.info()"
   ]
  },
  {
   "cell_type": "code",
   "execution_count": 106,
   "id": "ee3be03b",
   "metadata": {},
   "outputs": [
    {
     "data": {
      "text/html": [
       "<div>\n",
       "<style scoped>\n",
       "    .dataframe tbody tr th:only-of-type {\n",
       "        vertical-align: middle;\n",
       "    }\n",
       "\n",
       "    .dataframe tbody tr th {\n",
       "        vertical-align: top;\n",
       "    }\n",
       "\n",
       "    .dataframe thead th {\n",
       "        text-align: right;\n",
       "    }\n",
       "</style>\n",
       "<table border=\"1\" class=\"dataframe\">\n",
       "  <thead>\n",
       "    <tr style=\"text-align: right;\">\n",
       "      <th></th>\n",
       "      <th>로그</th>\n",
       "      <th>연도 정보</th>\n",
       "    </tr>\n",
       "  </thead>\n",
       "  <tbody>\n",
       "    <tr>\n",
       "      <th>0</th>\n",
       "      <td>2024-07-18 12:34:56 User: 홍길동 Action: Login ID...</td>\n",
       "      <td>2024</td>\n",
       "    </tr>\n",
       "    <tr>\n",
       "      <th>1</th>\n",
       "      <td>2024-07-18 12:35:00 User: 김철수 Action: Purchase...</td>\n",
       "      <td>2024</td>\n",
       "    </tr>\n",
       "    <tr>\n",
       "      <th>2</th>\n",
       "      <td>2024-07-18 12:36:10 User: 이영희 Action: Logout T...</td>\n",
       "      <td>2024</td>\n",
       "    </tr>\n",
       "    <tr>\n",
       "      <th>3</th>\n",
       "      <td>2024-07-18 12:37:22 User: 박지성 Action: Login ID...</td>\n",
       "      <td>2024</td>\n",
       "    </tr>\n",
       "    <tr>\n",
       "      <th>4</th>\n",
       "      <td>2024-07-18 12:38:44 User: 최강타 Action: Purchase...</td>\n",
       "      <td>2024</td>\n",
       "    </tr>\n",
       "  </tbody>\n",
       "</table>\n",
       "</div>"
      ],
      "text/plain": [
       "                                                  로그 연도 정보\n",
       "0  2024-07-18 12:34:56 User: 홍길동 Action: Login ID...  2024\n",
       "1  2024-07-18 12:35:00 User: 김철수 Action: Purchase...  2024\n",
       "2  2024-07-18 12:36:10 User: 이영희 Action: Logout T...  2024\n",
       "3  2024-07-18 12:37:22 User: 박지성 Action: Login ID...  2024\n",
       "4  2024-07-18 12:38:44 User: 최강타 Action: Purchase...  2024"
      ]
     },
     "execution_count": 106,
     "metadata": {},
     "output_type": "execute_result"
    }
   ],
   "source": [
    "# 9 로그 컬럼에서 연도 정보만 추출\n",
    "df['연도 정보'] = df['로그'].str.extract(r'(\\d+)')\n",
    "df.head()"
   ]
  },
  {
   "cell_type": "code",
   "execution_count": null,
   "id": "8698445d",
   "metadata": {},
   "outputs": [],
   "source": []
  }
 ],
 "metadata": {
  "kernelspec": {
   "display_name": "tf",
   "language": "python",
   "name": "python3"
  },
  "language_info": {
   "codemirror_mode": {
    "name": "ipython",
    "version": 3
   },
   "file_extension": ".py",
   "mimetype": "text/x-python",
   "name": "python",
   "nbconvert_exporter": "python",
   "pygments_lexer": "ipython3",
   "version": "3.8.13"
  }
 },
 "nbformat": 4,
 "nbformat_minor": 5
}
