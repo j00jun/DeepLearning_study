{
 "cells": [
  {
   "cell_type": "markdown",
   "id": "7a89f059",
   "metadata": {},
   "source": [
    "#### 구간 추정\n",
    "- 모수가 존재할 것으로 예상되는 구간을 추정하는 방법\n",
    "- 신뢰구간은 확률변수이다."
   ]
  },
  {
   "cell_type": "code",
   "execution_count": null,
   "id": "e2de40ef",
   "metadata": {},
   "outputs": [],
   "source": [
    "# 표본평균을 사용한 모평균 추정: 표본의 크기가 클 수록 표본평균의 값이 모평균과 가까워지기 때문\n",
    "\n",
    "import pandas as np\n",
    "import matplotlib.pyplot as plt\n",
    "\n",
    "# 모집단의 평균과 표준편차\n",
    "mu, sigma = 30, 5\n",
    "# 표본 크기 목록\n",
    "sample_sizes = [10, 50, 100, 500, 1000, 5000]\n",
    "#표본 평균 개수\n",
    "num_means = 1000\n",
    "\n",
    "# 그래프 설정\n",
    "fig, axes = plt.subplots(2, 3, figsize = (15, 15))\n",
    "axes = axes.flatten()\n",
    "\n",
    "# x축 범위 설정\n",
    "x_limits = (mu - 3 * sigma, mu+3*sigma)"
   ]
  }
 ],
 "metadata": {
  "kernelspec": {
   "display_name": "tf",
   "language": "python",
   "name": "python3"
  },
  "language_info": {
   "name": "python",
   "version": "3.8.13"
  }
 },
 "nbformat": 4,
 "nbformat_minor": 5
}
