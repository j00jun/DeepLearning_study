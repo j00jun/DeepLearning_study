{
 "cells": [
  {
   "cell_type": "markdown",
   "id": "7a89f059",
   "metadata": {},
   "source": [
    "#### 구간 추정\n",
    "- 모수가 존재할 것으로 예상되는 구간을 추정하는 방법\n",
    "- 신뢰구간은 확률변수이다."
   ]
  },
  {
   "cell_type": "code",
   "execution_count": 6,
   "id": "e2de40ef",
   "metadata": {},
   "outputs": [
    {
     "name": "stdout",
     "output_type": "stream",
     "text": [
      "4.469 4.991\n"
     ]
    }
   ],
   "source": [
    "# 모평균 계산 (모분산을 모르는 경우)\n",
    "\n",
    "# 표본 데이터\n",
    "data = [4.3, 4.1, 5.2, 4.9, 5.0, 4.5, 4.7, 4.8, 5.2, 4.6]\n",
    "\n",
    "from scipy.stats import t\n",
    "import numpy as np\n",
    "\n",
    "mean = np.mean(data)\n",
    "\n",
    "n = len(data)\n",
    "\n",
    "se = np.std(data, ddof=1) / np.sqrt(n)\n",
    "\n",
    "# 95 신뢰구간\n",
    "print(round(mean- t.ppf(0.975, n-1) * se , 3), round(mean + t.ppf(0.975, n-1) * se , 3))"
   ]
  },
  {
   "cell_type": "code",
   "execution_count": 13,
   "id": "583f2ffb",
   "metadata": {},
   "outputs": [
    {
     "name": "stdout",
     "output_type": "stream",
     "text": [
      "[4.469, 4.991]\n"
     ]
    }
   ],
   "source": [
    "# t.interval로 신뢰구간 구하기\n",
    "\n",
    "ci = t.interval(0.95, loc = mean, scale = se, df = n-1)\n",
    "\n",
    "print([round(i, 3) for i in ci])"
   ]
  },
  {
   "cell_type": "code",
   "execution_count": null,
   "id": "25cb81bb",
   "metadata": {},
   "outputs": [],
   "source": []
  },
  {
   "cell_type": "code",
   "execution_count": null,
   "id": "c4b57a27",
   "metadata": {},
   "outputs": [],
   "source": []
  },
  {
   "cell_type": "markdown",
   "id": "dca5901f",
   "metadata": {},
   "source": [
    "#### python t-검정 수행\n"
   ]
  },
  {
   "cell_type": "code",
   "execution_count": null,
   "id": "c2d0d77d",
   "metadata": {},
   "outputs": [
    {
     "name": "stdout",
     "output_type": "stream",
     "text": [
      "2.0508338167773075\n",
      "0.06488240727465687\n"
     ]
    }
   ],
   "source": [
    "# 단일 표본 t-검정\n",
    "\n",
    "sample = [9.76, 11.1, 10.7, 10.72, 11.8, 6.15, 10.52, 14.83, 13.03, 16.46, 10.84, 12.45]\n",
    "\n",
    "from scipy.stats import ttest_1samp\n",
    "\n",
    "# 양측 검정\n",
    "t_statistic, p_value = ttest_1samp(sample, popmean = 10, alternative='two-sided')\n",
    "print(t_statistic)\n",
    "print(p_value)\n",
    "\n",
    "# 즉 학생들의 성적 평균이 10점 아니라고 판단한 통계적 근거가 부족하므로 귀무가설 기각할 수 없음"
   ]
  },
  {
   "cell_type": "code",
   "execution_count": 26,
   "id": "c6d2998d",
   "metadata": {},
   "outputs": [
    {
     "name": "stdout",
     "output_type": "stream",
     "text": [
      "    score  gender\n",
      "0    9.76  Female\n",
      "1   11.10  Female\n",
      "2   10.70  Female\n",
      "3   10.72  Female\n",
      "4   11.80  Female\n",
      "5    6.15  Female\n",
      "6   10.52  Female\n",
      "7   14.83    Male\n",
      "8   13.03    Male\n",
      "9   16.46    Male\n",
      "10  10.84    Male\n",
      "11  12.45    Male\n"
     ]
    }
   ],
   "source": [
    "# 독립 2 표본 t-검정\n",
    "\n",
    "import pandas as pd\n",
    "\n",
    "sample = [9.76, 11.1, 10.7, 10.72, 11.8, 6.15, 10.52, 14.83, 13.03, 16.46, 10.84, 12.45]\n",
    "gender = ['Female'] * 7 + ['Male'] * 5\n",
    "\n",
    "my_tab2 = pd.DataFrame({\"score\": sample, \"gender\": gender})\n",
    "print(my_tab2)"
   ]
  },
  {
   "cell_type": "code",
   "execution_count": null,
   "id": "6fa30c71",
   "metadata": {},
   "outputs": [
    {
     "name": "stdout",
     "output_type": "stream",
     "text": [
      "2.9360367510416165\n",
      "0.007443073828957785\n"
     ]
    }
   ],
   "source": [
    "from scipy.stats import ttest_ind\n",
    "\n",
    "male = my_tab2[my_tab2['gender']=='Male']\n",
    "female = my_tab2[my_tab2['gender']=='Female']\n",
    "\n",
    "# 단측검정 (한쪽이 크거나 작다)\n",
    "t_statistic, p_value = ttest_ind(male['score'], female['score'], equal_var=True, alternative ='greater') #대립이 남자가 여자보다 높다. /equal_var:합동분산추정량\n",
    "\n",
    "print(t_statistic)\n",
    "print(p_value)"
   ]
  },
  {
   "cell_type": "code",
   "execution_count": 30,
   "id": "b96de845",
   "metadata": {},
   "outputs": [
    {
     "name": "stdout",
     "output_type": "stream",
     "text": [
      "t-statistic: 2.5811614301011883\n",
      "p_value 0.02468128345546598\n"
     ]
    }
   ],
   "source": [
    "# 대응 표본 t-검정\n",
    "\n",
    "import numpy as np\n",
    "before = np.array([9.76, 11.1, 10.7, 10.72, 11.8, 6.15])\n",
    "after = np.array([10.52, 14.83, 13.03, 16.46, 10.84, 12.45])\n",
    "\n",
    "from scipy.stats import ttest_rel\n",
    "\n",
    "# 단측 검정\n",
    "t_statistic, p_value = ttest_rel(after, before, alternative='greater') # 즉 대립가설은 after가 더 클것이다.\n",
    "print('t-statistic:', t_statistic)\n",
    "print('p_value', p_value)"
   ]
  },
  {
   "cell_type": "markdown",
   "id": "2a60d1dd",
   "metadata": {},
   "source": [
    "#### f-검정"
   ]
  },
  {
   "cell_type": "code",
   "execution_count": null,
   "id": "a3bd3952",
   "metadata": {},
   "outputs": [
    {
     "name": "stdout",
     "output_type": "stream",
     "text": [
      "0.07111637215506228\n"
     ]
    }
   ],
   "source": [
    "import numpy as np\n",
    "from scipy.stats import stats, f\n",
    "\n",
    "data_1 = np.array([17.6, 9.7, 16.5, 12.0, 21.5, 23.3, 23.6, 26.4, 20.0, 25.2, 25.8, 21.2, 14.5, 27.3, 23.8])\n",
    "data_2 = np.array([7.6, 4.2, 10.0, 11.5, 7.3, 5.8, 14.5, 10.6, 8.2, 9.4, 16.5, 9.7, 8.3, 13.6, 8.2])\n",
    "\n",
    "data_1_std = data_1.std(ddof=1)\n",
    "data_2_std = data_2.std(ddof=1)\n",
    "\n",
    "ratio = data_1_std**2 / data_2_std**2\n",
    "\n",
    "# 양측 검정\n",
    "p_value = 2 * (1 - f.cdf(ratio, 14, 14))\n",
    "print(p_value)"
   ]
  },
  {
   "cell_type": "code",
   "execution_count": 40,
   "id": "33321790",
   "metadata": {},
   "outputs": [
    {
     "name": "stdout",
     "output_type": "stream",
     "text": [
      "2.7223514017700063\n"
     ]
    }
   ],
   "source": [
    "print(ratio)"
   ]
  },
  {
   "cell_type": "markdown",
   "id": "3fea2604",
   "metadata": {},
   "source": [
    "#### 카이제곱 검정\n",
    "- 주어진 데이터가 기대되는 분포나 독립성, 동질성을 갖는지 검증하는데 사용"
   ]
  },
  {
   "cell_type": "code",
   "execution_count": 49,
   "id": "5e0c6bb9",
   "metadata": {},
   "outputs": [
    {
     "name": "stdout",
     "output_type": "stream",
     "text": [
      "11.626530769230774\n"
     ]
    }
   ],
   "source": [
    "import numpy as np\n",
    "\n",
    "sample_data = [10.67, 9.92, 9.62, 9.53, 9.14, 9.74, 8.45, 12.65, 11.47, 8.62]\n",
    "\n",
    "n = len(sample_data)\n",
    "\n",
    "sample_variance = np.var(sample_data, ddof=1)\n",
    "t = (n-1) * sample_variance / 1.3\n",
    "print(t)"
   ]
  },
  {
   "cell_type": "code",
   "execution_count": null,
   "id": "79993578",
   "metadata": {},
   "outputs": [
    {
     "name": "stdout",
     "output_type": "stream",
     "text": [
      "p_value: 0.23519165145589116\n"
     ]
    }
   ],
   "source": [
    "from scipy.stats import chi2\n",
    "print('p_value:', 1 - chi2.cdf(t, df = n-1)) "
   ]
  },
  {
   "cell_type": "markdown",
   "id": "4a176896",
   "metadata": {},
   "source": [
    "2) 독립성 검정\n",
    "- 두 카테고리 변수 간의 상관성이 있는지 여부를 분석하는 방법\n",
    "- \t두 범주형 변수 간 연관(독립성 여부) 확인"
   ]
  },
  {
   "cell_type": "code",
   "execution_count": null,
   "id": "d771f1ae",
   "metadata": {},
   "outputs": [
    {
     "name": "stdout",
     "output_type": "stream",
     "text": [
      "3.841458820694124\n"
     ]
    }
   ],
   "source": [
    "from scipy.stats import chi2\n",
    "\n",
    "# 기각역 계산 ( 귀무가설을 ㅣㄱ각하는 기준이 되는 통계량의 값 범위)\n",
    "\n",
    "critical_value = chi2.ppf(0.95, df = 1) # 즉 유의수준 상위 5% 해당하는 값부터 기각역이 시작\n",
    "print(critical_value)"
   ]
  },
  {
   "cell_type": "code",
   "execution_count": 52,
   "id": "d3dafbc0",
   "metadata": {},
   "outputs": [
    {
     "name": "stdout",
     "output_type": "stream",
     "text": [
      "8.035164786841964e-05\n"
     ]
    }
   ],
   "source": [
    "p_value = chi2.sf(15.55, df=1)\n",
    "print(p_value)"
   ]
  },
  {
   "cell_type": "code",
   "execution_count": null,
   "id": "197eda1a",
   "metadata": {},
   "outputs": [
    {
     "name": "stdout",
     "output_type": "stream",
     "text": [
      "X-squared: 15.556 df: 1 p-value: 0.0\n"
     ]
    }
   ],
   "source": [
    "# 독립성 검정 다른 방법\n",
    "\n",
    "import numpy as np\n",
    "from scipy.stats import chi2_contingency\n",
    "\n",
    "table = np.array([[14,4], [0, 10]])\n",
    "\n",
    "chi2, p, df, expected = chi2_contingency(table, correction = False) # correction = False 카이제곱 검정 통계량 값 까지 받아오기 위해서\n",
    "print(\"X-squared:\", chi2.round(3), 'df:', df, 'p-value:', p.round(3))"
   ]
  },
  {
   "cell_type": "markdown",
   "id": "e83ec3f2",
   "metadata": {},
   "source": [
    "3) 동질성 검정\n",
    "- 두 개 이상의 모집단에서 추출된 표본들의 카테고리 분포 또는 비율이 동일한지 검정하는 방법\n",
    "- 서로 다른 집단들의 분포가 동일한지(동질한지) 확인"
   ]
  },
  {
   "cell_type": "code",
   "execution_count": 55,
   "id": "54c22c90",
   "metadata": {},
   "outputs": [
    {
     "name": "stdout",
     "output_type": "stream",
     "text": [
      "0.648 0.723\n"
     ]
    }
   ],
   "source": [
    "import numpy as np\n",
    "from scipy.stats import chi2_contingency\n",
    "\n",
    "# 데이터 설정\n",
    "table = np.array([[50, 30, 20], # 도시 X\n",
    "                [45,35,20]]) # 도시 y\n",
    "\n",
    "chi2, p, df, expected = chi2_contingency(table, correction=False)\n",
    "\n",
    "print(chi2.round(3), p.round(3))\n"
   ]
  },
  {
   "cell_type": "code",
   "execution_count": 56,
   "id": "9fa4bb35",
   "metadata": {},
   "outputs": [
    {
     "name": "stdout",
     "output_type": "stream",
     "text": [
      "[[47.5 32.5 20. ]\n",
      " [47.5 32.5 20. ]]\n"
     ]
    }
   ],
   "source": [
    "# 기대빈도 값\n",
    "\n",
    "print(expected)"
   ]
  },
  {
   "cell_type": "markdown",
   "id": "fc67460b",
   "metadata": {},
   "source": [
    "4) 적합도 검정\n",
    "- 관찰된 데이터 특정 이론적 분포를 따르는 지를 검정하는 방법\n",
    "- 귀무: 데이터의 모집단의 특정 분포를 따른다\n",
    "- 대립: 데이터의 모집단이 특정 분포를 따르지 않는다."
   ]
  },
  {
   "cell_type": "markdown",
   "id": "51ba3345",
   "metadata": {},
   "source": [
    "`"
   ]
  },
  {
   "cell_type": "code",
   "execution_count": 59,
   "id": "132e5cee",
   "metadata": {},
   "outputs": [
    {
     "name": "stdout",
     "output_type": "stream",
     "text": [
      "test statistic 7.6\n",
      "p-value 0.269\n"
     ]
    }
   ],
   "source": [
    "from scipy.stats import chisquare\n",
    "import numpy as np\n",
    "\n",
    "observed = np.array([13, 23, 24, 20, 27, 18, 15])\n",
    "expected = np.repeat(20, 7)\n",
    "\n",
    "statistic, p_value = chisquare(observed, f_exp = expected)\n",
    "print('test statistic', statistic.round(3))\n",
    "print('p-value', p_value.round(3))"
   ]
  },
  {
   "cell_type": "markdown",
   "id": "f61f9f8d",
   "metadata": {},
   "source": [
    "| 구분          | 적합도 검정          | 독립성 검정           | 동질성 검정           |\n",
    "| ----------- | --------------- | ---------------- | ---------------- |\n",
    "| **목적**      | 기대 분포와 관측 분포 비교 | 두 변수의 연관성 판단     | 집단 간 분포 비교       |\n",
    "| **변수 수**    | 1개              | 2개               | 1개 (여러 집단)       |\n",
    "| **데이터 수집**  | 하나의 변수, 기대값 존재  | 하나의 집단에서 두 변수 측정 | 여러 집단에서 동일 변수 측정 |\n",
    "| **귀무가설**    | 관측 = 기대 분포      | 변수 간 독립          | 집단 간 분포 동일       |\n",
    "| **분석 표 형태** | 단일 분포           | 교차표              | 교차표              |\n"
   ]
  },
  {
   "cell_type": "markdown",
   "id": "02ffd962",
   "metadata": {},
   "source": [
    "## 분산 분석 (ANOVA)\n",
    "\n",
    "- 분산에 대한 검정이 아닌 ANOVA는 주로 3개 이상의 집단에서 평균의 차이를 검정하기 위해 사용되는 통계적 방법\n",
    "- 일원 분산 분석: 한 가지 관심 변수에 따라 그룹을 나누고 그룹 가느이 평균 차이를 검정\n",
    "- 이원 분산 분석: 두 가지 관심 변수를 기준으로 그룹을 나누어 평균의 차이를 검정"
   ]
  },
  {
   "cell_type": "markdown",
   "id": "eb9c288c",
   "metadata": {},
   "source": [
    "#### 일원 분산 분석:\n",
    "- 하나의 요인에 따라 여러 집단 간의 평균 차이를 검정하기 위한 통계 기법"
   ]
  },
  {
   "cell_type": "code",
   "execution_count": 61,
   "id": "2e0e4d00",
   "metadata": {},
   "outputs": [
    {
     "data": {
      "text/html": [
       "<div>\n",
       "<style scoped>\n",
       "    .dataframe tbody tr th:only-of-type {\n",
       "        vertical-align: middle;\n",
       "    }\n",
       "\n",
       "    .dataframe tbody tr th {\n",
       "        vertical-align: top;\n",
       "    }\n",
       "\n",
       "    .dataframe thead th {\n",
       "        text-align: right;\n",
       "    }\n",
       "</style>\n",
       "<table border=\"1\" class=\"dataframe\">\n",
       "  <thead>\n",
       "    <tr style=\"text-align: right;\">\n",
       "      <th></th>\n",
       "      <th>Scent</th>\n",
       "      <th>Minutes</th>\n",
       "    </tr>\n",
       "  </thead>\n",
       "  <tbody>\n",
       "    <tr>\n",
       "      <th>0</th>\n",
       "      <td>Lavender</td>\n",
       "      <td>10</td>\n",
       "    </tr>\n",
       "    <tr>\n",
       "      <th>1</th>\n",
       "      <td>Lavender</td>\n",
       "      <td>12</td>\n",
       "    </tr>\n",
       "    <tr>\n",
       "      <th>2</th>\n",
       "      <td>Lavender</td>\n",
       "      <td>11</td>\n",
       "    </tr>\n",
       "    <tr>\n",
       "      <th>3</th>\n",
       "      <td>Lavender</td>\n",
       "      <td>9</td>\n",
       "    </tr>\n",
       "    <tr>\n",
       "      <th>4</th>\n",
       "      <td>Lavender</td>\n",
       "      <td>8</td>\n",
       "    </tr>\n",
       "  </tbody>\n",
       "</table>\n",
       "</div>"
      ],
      "text/plain": [
       "      Scent  Minutes\n",
       "0  Lavender       10\n",
       "1  Lavender       12\n",
       "2  Lavender       11\n",
       "3  Lavender        9\n",
       "4  Lavender        8"
      ]
     },
     "execution_count": 61,
     "metadata": {},
     "output_type": "execute_result"
    }
   ],
   "source": [
    "import pandas as pd\n",
    "import numpy as np\n",
    "\n",
    "scents = ['Lavender', 'Rosemary', 'Peppermint']\n",
    "minutes_lavender = [10, 12, 11, 9, 8, 12, 11, 10, 10, 11]\n",
    "minutes_rosemary = [14, 15, 13, 16, 14, 15, 14, 13, 14, 16]\n",
    "minutes_peppermint = [18, 17, 18, 16, 17, 19, 18, 17, 18, 19]\n",
    "\n",
    "anova_data = pd.DataFrame({\n",
    "    'Scent': np.repeat(scents, 10),\n",
    "    'Minutes': minutes_lavender + minutes_rosemary + minutes_peppermint\n",
    "})\n",
    "\n",
    "anova_data.head()"
   ]
  },
  {
   "cell_type": "code",
   "execution_count": 62,
   "id": "26ab5964",
   "metadata": {},
   "outputs": [
    {
     "data": {
      "text/html": [
       "<div>\n",
       "<style scoped>\n",
       "    .dataframe tbody tr th:only-of-type {\n",
       "        vertical-align: middle;\n",
       "    }\n",
       "\n",
       "    .dataframe tbody tr th {\n",
       "        vertical-align: top;\n",
       "    }\n",
       "\n",
       "    .dataframe thead tr th {\n",
       "        text-align: left;\n",
       "    }\n",
       "\n",
       "    .dataframe thead tr:last-of-type th {\n",
       "        text-align: right;\n",
       "    }\n",
       "</style>\n",
       "<table border=\"1\" class=\"dataframe\">\n",
       "  <thead>\n",
       "    <tr>\n",
       "      <th></th>\n",
       "      <th colspan=\"8\" halign=\"left\">Minutes</th>\n",
       "    </tr>\n",
       "    <tr>\n",
       "      <th></th>\n",
       "      <th>count</th>\n",
       "      <th>mean</th>\n",
       "      <th>std</th>\n",
       "      <th>min</th>\n",
       "      <th>25%</th>\n",
       "      <th>50%</th>\n",
       "      <th>75%</th>\n",
       "      <th>max</th>\n",
       "    </tr>\n",
       "    <tr>\n",
       "      <th>Scent</th>\n",
       "      <th></th>\n",
       "      <th></th>\n",
       "      <th></th>\n",
       "      <th></th>\n",
       "      <th></th>\n",
       "      <th></th>\n",
       "      <th></th>\n",
       "      <th></th>\n",
       "    </tr>\n",
       "  </thead>\n",
       "  <tbody>\n",
       "    <tr>\n",
       "      <th>Lavender</th>\n",
       "      <td>10.0</td>\n",
       "      <td>10.4</td>\n",
       "      <td>1.264911</td>\n",
       "      <td>8.0</td>\n",
       "      <td>10.0</td>\n",
       "      <td>10.5</td>\n",
       "      <td>11.0</td>\n",
       "      <td>12.0</td>\n",
       "    </tr>\n",
       "    <tr>\n",
       "      <th>Peppermint</th>\n",
       "      <td>10.0</td>\n",
       "      <td>17.7</td>\n",
       "      <td>0.948683</td>\n",
       "      <td>16.0</td>\n",
       "      <td>17.0</td>\n",
       "      <td>18.0</td>\n",
       "      <td>18.0</td>\n",
       "      <td>19.0</td>\n",
       "    </tr>\n",
       "    <tr>\n",
       "      <th>Rosemary</th>\n",
       "      <td>10.0</td>\n",
       "      <td>14.4</td>\n",
       "      <td>1.074968</td>\n",
       "      <td>13.0</td>\n",
       "      <td>14.0</td>\n",
       "      <td>14.0</td>\n",
       "      <td>15.0</td>\n",
       "      <td>16.0</td>\n",
       "    </tr>\n",
       "  </tbody>\n",
       "</table>\n",
       "</div>"
      ],
      "text/plain": [
       "           Minutes                                              \n",
       "             count  mean       std   min   25%   50%   75%   max\n",
       "Scent                                                           \n",
       "Lavender      10.0  10.4  1.264911   8.0  10.0  10.5  11.0  12.0\n",
       "Peppermint    10.0  17.7  0.948683  16.0  17.0  18.0  18.0  19.0\n",
       "Rosemary      10.0  14.4  1.074968  13.0  14.0  14.0  15.0  16.0"
      ]
     },
     "execution_count": 62,
     "metadata": {},
     "output_type": "execute_result"
    }
   ],
   "source": [
    "anova_data.groupby(['Scent']).describe()"
   ]
  },
  {
   "cell_type": "code",
   "execution_count": 64,
   "id": "f1ffae75",
   "metadata": {},
   "outputs": [
    {
     "name": "stdout",
     "output_type": "stream",
     "text": [
      "109.66869300911841\n",
      "1.0908156984152117e-13\n"
     ]
    }
   ],
   "source": [
    "# ANOVA 실행하기\n",
    "\n",
    "from scipy.stats import f_oneway\n",
    "\n",
    "# 각 그룹의 데이터를 추출\n",
    "lavender = anova_data[anova_data['Scent'] == 'Lavender']['Minutes']\n",
    "rosemary = anova_data[anova_data['Scent'] == 'Rosemary']['Minutes']\n",
    "peppermint = anova_data[anova_data['Scent'] == 'Peppermint']['Minutes']\n",
    "\n",
    "# 일원 분산분석 수행 (one-way ANOVA)\n",
    "f_statistic, p_value = f_oneway(lavender, rosemary, peppermint)\n",
    "print(f_statistic)\n",
    "print(p_value)"
   ]
  },
  {
   "cell_type": "markdown",
   "id": "014d3969",
   "metadata": {},
   "source": [
    "#### 가정 체크와 사후 검정"
   ]
  },
  {
   "cell_type": "markdown",
   "id": "efacf8fd",
   "metadata": {},
   "source": [
    "- 가정 체크"
   ]
  },
  {
   "cell_type": "code",
   "execution_count": 68,
   "id": "2f89f3d0",
   "metadata": {},
   "outputs": [
    {
     "name": "stdout",
     "output_type": "stream",
     "text": [
      "              sum_sq    df           F        PR(>F)\n",
      "C(Scent)  267.266667   2.0  109.668693  1.090816e-13\n",
      "Residual   32.900000  27.0         NaN           NaN\n"
     ]
    }
   ],
   "source": [
    "import statsmodels.api as sm\n",
    "from statsmodels.formula.api import ols\n",
    "\n",
    "# 모델 적합\n",
    "model = ols('Minutes ~ C(Scent)', data = anova_data).fit()\n",
    "\n",
    "# ANOVA 수행\n",
    "anova_result = sm.stats.anova_lm(model, typ = 2)\n",
    "print(anova_result)"
   ]
  },
  {
   "cell_type": "code",
   "execution_count": null,
   "id": "8381cf91",
   "metadata": {},
   "outputs": [],
   "source": []
  }
 ],
 "metadata": {
  "kernelspec": {
   "display_name": "tf",
   "language": "python",
   "name": "python3"
  },
  "language_info": {
   "codemirror_mode": {
    "name": "ipython",
    "version": 3
   },
   "file_extension": ".py",
   "mimetype": "text/x-python",
   "name": "python",
   "nbconvert_exporter": "python",
   "pygments_lexer": "ipython3",
   "version": "3.8.13"
  }
 },
 "nbformat": 4,
 "nbformat_minor": 5
}
