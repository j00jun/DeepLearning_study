{
 "cells": [
  {
   "cell_type": "markdown",
   "id": "61d29c88",
   "metadata": {},
   "source": [
    "#### hold-out\n",
    "-전체 데이터를 미리 일정 비율로 나눠서,그 중 일부는 학습용(train), 나머지는 검증용 또는 테스트용(validation/test) 으로 따로 떼어놓고,나중에 다시 섞지 않고 고정된 상태로 쓰는 방식입니다."
   ]
  },
  {
   "cell_type": "code",
   "execution_count": 1,
   "id": "cff542e5",
   "metadata": {},
   "outputs": [],
   "source": [
    "# 예제 데이터 생성\n",
    "\n",
    "import pandas as pd\n",
    "import numpy as np\n",
    "train = pd.read_csv('https://raw.githubusercontent.com/YoungjinBD/data/main/s11_train.csv')\n",
    "test = pd.read_csv('https://raw.githubusercontent.com/YoungjinBD/data/main/s11_train.csv')\n",
    "\n",
    "train_X = train.drop(['grade'], axis=1)\n",
    "train_y = train['grade']\n",
    "test_X = test.drop(['grade'], axis=1)\n",
    "test_y = test['grade']"
   ]
  },
  {
   "cell_type": "code",
   "execution_count": 2,
   "id": "25bb8b99",
   "metadata": {},
   "outputs": [
    {
     "name": "stdout",
     "output_type": "stream",
     "text": [
      "(256, 6) (179,) (77, 6) (77,)\n"
     ]
    }
   ],
   "source": [
    "# hold-out 방법 적용을 위한 train_test_spilt()\n",
    "# hold-out: 훈련 데이터를 한번 더 분리하여 전체 데이터를 훈련 데이터, 검증 데이터, 테스트 데이터로 나누는 방법\n",
    "from sklearn.model_selection import train_test_split\n",
    "train_X_sub, valid_X,train_y_sub, valid_y = train_test_split(train_X, train_y, test_size=0.3, random_state= 1)\n",
    "\n",
    "print(train_X.shape, train_y_sub.shape, valid_X.shape, valid_y.shape)"
   ]
  },
  {
   "cell_type": "code",
   "execution_count": null,
   "id": "311dfaf1",
   "metadata": {},
   "outputs": [
    {
     "data": {
      "text/html": [
       "<style>#sk-container-id-1 {color: black;}#sk-container-id-1 pre{padding: 0;}#sk-container-id-1 div.sk-toggleable {background-color: white;}#sk-container-id-1 label.sk-toggleable__label {cursor: pointer;display: block;width: 100%;margin-bottom: 0;padding: 0.3em;box-sizing: border-box;text-align: center;}#sk-container-id-1 label.sk-toggleable__label-arrow:before {content: \"▸\";float: left;margin-right: 0.25em;color: #696969;}#sk-container-id-1 label.sk-toggleable__label-arrow:hover:before {color: black;}#sk-container-id-1 div.sk-estimator:hover label.sk-toggleable__label-arrow:before {color: black;}#sk-container-id-1 div.sk-toggleable__content {max-height: 0;max-width: 0;overflow: hidden;text-align: left;background-color: #f0f8ff;}#sk-container-id-1 div.sk-toggleable__content pre {margin: 0.2em;color: black;border-radius: 0.25em;background-color: #f0f8ff;}#sk-container-id-1 input.sk-toggleable__control:checked~div.sk-toggleable__content {max-height: 200px;max-width: 100%;overflow: auto;}#sk-container-id-1 input.sk-toggleable__control:checked~label.sk-toggleable__label-arrow:before {content: \"▾\";}#sk-container-id-1 div.sk-estimator input.sk-toggleable__control:checked~label.sk-toggleable__label {background-color: #d4ebff;}#sk-container-id-1 div.sk-label input.sk-toggleable__control:checked~label.sk-toggleable__label {background-color: #d4ebff;}#sk-container-id-1 input.sk-hidden--visually {border: 0;clip: rect(1px 1px 1px 1px);clip: rect(1px, 1px, 1px, 1px);height: 1px;margin: -1px;overflow: hidden;padding: 0;position: absolute;width: 1px;}#sk-container-id-1 div.sk-estimator {font-family: monospace;background-color: #f0f8ff;border: 1px dotted black;border-radius: 0.25em;box-sizing: border-box;margin-bottom: 0.5em;}#sk-container-id-1 div.sk-estimator:hover {background-color: #d4ebff;}#sk-container-id-1 div.sk-parallel-item::after {content: \"\";width: 100%;border-bottom: 1px solid gray;flex-grow: 1;}#sk-container-id-1 div.sk-label:hover label.sk-toggleable__label {background-color: #d4ebff;}#sk-container-id-1 div.sk-serial::before {content: \"\";position: absolute;border-left: 1px solid gray;box-sizing: border-box;top: 0;bottom: 0;left: 50%;z-index: 0;}#sk-container-id-1 div.sk-serial {display: flex;flex-direction: column;align-items: center;background-color: white;padding-right: 0.2em;padding-left: 0.2em;position: relative;}#sk-container-id-1 div.sk-item {position: relative;z-index: 1;}#sk-container-id-1 div.sk-parallel {display: flex;align-items: stretch;justify-content: center;background-color: white;position: relative;}#sk-container-id-1 div.sk-item::before, #sk-container-id-1 div.sk-parallel-item::before {content: \"\";position: absolute;border-left: 1px solid gray;box-sizing: border-box;top: 0;bottom: 0;left: 50%;z-index: -1;}#sk-container-id-1 div.sk-parallel-item {display: flex;flex-direction: column;z-index: 1;position: relative;background-color: white;}#sk-container-id-1 div.sk-parallel-item:first-child::after {align-self: flex-end;width: 50%;}#sk-container-id-1 div.sk-parallel-item:last-child::after {align-self: flex-start;width: 50%;}#sk-container-id-1 div.sk-parallel-item:only-child::after {width: 0;}#sk-container-id-1 div.sk-dashed-wrapped {border: 1px dashed gray;margin: 0 0.4em 0.5em 0.4em;box-sizing: border-box;padding-bottom: 0.4em;background-color: white;}#sk-container-id-1 div.sk-label label {font-family: monospace;font-weight: bold;display: inline-block;line-height: 1.2em;}#sk-container-id-1 div.sk-label-container {text-align: center;}#sk-container-id-1 div.sk-container {/* jupyter's `normalize.less` sets `[hidden] { display: none; }` but bootstrap.min.css set `[hidden] { display: none !important; }` so we also need the `!important` here to be able to override the default hidden behavior on the sphinx rendered scikit-learn.org. See: https://github.com/scikit-learn/scikit-learn/issues/21755 */display: inline-block !important;position: relative;}#sk-container-id-1 div.sk-text-repr-fallback {display: none;}</style><div id=\"sk-container-id-1\" class=\"sk-top-container\"><div class=\"sk-text-repr-fallback\"><pre>LinearRegression()</pre><b>In a Jupyter environment, please rerun this cell to show the HTML representation or trust the notebook. <br />On GitHub, the HTML representation is unable to render, please try loading this page with nbviewer.org.</b></div><div class=\"sk-container\" hidden><div class=\"sk-item\"><div class=\"sk-estimator sk-toggleable\"><input class=\"sk-toggleable__control sk-hidden--visually\" id=\"sk-estimator-id-1\" type=\"checkbox\" checked><label for=\"sk-estimator-id-1\" class=\"sk-toggleable__label sk-toggleable__label-arrow\">LinearRegression</label><div class=\"sk-toggleable__content\"><pre>LinearRegression()</pre></div></div></div></div></div>"
      ],
      "text/plain": [
       "LinearRegression()"
      ]
     },
     "execution_count": 4,
     "metadata": {},
     "output_type": "execute_result"
    }
   ],
   "source": [
    "# 선형 회귀모델 생성\n",
    "\n",
    "from sklearn.linear_model import LinearRegression\n",
    "lr = LinearRegression()\n",
    "lr.fit(train_X_sub, train_y_sub)"
   ]
  },
  {
   "cell_type": "code",
   "execution_count": null,
   "id": "3e757a5f",
   "metadata": {},
   "outputs": [
    {
     "name": "stdout",
     "output_type": "stream",
     "text": [
      "3.2548776483216892\n"
     ]
    }
   ],
   "source": [
    "# 검증 데이터 RMSE 확인\n",
    "\n",
    "from sklearn.metrics import mean_squared_error\n",
    "pred_val = lr.predict(valid_X)\n",
    "print(mean_squared_error(valid_y, pred_val, squared=False)) # squared=False: 평균제곱'근'오차를 구하기 위한 옵션 기본 값 True이며 이 경우 평균제곱오차(MSE)"
   ]
  },
  {
   "cell_type": "markdown",
   "id": "e50bb934",
   "metadata": {},
   "source": [
    "#### k-폴드 교차검증 방법\n",
    "- 홀드아웃 방법은 데이터를 한 번만 분할하여 모형 성능을 검증하는 것보다 여러 번 분할하여 검증하는 것이 더 안정적인 방법\n",
    "- 훈련 데이터를 임의의 거의 동일한 크기의 그룹으로 여러 번 나눠서 검증하는 방법 (보통 5~10)\n",
    "    1. fold 중 1 fold는 검증 데이터로 취급 나머지 k-1개의ㅣ fold는 훈련 데이터\n",
    "    2. k번 반복 매번 다른 그룹의 fold가 검증 데이터로 사용\n",
    "    3. 총 k개의 추정치가 계산 최종 교차 검증 추정치는 k개 추정치를 평균내서 계산"
   ]
  },
  {
   "cell_type": "code",
   "execution_count": null,
   "id": "1392513a",
   "metadata": {},
   "outputs": [],
   "source": [
    "from sklearn.model_selection import cross_val_score # k-fold cross validation 적용 위한 cross_val_score() # 디폴트 5\n",
    "\n",
    "cv_score = cross_val_score(lr, train_X, train_y, scoring= 'neg_root_mean_squared_error') # 회귀 문제에서는 scoring='neg_root_mean_squared_error' 설정\n",
    "rmse_score = -cv_score # -를 붙여 원래 값으로 복원\n",
    "mean_rmse_score = np.mean(rmse_score)"
   ]
  },
  {
   "cell_type": "code",
   "execution_count": null,
   "id": "21eeb6fd",
   "metadata": {},
   "outputs": [],
   "source": [
    "# cv_score은 음수 처리가 되어 있음 cross_val_score은 값이 클수록 좋은 점수라고 가정하기 때문에 RMSE처럼 작을수록 좋은 값은 음수로 리턴\n"
   ]
  },
  {
   "cell_type": "code",
   "execution_count": 7,
   "id": "19d890cb",
   "metadata": {},
   "outputs": [
    {
     "name": "stdout",
     "output_type": "stream",
     "text": [
      "폴드별 rmse: [2.83277317 2.74347932 3.20350288 3.37650829 3.14794378]\n",
      "교차검증 rmse: 3.0608414901995817\n"
     ]
    }
   ],
   "source": [
    "print('폴드별 rmse:', rmse_score)\n",
    "print('교차검증 rmse:', mean_rmse_score)"
   ]
  },
  {
   "cell_type": "code",
   "execution_count": 9,
   "id": "8d9a562e",
   "metadata": {},
   "outputs": [
    {
     "name": "stdout",
     "output_type": "stream",
     "text": [
      "3.043609474705183\n"
     ]
    }
   ],
   "source": [
    "from sklearn.model_selection import KFold # KFold로 세부 옵션 조절 가능\n",
    "\n",
    "cv = KFold(n_splits = 5, shuffle= True, random_state= 0)\n",
    "\n",
    "from sklearn.model_selection import cross_val_score\n",
    "cv_score2 = cross_val_score(lr, train_X, train_y, scoring='neg_root_mean_squared_error', cv=cv) # 위 cv를 활용 cv 파라미터\n",
    "rmse_score2 = -cv_score2\n",
    "mean_rmse_score2 = np.mean(rmse_score2)\n",
    "\n",
    "print(mean_rmse_score2)\n"
   ]
  },
  {
   "cell_type": "markdown",
   "id": "6c1e2e7b",
   "metadata": {},
   "source": [
    "#### 그리드 서치\n",
    "\n",
    "- 모델의 최적의 초매개변수를 찾고 모델 선응을 개선하는 방법\n",
    "1. 초매개변수 범위 지정\n",
    "2. 모델 학습 및 평가\n",
    "3. 최적의 초매개변수 선택"
   ]
  },
  {
   "cell_type": "code",
   "execution_count": 10,
   "id": "10a2229a",
   "metadata": {},
   "outputs": [],
   "source": [
    "# 예제\n",
    "train = pd.read_csv('https://raw.githubusercontent.com/YoungjinBD/data/main/s11_train.csv')\n",
    "test = pd.read_csv('https://raw.githubusercontent.com/YoungjinBD/data/main/s11_train.csv')\n",
    "\n",
    "train_X = train.drop(['grade'], axis= 1)\n",
    "train_y = train['grade']\n",
    "\n",
    "test_X = test.drop(['grade'], axis=1)\n",
    "test_y = test['grade']"
   ]
  },
  {
   "cell_type": "code",
   "execution_count": 11,
   "id": "6c0c0737",
   "metadata": {},
   "outputs": [],
   "source": [
    "# 랜덤 포레스트 모델 적용\n",
    "from sklearn.model_selection import GridSearchCV\n",
    "from sklearn.ensemble import RandomForestRegressor\n",
    "\n",
    "rf = RandomForestRegressor(random_state=1)"
   ]
  },
  {
   "cell_type": "code",
   "execution_count": 12,
   "id": "7eeb683a",
   "metadata": {},
   "outputs": [
    {
     "name": "stdout",
     "output_type": "stream",
     "text": [
      "bootstrap True\n",
      "ccp_alpha 0.0\n",
      "criterion squared_error\n",
      "max_depth None\n",
      "max_features 1.0\n",
      "max_leaf_nodes None\n",
      "max_samples None\n",
      "min_impurity_decrease 0.0\n",
      "min_samples_leaf 1\n",
      "min_samples_split 2\n",
      "min_weight_fraction_leaf 0.0\n",
      "n_estimators 100\n",
      "n_jobs None\n",
      "oob_score False\n",
      "random_state 1\n",
      "verbose 0\n",
      "warm_start False\n"
     ]
    }
   ],
   "source": [
    "# 랜덤 포레스트 모델 초매개변수 명칭 확인\n",
    "\n",
    "params = rf.get_params()\n",
    "\n",
    "for param_name, param_value in params.items():\n",
    "    print(param_name, param_value)"
   ]
  },
  {
   "cell_type": "code",
   "execution_count": 19,
   "id": "670a5fe7",
   "metadata": {},
   "outputs": [],
   "source": [
    "# 초매개변수 정의 총 3x3 9개의 초매개변수 조합\n",
    "param_grid = {'max_depth': [10, 20, 30], # 최대 트리 깊이\n",
    "              'ccp_alpha': [0.1, 0.3, 0.5]} #비용-복잡도 가지치기 계수"
   ]
  },
  {
   "cell_type": "code",
   "execution_count": 20,
   "id": "28e3b616",
   "metadata": {},
   "outputs": [
    {
     "data": {
      "text/html": [
       "<style>#sk-container-id-2 {color: black;}#sk-container-id-2 pre{padding: 0;}#sk-container-id-2 div.sk-toggleable {background-color: white;}#sk-container-id-2 label.sk-toggleable__label {cursor: pointer;display: block;width: 100%;margin-bottom: 0;padding: 0.3em;box-sizing: border-box;text-align: center;}#sk-container-id-2 label.sk-toggleable__label-arrow:before {content: \"▸\";float: left;margin-right: 0.25em;color: #696969;}#sk-container-id-2 label.sk-toggleable__label-arrow:hover:before {color: black;}#sk-container-id-2 div.sk-estimator:hover label.sk-toggleable__label-arrow:before {color: black;}#sk-container-id-2 div.sk-toggleable__content {max-height: 0;max-width: 0;overflow: hidden;text-align: left;background-color: #f0f8ff;}#sk-container-id-2 div.sk-toggleable__content pre {margin: 0.2em;color: black;border-radius: 0.25em;background-color: #f0f8ff;}#sk-container-id-2 input.sk-toggleable__control:checked~div.sk-toggleable__content {max-height: 200px;max-width: 100%;overflow: auto;}#sk-container-id-2 input.sk-toggleable__control:checked~label.sk-toggleable__label-arrow:before {content: \"▾\";}#sk-container-id-2 div.sk-estimator input.sk-toggleable__control:checked~label.sk-toggleable__label {background-color: #d4ebff;}#sk-container-id-2 div.sk-label input.sk-toggleable__control:checked~label.sk-toggleable__label {background-color: #d4ebff;}#sk-container-id-2 input.sk-hidden--visually {border: 0;clip: rect(1px 1px 1px 1px);clip: rect(1px, 1px, 1px, 1px);height: 1px;margin: -1px;overflow: hidden;padding: 0;position: absolute;width: 1px;}#sk-container-id-2 div.sk-estimator {font-family: monospace;background-color: #f0f8ff;border: 1px dotted black;border-radius: 0.25em;box-sizing: border-box;margin-bottom: 0.5em;}#sk-container-id-2 div.sk-estimator:hover {background-color: #d4ebff;}#sk-container-id-2 div.sk-parallel-item::after {content: \"\";width: 100%;border-bottom: 1px solid gray;flex-grow: 1;}#sk-container-id-2 div.sk-label:hover label.sk-toggleable__label {background-color: #d4ebff;}#sk-container-id-2 div.sk-serial::before {content: \"\";position: absolute;border-left: 1px solid gray;box-sizing: border-box;top: 0;bottom: 0;left: 50%;z-index: 0;}#sk-container-id-2 div.sk-serial {display: flex;flex-direction: column;align-items: center;background-color: white;padding-right: 0.2em;padding-left: 0.2em;position: relative;}#sk-container-id-2 div.sk-item {position: relative;z-index: 1;}#sk-container-id-2 div.sk-parallel {display: flex;align-items: stretch;justify-content: center;background-color: white;position: relative;}#sk-container-id-2 div.sk-item::before, #sk-container-id-2 div.sk-parallel-item::before {content: \"\";position: absolute;border-left: 1px solid gray;box-sizing: border-box;top: 0;bottom: 0;left: 50%;z-index: -1;}#sk-container-id-2 div.sk-parallel-item {display: flex;flex-direction: column;z-index: 1;position: relative;background-color: white;}#sk-container-id-2 div.sk-parallel-item:first-child::after {align-self: flex-end;width: 50%;}#sk-container-id-2 div.sk-parallel-item:last-child::after {align-self: flex-start;width: 50%;}#sk-container-id-2 div.sk-parallel-item:only-child::after {width: 0;}#sk-container-id-2 div.sk-dashed-wrapped {border: 1px dashed gray;margin: 0 0.4em 0.5em 0.4em;box-sizing: border-box;padding-bottom: 0.4em;background-color: white;}#sk-container-id-2 div.sk-label label {font-family: monospace;font-weight: bold;display: inline-block;line-height: 1.2em;}#sk-container-id-2 div.sk-label-container {text-align: center;}#sk-container-id-2 div.sk-container {/* jupyter's `normalize.less` sets `[hidden] { display: none; }` but bootstrap.min.css set `[hidden] { display: none !important; }` so we also need the `!important` here to be able to override the default hidden behavior on the sphinx rendered scikit-learn.org. See: https://github.com/scikit-learn/scikit-learn/issues/21755 */display: inline-block !important;position: relative;}#sk-container-id-2 div.sk-text-repr-fallback {display: none;}</style><div id=\"sk-container-id-2\" class=\"sk-top-container\"><div class=\"sk-text-repr-fallback\"><pre>GridSearchCV(cv=5, estimator=RandomForestRegressor(random_state=1),\n",
       "             param_grid={&#x27;ccp_alpha&#x27;: [0.1, 0.3, 0.5],\n",
       "                         &#x27;max_depth&#x27;: [10, 20, 30]},\n",
       "             scoring=&#x27;neg_root_mean_squared_error&#x27;)</pre><b>In a Jupyter environment, please rerun this cell to show the HTML representation or trust the notebook. <br />On GitHub, the HTML representation is unable to render, please try loading this page with nbviewer.org.</b></div><div class=\"sk-container\" hidden><div class=\"sk-item sk-dashed-wrapped\"><div class=\"sk-label-container\"><div class=\"sk-label sk-toggleable\"><input class=\"sk-toggleable__control sk-hidden--visually\" id=\"sk-estimator-id-2\" type=\"checkbox\" ><label for=\"sk-estimator-id-2\" class=\"sk-toggleable__label sk-toggleable__label-arrow\">GridSearchCV</label><div class=\"sk-toggleable__content\"><pre>GridSearchCV(cv=5, estimator=RandomForestRegressor(random_state=1),\n",
       "             param_grid={&#x27;ccp_alpha&#x27;: [0.1, 0.3, 0.5],\n",
       "                         &#x27;max_depth&#x27;: [10, 20, 30]},\n",
       "             scoring=&#x27;neg_root_mean_squared_error&#x27;)</pre></div></div></div><div class=\"sk-parallel\"><div class=\"sk-parallel-item\"><div class=\"sk-item\"><div class=\"sk-label-container\"><div class=\"sk-label sk-toggleable\"><input class=\"sk-toggleable__control sk-hidden--visually\" id=\"sk-estimator-id-3\" type=\"checkbox\" ><label for=\"sk-estimator-id-3\" class=\"sk-toggleable__label sk-toggleable__label-arrow\">estimator: RandomForestRegressor</label><div class=\"sk-toggleable__content\"><pre>RandomForestRegressor(random_state=1)</pre></div></div></div><div class=\"sk-serial\"><div class=\"sk-item\"><div class=\"sk-estimator sk-toggleable\"><input class=\"sk-toggleable__control sk-hidden--visually\" id=\"sk-estimator-id-4\" type=\"checkbox\" ><label for=\"sk-estimator-id-4\" class=\"sk-toggleable__label sk-toggleable__label-arrow\">RandomForestRegressor</label><div class=\"sk-toggleable__content\"><pre>RandomForestRegressor(random_state=1)</pre></div></div></div></div></div></div></div></div></div></div>"
      ],
      "text/plain": [
       "GridSearchCV(cv=5, estimator=RandomForestRegressor(random_state=1),\n",
       "             param_grid={'ccp_alpha': [0.1, 0.3, 0.5],\n",
       "                         'max_depth': [10, 20, 30]},\n",
       "             scoring='neg_root_mean_squared_error')"
      ]
     },
     "execution_count": 20,
     "metadata": {},
     "output_type": "execute_result"
    }
   ],
   "source": [
    "# gridsearchcv() 최적의 초매개변수 탐색 cv=5 설정 모델 학습 평가시 5-폴드 교차검증 적용\n",
    "\n",
    "rf_search = GridSearchCV(estimator = rf,\n",
    "                         param_grid = param_grid,\n",
    "                         cv = 5,\n",
    "                         scoring = 'neg_root_mean_squared_error')\n",
    "\n",
    "rf_search.fit(train_X, train_y)"
   ]
  },
  {
   "cell_type": "code",
   "execution_count": 22,
   "id": "47da4851",
   "metadata": {},
   "outputs": [
    {
     "name": "stdout",
     "output_type": "stream",
     "text": [
      "{'ccp_alpha': 0.5, 'max_depth': 10}\n"
     ]
    }
   ],
   "source": [
    "# 최적의 초매개변수 조합은 .best_params_를 통해 확인\n",
    "best_params = rf_search.best_params_\n",
    "print(best_params)"
   ]
  },
  {
   "cell_type": "code",
   "execution_count": 24,
   "id": "38a9fdd4",
   "metadata": {},
   "outputs": [
    {
     "name": "stdout",
     "output_type": "stream",
     "text": [
      "교차검증 RMSE: 3.028879073471929\n"
     ]
    }
   ],
   "source": [
    "# 각 조매개변수 조합별로 5-폴드 교차검증을 적용했을 때, 최적의 RMSE는 .best_score_를 통해 확인\n",
    "\n",
    "mean_rmse_score3 = -rf_search.best_score_\n",
    "print('교차검증 RMSE:', mean_rmse_score3)"
   ]
  },
  {
   "cell_type": "code",
   "execution_count": null,
   "id": "50a6e87c",
   "metadata": {},
   "outputs": [],
   "source": [
    "# Hold-out, k-폴드 교차검증 방법 수행 시 주의 사항\n",
    "\n",
    "train = pd.read_csv('https://raw.githubusercontent.com/YoungjinBD/data/main/s11_train.csv')\n",
    "test = pd.read_csv('https://raw.githubusercontent.com/YoungjinBD/data/main/s11_train.csv')\n",
    "\n",
    "train_X = train.drop(['grade'], axis=1)\n",
    "train_y = train['grade']\n",
    "\n",
    "test_X = test.drop(['grade'], axis = 1)\n",
    "test_y = test['grade']\n",
    "\n",
    "from sklearn.model_selection import train_test_split\n",
    "train_X_sub, valid_X, train_y_sub, valid_y = train_test_split(train_X, train_y, test_size=0.3, random_state=1)"
   ]
  },
  {
   "cell_type": "code",
   "execution_count": 25,
   "id": "0140c1ec",
   "metadata": {},
   "outputs": [],
   "source": [
    "# 표준 정규화 수치형 설명변수에 적용\n",
    "\n",
    "from sklearn.preprocessing import StandardScaler\n",
    "stdscaler = StandardScaler()\n",
    "\n",
    "num_columns = train_X.select_dtypes('number').columns.to_list()\n",
    "train_X_numeric_scaled = stdscaler.fit_transform(train_X[num_columns])\n",
    "valid_X_numeric_sclaed = stdscaler.transform(valid_X[num_columns])\n",
    "test_X_numeric_sclaed = stdscaler.transform(test_X[num_columns])"
   ]
  },
  {
   "cell_type": "markdown",
   "id": "d3e20b0a",
   "metadata": {},
   "source": [
    "#### 파이프라인"
   ]
  },
  {
   "cell_type": "code",
   "execution_count": 27,
   "id": "255a81ed",
   "metadata": {},
   "outputs": [
    {
     "data": {
      "text/html": [
       "<style>#sk-container-id-3 {color: black;}#sk-container-id-3 pre{padding: 0;}#sk-container-id-3 div.sk-toggleable {background-color: white;}#sk-container-id-3 label.sk-toggleable__label {cursor: pointer;display: block;width: 100%;margin-bottom: 0;padding: 0.3em;box-sizing: border-box;text-align: center;}#sk-container-id-3 label.sk-toggleable__label-arrow:before {content: \"▸\";float: left;margin-right: 0.25em;color: #696969;}#sk-container-id-3 label.sk-toggleable__label-arrow:hover:before {color: black;}#sk-container-id-3 div.sk-estimator:hover label.sk-toggleable__label-arrow:before {color: black;}#sk-container-id-3 div.sk-toggleable__content {max-height: 0;max-width: 0;overflow: hidden;text-align: left;background-color: #f0f8ff;}#sk-container-id-3 div.sk-toggleable__content pre {margin: 0.2em;color: black;border-radius: 0.25em;background-color: #f0f8ff;}#sk-container-id-3 input.sk-toggleable__control:checked~div.sk-toggleable__content {max-height: 200px;max-width: 100%;overflow: auto;}#sk-container-id-3 input.sk-toggleable__control:checked~label.sk-toggleable__label-arrow:before {content: \"▾\";}#sk-container-id-3 div.sk-estimator input.sk-toggleable__control:checked~label.sk-toggleable__label {background-color: #d4ebff;}#sk-container-id-3 div.sk-label input.sk-toggleable__control:checked~label.sk-toggleable__label {background-color: #d4ebff;}#sk-container-id-3 input.sk-hidden--visually {border: 0;clip: rect(1px 1px 1px 1px);clip: rect(1px, 1px, 1px, 1px);height: 1px;margin: -1px;overflow: hidden;padding: 0;position: absolute;width: 1px;}#sk-container-id-3 div.sk-estimator {font-family: monospace;background-color: #f0f8ff;border: 1px dotted black;border-radius: 0.25em;box-sizing: border-box;margin-bottom: 0.5em;}#sk-container-id-3 div.sk-estimator:hover {background-color: #d4ebff;}#sk-container-id-3 div.sk-parallel-item::after {content: \"\";width: 100%;border-bottom: 1px solid gray;flex-grow: 1;}#sk-container-id-3 div.sk-label:hover label.sk-toggleable__label {background-color: #d4ebff;}#sk-container-id-3 div.sk-serial::before {content: \"\";position: absolute;border-left: 1px solid gray;box-sizing: border-box;top: 0;bottom: 0;left: 50%;z-index: 0;}#sk-container-id-3 div.sk-serial {display: flex;flex-direction: column;align-items: center;background-color: white;padding-right: 0.2em;padding-left: 0.2em;position: relative;}#sk-container-id-3 div.sk-item {position: relative;z-index: 1;}#sk-container-id-3 div.sk-parallel {display: flex;align-items: stretch;justify-content: center;background-color: white;position: relative;}#sk-container-id-3 div.sk-item::before, #sk-container-id-3 div.sk-parallel-item::before {content: \"\";position: absolute;border-left: 1px solid gray;box-sizing: border-box;top: 0;bottom: 0;left: 50%;z-index: -1;}#sk-container-id-3 div.sk-parallel-item {display: flex;flex-direction: column;z-index: 1;position: relative;background-color: white;}#sk-container-id-3 div.sk-parallel-item:first-child::after {align-self: flex-end;width: 50%;}#sk-container-id-3 div.sk-parallel-item:last-child::after {align-self: flex-start;width: 50%;}#sk-container-id-3 div.sk-parallel-item:only-child::after {width: 0;}#sk-container-id-3 div.sk-dashed-wrapped {border: 1px dashed gray;margin: 0 0.4em 0.5em 0.4em;box-sizing: border-box;padding-bottom: 0.4em;background-color: white;}#sk-container-id-3 div.sk-label label {font-family: monospace;font-weight: bold;display: inline-block;line-height: 1.2em;}#sk-container-id-3 div.sk-label-container {text-align: center;}#sk-container-id-3 div.sk-container {/* jupyter's `normalize.less` sets `[hidden] { display: none; }` but bootstrap.min.css set `[hidden] { display: none !important; }` so we also need the `!important` here to be able to override the default hidden behavior on the sphinx rendered scikit-learn.org. See: https://github.com/scikit-learn/scikit-learn/issues/21755 */display: inline-block !important;position: relative;}#sk-container-id-3 div.sk-text-repr-fallback {display: none;}</style><div id=\"sk-container-id-3\" class=\"sk-top-container\"><div class=\"sk-text-repr-fallback\"><pre>Pipeline(steps=[(&#x27;preprocess&#x27;, StandardScaler()), (&#x27;regressor&#x27;, SVR())])</pre><b>In a Jupyter environment, please rerun this cell to show the HTML representation or trust the notebook. <br />On GitHub, the HTML representation is unable to render, please try loading this page with nbviewer.org.</b></div><div class=\"sk-container\" hidden><div class=\"sk-item sk-dashed-wrapped\"><div class=\"sk-label-container\"><div class=\"sk-label sk-toggleable\"><input class=\"sk-toggleable__control sk-hidden--visually\" id=\"sk-estimator-id-5\" type=\"checkbox\" ><label for=\"sk-estimator-id-5\" class=\"sk-toggleable__label sk-toggleable__label-arrow\">Pipeline</label><div class=\"sk-toggleable__content\"><pre>Pipeline(steps=[(&#x27;preprocess&#x27;, StandardScaler()), (&#x27;regressor&#x27;, SVR())])</pre></div></div></div><div class=\"sk-serial\"><div class=\"sk-item\"><div class=\"sk-estimator sk-toggleable\"><input class=\"sk-toggleable__control sk-hidden--visually\" id=\"sk-estimator-id-6\" type=\"checkbox\" ><label for=\"sk-estimator-id-6\" class=\"sk-toggleable__label sk-toggleable__label-arrow\">StandardScaler</label><div class=\"sk-toggleable__content\"><pre>StandardScaler()</pre></div></div></div><div class=\"sk-item\"><div class=\"sk-estimator sk-toggleable\"><input class=\"sk-toggleable__control sk-hidden--visually\" id=\"sk-estimator-id-7\" type=\"checkbox\" ><label for=\"sk-estimator-id-7\" class=\"sk-toggleable__label sk-toggleable__label-arrow\">SVR</label><div class=\"sk-toggleable__content\"><pre>SVR()</pre></div></div></div></div></div></div></div>"
      ],
      "text/plain": [
       "Pipeline(steps=[('preprocess', StandardScaler()), ('regressor', SVR())])"
      ]
     },
     "execution_count": 27,
     "metadata": {},
     "output_type": "execute_result"
    }
   ],
   "source": [
    "# 정형 데이터에서 파이프라인 적용\n",
    "\n",
    "train = pd.read_csv('https://raw.githubusercontent.com/YoungjinBD/data/main/s11_train.csv')\n",
    "test = pd.read_csv('https://raw.githubusercontent.com/YoungjinBD/data/main/s11_test.csv')\n",
    "\n",
    "train_X = train.drop(['grade'], axis=1)\n",
    "train_y = train['grade']\n",
    "\n",
    "test_X = test.drop(['grade'], axis=1)\n",
    "test_y = test['grade']\n",
    "\n",
    "# 데이터 전처리: standardscaler 적용 모형은 svr활용 파이프라인 구축\n",
    "\n",
    "from sklearn.preprocessing import StandardScaler\n",
    "from sklearn.pipeline import Pipeline\n",
    "from sklearn.svm import SVR\n",
    "\n",
    "svr_pipe = Pipeline([\n",
    "    ('preprocess', StandardScaler()),\n",
    "    ('regressor', SVR())\n",
    "])\n",
    "\n",
    "svr_pipe.fit(train_X, train_y)"
   ]
  },
  {
   "cell_type": "code",
   "execution_count": 28,
   "id": "2e75fb86",
   "metadata": {},
   "outputs": [
    {
     "data": {
      "text/html": [
       "<style>#sk-container-id-4 {color: black;}#sk-container-id-4 pre{padding: 0;}#sk-container-id-4 div.sk-toggleable {background-color: white;}#sk-container-id-4 label.sk-toggleable__label {cursor: pointer;display: block;width: 100%;margin-bottom: 0;padding: 0.3em;box-sizing: border-box;text-align: center;}#sk-container-id-4 label.sk-toggleable__label-arrow:before {content: \"▸\";float: left;margin-right: 0.25em;color: #696969;}#sk-container-id-4 label.sk-toggleable__label-arrow:hover:before {color: black;}#sk-container-id-4 div.sk-estimator:hover label.sk-toggleable__label-arrow:before {color: black;}#sk-container-id-4 div.sk-toggleable__content {max-height: 0;max-width: 0;overflow: hidden;text-align: left;background-color: #f0f8ff;}#sk-container-id-4 div.sk-toggleable__content pre {margin: 0.2em;color: black;border-radius: 0.25em;background-color: #f0f8ff;}#sk-container-id-4 input.sk-toggleable__control:checked~div.sk-toggleable__content {max-height: 200px;max-width: 100%;overflow: auto;}#sk-container-id-4 input.sk-toggleable__control:checked~label.sk-toggleable__label-arrow:before {content: \"▾\";}#sk-container-id-4 div.sk-estimator input.sk-toggleable__control:checked~label.sk-toggleable__label {background-color: #d4ebff;}#sk-container-id-4 div.sk-label input.sk-toggleable__control:checked~label.sk-toggleable__label {background-color: #d4ebff;}#sk-container-id-4 input.sk-hidden--visually {border: 0;clip: rect(1px 1px 1px 1px);clip: rect(1px, 1px, 1px, 1px);height: 1px;margin: -1px;overflow: hidden;padding: 0;position: absolute;width: 1px;}#sk-container-id-4 div.sk-estimator {font-family: monospace;background-color: #f0f8ff;border: 1px dotted black;border-radius: 0.25em;box-sizing: border-box;margin-bottom: 0.5em;}#sk-container-id-4 div.sk-estimator:hover {background-color: #d4ebff;}#sk-container-id-4 div.sk-parallel-item::after {content: \"\";width: 100%;border-bottom: 1px solid gray;flex-grow: 1;}#sk-container-id-4 div.sk-label:hover label.sk-toggleable__label {background-color: #d4ebff;}#sk-container-id-4 div.sk-serial::before {content: \"\";position: absolute;border-left: 1px solid gray;box-sizing: border-box;top: 0;bottom: 0;left: 50%;z-index: 0;}#sk-container-id-4 div.sk-serial {display: flex;flex-direction: column;align-items: center;background-color: white;padding-right: 0.2em;padding-left: 0.2em;position: relative;}#sk-container-id-4 div.sk-item {position: relative;z-index: 1;}#sk-container-id-4 div.sk-parallel {display: flex;align-items: stretch;justify-content: center;background-color: white;position: relative;}#sk-container-id-4 div.sk-item::before, #sk-container-id-4 div.sk-parallel-item::before {content: \"\";position: absolute;border-left: 1px solid gray;box-sizing: border-box;top: 0;bottom: 0;left: 50%;z-index: -1;}#sk-container-id-4 div.sk-parallel-item {display: flex;flex-direction: column;z-index: 1;position: relative;background-color: white;}#sk-container-id-4 div.sk-parallel-item:first-child::after {align-self: flex-end;width: 50%;}#sk-container-id-4 div.sk-parallel-item:last-child::after {align-self: flex-start;width: 50%;}#sk-container-id-4 div.sk-parallel-item:only-child::after {width: 0;}#sk-container-id-4 div.sk-dashed-wrapped {border: 1px dashed gray;margin: 0 0.4em 0.5em 0.4em;box-sizing: border-box;padding-bottom: 0.4em;background-color: white;}#sk-container-id-4 div.sk-label label {font-family: monospace;font-weight: bold;display: inline-block;line-height: 1.2em;}#sk-container-id-4 div.sk-label-container {text-align: center;}#sk-container-id-4 div.sk-container {/* jupyter's `normalize.less` sets `[hidden] { display: none; }` but bootstrap.min.css set `[hidden] { display: none !important; }` so we also need the `!important` here to be able to override the default hidden behavior on the sphinx rendered scikit-learn.org. See: https://github.com/scikit-learn/scikit-learn/issues/21755 */display: inline-block !important;position: relative;}#sk-container-id-4 div.sk-text-repr-fallback {display: none;}</style><div id=\"sk-container-id-4\" class=\"sk-top-container\"><div class=\"sk-text-repr-fallback\"><pre>Pipeline(steps=[(&#x27;standardscaler&#x27;, StandardScaler()), (&#x27;svr&#x27;, SVR())])</pre><b>In a Jupyter environment, please rerun this cell to show the HTML representation or trust the notebook. <br />On GitHub, the HTML representation is unable to render, please try loading this page with nbviewer.org.</b></div><div class=\"sk-container\" hidden><div class=\"sk-item sk-dashed-wrapped\"><div class=\"sk-label-container\"><div class=\"sk-label sk-toggleable\"><input class=\"sk-toggleable__control sk-hidden--visually\" id=\"sk-estimator-id-8\" type=\"checkbox\" ><label for=\"sk-estimator-id-8\" class=\"sk-toggleable__label sk-toggleable__label-arrow\">Pipeline</label><div class=\"sk-toggleable__content\"><pre>Pipeline(steps=[(&#x27;standardscaler&#x27;, StandardScaler()), (&#x27;svr&#x27;, SVR())])</pre></div></div></div><div class=\"sk-serial\"><div class=\"sk-item\"><div class=\"sk-estimator sk-toggleable\"><input class=\"sk-toggleable__control sk-hidden--visually\" id=\"sk-estimator-id-9\" type=\"checkbox\" ><label for=\"sk-estimator-id-9\" class=\"sk-toggleable__label sk-toggleable__label-arrow\">StandardScaler</label><div class=\"sk-toggleable__content\"><pre>StandardScaler()</pre></div></div></div><div class=\"sk-item\"><div class=\"sk-estimator sk-toggleable\"><input class=\"sk-toggleable__control sk-hidden--visually\" id=\"sk-estimator-id-10\" type=\"checkbox\" ><label for=\"sk-estimator-id-10\" class=\"sk-toggleable__label sk-toggleable__label-arrow\">SVR</label><div class=\"sk-toggleable__content\"><pre>SVR()</pre></div></div></div></div></div></div></div>"
      ],
      "text/plain": [
       "Pipeline(steps=[('standardscaler', StandardScaler()), ('svr', SVR())])"
      ]
     },
     "execution_count": 28,
     "metadata": {},
     "output_type": "execute_result"
    }
   ],
   "source": [
    "# pipe에 이름을 붙이기 번거로울 경우 make_pipeline 사용\n",
    "\n",
    "from sklearn.pipeline import make_pipeline\n",
    "from sklearn.svm import SVR\n",
    "\n",
    "svr_pipe2 = make_pipeline(\n",
    "    StandardScaler(),\n",
    "    SVR()\n",
    ")\n",
    "svr_pipe2.fit(train_X, train_y)"
   ]
  },
  {
   "cell_type": "code",
   "execution_count": 29,
   "id": "094554e4",
   "metadata": {},
   "outputs": [
    {
     "name": "stdout",
     "output_type": "stream",
     "text": [
      "3.040520314114216\n"
     ]
    }
   ],
   "source": [
    "# 5-k fold 교차검증 활용\n",
    "from sklearn.model_selection import cross_val_score\n",
    "\n",
    "cv_score4 = cross_val_score(svr_pipe,\n",
    "                            train_X,\n",
    "                            train_y,\n",
    "                            scoring= 'neg_root_mean_squared_error',\n",
    "                            cv=5)\n",
    "\n",
    "rmse_score4 = -cv_score4\n",
    "maen_rmse_score4 = np.mean(rmse_score4)\n",
    "print(maen_rmse_score4)"
   ]
  },
  {
   "cell_type": "markdown",
   "id": "b6af1359",
   "metadata": {},
   "source": [
    "### 그리드 서치 적용해보기"
   ]
  },
  {
   "cell_type": "code",
   "execution_count": 30,
   "id": "eaf7afd0",
   "metadata": {},
   "outputs": [
    {
     "name": "stdout",
     "output_type": "stream",
     "text": [
      "SVR 초매개변수: {'C': 1.0, 'cache_size': 200, 'coef0': 0.0, 'degree': 3, 'epsilon': 0.1, 'gamma': 'scale', 'kernel': 'rbf', 'max_iter': -1, 'shrinking': True, 'tol': 0.001, 'verbose': False}\n"
     ]
    }
   ],
   "source": [
    "# SVR() 하이퍼파라미터 명칭 확인\n",
    "\n",
    "print('SVR 초매개변수:', SVR().get_params())"
   ]
  },
  {
   "cell_type": "code",
   "execution_count": 31,
   "id": "0f8ed901",
   "metadata": {},
   "outputs": [],
   "source": [
    "SVR_param = {'regressor__C': np.arange(1, 100, 20)}"
   ]
  },
  {
   "cell_type": "code",
   "execution_count": 32,
   "id": "46bc13e1",
   "metadata": {},
   "outputs": [
    {
     "data": {
      "text/html": [
       "<style>#sk-container-id-5 {color: black;}#sk-container-id-5 pre{padding: 0;}#sk-container-id-5 div.sk-toggleable {background-color: white;}#sk-container-id-5 label.sk-toggleable__label {cursor: pointer;display: block;width: 100%;margin-bottom: 0;padding: 0.3em;box-sizing: border-box;text-align: center;}#sk-container-id-5 label.sk-toggleable__label-arrow:before {content: \"▸\";float: left;margin-right: 0.25em;color: #696969;}#sk-container-id-5 label.sk-toggleable__label-arrow:hover:before {color: black;}#sk-container-id-5 div.sk-estimator:hover label.sk-toggleable__label-arrow:before {color: black;}#sk-container-id-5 div.sk-toggleable__content {max-height: 0;max-width: 0;overflow: hidden;text-align: left;background-color: #f0f8ff;}#sk-container-id-5 div.sk-toggleable__content pre {margin: 0.2em;color: black;border-radius: 0.25em;background-color: #f0f8ff;}#sk-container-id-5 input.sk-toggleable__control:checked~div.sk-toggleable__content {max-height: 200px;max-width: 100%;overflow: auto;}#sk-container-id-5 input.sk-toggleable__control:checked~label.sk-toggleable__label-arrow:before {content: \"▾\";}#sk-container-id-5 div.sk-estimator input.sk-toggleable__control:checked~label.sk-toggleable__label {background-color: #d4ebff;}#sk-container-id-5 div.sk-label input.sk-toggleable__control:checked~label.sk-toggleable__label {background-color: #d4ebff;}#sk-container-id-5 input.sk-hidden--visually {border: 0;clip: rect(1px 1px 1px 1px);clip: rect(1px, 1px, 1px, 1px);height: 1px;margin: -1px;overflow: hidden;padding: 0;position: absolute;width: 1px;}#sk-container-id-5 div.sk-estimator {font-family: monospace;background-color: #f0f8ff;border: 1px dotted black;border-radius: 0.25em;box-sizing: border-box;margin-bottom: 0.5em;}#sk-container-id-5 div.sk-estimator:hover {background-color: #d4ebff;}#sk-container-id-5 div.sk-parallel-item::after {content: \"\";width: 100%;border-bottom: 1px solid gray;flex-grow: 1;}#sk-container-id-5 div.sk-label:hover label.sk-toggleable__label {background-color: #d4ebff;}#sk-container-id-5 div.sk-serial::before {content: \"\";position: absolute;border-left: 1px solid gray;box-sizing: border-box;top: 0;bottom: 0;left: 50%;z-index: 0;}#sk-container-id-5 div.sk-serial {display: flex;flex-direction: column;align-items: center;background-color: white;padding-right: 0.2em;padding-left: 0.2em;position: relative;}#sk-container-id-5 div.sk-item {position: relative;z-index: 1;}#sk-container-id-5 div.sk-parallel {display: flex;align-items: stretch;justify-content: center;background-color: white;position: relative;}#sk-container-id-5 div.sk-item::before, #sk-container-id-5 div.sk-parallel-item::before {content: \"\";position: absolute;border-left: 1px solid gray;box-sizing: border-box;top: 0;bottom: 0;left: 50%;z-index: -1;}#sk-container-id-5 div.sk-parallel-item {display: flex;flex-direction: column;z-index: 1;position: relative;background-color: white;}#sk-container-id-5 div.sk-parallel-item:first-child::after {align-self: flex-end;width: 50%;}#sk-container-id-5 div.sk-parallel-item:last-child::after {align-self: flex-start;width: 50%;}#sk-container-id-5 div.sk-parallel-item:only-child::after {width: 0;}#sk-container-id-5 div.sk-dashed-wrapped {border: 1px dashed gray;margin: 0 0.4em 0.5em 0.4em;box-sizing: border-box;padding-bottom: 0.4em;background-color: white;}#sk-container-id-5 div.sk-label label {font-family: monospace;font-weight: bold;display: inline-block;line-height: 1.2em;}#sk-container-id-5 div.sk-label-container {text-align: center;}#sk-container-id-5 div.sk-container {/* jupyter's `normalize.less` sets `[hidden] { display: none; }` but bootstrap.min.css set `[hidden] { display: none !important; }` so we also need the `!important` here to be able to override the default hidden behavior on the sphinx rendered scikit-learn.org. See: https://github.com/scikit-learn/scikit-learn/issues/21755 */display: inline-block !important;position: relative;}#sk-container-id-5 div.sk-text-repr-fallback {display: none;}</style><div id=\"sk-container-id-5\" class=\"sk-top-container\"><div class=\"sk-text-repr-fallback\"><pre>GridSearchCV(cv=5,\n",
       "             estimator=Pipeline(steps=[(&#x27;preprocess&#x27;, StandardScaler()),\n",
       "                                       (&#x27;regressor&#x27;, SVR())]),\n",
       "             param_grid={&#x27;regressor__C&#x27;: array([ 1, 21, 41, 61, 81])},\n",
       "             scoring=&#x27;neg_root_mean_squared_error&#x27;)</pre><b>In a Jupyter environment, please rerun this cell to show the HTML representation or trust the notebook. <br />On GitHub, the HTML representation is unable to render, please try loading this page with nbviewer.org.</b></div><div class=\"sk-container\" hidden><div class=\"sk-item sk-dashed-wrapped\"><div class=\"sk-label-container\"><div class=\"sk-label sk-toggleable\"><input class=\"sk-toggleable__control sk-hidden--visually\" id=\"sk-estimator-id-11\" type=\"checkbox\" ><label for=\"sk-estimator-id-11\" class=\"sk-toggleable__label sk-toggleable__label-arrow\">GridSearchCV</label><div class=\"sk-toggleable__content\"><pre>GridSearchCV(cv=5,\n",
       "             estimator=Pipeline(steps=[(&#x27;preprocess&#x27;, StandardScaler()),\n",
       "                                       (&#x27;regressor&#x27;, SVR())]),\n",
       "             param_grid={&#x27;regressor__C&#x27;: array([ 1, 21, 41, 61, 81])},\n",
       "             scoring=&#x27;neg_root_mean_squared_error&#x27;)</pre></div></div></div><div class=\"sk-parallel\"><div class=\"sk-parallel-item\"><div class=\"sk-item\"><div class=\"sk-label-container\"><div class=\"sk-label sk-toggleable\"><input class=\"sk-toggleable__control sk-hidden--visually\" id=\"sk-estimator-id-12\" type=\"checkbox\" ><label for=\"sk-estimator-id-12\" class=\"sk-toggleable__label sk-toggleable__label-arrow\">estimator: Pipeline</label><div class=\"sk-toggleable__content\"><pre>Pipeline(steps=[(&#x27;preprocess&#x27;, StandardScaler()), (&#x27;regressor&#x27;, SVR())])</pre></div></div></div><div class=\"sk-serial\"><div class=\"sk-item\"><div class=\"sk-serial\"><div class=\"sk-item\"><div class=\"sk-estimator sk-toggleable\"><input class=\"sk-toggleable__control sk-hidden--visually\" id=\"sk-estimator-id-13\" type=\"checkbox\" ><label for=\"sk-estimator-id-13\" class=\"sk-toggleable__label sk-toggleable__label-arrow\">StandardScaler</label><div class=\"sk-toggleable__content\"><pre>StandardScaler()</pre></div></div></div><div class=\"sk-item\"><div class=\"sk-estimator sk-toggleable\"><input class=\"sk-toggleable__control sk-hidden--visually\" id=\"sk-estimator-id-14\" type=\"checkbox\" ><label for=\"sk-estimator-id-14\" class=\"sk-toggleable__label sk-toggleable__label-arrow\">SVR</label><div class=\"sk-toggleable__content\"><pre>SVR()</pre></div></div></div></div></div></div></div></div></div></div></div></div>"
      ],
      "text/plain": [
       "GridSearchCV(cv=5,\n",
       "             estimator=Pipeline(steps=[('preprocess', StandardScaler()),\n",
       "                                       ('regressor', SVR())]),\n",
       "             param_grid={'regressor__C': array([ 1, 21, 41, 61, 81])},\n",
       "             scoring='neg_root_mean_squared_error')"
      ]
     },
     "execution_count": 32,
     "metadata": {},
     "output_type": "execute_result"
    }
   ],
   "source": [
    "# GridSearchCV() 활용해서 최적의 초개매변수 찾아보기\n",
    "\n",
    "from sklearn.model_selection import GridSearchCV\n",
    "SVR_search = GridSearchCV(estimator=svr_pipe,\n",
    "                          param_grid= SVR_param,\n",
    "                          cv=5,\n",
    "                          scoring= 'neg_root_mean_squared_error')\n",
    "SVR_search.fit(train_X, train_y)"
   ]
  },
  {
   "cell_type": "code",
   "execution_count": 33,
   "id": "bf87babe",
   "metadata": {},
   "outputs": [
    {
     "name": "stdout",
     "output_type": "stream",
     "text": [
      "{'regressor__C': 1}\n",
      "3.040520314114216\n"
     ]
    }
   ],
   "source": [
    "print(SVR_search.best_params_)\n",
    "print(-SVR_search.best_score_)"
   ]
  },
  {
   "cell_type": "markdown",
   "id": "83df6b78",
   "metadata": {},
   "source": [
    "#### 범주형 변수와 수치형 변수 혼합 데이터에서 파이프라인 적용"
   ]
  },
  {
   "cell_type": "code",
   "execution_count": 37,
   "id": "bab9689c",
   "metadata": {},
   "outputs": [],
   "source": [
    "train = pd.read_csv('https://raw.githubusercontent.com/YoungjinBD/data/main/s11_train2.csv')\n",
    "test = pd.read_csv('https://raw.githubusercontent.com/YoungjinBD/data/main/s11_test2.csv')\n",
    "\n",
    "train_X = train.drop(['grade'], axis=1)\n",
    "train_y = train['grade']\n",
    "\n",
    "test_X = test.drop(['grade'], axis=1)\n",
    "test_y = test['grade']\n",
    "\n",
    "# 범주형 수치형 컬럼 구분\n",
    "num_columns = train_X.select_dtypes('number').columns.tolist()\n",
    "cat_columns = train_X.select_dtypes('object').columns.tolist()"
   ]
  },
  {
   "cell_type": "code",
   "execution_count": 38,
   "id": "5fa7f140",
   "metadata": {},
   "outputs": [],
   "source": [
    "# make_pipeline()을 통해 범주형 변수는 원-핫 인코딩, 수치형 변수는 평균 대치법, 표준화를 실행\n",
    "\n",
    "from sklearn.impute import SimpleImputer\n",
    "from sklearn.pipeline import make_pipeline\n",
    "from sklearn.preprocessing import OneHotEncoder, StandardScaler\n",
    "\n",
    "cat_preprocess = make_pipeline(\n",
    "    OneHotEncoder(handle_unknown= 'ignore', sparse_output= False) # sparse_output:희소행렬\n",
    ")\n",
    "num_preprocess = make_pipeline(\n",
    "    SimpleImputer(strategy='mean'),\n",
    "    StandardScaler()\n",
    ")"
   ]
  },
  {
   "cell_type": "code",
   "execution_count": 39,
   "id": "4eca0092",
   "metadata": {},
   "outputs": [],
   "source": [
    "# ColumnTransformer()를 활용하여 각 전처리 단계를 통합\n",
    "\n",
    "from sklearn.compose import ColumnTransformer\n",
    "preprocess = ColumnTransformer(\n",
    "    [('num', num_preprocess, num_columns),\n",
    "     ('cat', cat_preprocess, cat_columns)]\n",
    ")"
   ]
  },
  {
   "cell_type": "code",
   "execution_count": 40,
   "id": "f23c16c5",
   "metadata": {},
   "outputs": [],
   "source": [
    "# 데이터 전처리 단계와 모델링 단계를 통합한 파이프라인 생성\n",
    "\n",
    "from sklearn.pipeline import Pipeline\n",
    "from sklearn.svm import SVR\n",
    "\n",
    "full_pipe = Pipeline(\n",
    "    [\n",
    "        (\"preprocess\", preprocess),\n",
    "        ('regressor', SVR())\n",
    "    ]\n",
    ")"
   ]
  },
  {
   "cell_type": "code",
   "execution_count": 43,
   "id": "994c934c",
   "metadata": {},
   "outputs": [],
   "source": [
    "# SVR()의 c 파라미터를 튜닝 파라미터로 지정 (모델별칭)__(하이퍼파라미터 명칭) 순으로 지정\n",
    "SVR_param  = {'regressor__C': np.arange(1, 100, 20)}"
   ]
  },
  {
   "cell_type": "code",
   "execution_count": 44,
   "id": "e1b3f97d",
   "metadata": {},
   "outputs": [
    {
     "name": "stdout",
     "output_type": "stream",
     "text": [
      "{'regressor__C': 1}\n",
      "2.9782526839885586\n"
     ]
    }
   ],
   "source": [
    "# GridSearchCV()를 활용하여 SVR()에 대한 초매개변수 튜닝 진행 5 k- fold\n",
    "\n",
    "from sklearn.model_selection import GridSearchCV\n",
    "SVR_search = GridSearchCV(estimator = full_pipe,\n",
    "                          param_grid = SVR_param,\n",
    "                          cv=5,\n",
    "                          scoring= 'neg_root_mean_squared_error')\n",
    "\n",
    "SVR_search.fit(train_X, train_y)\n",
    "print(SVR_search.best_params_)\n",
    "print(-SVR_search.best_score_)"
   ]
  },
  {
   "cell_type": "code",
   "execution_count": 45,
   "id": "c6c88e8f",
   "metadata": {},
   "outputs": [],
   "source": [
    "#최종 예측\n",
    "test_pred = SVR_search.predict(test_X)\n",
    "test_pred = pd.DataFrame(test_pred, columns = ['pred'])"
   ]
  },
  {
   "cell_type": "code",
   "execution_count": 46,
   "id": "a3865fa9",
   "metadata": {},
   "outputs": [],
   "source": [
    "# 최종 예측 결과 저장\n",
    "test_pred.to_csv('submission.csv', index=False)"
   ]
  },
  {
   "cell_type": "code",
   "execution_count": null,
   "id": "a87036fd",
   "metadata": {},
   "outputs": [],
   "source": []
  }
 ],
 "metadata": {
  "kernelspec": {
   "display_name": "tf",
   "language": "python",
   "name": "python3"
  },
  "language_info": {
   "codemirror_mode": {
    "name": "ipython",
    "version": 3
   },
   "file_extension": ".py",
   "mimetype": "text/x-python",
   "name": "python",
   "nbconvert_exporter": "python",
   "pygments_lexer": "ipython3",
   "version": "3.8.13"
  }
 },
 "nbformat": 4,
 "nbformat_minor": 5
}
