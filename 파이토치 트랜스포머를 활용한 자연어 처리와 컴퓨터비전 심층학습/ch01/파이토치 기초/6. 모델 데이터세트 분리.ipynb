{
 "cells": [
  {
   "cell_type": "markdown",
   "metadata": {},
   "source": [
    "### 비선형 회귀\n"
   ]
  },
  {
   "cell_type": "code",
   "execution_count": 1,
   "metadata": {},
   "outputs": [],
   "source": [
    "import torch\n",
    "import pandas as pd\n",
    "from torch import nn\n",
    "from torch import optim\n",
    "from torch.utils.data import Dataset, DataLoader"
   ]
  },
  {
   "cell_type": "code",
   "execution_count": 2,
   "metadata": {},
   "outputs": [],
   "source": [
    "# 사용자 정의 데이터세트\n",
    "\n",
    "class CustomDataset(Dataset):\n",
    "    def __init__(self, file_path):\n",
    "        df = pd.read_csv(file_path)\n",
    "        self.x = df.iloc[:, 0].values\n",
    "        self.y = df.iloc[:, 1].values\n",
    "        self.length = len(df)\n",
    "\n",
    "    def __getitem__(self, index):\n",
    "        x = torch.FloatTensor([self.x[index] ** 2, self.x[index]])\n",
    "        y = torch.FloatTensor([self.y[index]])\n",
    "        return x, y\n",
    "    \n",
    "    def __len__(self):\n",
    "        return self.length"
   ]
  },
  {
   "cell_type": "code",
   "execution_count": 3,
   "metadata": {},
   "outputs": [],
   "source": [
    "# 사용자 정의 모델\n",
    "class CustomModel(nn.Module):\n",
    "    def __init__(self):\n",
    "        super().__init__()\n",
    "        self.layer = nn.Linear(2, 1)\n",
    "    \n",
    "    def forward(self, x):\n",
    "        x = self.layer(x)\n",
    "        return x"
   ]
  },
  {
   "cell_type": "code",
   "execution_count": 4,
   "metadata": {},
   "outputs": [],
   "source": [
    "train_dataset = CustomDataset('./dataset/non_linear.csv')\n",
    "train_dataloader = DataLoader(train_dataset, batch_size=128, shuffle=True, drop_last=True)"
   ]
  },
  {
   "cell_type": "code",
   "execution_count": 5,
   "metadata": {},
   "outputs": [
    {
     "data": {
      "text/plain": [
       "<__main__.CustomDataset at 0x1052564c0>"
      ]
     },
     "execution_count": 5,
     "metadata": {},
     "output_type": "execute_result"
    }
   ],
   "source": [
    "(train_dataset)"
   ]
  },
  {
   "cell_type": "code",
   "execution_count": 6,
   "metadata": {},
   "outputs": [],
   "source": [
    "device = torch.device(\"mps\")\n",
    "model = CustomModel().to(device)\n",
    "criterion = nn.MSELoss().to(device)\n",
    "optimizer = optim.SGD(model.parameters(), lr=0.0001)"
   ]
  },
  {
   "cell_type": "code",
   "execution_count": 7,
   "metadata": {},
   "outputs": [
    {
     "name": "stdout",
     "output_type": "stream",
     "text": [
      "Epoch : 1000, Model : [Parameter containing:\n",
      "tensor([[ 3.1166, -1.7004]], device='mps:0', requires_grad=True), Parameter containing:\n",
      "tensor([-0.5088], device='mps:0', requires_grad=True)], Cost : 0.515\n",
      "Epoch : 2000, Model : [Parameter containing:\n",
      "tensor([[ 3.1149, -1.7022]], device='mps:0', requires_grad=True), Parameter containing:\n",
      "tensor([-0.4234], device='mps:0', requires_grad=True)], Cost : 0.436\n",
      "Epoch : 3000, Model : [Parameter containing:\n",
      "tensor([[ 3.1141, -1.7025]], device='mps:0', requires_grad=True), Parameter containing:\n",
      "tensor([-0.3455], device='mps:0', requires_grad=True)], Cost : 0.374\n",
      "Epoch : 4000, Model : [Parameter containing:\n",
      "tensor([[ 3.1128, -1.7024]], device='mps:0', requires_grad=True), Parameter containing:\n",
      "tensor([-0.2739], device='mps:0', requires_grad=True)], Cost : 0.358\n",
      "Epoch : 5000, Model : [Parameter containing:\n",
      "tensor([[ 3.1115, -1.7022]], device='mps:0', requires_grad=True), Parameter containing:\n",
      "tensor([-0.2086], device='mps:0', requires_grad=True)], Cost : 0.294\n",
      "Epoch : 6000, Model : [Parameter containing:\n",
      "tensor([[ 3.1106, -1.7022]], device='mps:0', requires_grad=True), Parameter containing:\n",
      "tensor([-0.1488], device='mps:0', requires_grad=True)], Cost : 0.270\n",
      "Epoch : 7000, Model : [Parameter containing:\n",
      "tensor([[ 3.1099, -1.7023]], device='mps:0', requires_grad=True), Parameter containing:\n",
      "tensor([-0.0943], device='mps:0', requires_grad=True)], Cost : 0.225\n",
      "Epoch : 8000, Model : [Parameter containing:\n",
      "tensor([[ 3.1090, -1.7030]], device='mps:0', requires_grad=True), Parameter containing:\n",
      "tensor([-0.0443], device='mps:0', requires_grad=True)], Cost : 0.195\n",
      "Epoch : 9000, Model : [Parameter containing:\n",
      "tensor([[ 3.1084, -1.7026]], device='mps:0', requires_grad=True), Parameter containing:\n",
      "tensor([0.0015], device='mps:0', requires_grad=True)], Cost : 0.181\n",
      "Epoch : 10000, Model : [Parameter containing:\n",
      "tensor([[ 3.1073, -1.7027]], device='mps:0', requires_grad=True), Parameter containing:\n",
      "tensor([0.0434], device='mps:0', requires_grad=True)], Cost : 0.157\n"
     ]
    }
   ],
   "source": [
    "for epoch in range(10000):\n",
    "    cost = 0.0\n",
    "\n",
    "    for x, y in train_dataloader:\n",
    "        x = x.to(device)\n",
    "        y = y.to(device)\n",
    "\n",
    "        output = model(x)\n",
    "        loss = criterion(output, y)\n",
    "\n",
    "        optimizer.zero_grad()\n",
    "        loss.backward()\n",
    "        optimizer.step()\n",
    "\n",
    "        cost += loss\n",
    "    \n",
    "    cost = cost / len(train_dataloader)\n",
    "\n",
    "    if (epoch + 1) % 1000 == 0:\n",
    "        print(f\"Epoch : {epoch+1:4d}, Model : {list(model.parameters())}, Cost : {cost:.3f}\")"
   ]
  },
  {
   "cell_type": "markdown",
   "metadata": {},
   "source": [
    "#### 모델평가\n"
   ]
  },
  {
   "cell_type": "code",
   "execution_count": 8,
   "metadata": {},
   "outputs": [
    {
     "name": "stdout",
     "output_type": "stream",
     "text": [
      "tensor([[  1.4480],\n",
      "        [ 69.2124],\n",
      "        [357.2975]], device='mps:0')\n"
     ]
    }
   ],
   "source": [
    "with torch.no_grad(): # no_grad클래스: 기울기 계산을 비활성화 하는 클래스 (메모릴 사용량을 줄여 추론에 적합한 상태로 변경)\n",
    "    model.eval()\n",
    "    inputs = torch.FloatTensor(\n",
    "        [\n",
    "            [1 ** 2, 1],\n",
    "            [5 ** 2, 5],\n",
    "            [11 ** 2, 11]\n",
    "        ]\n",
    "    ).to(device)\n",
    "    output = model(inputs)\n",
    "    print(output)"
   ]
  },
  {
   "cell_type": "code",
   "execution_count": 27,
   "metadata": {},
   "outputs": [],
   "source": [
    "#### 모델 저장\n",
    "\n",
    "torch.save(\n",
    "    model,\n",
    "    \"./models/model.pt\"    \n",
    ")\n",
    "\n",
    "torch.save(\n",
    "    model.state_dict(),\n",
    "    \"./models/model_state_dict.pt\"\n",
    ")"
   ]
  },
  {
   "cell_type": "markdown",
   "metadata": {},
   "source": [
    "#### 데이터세트 분리"
   ]
  },
  {
   "cell_type": "code",
   "execution_count": 13,
   "metadata": {},
   "outputs": [],
   "source": [
    "import torch\n",
    "import pandas as pd\n",
    "from torch import nn\n",
    "from torch import optim\n",
    "from torch.utils.data import Dataset, DataLoader, random_split\n",
    "\n",
    "class CustomDataset(Dataset):\n",
    "    def __init__(self, file_path):\n",
    "        df = pd.read_csv(file_path)\n",
    "        self.x = df.iloc[:, 0].values\n",
    "        self.y = df.iloc[:, 1].values\n",
    "        self.length = len(df)\n",
    "    \n",
    "    def __getitem__(self, index):\n",
    "        x = torch.FloatTensor([self.x[index]**2, self.x[index]])\n",
    "        y = torch.FloatTensor([self.y[index]])\n",
    "        return x, y\n",
    "    \n",
    "    def __len__(self):\n",
    "        return self.length\n",
    "\n",
    "class CustomModel(nn.Module):\n",
    "    def __init__(self):\n",
    "        super().__init__()\n",
    "        self.layer = nn.Linear(2, 1)\n",
    "\n",
    "    def forward(self, x):\n",
    "        x = self.layer(x)\n",
    "        return x"
   ]
  },
  {
   "cell_type": "code",
   "execution_count": 14,
   "metadata": {},
   "outputs": [
    {
     "name": "stdout",
     "output_type": "stream",
     "text": [
      "Training Data Size : 160\n",
      "Validation Data Size : 20\n",
      "Training Data Size : 20\n"
     ]
    }
   ],
   "source": [
    "dataset = CustomDataset('./dataset/non_linear.csv')\n",
    "dataset_size = len(dataset)\n",
    "train_size = int(dataset_size * 0.8)\n",
    "validation_size = int(dataset_size * 0.1)\n",
    "test_size = dataset_size - train_size - validation_size\n",
    "\n",
    "train_dataset, validation_dataset, test_dataset = random_split(dataset, [train_size, validation_size, test_size])\n",
    "print(f\"Training Data Size : {len(train_dataset)}\")\n",
    "print(f\"Validation Data Size : {len(validation_dataset)}\")\n",
    "print(f\"Training Data Size : {len(test_dataset)}\")\n",
    "\n",
    "train_dataloader = DataLoader(train_dataset, batch_size=16, shuffle=True, drop_last=True)\n",
    "validation_dataloader = DataLoader(validation_dataset, batch_size=4, shuffle=True, drop_last=True)\n",
    "test_dataloader = DataLoader(test_dataset, batch_size=4, shuffle=True, drop_last=True)"
   ]
  },
  {
   "cell_type": "code",
   "execution_count": 15,
   "metadata": {},
   "outputs": [],
   "source": [
    "device = torch.device(\"mps\")\n",
    "model = CustomModel().to(device)\n",
    "criterion = nn.MSELoss().to(device)\n",
    "optimizer = optim.SGD(model.parameters(), lr=0.0001)"
   ]
  },
  {
   "cell_type": "code",
   "execution_count": 16,
   "metadata": {},
   "outputs": [
    {
     "name": "stdout",
     "output_type": "stream",
     "text": [
      "Epoch : 1000, Model : [Parameter containing:\n",
      "tensor([[ 3.1034, -1.7045]], device='mps:0', requires_grad=True), Parameter containing:\n",
      "tensor([0.2969], device='mps:0', requires_grad=True)], Cost : 0.096\n",
      "Epoch : 2000, Model : [Parameter containing:\n",
      "tensor([[ 3.1008, -1.7042]], device='mps:0', requires_grad=True), Parameter containing:\n",
      "tensor([0.4179], device='mps:0', requires_grad=True)], Cost : 0.082\n",
      "Epoch : 3000, Model : [Parameter containing:\n",
      "tensor([[ 3.1002, -1.7042]], device='mps:0', requires_grad=True), Parameter containing:\n",
      "tensor([0.4678], device='mps:0', requires_grad=True)], Cost : 0.078\n",
      "Epoch : 4000, Model : [Parameter containing:\n",
      "tensor([[ 3.0999, -1.7042]], device='mps:0', requires_grad=True), Parameter containing:\n",
      "tensor([0.4884], device='mps:0', requires_grad=True)], Cost : 0.076\n",
      "Epoch : 5000, Model : [Parameter containing:\n",
      "tensor([[ 3.0997, -1.7041]], device='mps:0', requires_grad=True), Parameter containing:\n",
      "tensor([0.4969], device='mps:0', requires_grad=True)], Cost : 0.076\n",
      "Epoch : 6000, Model : [Parameter containing:\n",
      "tensor([[ 3.0998, -1.7040]], device='mps:0', requires_grad=True), Parameter containing:\n",
      "tensor([0.5003], device='mps:0', requires_grad=True)], Cost : 0.076\n",
      "Epoch : 7000, Model : [Parameter containing:\n",
      "tensor([[ 3.0988, -1.7041]], device='mps:0', requires_grad=True), Parameter containing:\n",
      "tensor([0.5018], device='mps:0', requires_grad=True)], Cost : 0.076\n",
      "Epoch : 8000, Model : [Parameter containing:\n",
      "tensor([[ 3.0989, -1.7040]], device='mps:0', requires_grad=True), Parameter containing:\n",
      "tensor([0.5025], device='mps:0', requires_grad=True)], Cost : 0.077\n",
      "Epoch : 9000, Model : [Parameter containing:\n",
      "tensor([[ 3.1003, -1.7040]], device='mps:0', requires_grad=True), Parameter containing:\n",
      "tensor([0.5027], device='mps:0', requires_grad=True)], Cost : 0.076\n",
      "Epoch : 10000, Model : [Parameter containing:\n",
      "tensor([[ 3.0994, -1.7040]], device='mps:0', requires_grad=True), Parameter containing:\n",
      "tensor([0.5029], device='mps:0', requires_grad=True)], Cost : 0.076\n"
     ]
    }
   ],
   "source": [
    "for epoch in range(10000):\n",
    "    cost = 0.0\n",
    "\n",
    "    for x, y in train_dataloader:\n",
    "        x = x.to(device)\n",
    "        y = y.to(device)\n",
    "\n",
    "        output = model(x)\n",
    "        loss = criterion(output, y)\n",
    "\n",
    "        optimizer.zero_grad()\n",
    "        loss.backward()\n",
    "        optimizer.step()\n",
    "\n",
    "        cost += loss\n",
    "\n",
    "    cost = cost / len(train_dataloader)\n",
    "\n",
    "    if (epoch + 1) % 1000 == 0:\n",
    "        print(f\"Epoch : {epoch+1:4d}, Model : {list(model.parameters())}, Cost : {cost:.3f}\")"
   ]
  },
  {
   "cell_type": "code",
   "execution_count": 17,
   "metadata": {},
   "outputs": [
    {
     "name": "stdout",
     "output_type": "stream",
     "text": [
      "x: tensor([[31.3600,  5.6000],\n",
      "        [77.4400, -8.8000],\n",
      "        [53.2900, -7.3000],\n",
      "        [51.8400,  7.2000]], device='mps:0')\n",
      "y: tensor([[ 88.2700],\n",
      "        [256.0100],\n",
      "        [177.7300],\n",
      "        [149.1800]], device='mps:0')\n",
      "Outputs: tensor([[ 88.1566],\n",
      "        [255.5120],\n",
      "        [178.1066],\n",
      "        [148.9051]], device='mps:0')\n",
      "--------------------------------\n",
      "x: tensor([[  0.4900,   0.7000],\n",
      "        [100.0000, -10.0000],\n",
      "        [  0.6400,  -0.8000],\n",
      "        [  0.4900,  -0.7000]], device='mps:0')\n",
      "y: tensor([[  0.8600],\n",
      "        [327.7900],\n",
      "        [  3.8700],\n",
      "        [  2.9800]], device='mps:0')\n",
      "Outputs: tensor([[  0.8288],\n",
      "        [327.4783],\n",
      "        [  3.8496],\n",
      "        [  3.2143]], device='mps:0')\n",
      "--------------------------------\n",
      "x: tensor([[ 5.2900,  2.3000],\n",
      "        [21.1600, -4.6000],\n",
      "        [96.0400, -9.8000],\n",
      "        [14.4400, -3.8000]], device='mps:0')\n",
      "y: tensor([[ 13.0200],\n",
      "        [ 73.9400],\n",
      "        [314.4800],\n",
      "        [ 52.0000]], device='mps:0')\n",
      "Outputs: tensor([[ 12.9794],\n",
      "        [ 73.9235],\n",
      "        [314.8640],\n",
      "        [ 51.7327]], device='mps:0')\n",
      "--------------------------------\n",
      "x: tensor([[75.6900, -8.7000],\n",
      "        [39.6900, -6.3000],\n",
      "        [20.2500, -4.5000],\n",
      "        [ 4.0000,  2.0000]], device='mps:0')\n",
      "y: tensor([[250.0600],\n",
      "        [133.8000],\n",
      "        [ 71.0900],\n",
      "        [  9.2600]], device='mps:0')\n",
      "Outputs: tensor([[249.9177],\n",
      "        [134.2513],\n",
      "        [ 70.9327],\n",
      "        [  9.4924]], device='mps:0')\n",
      "--------------------------------\n",
      "x: tensor([[92.1600, -9.6000],\n",
      "        [ 1.2100,  1.1000],\n",
      "        [10.2400, -3.2000],\n",
      "        [62.4100,  7.9000]], device='mps:0')\n",
      "y: tensor([[302.8600],\n",
      "        [  2.7600],\n",
      "        [ 37.7400],\n",
      "        [180.9000]], device='mps:0')\n",
      "Outputs: tensor([[302.4977],\n",
      "        [  2.3788],\n",
      "        [ 37.6930],\n",
      "        [180.4726]], device='mps:0')\n",
      "--------------------------------\n"
     ]
    }
   ],
   "source": [
    "with torch.no_grad():\n",
    "    model.eval()\n",
    "    \n",
    "    for x, y in validation_dataloader:\n",
    "        x = x.to(device)\n",
    "        y = y.to(device)\n",
    "\n",
    "        output = model(x)\n",
    "        print(f\"x: {x}\")\n",
    "        print(f\"y: {y}\")\n",
    "        print(f'Outputs: {output}')\n",
    "        print('--------------------------------')"
   ]
  },
  {
   "cell_type": "code",
   "execution_count": 33,
   "metadata": {},
   "outputs": [
    {
     "name": "stdout",
     "output_type": "stream",
     "text": [
      "train_size : 160\n",
      "validation_size : 20\n",
      "test_size : 20\n"
     ]
    }
   ],
   "source": [
    "# 데이터 세트 분리 방법\n",
    "\n",
    "dataset = CustomDataset(\"./dataset/non_linear.csv\")\n",
    "dataset_size = len(dataset)\n",
    "\n",
    "train_size = int(dataset_size * 0.8)\n",
    "validation_size = int(dataset_size * 0.1)\n",
    "test_size = dataset_size - train_size - validation_size\n",
    "\n",
    "train_dataset, validation_dataset, test_dataset = random_split(dataset, [train_size, validation_size, test_size])\n",
    "print(f'train_size : {len(train_dataset)}')\n",
    "print(f'validation_size : {len(validation_dataset)}')\n",
    "print(f'test_size : {len(test_dataset)}')\n",
    "\n",
    "train_dataloader = DataLoader(train_dataset, batch_size=16, shuffle=True, drop_last=True)\n",
    "validation_dataloader = DataLoader(validation_dataset, batch_size=4, shuffle=True, drop_last=True)\n",
    "train_dataloader = DataLoader(test_dataset, batch_size=4, shuffle=True, drop_last=True)"
   ]
  },
  {
   "cell_type": "code",
   "execution_count": 36,
   "metadata": {},
   "outputs": [
    {
     "name": "stdout",
     "output_type": "stream",
     "text": [
      "x: tensor([[36.0000, -6.0000],\n",
      "        [23.0400,  4.8000],\n",
      "        [ 4.4100,  2.1000],\n",
      "        [43.5600, -6.6000]], device='mps:0')\n",
      "y: tensor([[122.6500],\n",
      "        [ 63.3300],\n",
      "        [ 10.4700],\n",
      "        [146.3200]], device='mps:0')\n",
      "output:tensor([[302.4977],\n",
      "        [  2.3788],\n",
      "        [ 37.6930],\n",
      "        [180.4726]], device='mps:0')\n",
      "--------------------------------\n",
      "x: tensor([[38.4400, -6.2000],\n",
      "        [ 0.0000,  0.0000],\n",
      "        [ 2.8900,  1.7000],\n",
      "        [ 9.0000,  3.0000]], device='mps:0')\n",
      "y: tensor([[130.4100],\n",
      "        [  0.1500],\n",
      "        [  6.6200],\n",
      "        [ 23.6100]], device='mps:0')\n",
      "output:tensor([[302.4977],\n",
      "        [  2.3788],\n",
      "        [ 37.6930],\n",
      "        [180.4726]], device='mps:0')\n",
      "--------------------------------\n",
      "x: tensor([[46.2400,  6.8000],\n",
      "        [46.2400, -6.8000],\n",
      "        [62.4100,  7.9000],\n",
      "        [20.2500,  4.5000]], device='mps:0')\n",
      "y: tensor([[132.0400],\n",
      "        [155.4300],\n",
      "        [180.9000],\n",
      "        [ 55.3500]], device='mps:0')\n",
      "output:tensor([[302.4977],\n",
      "        [  2.3788],\n",
      "        [ 37.6930],\n",
      "        [180.4726]], device='mps:0')\n",
      "--------------------------------\n",
      "x: tensor([[ 2.8900, -1.7000],\n",
      "        [ 0.2500,  0.5000],\n",
      "        [34.8100, -5.9000],\n",
      "        [40.9600, -6.4000]], device='mps:0')\n",
      "y: tensor([[ 12.7900],\n",
      "        [  0.6700],\n",
      "        [118.7100],\n",
      "        [138.1000]], device='mps:0')\n",
      "output:tensor([[302.4977],\n",
      "        [  2.3788],\n",
      "        [ 37.6930],\n",
      "        [180.4726]], device='mps:0')\n",
      "--------------------------------\n",
      "x: tensor([[ 1.0000e-02, -1.0000e-01],\n",
      "        [ 5.1840e+01, -7.2000e+00],\n",
      "        [ 7.2900e+00, -2.7000e+00],\n",
      "        [ 8.1000e+01, -9.0000e+00]], device='mps:0')\n",
      "y: tensor([[  0.6800],\n",
      "        [173.7300],\n",
      "        [ 27.6000],\n",
      "        [266.9800]], device='mps:0')\n",
      "output:tensor([[302.4977],\n",
      "        [  2.3788],\n",
      "        [ 37.6930],\n",
      "        [180.4726]], device='mps:0')\n",
      "--------------------------------\n"
     ]
    }
   ],
   "source": [
    "with torch.no_grad():\n",
    "    model.eval()\n",
    "    for x, y in validation_dataloader:\n",
    "        x = x.to(device)\n",
    "        y = y.to(device)\n",
    "\n",
    "        outputs = model(x)\n",
    "        print(f'x: {x}')\n",
    "\n",
    "        print(f'y: {y}')\n",
    "        print(f'output:{output}')\n",
    "        print('--------------------------------')"
   ]
  },
  {
   "cell_type": "code",
   "execution_count": 35,
   "metadata": {},
   "outputs": [
    {
     "name": "stdout",
     "output_type": "stream",
     "text": [
      "tensor([[36.0000, -6.0000],\n",
      "        [23.0400,  4.8000],\n",
      "        [ 4.4100,  2.1000],\n",
      "        [43.5600, -6.6000]])\n",
      "tensor([[122.6500],\n",
      "        [ 63.3300],\n",
      "        [ 10.4700],\n",
      "        [146.3200]])\n"
     ]
    }
   ],
   "source": [
    "for x, y in validation_dataloader:\n",
    "    print(x)\n",
    "    print(y)\n",
    "    break"
   ]
  },
  {
   "cell_type": "code",
   "execution_count": null,
   "metadata": {},
   "outputs": [],
   "source": []
  }
 ],
 "metadata": {
  "kernelspec": {
   "display_name": "pytorch_py3.8",
   "language": "python",
   "name": "python3"
  },
  "language_info": {
   "codemirror_mode": {
    "name": "ipython",
    "version": 3
   },
   "file_extension": ".py",
   "mimetype": "text/x-python",
   "name": "python",
   "nbconvert_exporter": "python",
   "pygments_lexer": "ipython3",
   "version": "3.8.18"
  },
  "orig_nbformat": 4
 },
 "nbformat": 4,
 "nbformat_minor": 2
}
