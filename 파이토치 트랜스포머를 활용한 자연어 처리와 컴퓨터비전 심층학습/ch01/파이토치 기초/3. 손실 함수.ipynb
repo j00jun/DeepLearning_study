{
 "cells": [
  {
   "cell_type": "markdown",
   "metadata": {},
   "source": [
    "### 손실함수\n",
    "- 실제값과 예측값의 차이 발생 시 오차 계산하는 함수\n",
    "- 오찻값을 최소화해 정확도를 높이는 방법으로 학습 진행\n"
   ]
  },
  {
   "cell_type": "markdown",
   "metadata": {},
   "source": [
    "#### 제곱 오차\n",
    "$$ SE = (예측값 - 실제값)²\n"
   ]
  },
  {
   "cell_type": "markdown",
   "metadata": {},
   "source": [
    "#### 오차 제곱합\n",
    "$$ SSE = \\sum_{i=1}^{n} (y_{i,예측} - y_{i,실제})^2 $$\n",
    "\n"
   ]
  },
  {
   "cell_type": "markdown",
   "metadata": {},
   "source": [
    "#### 평균 제곱 오차\n",
    "$$ MSE = \\frac{1}{n} \\sum_{i=1}^{n} (y_{i,예측} - y_{i,실제})^2 $$\n"
   ]
  },
  {
   "cell_type": "markdown",
   "metadata": {},
   "source": [
    "#### 평균 제곱근 오차\n",
    "$$ RMSE = \\sqrt{\\frac{1}{n} \\sum_{i=1}^{n} (y_{i,예측} - y_{i,실제})^2} $$\n"
   ]
  },
  {
   "cell_type": "markdown",
   "metadata": {},
   "source": [
    "#### 교차 엔트로피\n",
    "- 이산형 변수에서 손실 함수로 사용\n",
    "$$ CE(y, \\hat{y}) = -\\sum_{i} (y_{i} \\log(\\hat{y}_{i})) $$\n"
   ]
  },
  {
   "cell_type": "markdown",
   "metadata": {},
   "source": [
    "\n"
   ]
  },
  {
   "cell_type": "markdown",
   "metadata": {},
   "source": []
  }
 ],
 "metadata": {
  "kernelspec": {
   "display_name": "pytorch_py3.8",
   "language": "python",
   "name": "python3"
  },
  "language_info": {
   "codemirror_mode": {
    "name": "ipython",
    "version": 3
   },
   "file_extension": ".py",
   "mimetype": "text/x-python",
   "name": "python",
   "nbconvert_exporter": "python",
   "pygments_lexer": "ipython3",
   "version": "3.8.18"
  },
  "orig_nbformat": 4
 },
 "nbformat": 4,
 "nbformat_minor": 2
}
