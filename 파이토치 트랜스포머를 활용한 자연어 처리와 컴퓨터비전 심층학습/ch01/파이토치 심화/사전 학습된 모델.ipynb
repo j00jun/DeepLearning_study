{
 "cells": [
  {
   "cell_type": "code",
   "execution_count": 1,
   "metadata": {},
   "outputs": [],
   "source": [
    "#### 사전 학습된 모델"
   ]
  },
  {
   "cell_type": "markdown",
   "metadata": {},
   "source": [
    "#### 백본\n",
    "\n",
    "- 입력 데이터에서 특징을 추출해 최종 분류기에 전달하는 딥러닝 모델이나 딥러닝 모델의 일부\n"
   ]
  },
  {
   "cell_type": "markdown",
   "metadata": {},
   "source": [
    "#### 전이학습\n",
    "- 사전 학습된 모델을 재사용해 새로운 작업이나 관련 도메인 성능 향상 시킬 수 있는 기술\n",
    "\n",
    "- 귀납적 전이 학습\n",
    "    - 기존에 학습한 모델의 지식을 활용하여 새로운 작업을 수행하기 위한 방법 중 하나\n",
    "        - 자기 주도적 학습: \n",
    "- 변환적 전이 학습\n",
    "    - 소스 도메인과 타깃 도메인이 유사하지만 완전히 동일하지 않은 경우 의미\n",
    "- 비지도 전이 학습\n",
    "    - 소스 도메인과 타깃 도메인 모두 레이블이 지정된 데이터가 없는 전이 학습 방법\n",
    "- 제로-샷 전이 학습\n",
    "    - 사전 학습된 모델을 이용해 다른 도메인에서도 적용할 수 있는 전이 학습 기법\n",
    "- 원-샷 전이 학습\n",
    "    - 한 번에 하나의 샘플만을 사용해 모델 학습하는 방법"
   ]
  },
  {
   "cell_type": "markdown",
   "metadata": {},
   "source": [
    "#### "
   ]
  }
 ],
 "metadata": {
  "kernelspec": {
   "display_name": "pytorch_py3.8",
   "language": "python",
   "name": "python3"
  },
  "language_info": {
   "codemirror_mode": {
    "name": "ipython",
    "version": 3
   },
   "file_extension": ".py",
   "mimetype": "text/x-python",
   "name": "python",
   "nbconvert_exporter": "python",
   "pygments_lexer": "ipython3",
   "version": "3.8.18"
  },
  "orig_nbformat": 4
 },
 "nbformat": 4,
 "nbformat_minor": 2
}
