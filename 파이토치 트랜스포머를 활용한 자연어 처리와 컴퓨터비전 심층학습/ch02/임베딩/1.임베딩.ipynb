{
 "cells": [
  {
   "cell_type": "markdown",
   "metadata": {},
   "source": [
    "#### 텍스트 벡터화\n",
    "- 토큰화 만으로는 모델 학습 x\n",
    "- 텍스트를 숫자로 변환하는 과정\n",
    "- 종류\n",
    "    - 원-핫 인코딩\n",
    "        - 각 단어를 고유한 색인 값으로 매핑 (고유한 값에 대한 인덱스 부여) / 색인 위치 1로 표시 나머지 0으로 표시\n",
    "    - 빈도 벡터화\n",
    "        - 문서에서 단어의 빈도수를 세어 해당 단어의 빈도를 벡터로 표현하는 방식\n",
    "    - 단점\n",
    "        - 벡터의 희소성\n",
    "    - 워드 인베딩\n",
    "        - Word2vec\n",
    "        - fastText\n",
    "        - 단어를 고정된 길이의 실수 벡터로 표현, 단어의 의미를 벡터 공간에서 다른 단어와의 상대적 위치로 표현해 단어 간의 관계 추론\n",
    "        - 인공 신경망을 활용해 동적 임베딩 기법을 사용"
   ]
  },
  {
   "cell_type": "markdown",
   "metadata": {},
   "source": []
  },
  {
   "cell_type": "code",
   "execution_count": null,
   "metadata": {},
   "outputs": [],
   "source": []
  }
 ],
 "metadata": {
  "kernelspec": {
   "display_name": "pytorch_py3.8",
   "language": "python",
   "name": "python3"
  },
  "language_info": {
   "name": "python",
   "version": "3.8.18"
  },
  "orig_nbformat": 4
 },
 "nbformat": 4,
 "nbformat_minor": 2
}
