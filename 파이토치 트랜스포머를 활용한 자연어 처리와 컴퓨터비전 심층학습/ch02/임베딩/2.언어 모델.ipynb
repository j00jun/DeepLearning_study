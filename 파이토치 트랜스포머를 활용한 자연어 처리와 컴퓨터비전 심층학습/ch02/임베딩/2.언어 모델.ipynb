{
 "cells": [
  {
   "cell_type": "markdown",
   "metadata": {},
   "source": [
    "#### 언어 모델\n",
    "- 입력된 문장으로 각 문장을 생성할 수 있는 확률을 계산하는 모델\n"
   ]
  },
  {
   "cell_type": "markdown",
   "metadata": {},
   "source": [
    "#### 자기회귀 언어 모델\n",
    "- 입력된 문장들의 조건부 확률을 이용해 다음에 올 단어 예측\n",
    "- 출력값이 모델 입력값으로 사용되는 특징\n",
    "- 조건부 확률의 연쇄법칙"
   ]
  },
  {
   "cell_type": "markdown",
   "metadata": {},
   "source": [
    "#### 통계적 언어 모델\n",
    "- 언어적 통계적 구조를 이용해 문장이나 단어의 스퀀스를 생성 및 분석\n",
    "- 시퀀스에 대한 확률 분포 추정을 통해 문맥 파악 후 다음 등장할 단어 확률 예측\n",
    "- 마르코프 체인\n",
    "- 데이터의 희소성 문제"
   ]
  },
  {
   "cell_type": "markdown",
   "metadata": {},
   "source": []
  }
 ],
 "metadata": {
  "language_info": {
   "name": "python"
  },
  "orig_nbformat": 4
 },
 "nbformat": 4,
 "nbformat_minor": 2
}
