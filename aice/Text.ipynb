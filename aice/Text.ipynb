{
 "cells": [
  {
   "cell_type": "markdown",
   "metadata": {},
   "source": [
    "#### 전처리\n",
    "- 토큰화\n",
    "- 정제(불용어 제거)\n",
    "- 정규화\n",
    "#### 데이터 분할\n",
    "- 문서 단어 행렬 변환 CountVectorizer()\n",
    "#### 모델 학습\n",
    "- 로지스틱 회귀모형 / 나이브 베이즈 모형 / 서포트벡터머신\n",
    "#### 최적화\n",
    "- GridSearchCV\n",
    "#### 성능 평가\n",
    "*문제 해결 가이드에 설명된 평가지표로 성능평가 진행"
   ]
  },
  {
   "cell_type": "code",
   "execution_count": 2,
   "metadata": {},
   "outputs": [
    {
     "data": {
      "text/plain": [
       "['Text',\n",
       " 'mining',\n",
       " ',',\n",
       " 'also',\n",
       " 'referred',\n",
       " 'to',\n",
       " 'as',\n",
       " 'text',\n",
       " 'data',\n",
       " 'mining',\n",
       " ',',\n",
       " 'similar',\n",
       " 'to',\n",
       " 'text',\n",
       " 'analytics',\n",
       " ',',\n",
       " 'is',\n",
       " 'the',\n",
       " 'process',\n",
       " 'of',\n",
       " 'deriving',\n",
       " 'high-quality',\n",
       " 'information',\n",
       " 'from',\n",
       " 'text',\n",
       " '.']"
      ]
     },
     "execution_count": 2,
     "metadata": {},
     "output_type": "execute_result"
    }
   ],
   "source": [
    "import nltk\n",
    "\n",
    "from nltk.tokenize import word_tokenize\n",
    "text=\"Text mining, also referred to as text data mining, similar to text analytics, is the process of deriving high-quality information from text.\"\n",
    "word_tokenize(text)"
   ]
  },
  {
   "cell_type": "code",
   "execution_count": 4,
   "metadata": {},
   "outputs": [
    {
     "data": {
      "text/plain": [
       "['텍스트',\n",
       " '분석',\n",
       " '을',\n",
       " '위해',\n",
       " '서',\n",
       " '파이썬',\n",
       " '을',\n",
       " '이용',\n",
       " '합니다',\n",
       " '.',\n",
       " '한글',\n",
       " '문장',\n",
       " '에서',\n",
       " '단어',\n",
       " '를',\n",
       " '추출',\n",
       " '하는',\n",
       " '패키지',\n",
       " '는',\n",
       " 'konlpy',\n",
       " '입니다',\n",
       " '.']"
      ]
     },
     "execution_count": 4,
     "metadata": {},
     "output_type": "execute_result"
    }
   ],
   "source": [
    "from konlpy.tag import Okt\n",
    "\n",
    "s = \"텍스트 분석을 위해서 파이썬을 이용합니다. 한글 문장에서 단어를 추출하는 패키지는 konlpy입니다.\"\n",
    "okt=Okt()  \n",
    "okt.morphs(s)"
   ]
  },
  {
   "cell_type": "code",
   "execution_count": null,
   "metadata": {},
   "outputs": [],
   "source": []
  }
 ],
 "metadata": {
  "kernelspec": {
   "display_name": "tf",
   "language": "python",
   "name": "python3"
  },
  "language_info": {
   "codemirror_mode": {
    "name": "ipython",
    "version": 3
   },
   "file_extension": ".py",
   "mimetype": "text/x-python",
   "name": "python",
   "nbconvert_exporter": "python",
   "pygments_lexer": "ipython3",
   "version": "3.8.13"
  }
 },
 "nbformat": 4,
 "nbformat_minor": 2
}
